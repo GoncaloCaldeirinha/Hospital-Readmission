{
 "cells": [
  {
   "cell_type": "markdown",
   "id": "aad25683",
   "metadata": {
    "id": "aad25683"
   },
   "source": [
    "## Machine Learning Project  \n",
    "\n",
    "**Msc:** Data Science and Advanced Analytics - Major in Bussiness Ananlytics @ NOVA IMS  \n",
    "**Course:** Machine Learning - 2023/2024 <br>\n",
    "**Group 27:** <br>\n",
    "- Joana Macedo - r20201498 <br>\n",
    "- Ana Morgado - 20230385 <br>\n",
    "- Gonçalo Caldeirinha - 20230469 <br>\n",
    "- Taha  Ben Attia - 20230742 <br>\n",
    "- Emanuele Travisani - 20231243 "
   ]
  },
  {
   "cell_type": "markdown",
   "id": "8abc0eec",
   "metadata": {},
   "source": [
    "\n",
    "<h2 style=\"color:black\">Table of Contents</h2>\n",
    "\n",
    "[1. Import](#import)<br>\n",
    "&emsp;[1.1. Import Libraries](#importlibraries)<br>\n",
    "&emsp;[1.2. Import Datasets](#importdatasets)<br>\n",
    "[2. Explore Dataset](#Explore)<br>\n",
    "&emsp;[2.1. Statistical Information](#stats)<br>\n",
    "&emsp;[2.2. Defining Metric and Non-metric Features](#metric)<br>\n",
    "[3. Split Data into Train and Val](#split)<br>\n",
    "[4. Data Pre-processing](#preproc)<br>\n",
    "&emsp;[4.1. Incoherences and Missclassifications](#inco)<br>\n",
    "&emsp;[4.2. Duplicates](#dup)<br>\n",
    "&emsp;[4.3. Treat Outliers](#out)<br>\n",
    "[5. Feature Engineering](#fe)<br>\n",
    "&emsp;[5.1. Dummy Variables](#dummy)<br>\n",
    "&emsp;[5.2. Creation of New Variables](#newvar)<br>\n",
    "&emsp;[5.3. Renaming Variables](#ren)<br>\n",
    "[6. Visualizations](#vis)<br>\n",
    "[7. Split Data into X_train and y_train || X_val and y_val](#split2)<br>\n",
    "[8. Encoding](#enc)<br>\n",
    "&emsp;[8.1. Label Encoding](#label)<br>\n",
    "&emsp;[8.2. Ordinal Encoding](#ord)<br>\n",
    "&emsp;[8.3. OneHot Encoder](#onehot)<br>\n",
    "&emsp;[8.4. Target Encoding](#target)<br>\n",
    "[9. Data Scaling](#scal)<br>\n",
    "&emsp;[9.1. MinMax Scaler](#minmax)<br>\n",
    "&emsp;[9.2. Standard Scaler](#std)<br>\n",
    "[10. Missing Values](#miss)<br>\n",
    "&emsp;[10.1. KNN imputation](#knn)<br>\n",
    "[11. Re-sampling Techniques for Imbalanced Classification](#res)<br>\n",
    "&emsp;[11.1. SmoteNC](#SNC)<br>\n",
    "&emsp;[11.2. SmoteNN](#SNN)<br>\n",
    "&emsp;[11.3. Undersampling](#under)<br>\n",
    "&emsp;[11.4. Oversampling](#over)<br>\n",
    "&emsp;[11.1. Undersampling and Oversampling](#undov)<br>\n",
    "[12. Feature Selection](#fs)<br>\n",
    "&emsp;[12.1. Spearman Correlation](#sp)<br>\n",
    "&emsp;[12.2. Chi-Square](#cs)<br>\n",
    "&emsp;[12.3. Recursive Feature Elimination - RFE](#rfe)<br>\n",
    "&emsp;[12.4. LASSO](#lasso)<br>\n",
    "&emsp;[12.5. K-best](#kb)<br>\n",
    "&emsp;[12.6. Random Forest](#rf)<br>\n",
    "&emsp;[12.7. Decision of FS](#dec)<br>\n",
    "[13. Models](#models)<br>\n",
    "&emsp;[13.1. Bayes Classifier](#bayes)<br>\n",
    "&emsp;[13.2. KNN](#knnmodel)<br>\n",
    "&emsp;[13.3. Decision Trees](#dt)<br>\n",
    "&emsp;[13.4. Logistic Regression](#lr)<br>\n",
    "&emsp;[13.5. Neural Network](#nn)<br>\n",
    "&emsp;[13.6. Support Vector Machines](#svm)<br>\n",
    "&emsp;[13.7. Random Forest](#rfmodel)<br>\n",
    "\n",
    "\n",
    "\n",
    "\n",
    "\n",
    "\n"
   ]
  },
  {
   "cell_type": "markdown",
   "id": "b97f217e",
   "metadata": {
    "id": "b97f217e"
   },
   "source": [
    "<hr style=\"border: 1px solid black;\">\n",
    "<a class=\"anchor\" id=\"import\"></a>\n",
    "\n",
    "# <span style=\"color:black\">1. Import</span>"
   ]
  },
  {
   "cell_type": "markdown",
   "id": "563ec1e6",
   "metadata": {},
   "source": [
    "<a class=\"anchor\" id=\"importlibraries\"></a>\n",
    "\n",
    "## <span style=\"color:black\">1.1. Import Libraries</span>"
   ]
  },
  {
   "cell_type": "markdown",
   "id": "6eb1ead6",
   "metadata": {},
   "source": [
    "We will start by importing the libraries needed."
   ]
  },
  {
   "cell_type": "code",
   "execution_count": 1,
   "id": "24783da1",
   "metadata": {
    "executionInfo": {
     "elapsed": 1385,
     "status": "ok",
     "timestamp": 1698525254253,
     "user": {
      "displayName": "Joana Macedo",
      "userId": "16972855471752837139"
     },
     "user_tz": -60
    },
    "id": "24783da1"
   },
   "outputs": [],
   "source": [
    "import pandas as pd\n",
    "import os\n",
    "import scipy\n",
    "import numpy as np\n",
    "from sklearn.preprocessing import MinMaxScaler, OneHotEncoder, StandardScaler, OrdinalEncoder, RobustScaler\n",
    "import seaborn as sns\n",
    "import matplotlib.pyplot as plt\n",
    "from math import ceil\n",
    "import scipy.stats as stats\n",
    "from scipy import stats\n",
    "from scipy.stats import chi2_contingency\n",
    "from sklearn.linear_model import LogisticRegression, LassoCV, RidgeCV, Ridge\n",
    "from sklearn.svm import SVC\n",
    "from sklearn.feature_selection import RFE, SelectKBest, chi2, f_regression, RFE, SelectFromModel, mutual_info_classif\n",
    "import warnings\n",
    "warnings.filterwarnings('ignore')\n",
    "import category_encoders as ce\n",
    "from category_encoders import TargetEncoder, OneHotEncoder\n",
    "from sklearn.impute import SimpleImputer, KNNImputer\n",
    "from imblearn.over_sampling import SMOTE, SMOTENC \n",
    "from imblearn.over_sampling import RandomOverSampler\n",
    "from imblearn.under_sampling import RandomUnderSampler\n",
    "from collections import Counter\n",
    "from numpy import mean\n",
    "from sklearn.datasets import make_classification\n",
    "from sklearn.model_selection import cross_val_score, RepeatedStratifiedKFold, StratifiedKFold, GridSearchCV, train_test_split, RandomizedSearchCV\n",
    "from sklearn.tree import DecisionTreeClassifier\n",
    "from imblearn.pipeline import Pipeline\n",
    "from imblearn.combine import SMOTEENN\n",
    "from sklearn.ensemble import RandomForestClassifier, GradientBoostingClassifier, BaggingClassifier\n",
    "from sklearn.naive_bayes import GaussianNB\n",
    "from sklearn.metrics import make_scorer, f1_score, classification_report, confusion_matrix, roc_auc_score,  roc_curve, auc\n",
    "from sklearn.neighbors import KNeighborsClassifier\n",
    "from sklearn import tree\n",
    "import graphviz\n",
    "from sklearn.tree import export_graphviz\n",
    "from sklearn.linear_model import RidgeClassifier\n",
    "from sklearn.neural_network import MLPClassifier\n",
    "import time\n",
    "from imblearn.combine import SMOTETomek\n",
    "from scipy.stats import randint"
   ]
  },
  {
   "cell_type": "markdown",
   "id": "4ba0a5c9",
   "metadata": {
    "id": "4ba0a5c9"
   },
   "source": [
    "<a class=\"anchor\" id=\"importlibraries\"></a>\n",
    "\n",
    "## <span style=\"color:black\">1.2. Import Dataset</span>"
   ]
  },
  {
   "cell_type": "code",
   "execution_count": 2,
   "id": "204fff32",
   "metadata": {
    "colab": {
     "base_uri": "https://localhost:8080/",
     "height": 251
    },
    "executionInfo": {
     "elapsed": 257,
     "status": "error",
     "timestamp": 1698525378082,
     "user": {
      "displayName": "Joana Macedo",
      "userId": "16972855471752837139"
     },
     "user_tz": -60
    },
    "id": "204fff32",
    "outputId": "b2057aee-8c9c-4521-8f1b-5eb5e154462e"
   },
   "outputs": [],
   "source": [
    "#loading file into a dataframe\n",
    "train_original = pd.read_csv(\"train.csv\", sep = ',')\n",
    "test_original = pd.read_csv(\"test.csv\", sep = ',')"
   ]
  },
  {
   "cell_type": "code",
   "execution_count": 3,
   "id": "0dc7f0e5",
   "metadata": {
    "id": "0dc7f0e5"
   },
   "outputs": [],
   "source": [
    "#create a copy of the original dataframe\n",
    "data = train_original.copy()\n",
    "test = test_original.copy()"
   ]
  },
  {
   "cell_type": "markdown",
   "id": "8dac8721",
   "metadata": {},
   "source": [
    "<hr style=\"border: 1px solid black;\">\n",
    "<a class=\"anchor\" id=\"Explore\"></a>\n",
    "\n",
    "# <span style=\"color:black\">2. Explore Dataset</span>"
   ]
  },
  {
   "cell_type": "markdown",
   "id": "0a272d3a",
   "metadata": {},
   "source": [
    "We want to have an overview of the first five rows of the train dataset."
   ]
  },
  {
   "cell_type": "code",
   "execution_count": 4,
   "id": "9aff401b",
   "metadata": {
    "id": "9aff401b",
    "outputId": "9c13d01e-9d6b-4c13-deea-3a9f6cac068b",
    "scrolled": true
   },
   "outputs": [
    {
     "data": {
      "text/html": [
       "<div>\n",
       "<style scoped>\n",
       "    .dataframe tbody tr th:only-of-type {\n",
       "        vertical-align: middle;\n",
       "    }\n",
       "\n",
       "    .dataframe tbody tr th {\n",
       "        vertical-align: top;\n",
       "    }\n",
       "\n",
       "    .dataframe thead th {\n",
       "        text-align: right;\n",
       "    }\n",
       "</style>\n",
       "<table border=\"1\" class=\"dataframe\">\n",
       "  <thead>\n",
       "    <tr style=\"text-align: right;\">\n",
       "      <th></th>\n",
       "      <th>encounter_id</th>\n",
       "      <th>country</th>\n",
       "      <th>patient_id</th>\n",
       "      <th>race</th>\n",
       "      <th>gender</th>\n",
       "      <th>age</th>\n",
       "      <th>weight</th>\n",
       "      <th>payer_code</th>\n",
       "      <th>outpatient_visits_in_previous_year</th>\n",
       "      <th>emergency_visits_in_previous_year</th>\n",
       "      <th>...</th>\n",
       "      <th>secondary_diagnosis</th>\n",
       "      <th>additional_diagnosis</th>\n",
       "      <th>number_diagnoses</th>\n",
       "      <th>glucose_test_result</th>\n",
       "      <th>a1c_test_result</th>\n",
       "      <th>change_in_meds_during_hospitalization</th>\n",
       "      <th>prescribed_diabetes_meds</th>\n",
       "      <th>medication</th>\n",
       "      <th>readmitted_binary</th>\n",
       "      <th>readmitted_multiclass</th>\n",
       "    </tr>\n",
       "  </thead>\n",
       "  <tbody>\n",
       "    <tr>\n",
       "      <th>0</th>\n",
       "      <td>533253</td>\n",
       "      <td>USA</td>\n",
       "      <td>70110</td>\n",
       "      <td>Caucasian</td>\n",
       "      <td>Female</td>\n",
       "      <td>[70-80)</td>\n",
       "      <td>?</td>\n",
       "      <td>?</td>\n",
       "      <td>0</td>\n",
       "      <td>0</td>\n",
       "      <td>...</td>\n",
       "      <td>276</td>\n",
       "      <td>466</td>\n",
       "      <td>8</td>\n",
       "      <td>NaN</td>\n",
       "      <td>NaN</td>\n",
       "      <td>No</td>\n",
       "      <td>No</td>\n",
       "      <td>[]</td>\n",
       "      <td>No</td>\n",
       "      <td>&gt;30 days</td>\n",
       "    </tr>\n",
       "    <tr>\n",
       "      <th>1</th>\n",
       "      <td>426224</td>\n",
       "      <td>USA</td>\n",
       "      <td>29775006</td>\n",
       "      <td>AfricanAmerican</td>\n",
       "      <td>Male</td>\n",
       "      <td>[50-60)</td>\n",
       "      <td>?</td>\n",
       "      <td>?</td>\n",
       "      <td>0</td>\n",
       "      <td>0</td>\n",
       "      <td>...</td>\n",
       "      <td>785</td>\n",
       "      <td>162</td>\n",
       "      <td>9</td>\n",
       "      <td>NaN</td>\n",
       "      <td>NaN</td>\n",
       "      <td>No</td>\n",
       "      <td>Yes</td>\n",
       "      <td>['insulin']</td>\n",
       "      <td>No</td>\n",
       "      <td>No</td>\n",
       "    </tr>\n",
       "    <tr>\n",
       "      <th>2</th>\n",
       "      <td>634063</td>\n",
       "      <td>USA</td>\n",
       "      <td>80729253</td>\n",
       "      <td>Caucasian</td>\n",
       "      <td>Female</td>\n",
       "      <td>[60-70)</td>\n",
       "      <td>?</td>\n",
       "      <td>?</td>\n",
       "      <td>0</td>\n",
       "      <td>0</td>\n",
       "      <td>...</td>\n",
       "      <td>135</td>\n",
       "      <td>250</td>\n",
       "      <td>6</td>\n",
       "      <td>NaN</td>\n",
       "      <td>NaN</td>\n",
       "      <td>Ch</td>\n",
       "      <td>Yes</td>\n",
       "      <td>['glimepiride', 'insulin']</td>\n",
       "      <td>No</td>\n",
       "      <td>No</td>\n",
       "    </tr>\n",
       "    <tr>\n",
       "      <th>3</th>\n",
       "      <td>890610</td>\n",
       "      <td>USA</td>\n",
       "      <td>2919042</td>\n",
       "      <td>AfricanAmerican</td>\n",
       "      <td>Male</td>\n",
       "      <td>[60-70)</td>\n",
       "      <td>?</td>\n",
       "      <td>MC</td>\n",
       "      <td>0</td>\n",
       "      <td>0</td>\n",
       "      <td>...</td>\n",
       "      <td>562</td>\n",
       "      <td>455</td>\n",
       "      <td>5</td>\n",
       "      <td>NaN</td>\n",
       "      <td>NaN</td>\n",
       "      <td>No</td>\n",
       "      <td>No</td>\n",
       "      <td>[]</td>\n",
       "      <td>No</td>\n",
       "      <td>No</td>\n",
       "    </tr>\n",
       "    <tr>\n",
       "      <th>4</th>\n",
       "      <td>654194</td>\n",
       "      <td>USA</td>\n",
       "      <td>84871971</td>\n",
       "      <td>Caucasian</td>\n",
       "      <td>Female</td>\n",
       "      <td>[70-80)</td>\n",
       "      <td>?</td>\n",
       "      <td>HM</td>\n",
       "      <td>1</td>\n",
       "      <td>0</td>\n",
       "      <td>...</td>\n",
       "      <td>599</td>\n",
       "      <td>428</td>\n",
       "      <td>9</td>\n",
       "      <td>NaN</td>\n",
       "      <td>NaN</td>\n",
       "      <td>No</td>\n",
       "      <td>No</td>\n",
       "      <td>[]</td>\n",
       "      <td>No</td>\n",
       "      <td>&gt;30 days</td>\n",
       "    </tr>\n",
       "  </tbody>\n",
       "</table>\n",
       "<p>5 rows × 31 columns</p>\n",
       "</div>"
      ],
      "text/plain": [
       "   encounter_id country  patient_id             race  gender      age weight  \\\n",
       "0        533253     USA       70110        Caucasian  Female  [70-80)      ?   \n",
       "1        426224     USA    29775006  AfricanAmerican    Male  [50-60)      ?   \n",
       "2        634063     USA    80729253        Caucasian  Female  [60-70)      ?   \n",
       "3        890610     USA     2919042  AfricanAmerican    Male  [60-70)      ?   \n",
       "4        654194     USA    84871971        Caucasian  Female  [70-80)      ?   \n",
       "\n",
       "  payer_code  outpatient_visits_in_previous_year  \\\n",
       "0          ?                                   0   \n",
       "1          ?                                   0   \n",
       "2          ?                                   0   \n",
       "3         MC                                   0   \n",
       "4         HM                                   1   \n",
       "\n",
       "   emergency_visits_in_previous_year  ...  secondary_diagnosis  \\\n",
       "0                                  0  ...                  276   \n",
       "1                                  0  ...                  785   \n",
       "2                                  0  ...                  135   \n",
       "3                                  0  ...                  562   \n",
       "4                                  0  ...                  599   \n",
       "\n",
       "  additional_diagnosis number_diagnoses  glucose_test_result a1c_test_result  \\\n",
       "0                  466                8                  NaN             NaN   \n",
       "1                  162                9                  NaN             NaN   \n",
       "2                  250                6                  NaN             NaN   \n",
       "3                  455                5                  NaN             NaN   \n",
       "4                  428                9                  NaN             NaN   \n",
       "\n",
       "  change_in_meds_during_hospitalization  prescribed_diabetes_meds  \\\n",
       "0                                    No                        No   \n",
       "1                                    No                       Yes   \n",
       "2                                    Ch                       Yes   \n",
       "3                                    No                        No   \n",
       "4                                    No                        No   \n",
       "\n",
       "                   medication  readmitted_binary  readmitted_multiclass  \n",
       "0                          []                 No               >30 days  \n",
       "1                 ['insulin']                 No                     No  \n",
       "2  ['glimepiride', 'insulin']                 No                     No  \n",
       "3                          []                 No                     No  \n",
       "4                          []                 No               >30 days  \n",
       "\n",
       "[5 rows x 31 columns]"
      ]
     },
     "execution_count": 4,
     "metadata": {},
     "output_type": "execute_result"
    }
   ],
   "source": [
    "data.head()"
   ]
  },
  {
   "cell_type": "markdown",
   "id": "41ae3bd0",
   "metadata": {},
   "source": [
    "Checking how many rows and columns the dataset has."
   ]
  },
  {
   "cell_type": "code",
   "execution_count": 5,
   "id": "e6b3734c",
   "metadata": {
    "id": "e6b3734c",
    "outputId": "0a443b2b-6749-4696-f598-3b325187ffe2"
   },
   "outputs": [
    {
     "name": "stdout",
     "output_type": "stream",
     "text": [
      "The dataset has a total of 71236 rows and 31 columns.\n"
     ]
    }
   ],
   "source": [
    "print('The dataset has a total of', data.shape[0], 'rows and', data.shape[1], 'columns.')"
   ]
  },
  {
   "cell_type": "markdown",
   "id": "bb6c1529",
   "metadata": {},
   "source": [
    "Setting `encounter_id` as the index."
   ]
  },
  {
   "cell_type": "code",
   "execution_count": 6,
   "id": "6c40f770",
   "metadata": {
    "id": "6c40f770",
    "outputId": "4ba10ebf-7878-455d-e547-7947e72a4a13"
   },
   "outputs": [
    {
     "data": {
      "text/html": [
       "<div>\n",
       "<style scoped>\n",
       "    .dataframe tbody tr th:only-of-type {\n",
       "        vertical-align: middle;\n",
       "    }\n",
       "\n",
       "    .dataframe tbody tr th {\n",
       "        vertical-align: top;\n",
       "    }\n",
       "\n",
       "    .dataframe thead th {\n",
       "        text-align: right;\n",
       "    }\n",
       "</style>\n",
       "<table border=\"1\" class=\"dataframe\">\n",
       "  <thead>\n",
       "    <tr style=\"text-align: right;\">\n",
       "      <th></th>\n",
       "      <th>country</th>\n",
       "      <th>patient_id</th>\n",
       "      <th>race</th>\n",
       "      <th>gender</th>\n",
       "      <th>age</th>\n",
       "      <th>weight</th>\n",
       "      <th>payer_code</th>\n",
       "      <th>outpatient_visits_in_previous_year</th>\n",
       "      <th>emergency_visits_in_previous_year</th>\n",
       "      <th>inpatient_visits_in_previous_year</th>\n",
       "      <th>...</th>\n",
       "      <th>secondary_diagnosis</th>\n",
       "      <th>additional_diagnosis</th>\n",
       "      <th>number_diagnoses</th>\n",
       "      <th>glucose_test_result</th>\n",
       "      <th>a1c_test_result</th>\n",
       "      <th>change_in_meds_during_hospitalization</th>\n",
       "      <th>prescribed_diabetes_meds</th>\n",
       "      <th>medication</th>\n",
       "      <th>readmitted_binary</th>\n",
       "      <th>readmitted_multiclass</th>\n",
       "    </tr>\n",
       "    <tr>\n",
       "      <th>encounter_id</th>\n",
       "      <th></th>\n",
       "      <th></th>\n",
       "      <th></th>\n",
       "      <th></th>\n",
       "      <th></th>\n",
       "      <th></th>\n",
       "      <th></th>\n",
       "      <th></th>\n",
       "      <th></th>\n",
       "      <th></th>\n",
       "      <th></th>\n",
       "      <th></th>\n",
       "      <th></th>\n",
       "      <th></th>\n",
       "      <th></th>\n",
       "      <th></th>\n",
       "      <th></th>\n",
       "      <th></th>\n",
       "      <th></th>\n",
       "      <th></th>\n",
       "      <th></th>\n",
       "    </tr>\n",
       "  </thead>\n",
       "  <tbody>\n",
       "    <tr>\n",
       "      <th>533253</th>\n",
       "      <td>USA</td>\n",
       "      <td>70110</td>\n",
       "      <td>Caucasian</td>\n",
       "      <td>Female</td>\n",
       "      <td>[70-80)</td>\n",
       "      <td>?</td>\n",
       "      <td>?</td>\n",
       "      <td>0</td>\n",
       "      <td>0</td>\n",
       "      <td>2</td>\n",
       "      <td>...</td>\n",
       "      <td>276</td>\n",
       "      <td>466</td>\n",
       "      <td>8</td>\n",
       "      <td>NaN</td>\n",
       "      <td>NaN</td>\n",
       "      <td>No</td>\n",
       "      <td>No</td>\n",
       "      <td>[]</td>\n",
       "      <td>No</td>\n",
       "      <td>&gt;30 days</td>\n",
       "    </tr>\n",
       "    <tr>\n",
       "      <th>426224</th>\n",
       "      <td>USA</td>\n",
       "      <td>29775006</td>\n",
       "      <td>AfricanAmerican</td>\n",
       "      <td>Male</td>\n",
       "      <td>[50-60)</td>\n",
       "      <td>?</td>\n",
       "      <td>?</td>\n",
       "      <td>0</td>\n",
       "      <td>0</td>\n",
       "      <td>0</td>\n",
       "      <td>...</td>\n",
       "      <td>785</td>\n",
       "      <td>162</td>\n",
       "      <td>9</td>\n",
       "      <td>NaN</td>\n",
       "      <td>NaN</td>\n",
       "      <td>No</td>\n",
       "      <td>Yes</td>\n",
       "      <td>['insulin']</td>\n",
       "      <td>No</td>\n",
       "      <td>No</td>\n",
       "    </tr>\n",
       "    <tr>\n",
       "      <th>634063</th>\n",
       "      <td>USA</td>\n",
       "      <td>80729253</td>\n",
       "      <td>Caucasian</td>\n",
       "      <td>Female</td>\n",
       "      <td>[60-70)</td>\n",
       "      <td>?</td>\n",
       "      <td>?</td>\n",
       "      <td>0</td>\n",
       "      <td>0</td>\n",
       "      <td>1</td>\n",
       "      <td>...</td>\n",
       "      <td>135</td>\n",
       "      <td>250</td>\n",
       "      <td>6</td>\n",
       "      <td>NaN</td>\n",
       "      <td>NaN</td>\n",
       "      <td>Ch</td>\n",
       "      <td>Yes</td>\n",
       "      <td>['glimepiride', 'insulin']</td>\n",
       "      <td>No</td>\n",
       "      <td>No</td>\n",
       "    </tr>\n",
       "    <tr>\n",
       "      <th>890610</th>\n",
       "      <td>USA</td>\n",
       "      <td>2919042</td>\n",
       "      <td>AfricanAmerican</td>\n",
       "      <td>Male</td>\n",
       "      <td>[60-70)</td>\n",
       "      <td>?</td>\n",
       "      <td>MC</td>\n",
       "      <td>0</td>\n",
       "      <td>0</td>\n",
       "      <td>1</td>\n",
       "      <td>...</td>\n",
       "      <td>562</td>\n",
       "      <td>455</td>\n",
       "      <td>5</td>\n",
       "      <td>NaN</td>\n",
       "      <td>NaN</td>\n",
       "      <td>No</td>\n",
       "      <td>No</td>\n",
       "      <td>[]</td>\n",
       "      <td>No</td>\n",
       "      <td>No</td>\n",
       "    </tr>\n",
       "    <tr>\n",
       "      <th>654194</th>\n",
       "      <td>USA</td>\n",
       "      <td>84871971</td>\n",
       "      <td>Caucasian</td>\n",
       "      <td>Female</td>\n",
       "      <td>[70-80)</td>\n",
       "      <td>?</td>\n",
       "      <td>HM</td>\n",
       "      <td>1</td>\n",
       "      <td>0</td>\n",
       "      <td>0</td>\n",
       "      <td>...</td>\n",
       "      <td>599</td>\n",
       "      <td>428</td>\n",
       "      <td>9</td>\n",
       "      <td>NaN</td>\n",
       "      <td>NaN</td>\n",
       "      <td>No</td>\n",
       "      <td>No</td>\n",
       "      <td>[]</td>\n",
       "      <td>No</td>\n",
       "      <td>&gt;30 days</td>\n",
       "    </tr>\n",
       "  </tbody>\n",
       "</table>\n",
       "<p>5 rows × 30 columns</p>\n",
       "</div>"
      ],
      "text/plain": [
       "             country  patient_id             race  gender      age weight  \\\n",
       "encounter_id                                                                \n",
       "533253           USA       70110        Caucasian  Female  [70-80)      ?   \n",
       "426224           USA    29775006  AfricanAmerican    Male  [50-60)      ?   \n",
       "634063           USA    80729253        Caucasian  Female  [60-70)      ?   \n",
       "890610           USA     2919042  AfricanAmerican    Male  [60-70)      ?   \n",
       "654194           USA    84871971        Caucasian  Female  [70-80)      ?   \n",
       "\n",
       "             payer_code  outpatient_visits_in_previous_year  \\\n",
       "encounter_id                                                  \n",
       "533253                ?                                   0   \n",
       "426224                ?                                   0   \n",
       "634063                ?                                   0   \n",
       "890610               MC                                   0   \n",
       "654194               HM                                   1   \n",
       "\n",
       "              emergency_visits_in_previous_year  \\\n",
       "encounter_id                                      \n",
       "533253                                        0   \n",
       "426224                                        0   \n",
       "634063                                        0   \n",
       "890610                                        0   \n",
       "654194                                        0   \n",
       "\n",
       "              inpatient_visits_in_previous_year  ... secondary_diagnosis  \\\n",
       "encounter_id                                     ...                       \n",
       "533253                                        2  ...                 276   \n",
       "426224                                        0  ...                 785   \n",
       "634063                                        1  ...                 135   \n",
       "890610                                        1  ...                 562   \n",
       "654194                                        0  ...                 599   \n",
       "\n",
       "             additional_diagnosis  number_diagnoses glucose_test_result  \\\n",
       "encounter_id                                                              \n",
       "533253                        466                 8                 NaN   \n",
       "426224                        162                 9                 NaN   \n",
       "634063                        250                 6                 NaN   \n",
       "890610                        455                 5                 NaN   \n",
       "654194                        428                 9                 NaN   \n",
       "\n",
       "             a1c_test_result  change_in_meds_during_hospitalization  \\\n",
       "encounter_id                                                          \n",
       "533253                   NaN                                     No   \n",
       "426224                   NaN                                     No   \n",
       "634063                   NaN                                     Ch   \n",
       "890610                   NaN                                     No   \n",
       "654194                   NaN                                     No   \n",
       "\n",
       "              prescribed_diabetes_meds                  medication  \\\n",
       "encounter_id                                                         \n",
       "533253                              No                          []   \n",
       "426224                             Yes                 ['insulin']   \n",
       "634063                             Yes  ['glimepiride', 'insulin']   \n",
       "890610                              No                          []   \n",
       "654194                              No                          []   \n",
       "\n",
       "              readmitted_binary readmitted_multiclass  \n",
       "encounter_id                                           \n",
       "533253                       No              >30 days  \n",
       "426224                       No                    No  \n",
       "634063                       No                    No  \n",
       "890610                       No                    No  \n",
       "654194                       No              >30 days  \n",
       "\n",
       "[5 rows x 30 columns]"
      ]
     },
     "execution_count": 6,
     "metadata": {},
     "output_type": "execute_result"
    }
   ],
   "source": [
    "data.set_index('encounter_id', inplace=True) \n",
    "test.set_index('encounter_id', inplace=True) \n",
    "data.head()"
   ]
  },
  {
   "cell_type": "markdown",
   "id": "d96690cb",
   "metadata": {},
   "source": [
    "Checking the type of variables we have."
   ]
  },
  {
   "cell_type": "code",
   "execution_count": 7,
   "id": "ee252b35",
   "metadata": {
    "id": "ee252b35",
    "outputId": "593edb12-4e31-444d-e644-154e101f61d5",
    "scrolled": true
   },
   "outputs": [
    {
     "name": "stdout",
     "output_type": "stream",
     "text": [
      "<class 'pandas.core.frame.DataFrame'>\n",
      "Int64Index: 71236 entries, 533253 to 459757\n",
      "Data columns (total 30 columns):\n",
      " #   Column                                 Non-Null Count  Dtype \n",
      "---  ------                                 --------------  ----- \n",
      " 0   country                                71236 non-null  object\n",
      " 1   patient_id                             71236 non-null  int64 \n",
      " 2   race                                   67682 non-null  object\n",
      " 3   gender                                 71236 non-null  object\n",
      " 4   age                                    67679 non-null  object\n",
      " 5   weight                                 71236 non-null  object\n",
      " 6   payer_code                             71236 non-null  object\n",
      " 7   outpatient_visits_in_previous_year     71236 non-null  int64 \n",
      " 8   emergency_visits_in_previous_year      71236 non-null  int64 \n",
      " 9   inpatient_visits_in_previous_year      71236 non-null  int64 \n",
      " 10  admission_type                         67530 non-null  object\n",
      " 11  medical_specialty                      71236 non-null  object\n",
      " 12  average_pulse_bpm                      71236 non-null  int64 \n",
      " 13  discharge_disposition                  68646 non-null  object\n",
      " 14  admission_source                       66518 non-null  object\n",
      " 15  length_of_stay_in_hospital             71236 non-null  int64 \n",
      " 16  number_lab_tests                       71236 non-null  int64 \n",
      " 17  non_lab_procedures                     71236 non-null  int64 \n",
      " 18  number_of_medications                  71236 non-null  int64 \n",
      " 19  primary_diagnosis                      71236 non-null  object\n",
      " 20  secondary_diagnosis                    71236 non-null  object\n",
      " 21  additional_diagnosis                   71236 non-null  object\n",
      " 22  number_diagnoses                       71236 non-null  int64 \n",
      " 23  glucose_test_result                    3688 non-null   object\n",
      " 24  a1c_test_result                        11916 non-null  object\n",
      " 25  change_in_meds_during_hospitalization  71236 non-null  object\n",
      " 26  prescribed_diabetes_meds               71236 non-null  object\n",
      " 27  medication                             71236 non-null  object\n",
      " 28  readmitted_binary                      71236 non-null  object\n",
      " 29  readmitted_multiclass                  71236 non-null  object\n",
      "dtypes: int64(10), object(20)\n",
      "memory usage: 16.8+ MB\n"
     ]
    }
   ],
   "source": [
    "data.info()"
   ]
  },
  {
   "cell_type": "markdown",
   "id": "f92185df",
   "metadata": {},
   "source": [
    "<a class=\"anchor\" id=\"stats\"></a>\n",
    "\n",
    "## <span style=\"color:black\">2.1. Statistical Information</span>"
   ]
  },
  {
   "cell_type": "markdown",
   "id": "54407b7a",
   "metadata": {},
   "source": [
    "We first evaluated the main statistical characteristics of our variables."
   ]
  },
  {
   "cell_type": "code",
   "execution_count": 8,
   "id": "d0be9465",
   "metadata": {},
   "outputs": [
    {
     "data": {
      "text/html": [
       "<div>\n",
       "<style scoped>\n",
       "    .dataframe tbody tr th:only-of-type {\n",
       "        vertical-align: middle;\n",
       "    }\n",
       "\n",
       "    .dataframe tbody tr th {\n",
       "        vertical-align: top;\n",
       "    }\n",
       "\n",
       "    .dataframe thead th {\n",
       "        text-align: right;\n",
       "    }\n",
       "</style>\n",
       "<table border=\"1\" class=\"dataframe\">\n",
       "  <thead>\n",
       "    <tr style=\"text-align: right;\">\n",
       "      <th></th>\n",
       "      <th>count</th>\n",
       "      <th>mean</th>\n",
       "      <th>std</th>\n",
       "      <th>min</th>\n",
       "      <th>25%</th>\n",
       "      <th>50%</th>\n",
       "      <th>75%</th>\n",
       "      <th>max</th>\n",
       "    </tr>\n",
       "  </thead>\n",
       "  <tbody>\n",
       "    <tr>\n",
       "      <th>patient_id</th>\n",
       "      <td>71236.0</td>\n",
       "      <td>5.430228e+07</td>\n",
       "      <td>3.879585e+07</td>\n",
       "      <td>135.0</td>\n",
       "      <td>23396510.25</td>\n",
       "      <td>45305631.0</td>\n",
       "      <td>87558374.25</td>\n",
       "      <td>189502619.0</td>\n",
       "    </tr>\n",
       "    <tr>\n",
       "      <th>outpatient_visits_in_previous_year</th>\n",
       "      <td>71236.0</td>\n",
       "      <td>3.695884e-01</td>\n",
       "      <td>1.287469e+00</td>\n",
       "      <td>0.0</td>\n",
       "      <td>0.00</td>\n",
       "      <td>0.0</td>\n",
       "      <td>0.00</td>\n",
       "      <td>42.0</td>\n",
       "    </tr>\n",
       "    <tr>\n",
       "      <th>emergency_visits_in_previous_year</th>\n",
       "      <td>71236.0</td>\n",
       "      <td>1.962491e-01</td>\n",
       "      <td>9.108537e-01</td>\n",
       "      <td>0.0</td>\n",
       "      <td>0.00</td>\n",
       "      <td>0.0</td>\n",
       "      <td>0.00</td>\n",
       "      <td>76.0</td>\n",
       "    </tr>\n",
       "    <tr>\n",
       "      <th>inpatient_visits_in_previous_year</th>\n",
       "      <td>71236.0</td>\n",
       "      <td>6.401539e-01</td>\n",
       "      <td>1.267271e+00</td>\n",
       "      <td>0.0</td>\n",
       "      <td>0.00</td>\n",
       "      <td>0.0</td>\n",
       "      <td>1.00</td>\n",
       "      <td>21.0</td>\n",
       "    </tr>\n",
       "    <tr>\n",
       "      <th>average_pulse_bpm</th>\n",
       "      <td>71236.0</td>\n",
       "      <td>9.961122e+01</td>\n",
       "      <td>2.304052e+01</td>\n",
       "      <td>60.0</td>\n",
       "      <td>80.00</td>\n",
       "      <td>100.0</td>\n",
       "      <td>119.00</td>\n",
       "      <td>139.0</td>\n",
       "    </tr>\n",
       "    <tr>\n",
       "      <th>length_of_stay_in_hospital</th>\n",
       "      <td>71236.0</td>\n",
       "      <td>4.391024e+00</td>\n",
       "      <td>2.988739e+00</td>\n",
       "      <td>1.0</td>\n",
       "      <td>2.00</td>\n",
       "      <td>4.0</td>\n",
       "      <td>6.00</td>\n",
       "      <td>14.0</td>\n",
       "    </tr>\n",
       "    <tr>\n",
       "      <th>number_lab_tests</th>\n",
       "      <td>71236.0</td>\n",
       "      <td>4.309565e+01</td>\n",
       "      <td>1.964292e+01</td>\n",
       "      <td>1.0</td>\n",
       "      <td>31.00</td>\n",
       "      <td>44.0</td>\n",
       "      <td>57.00</td>\n",
       "      <td>121.0</td>\n",
       "    </tr>\n",
       "    <tr>\n",
       "      <th>non_lab_procedures</th>\n",
       "      <td>71236.0</td>\n",
       "      <td>1.340923e+00</td>\n",
       "      <td>1.706664e+00</td>\n",
       "      <td>0.0</td>\n",
       "      <td>0.00</td>\n",
       "      <td>1.0</td>\n",
       "      <td>2.00</td>\n",
       "      <td>6.0</td>\n",
       "    </tr>\n",
       "    <tr>\n",
       "      <th>number_of_medications</th>\n",
       "      <td>71236.0</td>\n",
       "      <td>1.599545e+01</td>\n",
       "      <td>8.122347e+00</td>\n",
       "      <td>1.0</td>\n",
       "      <td>10.00</td>\n",
       "      <td>15.0</td>\n",
       "      <td>20.00</td>\n",
       "      <td>75.0</td>\n",
       "    </tr>\n",
       "    <tr>\n",
       "      <th>number_diagnoses</th>\n",
       "      <td>71236.0</td>\n",
       "      <td>7.421023e+00</td>\n",
       "      <td>1.937809e+00</td>\n",
       "      <td>1.0</td>\n",
       "      <td>6.00</td>\n",
       "      <td>8.0</td>\n",
       "      <td>9.00</td>\n",
       "      <td>16.0</td>\n",
       "    </tr>\n",
       "  </tbody>\n",
       "</table>\n",
       "</div>"
      ],
      "text/plain": [
       "                                      count          mean           std  \\\n",
       "patient_id                          71236.0  5.430228e+07  3.879585e+07   \n",
       "outpatient_visits_in_previous_year  71236.0  3.695884e-01  1.287469e+00   \n",
       "emergency_visits_in_previous_year   71236.0  1.962491e-01  9.108537e-01   \n",
       "inpatient_visits_in_previous_year   71236.0  6.401539e-01  1.267271e+00   \n",
       "average_pulse_bpm                   71236.0  9.961122e+01  2.304052e+01   \n",
       "length_of_stay_in_hospital          71236.0  4.391024e+00  2.988739e+00   \n",
       "number_lab_tests                    71236.0  4.309565e+01  1.964292e+01   \n",
       "non_lab_procedures                  71236.0  1.340923e+00  1.706664e+00   \n",
       "number_of_medications               71236.0  1.599545e+01  8.122347e+00   \n",
       "number_diagnoses                    71236.0  7.421023e+00  1.937809e+00   \n",
       "\n",
       "                                      min          25%         50%  \\\n",
       "patient_id                          135.0  23396510.25  45305631.0   \n",
       "outpatient_visits_in_previous_year    0.0         0.00         0.0   \n",
       "emergency_visits_in_previous_year     0.0         0.00         0.0   \n",
       "inpatient_visits_in_previous_year     0.0         0.00         0.0   \n",
       "average_pulse_bpm                    60.0        80.00       100.0   \n",
       "length_of_stay_in_hospital            1.0         2.00         4.0   \n",
       "number_lab_tests                      1.0        31.00        44.0   \n",
       "non_lab_procedures                    0.0         0.00         1.0   \n",
       "number_of_medications                 1.0        10.00        15.0   \n",
       "number_diagnoses                      1.0         6.00         8.0   \n",
       "\n",
       "                                            75%          max  \n",
       "patient_id                          87558374.25  189502619.0  \n",
       "outpatient_visits_in_previous_year         0.00         42.0  \n",
       "emergency_visits_in_previous_year          0.00         76.0  \n",
       "inpatient_visits_in_previous_year          1.00         21.0  \n",
       "average_pulse_bpm                        119.00        139.0  \n",
       "length_of_stay_in_hospital                 6.00         14.0  \n",
       "number_lab_tests                          57.00        121.0  \n",
       "non_lab_procedures                         2.00          6.0  \n",
       "number_of_medications                     20.00         75.0  \n",
       "number_diagnoses                           9.00         16.0  "
      ]
     },
     "execution_count": 8,
     "metadata": {},
     "output_type": "execute_result"
    }
   ],
   "source": [
    "data.describe().T"
   ]
  },
  {
   "cell_type": "code",
   "execution_count": 9,
   "id": "48e677d6",
   "metadata": {},
   "outputs": [
    {
     "data": {
      "text/html": [
       "<div>\n",
       "<style scoped>\n",
       "    .dataframe tbody tr th:only-of-type {\n",
       "        vertical-align: middle;\n",
       "    }\n",
       "\n",
       "    .dataframe tbody tr th {\n",
       "        vertical-align: top;\n",
       "    }\n",
       "\n",
       "    .dataframe thead th {\n",
       "        text-align: right;\n",
       "    }\n",
       "</style>\n",
       "<table border=\"1\" class=\"dataframe\">\n",
       "  <thead>\n",
       "    <tr style=\"text-align: right;\">\n",
       "      <th></th>\n",
       "      <th>count</th>\n",
       "      <th>unique</th>\n",
       "      <th>top</th>\n",
       "      <th>freq</th>\n",
       "    </tr>\n",
       "  </thead>\n",
       "  <tbody>\n",
       "    <tr>\n",
       "      <th>country</th>\n",
       "      <td>71236</td>\n",
       "      <td>1</td>\n",
       "      <td>USA</td>\n",
       "      <td>71236</td>\n",
       "    </tr>\n",
       "    <tr>\n",
       "      <th>race</th>\n",
       "      <td>67682</td>\n",
       "      <td>6</td>\n",
       "      <td>Caucasian</td>\n",
       "      <td>50693</td>\n",
       "    </tr>\n",
       "    <tr>\n",
       "      <th>gender</th>\n",
       "      <td>71236</td>\n",
       "      <td>3</td>\n",
       "      <td>Female</td>\n",
       "      <td>38228</td>\n",
       "    </tr>\n",
       "    <tr>\n",
       "      <th>age</th>\n",
       "      <td>67679</td>\n",
       "      <td>10</td>\n",
       "      <td>[70-80)</td>\n",
       "      <td>17359</td>\n",
       "    </tr>\n",
       "    <tr>\n",
       "      <th>weight</th>\n",
       "      <td>71236</td>\n",
       "      <td>10</td>\n",
       "      <td>?</td>\n",
       "      <td>68990</td>\n",
       "    </tr>\n",
       "    <tr>\n",
       "      <th>payer_code</th>\n",
       "      <td>71236</td>\n",
       "      <td>18</td>\n",
       "      <td>?</td>\n",
       "      <td>28201</td>\n",
       "    </tr>\n",
       "    <tr>\n",
       "      <th>admission_type</th>\n",
       "      <td>67530</td>\n",
       "      <td>7</td>\n",
       "      <td>Emergency</td>\n",
       "      <td>37742</td>\n",
       "    </tr>\n",
       "    <tr>\n",
       "      <th>medical_specialty</th>\n",
       "      <td>71236</td>\n",
       "      <td>69</td>\n",
       "      <td>?</td>\n",
       "      <td>34922</td>\n",
       "    </tr>\n",
       "    <tr>\n",
       "      <th>discharge_disposition</th>\n",
       "      <td>68646</td>\n",
       "      <td>25</td>\n",
       "      <td>Discharged to home</td>\n",
       "      <td>42256</td>\n",
       "    </tr>\n",
       "    <tr>\n",
       "      <th>admission_source</th>\n",
       "      <td>66518</td>\n",
       "      <td>16</td>\n",
       "      <td>Emergency Room</td>\n",
       "      <td>40319</td>\n",
       "    </tr>\n",
       "    <tr>\n",
       "      <th>primary_diagnosis</th>\n",
       "      <td>71236</td>\n",
       "      <td>687</td>\n",
       "      <td>428</td>\n",
       "      <td>4776</td>\n",
       "    </tr>\n",
       "    <tr>\n",
       "      <th>secondary_diagnosis</th>\n",
       "      <td>71236</td>\n",
       "      <td>699</td>\n",
       "      <td>276</td>\n",
       "      <td>4694</td>\n",
       "    </tr>\n",
       "    <tr>\n",
       "      <th>additional_diagnosis</th>\n",
       "      <td>71236</td>\n",
       "      <td>747</td>\n",
       "      <td>250</td>\n",
       "      <td>8070</td>\n",
       "    </tr>\n",
       "    <tr>\n",
       "      <th>glucose_test_result</th>\n",
       "      <td>3688</td>\n",
       "      <td>3</td>\n",
       "      <td>Norm</td>\n",
       "      <td>1806</td>\n",
       "    </tr>\n",
       "    <tr>\n",
       "      <th>a1c_test_result</th>\n",
       "      <td>11916</td>\n",
       "      <td>3</td>\n",
       "      <td>&gt;8</td>\n",
       "      <td>5705</td>\n",
       "    </tr>\n",
       "    <tr>\n",
       "      <th>change_in_meds_during_hospitalization</th>\n",
       "      <td>71236</td>\n",
       "      <td>2</td>\n",
       "      <td>No</td>\n",
       "      <td>38326</td>\n",
       "    </tr>\n",
       "    <tr>\n",
       "      <th>prescribed_diabetes_meds</th>\n",
       "      <td>71236</td>\n",
       "      <td>2</td>\n",
       "      <td>Yes</td>\n",
       "      <td>54890</td>\n",
       "    </tr>\n",
       "    <tr>\n",
       "      <th>medication</th>\n",
       "      <td>71236</td>\n",
       "      <td>303</td>\n",
       "      <td>['insulin']</td>\n",
       "      <td>21715</td>\n",
       "    </tr>\n",
       "    <tr>\n",
       "      <th>readmitted_binary</th>\n",
       "      <td>71236</td>\n",
       "      <td>2</td>\n",
       "      <td>No</td>\n",
       "      <td>63286</td>\n",
       "    </tr>\n",
       "    <tr>\n",
       "      <th>readmitted_multiclass</th>\n",
       "      <td>71236</td>\n",
       "      <td>3</td>\n",
       "      <td>No</td>\n",
       "      <td>38405</td>\n",
       "    </tr>\n",
       "  </tbody>\n",
       "</table>\n",
       "</div>"
      ],
      "text/plain": [
       "                                       count unique                 top   freq\n",
       "country                                71236      1                 USA  71236\n",
       "race                                   67682      6           Caucasian  50693\n",
       "gender                                 71236      3              Female  38228\n",
       "age                                    67679     10             [70-80)  17359\n",
       "weight                                 71236     10                   ?  68990\n",
       "payer_code                             71236     18                   ?  28201\n",
       "admission_type                         67530      7           Emergency  37742\n",
       "medical_specialty                      71236     69                   ?  34922\n",
       "discharge_disposition                  68646     25  Discharged to home  42256\n",
       "admission_source                       66518     16      Emergency Room  40319\n",
       "primary_diagnosis                      71236    687                 428   4776\n",
       "secondary_diagnosis                    71236    699                 276   4694\n",
       "additional_diagnosis                   71236    747                 250   8070\n",
       "glucose_test_result                     3688      3                Norm   1806\n",
       "a1c_test_result                        11916      3                  >8   5705\n",
       "change_in_meds_during_hospitalization  71236      2                  No  38326\n",
       "prescribed_diabetes_meds               71236      2                 Yes  54890\n",
       "medication                             71236    303         ['insulin']  21715\n",
       "readmitted_binary                      71236      2                  No  63286\n",
       "readmitted_multiclass                  71236      3                  No  38405"
      ]
     },
     "execution_count": 9,
     "metadata": {},
     "output_type": "execute_result"
    }
   ],
   "source": [
    "data.describe(include=['O']).T"
   ]
  },
  {
   "cell_type": "markdown",
   "id": "86584ef3",
   "metadata": {},
   "source": [
    "We noticed that `country` only has one unique value, which is *USA*. We can see that `weight`has a very high percentage of missing values, 96.85%. We will remove it from our analysis."
   ]
  },
  {
   "cell_type": "code",
   "execution_count": 10,
   "id": "5b674ed3",
   "metadata": {},
   "outputs": [],
   "source": [
    "data.drop('country', axis=1, inplace=True)\n",
    "data.drop('weight', axis=1, inplace=True)"
   ]
  },
  {
   "cell_type": "code",
   "execution_count": 11,
   "id": "62aa99bf",
   "metadata": {},
   "outputs": [],
   "source": [
    "test.drop('country', axis=1, inplace=True)\n",
    "test.drop('weight', axis=1, inplace=True)"
   ]
  },
  {
   "cell_type": "code",
   "execution_count": 12,
   "id": "0b2545c4",
   "metadata": {},
   "outputs": [],
   "source": [
    "data.drop('readmitted_binary', axis=1, inplace=True)"
   ]
  },
  {
   "cell_type": "markdown",
   "id": "ae4eae43",
   "metadata": {
    "id": "ae4eae43"
   },
   "source": [
    "<a class=\"anchor\" id=\"metric\"></a>\n",
    "\n",
    "## <span style=\"color:black\">2.2. Defining Metric and Non-metric Features</span>"
   ]
  },
  {
   "cell_type": "markdown",
   "id": "5b8771ac",
   "metadata": {},
   "source": [
    "Dividing the dataset."
   ]
  },
  {
   "cell_type": "code",
   "execution_count": 13,
   "id": "9616fd1e",
   "metadata": {},
   "outputs": [
    {
     "data": {
      "text/plain": [
       "Index(['patient_id', 'race', 'gender', 'age', 'payer_code',\n",
       "       'outpatient_visits_in_previous_year',\n",
       "       'emergency_visits_in_previous_year',\n",
       "       'inpatient_visits_in_previous_year', 'admission_type',\n",
       "       'medical_specialty', 'average_pulse_bpm', 'discharge_disposition',\n",
       "       'admission_source', 'length_of_stay_in_hospital', 'number_lab_tests',\n",
       "       'non_lab_procedures', 'number_of_medications', 'primary_diagnosis',\n",
       "       'secondary_diagnosis', 'additional_diagnosis', 'number_diagnoses',\n",
       "       'glucose_test_result', 'a1c_test_result',\n",
       "       'change_in_meds_during_hospitalization', 'prescribed_diabetes_meds',\n",
       "       'medication', 'readmitted_multiclass'],\n",
       "      dtype='object')"
      ]
     },
     "execution_count": 13,
     "metadata": {},
     "output_type": "execute_result"
    }
   ],
   "source": [
    "data.columns"
   ]
  },
  {
   "cell_type": "code",
   "execution_count": 14,
   "id": "4b335539",
   "metadata": {
    "id": "2377bb52"
   },
   "outputs": [],
   "source": [
    "non_metric_features = [\"race\", \"gender\", \"age\", \"payer_code\",\"admission_type\"\n",
    "                      , \"medical_specialty\", \"discharge_disposition\", \"admission_source\", \"primary_diagnosis\", \n",
    "                       \"secondary_diagnosis\", \"additional_diagnosis\", \"glucose_test_result\",\n",
    "                      \"a1c_test_result\" ,\"change_in_meds_during_hospitalization\",\n",
    "                      \"prescribed_diabetes_meds\", \"medication\"]\n",
    "metric_features = [\"outpatient_visits_in_previous_year\", \"emergency_visits_in_previous_year\", \"inpatient_visits_in_previous_year\",\n",
    "                  \"average_pulse_bpm\", \"length_of_stay_in_hospital\", \"number_lab_tests\", \"non_lab_procedures\", \"number_of_medications\",\n",
    "                  \"number_diagnoses\"]"
   ]
  },
  {
   "cell_type": "markdown",
   "id": "e668920f",
   "metadata": {},
   "source": [
    "<hr style=\"border: 1px solid black;\">\n",
    "<a class=\"anchor\" id=\"split\"></a>\n",
    "\n",
    "# <span style=\"color:black\">3. Split Data into Train and Val</span>"
   ]
  },
  {
   "cell_type": "code",
   "execution_count": 15,
   "id": "09c5d7cc",
   "metadata": {},
   "outputs": [],
   "source": [
    "X = data.drop(['readmitted_multiclass'], axis=1)\n",
    "y = data['readmitted_multiclass']\n",
    "\n",
    "# Splitting the data into train and validation\n",
    "train, val = train_test_split(data, test_size=0.3, random_state=42, stratify=y, shuffle=True)"
   ]
  },
  {
   "cell_type": "markdown",
   "id": "9c30cc04",
   "metadata": {},
   "source": [
    "<hr style=\"border: 1px solid black;\">\n",
    "<a class=\"anchor\" id=\"preproc\"></a>\n",
    "\n",
    "# <span style=\"color:black\">4. Data Pre-processing</span>"
   ]
  },
  {
   "cell_type": "markdown",
   "id": "de4b015f",
   "metadata": {},
   "source": [
    "<a class=\"anchor\" id=\"inco\"></a>\n",
    "\n",
    "## <span style=\"color:black\">4.1. Incoherences and Missclassifications</span>"
   ]
  },
  {
   "cell_type": "markdown",
   "id": "0c14e62a",
   "metadata": {},
   "source": [
    "Checking for **missclassifications**."
   ]
  },
  {
   "cell_type": "code",
   "execution_count": 16,
   "id": "c6c168f9",
   "metadata": {},
   "outputs": [
    {
     "data": {
      "text/plain": [
       "array(['Male', 'Female', 'Unknown/Invalid'], dtype=object)"
      ]
     },
     "execution_count": 16,
     "metadata": {},
     "output_type": "execute_result"
    }
   ],
   "source": [
    "train['gender'].unique()"
   ]
  },
  {
   "cell_type": "code",
   "execution_count": 17,
   "id": "3ce5cb68",
   "metadata": {},
   "outputs": [
    {
     "data": {
      "text/plain": [
       "array([' Emergency Room', ' Physician Referral', nan,\n",
       "       ' Transfer from another health care facility',\n",
       "       'Transfer from a hospital',\n",
       "       ' Transfer from a Skilled Nursing Facility (SNF)',\n",
       "       'Clinic Referral', 'HMO Referral', ' Not Available', ' Not Mapped',\n",
       "       ' Court/Law Enforcement', ' Transfer from critial access hospital',\n",
       "       ' Transfer from hospital inpt/same fac reslt in a sep claim',\n",
       "       ' Extramural Birth', ' Transfer from Ambulatory Surgery Center'],\n",
       "      dtype=object)"
      ]
     },
     "execution_count": 17,
     "metadata": {},
     "output_type": "execute_result"
    }
   ],
   "source": [
    "train['admission_source'].unique()"
   ]
  },
  {
   "cell_type": "code",
   "execution_count": 18,
   "id": "e7c8e35c",
   "metadata": {},
   "outputs": [
    {
     "data": {
      "text/plain": [
       "array(['Emergency', 'Urgent', 'Elective', 'Not Available', nan,\n",
       "       'Not Mapped', 'Newborn', 'Trauma Center'], dtype=object)"
      ]
     },
     "execution_count": 18,
     "metadata": {},
     "output_type": "execute_result"
    }
   ],
   "source": [
    "train['admission_type'].unique()"
   ]
  },
  {
   "cell_type": "code",
   "execution_count": 19,
   "id": "bcc186de",
   "metadata": {},
   "outputs": [
    {
     "data": {
      "text/plain": [
       "array(['No', 'Ch'], dtype=object)"
      ]
     },
     "execution_count": 19,
     "metadata": {},
     "output_type": "execute_result"
    }
   ],
   "source": [
    "train['change_in_meds_during_hospitalization'].unique()"
   ]
  },
  {
   "cell_type": "code",
   "execution_count": 20,
   "id": "c726b81b",
   "metadata": {
    "id": "c726b81b",
    "outputId": "f57cf241-41e3-46ab-addf-cd5f97186ca1"
   },
   "outputs": [],
   "source": [
    "#Replace Special characters for NaN\n",
    "special_char = [\"?\"]\n",
    "train.replace(special_char, np.nan, inplace =True)\n",
    "val.replace(special_char, np.nan, inplace =True)\n",
    "\n",
    "#Replace Unknown/Invalid seen in Gender for NaN\n",
    "special_char1 = [\"Unknown/Invalid\"]\n",
    "train.replace(special_char1, np.nan, inplace =True)\n",
    "\n",
    "#Replace Not mapped/Not Available seen in Admission type and source for Not Available and remove leading spaces. Replace\n",
    "#NaN for Not Available\n",
    "train['admission_source'] = train['admission_source'].str.lstrip()\n",
    "special_char2 = ['Not Mapped', 'Not Available']\n",
    "train.replace(special_char2, 'Not Available', inplace =True)\n",
    "train['admission_type'] = train['admission_type'].fillna('Not Available')\n",
    "train['admission_source'] = train['admission_source'].fillna('Not Available')\n",
    "\n",
    "#Glucose and ac1 missing values should not be considered missing values\n",
    "train['glucose_test_result'] = train['glucose_test_result'].fillna('Not Available')\n",
    "train['a1c_test_result'] = train['a1c_test_result'].fillna('Not Available')\n",
    "\n",
    "#Change medication where the value is '[]' to 'No medication'\n",
    "train['medication'] = train['medication'].replace('[]', 'No medication')\n",
    "\n",
    "#The variable change_in_meds_during_hopitalization has as values 'no' and 'ch' we should change this for 'yes' and 'no'\n",
    "train['change_in_meds_during_hospitalization']=train['change_in_meds_during_hospitalization'].replace('Ch', 'Yes')\n",
    "\n",
    "#Filling missing values in medical specialty for 'Unknow'\n",
    "train['medical_specialty'] = train['medical_specialty'].fillna('Unknown')\n",
    "\n",
    "#Fillin Nan in payer_code\n",
    "train['payer_code'] = train['payer_code'].fillna('Not Insured')\n",
    "\n",
    "#secondary and additional diagnosis can be null\n",
    "train['secondary_diagnosis'] = train['secondary_diagnosis'].fillna('Not Available')\n",
    "train['additional_diagnosis'] = train['additional_diagnosis'].fillna('Not Available')"
   ]
  },
  {
   "cell_type": "code",
   "execution_count": 21,
   "id": "153e3163",
   "metadata": {},
   "outputs": [],
   "source": [
    "test.replace(special_char, np.nan, inplace =True)\n",
    "test.replace(special_char1, np.nan, inplace =True)\n",
    "test['admission_source'] = test['admission_source'].str.lstrip()\n",
    "test.replace(special_char2, 'Not Available', inplace =True)\n",
    "test['admission_type'] = test['admission_type'].fillna('Not Available')\n",
    "test['admission_source'] = test['admission_source'].fillna('Not Available')\n",
    "test['glucose_test_result'] = test['glucose_test_result'].fillna('Not Available')\n",
    "test['a1c_test_result'] = test['a1c_test_result'].fillna('Not Available')\n",
    "test['medication'] = test['medication'].replace('[]', 'No medication')\n",
    "test['change_in_meds_during_hospitalization']=test['change_in_meds_during_hospitalization'].replace('Ch', 'Yes')\n",
    "test['medical_specialty'] = test['medical_specialty'].fillna('Unknown')\n",
    "test['payer_code'] = test['payer_code'].fillna('Not Insured')\n",
    "test['secondary_diagnosis'] = test['secondary_diagnosis'].fillna('Not Available')\n",
    "test['additional_diagnosis'] = test['additional_diagnosis'].fillna('Not Available')"
   ]
  },
  {
   "cell_type": "code",
   "execution_count": 22,
   "id": "35c1e87f",
   "metadata": {},
   "outputs": [],
   "source": [
    "val.replace(special_char, np.nan, inplace =True)\n",
    "val.replace(special_char1, np.nan, inplace =True)\n",
    "val['admission_source'] = val['admission_source'].str.lstrip()\n",
    "val.replace(special_char2, 'Not Available', inplace =True)\n",
    "val['admission_type'] = val['admission_type'].fillna('Not Available')\n",
    "val['admission_source'] = val['admission_source'].fillna('Not Available')\n",
    "val['glucose_test_result'] = val['glucose_test_result'].fillna('Not Available')\n",
    "val['a1c_test_result'] = val['a1c_test_result'].fillna('Not Available')\n",
    "val['medication'] = val['medication'].replace('[]', 'No medication')\n",
    "val['change_in_meds_during_hospitalization']=val['change_in_meds_during_hospitalization'].replace('Ch', 'Yes')\n",
    "val['medical_specialty'] = val['medical_specialty'].fillna('Unknown')\n",
    "val['payer_code'] = val['payer_code'].fillna('Not Insured')\n",
    "val['secondary_diagnosis'] = val['secondary_diagnosis'].fillna('Not Available')\n",
    "val['additional_diagnosis'] = val['additional_diagnosis'].fillna('Not Available')"
   ]
  },
  {
   "cell_type": "markdown",
   "id": "f927420f",
   "metadata": {},
   "source": [
    "Checking for **inconsistencies**."
   ]
  },
  {
   "cell_type": "code",
   "execution_count": 23,
   "id": "c2a3e036",
   "metadata": {},
   "outputs": [],
   "source": [
    "#Check for equal diagnosis\n",
    "\n",
    "for index, row in train.iterrows():\n",
    "    if row['primary_diagnosis'] == 'Not Available':\n",
    "        train.at[index, 'primary_diagnosis'] = row['secondary_diagnosis']\n",
    "        train.at[index, 'secondary_diagnosis'] = row['additional_diagnosis']\n",
    "        \n",
    "    if row['primary_diagnosis'] == row['secondary_diagnosis']:\n",
    "        train.at[index, 'secondary_diagnosis'] = row['additional_diagnosis']\n",
    "        train.at[index, 'additional_diagnosis'] = 'Not Available'\n",
    "\n",
    "    if row['primary_diagnosis'] == row['additional_diagnosis']:\n",
    "        train.at[index, 'additional_diagnosis'] = 'Not Available'\n",
    "\n",
    "    if (\n",
    "        row['secondary_diagnosis'] == row['additional_diagnosis']\n",
    "        and row['additional_diagnosis'] != 'Not Available'\n",
    "    ):\n",
    "        train.at[index, 'additional_diagnosis'] = 'Not Available'"
   ]
  },
  {
   "cell_type": "code",
   "execution_count": 24,
   "id": "4de47357",
   "metadata": {},
   "outputs": [],
   "source": [
    "for index, row in val.iterrows():\n",
    "    if row['primary_diagnosis'] == 'Not Available':\n",
    "        val.at[index, 'primary_diagnosis'] = row['secondary_diagnosis']\n",
    "        val.at[index, 'secondary_diagnosis'] = row['additional_diagnosis']\n",
    "        \n",
    "    if row['primary_diagnosis'] == row['secondary_diagnosis']:\n",
    "        val.at[index, 'secondary_diagnosis'] = row['additional_diagnosis']\n",
    "        val.at[index, 'additional_diagnosis'] = 'Not Available'\n",
    "\n",
    "    if row['primary_diagnosis'] == row['additional_diagnosis']:\n",
    "        val.at[index, 'additional_diagnosis'] = 'Not Available'\n",
    "\n",
    "    if (\n",
    "        row['secondary_diagnosis'] == row['additional_diagnosis']\n",
    "        and row['additional_diagnosis'] != 'Not Available'\n",
    "    ):\n",
    "        val.at[index, 'additional_diagnosis'] = 'Not Available'"
   ]
  },
  {
   "cell_type": "code",
   "execution_count": 25,
   "id": "e6b633fa",
   "metadata": {},
   "outputs": [],
   "source": [
    "for index, row in test.iterrows():\n",
    "    if row['primary_diagnosis'] == 'Not Available':\n",
    "        test.at[index, 'primary_diagnosis'] = row['secondary_diagnosis']\n",
    "        test.at[index, 'secondary_diagnosis'] = row['additional_diagnosis']\n",
    "        \n",
    "    if row['primary_diagnosis'] == row['secondary_diagnosis']:\n",
    "        test.at[index, 'secondary_diagnosis'] = row['additional_diagnosis']\n",
    "        test.at[index, 'additional_diagnosis'] = 'Not Available'\n",
    "\n",
    "    if row['primary_diagnosis'] == row['additional_diagnosis']:\n",
    "        test.at[index, 'additional_diagnosis'] = 'Not Available'\n",
    "\n",
    "    if (\n",
    "        row['secondary_diagnosis'] == row['additional_diagnosis']\n",
    "        and row['additional_diagnosis'] != 'Not Available'\n",
    "    ):\n",
    "        test.at[index, 'additional_diagnosis'] = 'Not Available'"
   ]
  },
  {
   "cell_type": "markdown",
   "id": "18213e94",
   "metadata": {},
   "source": [
    "<a class=\"anchor\" id=\"dup\"></a>\n",
    "\n",
    "## <span style=\"color:black\">4.2. Duplicates</span>"
   ]
  },
  {
   "cell_type": "code",
   "execution_count": 26,
   "id": "eae75faa",
   "metadata": {},
   "outputs": [
    {
     "data": {
      "text/plain": [
       "9587"
      ]
     },
     "execution_count": 26,
     "metadata": {},
     "output_type": "execute_result"
    }
   ],
   "source": [
    "train.duplicated(subset=['patient_id']).sum()"
   ]
  },
  {
   "cell_type": "code",
   "execution_count": 27,
   "id": "923ff32d",
   "metadata": {},
   "outputs": [
    {
     "data": {
      "text/plain": [
       "0"
      ]
     },
     "execution_count": 27,
     "metadata": {},
     "output_type": "execute_result"
    }
   ],
   "source": [
    "#checking for duplicates in dataset\n",
    "train.duplicated().sum()"
   ]
  },
  {
   "cell_type": "markdown",
   "id": "a028ddaa",
   "metadata": {
    "id": "a028ddaa"
   },
   "source": [
    "<a class=\"anchor\" id=\"out\"></a>\n",
    "\n",
    "## <span style=\"color:black\">4.3. Treat Outliers</span>"
   ]
  },
  {
   "cell_type": "markdown",
   "id": "63cc6b73",
   "metadata": {},
   "source": [
    "Plotting the **histograms**."
   ]
  },
  {
   "cell_type": "code",
   "execution_count": 28,
   "id": "125a8dfa",
   "metadata": {
    "id": "125a8dfa",
    "outputId": "4c9c89e1-dd3c-4390-ea32-89511d405633",
    "scrolled": true
   },
   "outputs": [
    {
     "data": {
      "image/png": "[encoded data removed]",
      "text/plain": [
       "<Figure size 1440x792 with 10 Axes>"
      ]
     },
     "metadata": {},
     "output_type": "display_data"
    }
   ],
   "source": [
    "sns.set()\n",
    "\n",
    "fig, axes = plt.subplots(2, ceil(len(metric_features) / 2), figsize=(20, 11))\n",
    "\n",
    "# Plot data\n",
    "for ax, feat in zip(axes.flatten(), metric_features):\n",
    "    ax.hist(train[feat])\n",
    "    ax.set_title(feat, y=-0.13)\n",
    "\n",
    "title = \"Numeric Variables' Histograms\"\n",
    "\n",
    "plt.suptitle(title)\n",
    "\n",
    "plt.show()"
   ]
  },
  {
   "cell_type": "markdown",
   "id": "776d0b9d",
   "metadata": {},
   "source": [
    "Plotting the **box plots**."
   ]
  },
  {
   "cell_type": "code",
   "execution_count": 29,
   "id": "3e41d5e3",
   "metadata": {
    "id": "3e41d5e3",
    "outputId": "1b175080-6613-4fc3-ee60-9037c7e76fb2",
    "scrolled": true
   },
   "outputs": [
    {
     "data": {
      "image/png": "[encoded data removed]",
      "text/plain": [
       "<Figure size 1440x792 with 10 Axes>"
      ]
     },
     "metadata": {},
     "output_type": "display_data"
    }
   ],
   "source": [
    "sns.set()\n",
    "\n",
    "fig, axes = plt.subplots(2, ceil(len(metric_features) / 2), figsize=(20, 11))\n",
    "\n",
    "# Plot data\n",
    "for ax, feat in zip(axes.flatten(), metric_features): \n",
    "    sns.boxplot(x=train[feat], ax=ax)\n",
    "\n",
    "title = \"Numeric Variables' Box Plots\"\n",
    "\n",
    "plt.suptitle(title)\n",
    "\n",
    "plt.show()"
   ]
  },
  {
   "cell_type": "markdown",
   "id": "82066d1a",
   "metadata": {},
   "source": [
    "Plotting **histograms** for specific varibales."
   ]
  },
  {
   "cell_type": "code",
   "execution_count": 30,
   "id": "13c973e4",
   "metadata": {},
   "outputs": [
    {
     "data": {
      "image/png": "[encoded data removed]",
      "text/plain": [
       "<Figure size 1440x792 with 4 Axes>"
      ]
     },
     "metadata": {},
     "output_type": "display_data"
    }
   ],
   "source": [
    "variables_to_plot = ['outpatient_visits_in_previous_year', 'emergency_visits_in_previous_year', 'inpatient_visits_in_previous_year', 'number_of_medications']\n",
    "\n",
    "sns.set()\n",
    "\n",
    "fig, axes = plt.subplots(2, ceil(len(variables_to_plot) / 2), figsize=(20, 11))\n",
    "\n",
    "# Plot data\n",
    "for ax, feat in zip(axes.flatten(), variables_to_plot):\n",
    "    ax.hist(train[feat])\n",
    "    ax.set_title(feat, y=-0.13)\n",
    "\n",
    "# Layout\n",
    "# Add a centered title to the figure:\n",
    "title = \"Numeric Variables' Histograms\"\n",
    "\n",
    "plt.suptitle(title)\n",
    "\n",
    "plt.show()"
   ]
  },
  {
   "cell_type": "markdown",
   "id": "390cffea",
   "metadata": {},
   "source": [
    "We can see that 99.94% of the observations of `outpatient_visits_in_previous_year` are bellow 20."
   ]
  },
  {
   "cell_type": "code",
   "execution_count": 31,
   "id": "e09273a5",
   "metadata": {},
   "outputs": [
    {
     "data": {
      "text/plain": [
       "99.94384839065476"
      ]
     },
     "execution_count": 31,
     "metadata": {},
     "output_type": "execute_result"
    }
   ],
   "source": [
    "len(train[train['outpatient_visits_in_previous_year'] < 20])/len(train['outpatient_visits_in_previous_year']) *100"
   ]
  },
  {
   "cell_type": "markdown",
   "id": "2cb91bda",
   "metadata": {},
   "source": [
    " We can see that 99.98% of the observations of `emergency_visits_in_previous_year` are bellow 20."
   ]
  },
  {
   "cell_type": "code",
   "execution_count": 32,
   "id": "f938e7bf",
   "metadata": {},
   "outputs": [
    {
     "data": {
      "text/plain": [
       "99.9779404391858"
      ]
     },
     "execution_count": 32,
     "metadata": {},
     "output_type": "execute_result"
    }
   ],
   "source": [
    "len(train[train['emergency_visits_in_previous_year'] < 20])/len(train['emergency_visits_in_previous_year']) *100"
   ]
  },
  {
   "cell_type": "markdown",
   "id": "8a8c91f0",
   "metadata": {},
   "source": [
    "We can see that 99.82% of the observations of `inpatient_visits_in_previous_year` are bellow 10."
   ]
  },
  {
   "cell_type": "code",
   "execution_count": 33,
   "id": "9a98baf4",
   "metadata": {},
   "outputs": [
    {
     "data": {
      "text/plain": [
       "99.81550185500852"
      ]
     },
     "execution_count": 33,
     "metadata": {},
     "output_type": "execute_result"
    }
   ],
   "source": [
    "len(train[train['inpatient_visits_in_previous_year'] < 10])/len(train['inpatient_visits_in_previous_year']) *100"
   ]
  },
  {
   "cell_type": "markdown",
   "id": "5d2e0cd1",
   "metadata": {},
   "source": [
    "We can see that 99.86% of the observations of `number_of_medications` are bellow 60."
   ]
  },
  {
   "cell_type": "code",
   "execution_count": 34,
   "id": "22cf52c0",
   "metadata": {},
   "outputs": [
    {
     "data": {
      "text/plain": [
       "99.86363180587587"
      ]
     },
     "execution_count": 34,
     "metadata": {},
     "output_type": "execute_result"
    }
   ],
   "source": [
    "len(train[train['number_of_medications'] < 60])/len(train['number_of_medications']) *100"
   ]
  },
  {
   "cell_type": "markdown",
   "id": "3ba1bfc2",
   "metadata": {
    "id": "3ba1bfc2"
   },
   "source": [
    "There are also outliers in the variables `number_lab_tests`, `non_lab_procedures`, `number_of_medications`, `number_diagnoses`. We will not delete these outliers since they can be important for the study."
   ]
  },
  {
   "cell_type": "code",
   "execution_count": 35,
   "id": "e4308f8e",
   "metadata": {},
   "outputs": [
    {
     "data": {
      "text/plain": [
       "<AxesSubplot:xlabel='number_lab_tests'>"
      ]
     },
     "execution_count": 35,
     "metadata": {},
     "output_type": "execute_result"
    },
    {
     "data": {
      "image/png": "[encoded data removed]",
      "text/plain": [
       "<Figure size 432x288 with 1 Axes>"
      ]
     },
     "metadata": {},
     "output_type": "display_data"
    }
   ],
   "source": [
    "sns.boxplot(x='number_lab_tests', data = train)"
   ]
  },
  {
   "cell_type": "code",
   "execution_count": 36,
   "id": "b8a52a98",
   "metadata": {},
   "outputs": [
    {
     "data": {
      "text/plain": [
       "<AxesSubplot:xlabel='number_of_medications'>"
      ]
     },
     "execution_count": 36,
     "metadata": {},
     "output_type": "execute_result"
    },
    {
     "data": {
      "image/png": "[encoded data removed]",
      "text/plain": [
       "<Figure size 432x288 with 1 Axes>"
      ]
     },
     "metadata": {},
     "output_type": "display_data"
    }
   ],
   "source": [
    "sns.boxplot(x='number_of_medications', data = train)"
   ]
  },
  {
   "cell_type": "code",
   "execution_count": 37,
   "id": "ff19a4d0",
   "metadata": {},
   "outputs": [],
   "source": [
    "filters1 = (\n",
    "     (train['outpatient_visits_in_previous_year']<20)\n",
    "    &\n",
    "    (train['emergency_visits_in_previous_year']<20)\n",
    "    &\n",
    "    (train['inpatient_visits_in_previous_year']<10)\n",
    "    &\n",
    "    (train['number_of_medications']<60)\n",
    ")\n",
    "\n",
    "train_box = train[filters1].copy()"
   ]
  },
  {
   "cell_type": "code",
   "execution_count": 38,
   "id": "fff8dd7a",
   "metadata": {
    "scrolled": true
   },
   "outputs": [
    {
     "name": "stdout",
     "output_type": "stream",
     "text": [
      "Percentage of data kept after removing outliers: 99.61\n"
     ]
    }
   ],
   "source": [
    "print('Percentage of data kept after removing outliers:', np.round(train_box.shape[0] / train.shape[0], 4)*100)"
   ]
  },
  {
   "cell_type": "code",
   "execution_count": 39,
   "id": "ccac7af6",
   "metadata": {},
   "outputs": [
    {
     "name": "stdout",
     "output_type": "stream",
     "text": [
      "Percentage of data kept after removing outliers: 65.81\n"
     ]
    }
   ],
   "source": [
    "q25 = train[metric_features].quantile(.25)\n",
    "q75 = train[metric_features].quantile(.75)\n",
    "iqr = (q75 - q25)\n",
    "\n",
    "upper_lim = q75 + 1.5 * iqr\n",
    "lower_lim = q25 - 1.5 * iqr\n",
    "\n",
    "filters2 = []\n",
    "for metric in metric_features:\n",
    "    llim = lower_lim[metric]\n",
    "    ulim = upper_lim[metric]\n",
    "    filters2.append(train[metric].between(llim, ulim, inclusive='both'))\n",
    "\n",
    "filters2 = pd.Series(np.all(filters2, 0))\n",
    "filters2.index = train.index  # Reindexing to match DataFrame indices\n",
    "\n",
    "train_filtered = train[filters2]\n",
    "print('Percentage of data kept after removing outliers:', np.round(train_filtered.shape[0] / train.shape[0], 4)*100)"
   ]
  },
  {
   "cell_type": "code",
   "execution_count": 40,
   "id": "8517a6f0",
   "metadata": {},
   "outputs": [
    {
     "name": "stdout",
     "output_type": "stream",
     "text": [
      "Percentage of data kept after removing outliers: 99.61\n"
     ]
    }
   ],
   "source": [
    "train_no_outliers = train[(filters1 | filters2)]\n",
    "print('Percentage of data kept after removing outliers:', np.round(train_no_outliers.shape[0] / train.shape[0], 4)*100)"
   ]
  },
  {
   "cell_type": "markdown",
   "id": "a6be1305",
   "metadata": {},
   "source": [
    "Since the percentage of data kept is very high, we will proceed with the removal of these outliers."
   ]
  },
  {
   "cell_type": "markdown",
   "id": "fe2aedba",
   "metadata": {},
   "source": [
    "<hr style=\"border: 1px solid black;\">\n",
    "<a class=\"anchor\" id=\"fe\"></a>\n",
    "\n",
    "# <span style=\"color:black\">5. Feature Engineering</span>"
   ]
  },
  {
   "cell_type": "markdown",
   "id": "e22caa73",
   "metadata": {},
   "source": [
    "Handling 'expired' patients. Deleting patients that have died because they can't be readmitted to the hospital."
   ]
  },
  {
   "cell_type": "code",
   "execution_count": 41,
   "id": "5482bae9",
   "metadata": {},
   "outputs": [],
   "source": [
    "train_engineering= train_no_outliers.copy()"
   ]
  },
  {
   "cell_type": "code",
   "execution_count": 42,
   "id": "76142d45",
   "metadata": {},
   "outputs": [
    {
     "name": "stdout",
     "output_type": "stream",
     "text": [
      "The number of occurrences of 'Expired' in discharge_disposition column: 789\n"
     ]
    }
   ],
   "source": [
    "expired_count = train_engineering['discharge_disposition'].str.contains('expired', case=False).sum()\n",
    "print(f\"The number of occurrences of 'Expired' in discharge_disposition column: {expired_count}\")"
   ]
  },
  {
   "cell_type": "code",
   "execution_count": 43,
   "id": "f13a85cb",
   "metadata": {},
   "outputs": [],
   "source": [
    "train_engineering['discharge_disposition'] = train_engineering['discharge_disposition'].replace(np.nan, 'missing')\n",
    "train_engineering['discharge_disposition'] = train_engineering['discharge_disposition'].astype(str)\n",
    "train_engineering = train_engineering[~train_engineering['discharge_disposition'].str.contains('expired', case=False)]\n",
    "train_engineering['discharge_disposition'] = train_engineering['discharge_disposition'].replace('missing', np.nan)"
   ]
  },
  {
   "cell_type": "code",
   "execution_count": 44,
   "id": "e14c8360",
   "metadata": {},
   "outputs": [],
   "source": [
    "val['discharge_disposition'] = val['discharge_disposition'].replace(np.nan, 'missing')\n",
    "val['discharge_disposition'] = val['discharge_disposition'].astype(str)\n",
    "expired_rows = val[val['discharge_disposition'].str.contains('expired', case=False)]\n",
    "val = val[~val['discharge_disposition'].str.contains('expired', case=False)]\n",
    "val['discharge_disposition'] = val['discharge_disposition'].replace('missing', np.nan)"
   ]
  },
  {
   "cell_type": "code",
   "execution_count": 45,
   "id": "74d773f7",
   "metadata": {},
   "outputs": [
    {
     "name": "stdout",
     "output_type": "stream",
     "text": [
      "The number of occurrences of 'Expired' in discharge_disposition column: 510\n"
     ]
    }
   ],
   "source": [
    "expired_count = test['discharge_disposition'].str.contains('expired', case=False).sum()\n",
    "print(f\"The number of occurrences of 'Expired' in discharge_disposition column: {expired_count}\")"
   ]
  },
  {
   "cell_type": "code",
   "execution_count": 46,
   "id": "8ffa936e",
   "metadata": {},
   "outputs": [],
   "source": [
    "test['discharge_disposition'] = test['discharge_disposition'].replace(np.nan, 'missing')\n",
    "expired_rows = test[test['discharge_disposition'].str.contains('expired', case=False)]\n",
    "results = pd.DataFrame(index=expired_rows.index)\n",
    "results['readmitted_multiclass'] = 0"
   ]
  },
  {
   "cell_type": "code",
   "execution_count": 47,
   "id": "bd52fee0",
   "metadata": {},
   "outputs": [],
   "source": [
    "test = test[~test['discharge_disposition'].str.contains('expired', case=False)]\n",
    "test['discharge_disposition'] = test['discharge_disposition'].replace('missing', np.nan)"
   ]
  },
  {
   "cell_type": "markdown",
   "id": "67c5b51e",
   "metadata": {},
   "source": [
    "<a class=\"anchor\" id=\"dummy\"></a>\n",
    "\n",
    "## <span style=\"color:black\">5.1. Dummy variables</span>"
   ]
  },
  {
   "cell_type": "code",
   "execution_count": 48,
   "id": "e9135827",
   "metadata": {},
   "outputs": [],
   "source": [
    "train_engineering['change_in_meds_during_hospitalization'].replace('Yes',1,inplace=True)\n",
    "train_engineering['change_in_meds_during_hospitalization'].replace('No',0,inplace=True)\n",
    "train_engineering['prescribed_diabetes_meds'].replace('Yes',1,inplace=True)\n",
    "train_engineering['prescribed_diabetes_meds'].replace('No',0,inplace=True)\n",
    "train_engineering['gender'].replace('Female',1,inplace=True)\n",
    "train_engineering['gender'].replace('Male',0,inplace=True)"
   ]
  },
  {
   "cell_type": "code",
   "execution_count": 49,
   "id": "dc5d679e",
   "metadata": {},
   "outputs": [],
   "source": [
    "val['change_in_meds_during_hospitalization'].replace('Yes',1,inplace=True)\n",
    "val['change_in_meds_during_hospitalization'].replace('No',0,inplace=True)\n",
    "val['prescribed_diabetes_meds'].replace('Yes',1,inplace=True)\n",
    "val['prescribed_diabetes_meds'].replace('No',0,inplace=True)\n",
    "val['gender'].replace('Female',1,inplace=True)\n",
    "val['gender'].replace('Male',0,inplace=True)"
   ]
  },
  {
   "cell_type": "code",
   "execution_count": 50,
   "id": "3d06fbdf",
   "metadata": {},
   "outputs": [],
   "source": [
    "test['change_in_meds_during_hospitalization'].replace('Yes',1,inplace=True)\n",
    "test['change_in_meds_during_hospitalization'].replace('No',0,inplace=True)\n",
    "test['prescribed_diabetes_meds'].replace('Yes',1,inplace=True)\n",
    "test['prescribed_diabetes_meds'].replace('No',0,inplace=True)\n",
    "test['gender'].replace('Female',1,inplace=True)\n",
    "test['gender'].replace('Male',0,inplace=True)"
   ]
  },
  {
   "cell_type": "markdown",
   "id": "953eaf15",
   "metadata": {},
   "source": [
    "<a class=\"anchor\" id=\"newvar\"></a>\n",
    "\n",
    "## <span style=\"color:black\">5.2. Creation of New Variables</span>"
   ]
  },
  {
   "cell_type": "markdown",
   "id": "923e70da",
   "metadata": {},
   "source": [
    "Creating a new variable called `insurance` that assumes values 0 and 1."
   ]
  },
  {
   "cell_type": "code",
   "execution_count": 51,
   "id": "a72f5f12",
   "metadata": {},
   "outputs": [],
   "source": [
    "train_engineering['insurance']=train_engineering['payer_code'].apply(lambda x: 0 if x == 'Not Insured' else 1)\n",
    "val['insurance']=val['payer_code'].apply(lambda x: 0 if x == 'Not Insured' else 1)\n",
    "test['insurance']=test['payer_code'].apply(lambda x: 0 if x == 'Not Insured' else 1)"
   ]
  },
  {
   "cell_type": "markdown",
   "id": "3d35aebb",
   "metadata": {},
   "source": [
    "Creating a new variable called `caucasian` that assumes values 0 and 1."
   ]
  },
  {
   "cell_type": "code",
   "execution_count": 52,
   "id": "1d7f90c3",
   "metadata": {},
   "outputs": [
    {
     "name": "stdout",
     "output_type": "stream",
     "text": [
      "Caucasian: 76.67%\n",
      "AfricanAmerican: 18.99%\n",
      "Hispanic: 2.16%\n",
      "Other: 1.54%\n",
      "Asian: 0.64%\n"
     ]
    }
   ],
   "source": [
    "race_counts = train_engineering['race'].value_counts()\n",
    "\n",
    "# Calculate total count\n",
    "total_count = race_counts.sum()\n",
    "\n",
    "# Calculate and display percentages for each race category\n",
    "for race, count in race_counts.items():\n",
    "    percentage = (count / total_count) * 100\n",
    "    print(f\"{race}: {percentage:.2f}%\")"
   ]
  },
  {
   "cell_type": "code",
   "execution_count": 53,
   "id": "cae74dc8",
   "metadata": {},
   "outputs": [],
   "source": [
    "train_engineering['caucasian'] = train_engineering['race'].apply(lambda x: 1 if x == 'Caucasian' else 0)\n",
    "val['caucasian'] = val['race'].apply(lambda x: 1 if x == 'Caucasian' else 0)\n",
    "test['caucasian'] = test['race'].apply(lambda x: 1 if x == 'Caucasian' else 0)"
   ]
  },
  {
   "cell_type": "markdown",
   "id": "6713b77d",
   "metadata": {},
   "source": [
    "Creating a new variable called `diagnosis_count` that sums all diagnosis."
   ]
  },
  {
   "cell_type": "code",
   "execution_count": 54,
   "id": "eb01d7c3",
   "metadata": {},
   "outputs": [],
   "source": [
    "train_engineering['diagnosis_count'] = train_engineering[['primary_diagnosis', 'secondary_diagnosis', 'additional_diagnosis']].count(axis=1)"
   ]
  },
  {
   "cell_type": "code",
   "execution_count": 55,
   "id": "72908247",
   "metadata": {},
   "outputs": [],
   "source": [
    "val['diagnosis_count'] = val[['primary_diagnosis', 'secondary_diagnosis', 'additional_diagnosis']].count(axis=1)"
   ]
  },
  {
   "cell_type": "code",
   "execution_count": 56,
   "id": "0bc279fb",
   "metadata": {},
   "outputs": [],
   "source": [
    "test['diagnosis_count'] = test[['primary_diagnosis', 'secondary_diagnosis', 'additional_diagnosis']].count(axis=1)"
   ]
  },
  {
   "cell_type": "markdown",
   "id": "3d50b642",
   "metadata": {},
   "source": [
    "Creating a new variable called `diabetes_type` that sees if the patient has 'Type II Diabetes' or 'Type I Diabetes', or 'Unknown' according to the medication prescribed."
   ]
  },
  {
   "cell_type": "code",
   "execution_count": 57,
   "id": "ba75c1f5",
   "metadata": {},
   "outputs": [
    {
     "name": "stdout",
     "output_type": "stream",
     "text": [
      "Number of unique medications: 271\n"
     ]
    }
   ],
   "source": [
    "unique_medication = train_engineering['medication'].nunique()\n",
    "\n",
    "print(\"Number of unique medications:\", unique_medication)"
   ]
  },
  {
   "cell_type": "code",
   "execution_count": 58,
   "id": "e715d7a8",
   "metadata": {},
   "outputs": [
    {
     "name": "stdout",
     "output_type": "stream",
     "text": [
      "insulin                    26159\n",
      "No medication              11106\n",
      "metformin                   9742\n",
      "glipizide                   6188\n",
      "glyburide                   5268\n",
      "pioglitazone                3542\n",
      "rosiglitazone               3120\n",
      "glimepiride                 2510\n",
      "repaglinide                  748\n",
      "glyburide-metformin          331\n",
      "nateglinide                  326\n",
      "acarbose                     146\n",
      "chlorpropamide                33\n",
      "tolazamide                    22\n",
      "miglitol                      19\n",
      "tolbutamide                   11\n",
      "glipizide-metformin            5\n",
      "troglitazone                   2\n",
      "acetohexamide                  1\n",
      "metformin-rosiglitazone        1\n",
      "metformin-pioglitazone         1\n",
      "dtype: int64\n",
      "Number of unique medications: 21\n"
     ]
    }
   ],
   "source": [
    "# Splitting medications into individual words and creating a list of all medications\n",
    "all_medications = train_engineering['medication'].str.replace(\"[\\[\\]']\", \"\").str.split(\", \")\n",
    "\n",
    "# Creating a flat list of all medications\n",
    "all_medications_flat = [med for sublist in all_medications for med in sublist]\n",
    "\n",
    "# Counting unique medications\n",
    "unique_medications_count = pd.Series(all_medications_flat).value_counts()\n",
    "\n",
    "print(unique_medications_count)\n",
    "print(\"Number of unique medications:\", len(unique_medications_count))"
   ]
  },
  {
   "cell_type": "code",
   "execution_count": 59,
   "id": "5aefab16",
   "metadata": {},
   "outputs": [],
   "source": [
    "# Function to categorize diabetes type\n",
    "def categorize_diabetes(row):\n",
    "    if row['medication'] == \"['insulin']\":\n",
    "        return 'Type I Diabetes'\n",
    "    elif row['medication'] == 'No medication':\n",
    "        return 'Unknown'\n",
    "    else:\n",
    "        return 'Type II Diabetes'\n",
    "\n",
    "# Apply function to create the new variable 'diabetes_type'\n",
    "train_engineering['diabetes_type'] = train_engineering.apply(categorize_diabetes, axis=1)\n",
    "val['diabetes_type'] = val.apply(categorize_diabetes, axis=1)\n",
    "test['diabetes_type'] = test.apply(categorize_diabetes, axis=1)"
   ]
  },
  {
   "cell_type": "markdown",
   "id": "b8f814c6",
   "metadata": {},
   "source": [
    "Creating a new variable called `total_procedures` that sums all the procedures done, either lab or not."
   ]
  },
  {
   "cell_type": "code",
   "execution_count": 60,
   "id": "8d4e3965",
   "metadata": {},
   "outputs": [],
   "source": [
    "train_engineering['total_procedures'] = train_engineering['number_lab_tests'] + train_engineering['non_lab_procedures']"
   ]
  },
  {
   "cell_type": "code",
   "execution_count": 61,
   "id": "2888410a",
   "metadata": {},
   "outputs": [],
   "source": [
    "val['total_procedures'] = val['number_lab_tests'] + val['non_lab_procedures']"
   ]
  },
  {
   "cell_type": "code",
   "execution_count": 62,
   "id": "e50e1308",
   "metadata": {},
   "outputs": [],
   "source": [
    "test['total_procedures'] = test['number_lab_tests'] + test['non_lab_procedures']"
   ]
  },
  {
   "cell_type": "markdown",
   "id": "dcde8ade",
   "metadata": {},
   "source": [
    "Creating a new variable called `total_visits` that sums all types of visits made in the year before the encounter."
   ]
  },
  {
   "cell_type": "code",
   "execution_count": 63,
   "id": "90acb840",
   "metadata": {},
   "outputs": [],
   "source": [
    "train_engineering['total_visits'] = train_engineering['outpatient_visits_in_previous_year']+train_engineering['emergency_visits_in_previous_year']+train_engineering['inpatient_visits_in_previous_year']"
   ]
  },
  {
   "cell_type": "code",
   "execution_count": 64,
   "id": "e3efd4ed",
   "metadata": {},
   "outputs": [],
   "source": [
    "val['total_visits'] = val['outpatient_visits_in_previous_year']+val['emergency_visits_in_previous_year']+val['inpatient_visits_in_previous_year']"
   ]
  },
  {
   "cell_type": "code",
   "execution_count": 65,
   "id": "0a45e484",
   "metadata": {},
   "outputs": [],
   "source": [
    "test['total_visits'] = test['outpatient_visits_in_previous_year']+test['emergency_visits_in_previous_year']+test['inpatient_visits_in_previous_year']"
   ]
  },
  {
   "cell_type": "markdown",
   "id": "32ffa644",
   "metadata": {},
   "source": [
    "Creating a new variable called `age_group` that groups ages into certain categories."
   ]
  },
  {
   "cell_type": "code",
   "execution_count": 66,
   "id": "bf7900bf",
   "metadata": {},
   "outputs": [
    {
     "data": {
      "text/plain": [
       "2436"
      ]
     },
     "execution_count": 66,
     "metadata": {},
     "output_type": "execute_result"
    }
   ],
   "source": [
    "train_engineering['age'].isna().sum()"
   ]
  },
  {
   "cell_type": "code",
   "execution_count": 67,
   "id": "f4d80a47",
   "metadata": {
    "scrolled": true
   },
   "outputs": [],
   "source": [
    "conditions = [\n",
    "    train_engineering['age'].isna(),\n",
    "    (train_engineering['age'] == '[0-10)'),\n",
    "    (train_engineering['age'] == '[10-20)'),\n",
    "    (train_engineering['age'] == '[20-30)'),\n",
    "    (train_engineering['age'] == '[30-40)') | (train_engineering['age'] == '[40-50)') | (train_engineering['age'] == '[50-60)'),\n",
    "    (train_engineering['age'] == '[60-70)') | (train_engineering['age'] == '[70-80)') | (train_engineering['age'] == '[80-90)') | (train_engineering['age'] == '[90-100)')\n",
    "]\n",
    "\n",
    "groups = ['missing', 'Child', 'Teen', 'Young Adult', 'Adult', 'Elderly']\n",
    "\n",
    "train_engineering['age_group'] = np.select(conditions, groups)"
   ]
  },
  {
   "cell_type": "code",
   "execution_count": 68,
   "id": "5785d677",
   "metadata": {},
   "outputs": [],
   "source": [
    "train_engineering['age_group'] = train_engineering['age_group'].replace('missing', np.nan)"
   ]
  },
  {
   "cell_type": "code",
   "execution_count": 69,
   "id": "036fc14d",
   "metadata": {},
   "outputs": [],
   "source": [
    "conditions = [\n",
    "    val['age'].isna(),\n",
    "    (val['age'] == '[0-10)'),\n",
    "    (val['age'] == '[10-20)'),\n",
    "    (val['age'] == '[20-30)'),\n",
    "    (val['age'] == '[30-40)') | (val['age'] == '[40-50)') | (val['age'] == '[50-60)'),\n",
    "    (val['age'] == '[60-70)') | (val['age'] == '[70-80)') | (val['age'] == '[80-90)') | (val['age'] == '[90-100)')\n",
    "]\n",
    "\n",
    "groups = ['missing', 'Child', 'Teen', 'Young Adult', 'Adult', 'Elderly']\n",
    "\n",
    "val['age_group'] = np.select(conditions, groups)"
   ]
  },
  {
   "cell_type": "code",
   "execution_count": 70,
   "id": "42b8549e",
   "metadata": {},
   "outputs": [],
   "source": [
    "val['age_group'] = val['age_group'].replace('missing', np.nan)"
   ]
  },
  {
   "cell_type": "code",
   "execution_count": 71,
   "id": "1c2f5eec",
   "metadata": {},
   "outputs": [],
   "source": [
    "conditions = [\n",
    "    test['age'].isna(),\n",
    "    (test['age'] == '[0-10)'),\n",
    "    (test['age'] == '[10-20)'),\n",
    "    (test['age'] == '[20-30)'),\n",
    "    (test['age'] == '[30-40)') | (test['age'] == '[40-50)') | (test['age'] == '[50-60)'),\n",
    "    (test['age'] == '[60-70)') | (test['age'] == '[70-80)') | (test['age'] == '[80-90)') | (test['age'] == '[90-100)'),\n",
    "    (test['age'].isnull())\n",
    "]\n",
    "\n",
    "groups = ['missing', 'Child', 'Teen', 'Young Adult', 'Adult', 'Elderly', np.nan]\n",
    "\n",
    "test['age_group'] = np.select(conditions, groups, default=np.nan)"
   ]
  },
  {
   "cell_type": "code",
   "execution_count": 72,
   "id": "0dce6d0f",
   "metadata": {},
   "outputs": [],
   "source": [
    "test['age_group'] = test['age_group'].replace('missing', np.nan)"
   ]
  },
  {
   "cell_type": "markdown",
   "id": "60da7e86",
   "metadata": {},
   "source": [
    "Creating a new variable called `encounter_count` that counts all the encounter made by the same patient."
   ]
  },
  {
   "cell_type": "code",
   "execution_count": 73,
   "id": "64eebe73",
   "metadata": {},
   "outputs": [],
   "source": [
    "train_engineering.reset_index(inplace=True)\n",
    "encounter_count_per_patient = train_engineering.groupby('patient_id').size().reset_index(name='encounter_count')\n",
    "train_engineering = train_engineering.merge(encounter_count_per_patient, on='patient_id', how='left')\n",
    "train_engineering.set_index('encounter_id', inplace=True)"
   ]
  },
  {
   "cell_type": "code",
   "execution_count": 74,
   "id": "c733c00b",
   "metadata": {},
   "outputs": [],
   "source": [
    "val.reset_index(inplace=True)\n",
    "encounter_count_per_patient = val.groupby('patient_id').size().reset_index(name='encounter_count')\n",
    "val = val.merge(encounter_count_per_patient, on='patient_id', how='left')\n",
    "val.set_index('encounter_id', inplace=True)"
   ]
  },
  {
   "cell_type": "code",
   "execution_count": 75,
   "id": "35ff6035",
   "metadata": {},
   "outputs": [],
   "source": [
    "test.reset_index(inplace=True)\n",
    "encounter_count_per_patient = test.groupby('patient_id').size().reset_index(name='encounter_count')\n",
    "test = test.merge(encounter_count_per_patient, on='patient_id', how='left')\n",
    "test.set_index('encounter_id', inplace=True)"
   ]
  },
  {
   "cell_type": "markdown",
   "id": "4e71323b",
   "metadata": {},
   "source": [
    "Creating a new variable called `avg_length_of_stay` that does the average of the lenght of stay of each patient."
   ]
  },
  {
   "cell_type": "code",
   "execution_count": 76,
   "id": "43987018",
   "metadata": {},
   "outputs": [],
   "source": [
    "train_engineering['avg_length_of_stay'] = train_engineering.groupby('patient_id')['length_of_stay_in_hospital'].transform('mean')\n",
    "val['avg_length_of_stay'] = val.groupby('patient_id')['length_of_stay_in_hospital'].transform('mean')\n",
    "test['avg_length_of_stay'] = test.groupby('patient_id')['length_of_stay_in_hospital'].transform('mean')"
   ]
  },
  {
   "cell_type": "markdown",
   "id": "f431f4db",
   "metadata": {},
   "source": [
    "Creating a new variable called `total_visits_pp` that calculates all visits done by that patient."
   ]
  },
  {
   "cell_type": "code",
   "execution_count": 77,
   "id": "0dad0dd6",
   "metadata": {},
   "outputs": [],
   "source": [
    "train_engineering['total_visits_pp'] = train_engineering.groupby('patient_id')['total_visits'].transform('sum')\n",
    "val['total_visits_pp'] = val.groupby('patient_id')['total_visits'].transform('sum')\n",
    "test['total_visits_pp'] = test.groupby('patient_id')['total_visits'].transform('sum')"
   ]
  },
  {
   "cell_type": "markdown",
   "id": "9dabe951",
   "metadata": {},
   "source": [
    "We no longer need the variable `patient_id` so lets drop it."
   ]
  },
  {
   "cell_type": "code",
   "execution_count": 78,
   "id": "fdac0b56",
   "metadata": {},
   "outputs": [],
   "source": [
    "train_engineering.drop(columns=['patient_id'], inplace=True)\n",
    "val.drop(columns=['patient_id'], inplace=True)\n",
    "test.drop(columns=['patient_id'], inplace=True)"
   ]
  },
  {
   "cell_type": "markdown",
   "id": "28aa133e",
   "metadata": {},
   "source": [
    "**Grouping categories of certain variables**"
   ]
  },
  {
   "cell_type": "code",
   "execution_count": 79,
   "id": "ef6b5c2d",
   "metadata": {},
   "outputs": [
    {
     "name": "stdout",
     "output_type": "stream",
     "text": [
      "Frequency count for column 'race':\n",
      "Caucasian          34834\n",
      "AfricanAmerican     8627\n",
      "Hispanic             982\n",
      "Other                699\n",
      "Asian                291\n",
      "Name: race, dtype: int64\n",
      "\n",
      "\n",
      "Frequency count for column 'gender':\n",
      "1.0    26267\n",
      "0.0    22610\n",
      "Name: gender, dtype: int64\n",
      "\n",
      "\n",
      "Frequency count for column 'age':\n",
      "[70-80)     11857\n",
      "[60-70)     10222\n",
      "[50-60)      7902\n",
      "[80-90)      7810\n",
      "[40-50)      4468\n",
      "[30-40)      1768\n",
      "[90-100)     1271\n",
      "[20-30)       740\n",
      "[10-20)       331\n",
      "[0-10)         75\n",
      "Name: age, dtype: int64\n",
      "\n",
      "\n",
      "Frequency count for column 'payer_code':\n",
      "Not Insured    19367\n",
      "MC             15534\n",
      "HM              2945\n",
      "SP              2422\n",
      "BC              2274\n",
      "MD              1685\n",
      "CP              1234\n",
      "UN              1163\n",
      "CM               938\n",
      "OG               508\n",
      "PO               306\n",
      "DM               257\n",
      "CH                73\n",
      "WC                66\n",
      "SI                37\n",
      "MP                35\n",
      "OT                35\n",
      "FR                 1\n",
      "Name: payer_code, dtype: int64\n",
      "\n",
      "\n",
      "Frequency count for column 'admission_type':\n",
      "Emergency        25865\n",
      "Elective          9131\n",
      "Urgent            8878\n",
      "Not Available     4994\n",
      "Trauma Center        9\n",
      "Newborn              3\n",
      "Name: admission_type, dtype: int64\n",
      "\n",
      "\n",
      "Frequency count for column 'medical_specialty':\n",
      "Unknown                            24000\n",
      "InternalMedicine                    6998\n",
      "Emergency/Trauma                    3668\n",
      "Family/GeneralPractice              3620\n",
      "Cardiology                          2538\n",
      "                                   ...  \n",
      "Neurophysiology                        1\n",
      "Pediatrics-InfectiousDiseases          1\n",
      "Proctology                             1\n",
      "SportsMedicine                         1\n",
      "Pediatrics-AllergyandImmunology        1\n",
      "Name: medical_specialty, Length: 67, dtype: int64\n",
      "\n",
      "\n",
      "Frequency count for column 'discharge_disposition':\n",
      "Discharged to home                                                                                           29480\n",
      "Discharged/transferred to SNF                                                                                 6846\n",
      "Discharged/transferred to home with home health service                                                       6233\n",
      "Discharged/transferred to another short term hospital                                                         1040\n",
      "Discharged/transferred to another rehab fac including rehab units of a hospital .                              972\n",
      "Discharged/transferred to another type of inpatient care institution                                           589\n",
      "Not Available                                                                                                  459\n",
      "Discharged/transferred to ICF                                                                                  415\n",
      "Left AMA                                                                                                       304\n",
      "Hospice / medical facility                                                                                     189\n",
      "Discharged/transferred to a long term care hospital.                                                           187\n",
      "Hospice / home                                                                                                 162\n",
      "Discharged/transferred/referred to a psychiatric hospital of psychiatric distinct part unit of a hospital       63\n",
      "Discharged/transferred to home under care of Home IV provider                                                   60\n",
      "Discharged/transferred within this institution to Medicare approved swing bed                                   30\n",
      "Discharged/transferred to a nursing facility certified under Medicaid but not certified under Medicare.         24\n",
      "Admitted as an inpatient to this hospital                                                                       10\n",
      "Discharged/transferred/referred to this institution for outpatient services                                      7\n",
      "Discharged/transferred/referred another institution for outpatient services                                      5\n",
      "Discharged/transferred to a federal health care facility.                                                        1\n",
      "Still patient or expected to return for outpatient services                                                      1\n",
      "Name: discharge_disposition, dtype: int64\n",
      "\n",
      "\n",
      "Frequency count for column 'admission_source':\n",
      "Emergency Room                                               27674\n",
      "Physician Referral                                           14181\n",
      "Not Available                                                 3359\n",
      "Transfer from a hospital                                      1527\n",
      "Transfer from another health care facility                    1081\n",
      "Clinic Referral                                                544\n",
      "Transfer from a Skilled Nursing Facility (SNF)                 407\n",
      "HMO Referral                                                    88\n",
      "Court/Law Enforcement                                            8\n",
      "Transfer from hospital inpt/same fac reslt in a sep claim        5\n",
      "Transfer from critial access hospital                            4\n",
      "Extramural Birth                                                 1\n",
      "Transfer from Ambulatory Surgery Center                          1\n",
      "Name: admission_source, dtype: int64\n",
      "\n",
      "\n",
      "Frequency count for column 'primary_diagnosis':\n",
      "428    3269\n",
      "414    3179\n",
      "786    1972\n",
      "486    1711\n",
      "410    1690\n",
      "       ... \n",
      "314       1\n",
      "397       1\n",
      "709       1\n",
      "474       1\n",
      "615       1\n",
      "Name: primary_diagnosis, Length: 651, dtype: int64\n",
      "\n",
      "\n",
      "Frequency count for column 'secondary_diagnosis':\n",
      "276    3279\n",
      "250    3142\n",
      "428    3119\n",
      "427    2315\n",
      "401    1917\n",
      "       ... \n",
      "477       1\n",
      "188       1\n",
      "353       1\n",
      "377       1\n",
      "702       1\n",
      "Name: secondary_diagnosis, Length: 658, dtype: int64\n",
      "\n",
      "\n",
      "Frequency count for column 'additional_diagnosis':\n",
      "250              5469\n",
      "401              3929\n",
      "Not Available    3312\n",
      "276              1994\n",
      "428              1950\n",
      "                 ... \n",
      "75                  1\n",
      "837                 1\n",
      "191                 1\n",
      "215                 1\n",
      "17                  1\n",
      "Name: additional_diagnosis, Length: 702, dtype: int64\n",
      "\n",
      "\n",
      "Frequency count for column 'glucose_test_result':\n",
      "Not Available    46339\n",
      "Norm              1272\n",
      ">200               724\n",
      ">300               545\n",
      "Name: glucose_test_result, dtype: int64\n",
      "\n",
      "\n",
      "Frequency count for column 'a1c_test_result':\n",
      "Not Available    40599\n",
      ">8                3991\n",
      "Norm              2414\n",
      ">7                1876\n",
      "Name: a1c_test_result, dtype: int64\n",
      "\n",
      "\n",
      "Frequency count for column 'change_in_meds_during_hospitalization':\n",
      "0    26096\n",
      "1    22784\n",
      "Name: change_in_meds_during_hospitalization, dtype: int64\n",
      "\n",
      "\n",
      "Frequency count for column 'prescribed_diabetes_meds':\n",
      "1    37774\n",
      "0    11106\n",
      "Name: prescribed_diabetes_meds, dtype: int64\n",
      "\n",
      "\n",
      "Frequency count for column 'medication':\n",
      "['insulin']                                                          14730\n",
      "No medication                                                        11106\n",
      "['metformin']                                                         2154\n",
      "['metformin', 'insulin']                                              2141\n",
      "['glipizide']                                                         1894\n",
      "                                                                     ...  \n",
      "['repaglinide', 'glimepiride', 'rosiglitazone']                          1\n",
      "['glimepiride', 'glyburide', 'rosiglitazone', 'insulin']                 1\n",
      "['chlorpropamide', 'glyburide']                                          1\n",
      "['glimepiride', 'glyburide', 'pioglitazone']                             1\n",
      "['repaglinide', 'pioglitazone', 'insulin', 'glyburide-metformin']        1\n",
      "Name: medication, Length: 271, dtype: int64\n",
      "\n",
      "\n"
     ]
    }
   ],
   "source": [
    "for column_name in non_metric_features:\n",
    "    frequency_count = train_engineering[column_name].value_counts()\n",
    "    print(f\"Frequency count for column '{column_name}':\")\n",
    "    print(frequency_count)\n",
    "    print(\"\\n\")"
   ]
  },
  {
   "cell_type": "markdown",
   "id": "5891c2a9",
   "metadata": {},
   "source": [
    "Grouping categories in `primary_diagnosis`, `secondary_diagnosis` and `additional_diagnosis`."
   ]
  },
  {
   "cell_type": "code",
   "execution_count": 80,
   "id": "b8d923ae",
   "metadata": {},
   "outputs": [],
   "source": [
    "def group_diagnosis(code):\n",
    "    if pd.isnull(code):  # Check if the value is NaN (missing)\n",
    "        return np.nan\n",
    "    elif isinstance(code, str) and (code.isdigit() or code.replace('.', '', 1).isdigit()):\n",
    "        code = float(code)\n",
    "        if 1 <= code <= 139:\n",
    "            return '1-139'\n",
    "        elif 140 <= code <= 239:\n",
    "            return '140-239'\n",
    "        elif 240 <= code <= 279:\n",
    "            return '240-279'\n",
    "        elif 280 <= code <= 289:\n",
    "            return '280-289'\n",
    "        elif 290 <= code <= 319:\n",
    "            return '290-319'\n",
    "        elif 320 <= code <= 389:\n",
    "            return '320-389'\n",
    "        elif 390 <= code <= 459:\n",
    "            return '390-459'\n",
    "        elif 460 <= code <= 519:\n",
    "            return '460-519'\n",
    "        elif 520 <= code <= 579:\n",
    "            return '520-579'\n",
    "        elif 580 <= code <= 629:\n",
    "            return '580-629'\n",
    "        elif 630 <= code <= 679:\n",
    "            return '630-679'\n",
    "        elif 680 <= code <= 709:\n",
    "            return '680-709'\n",
    "        elif 710 <= code <= 739:\n",
    "            return '710-739'\n",
    "        elif 740 <= code <= 759:\n",
    "            return '740-759'\n",
    "        elif 760 <= code <= 779:\n",
    "            return '760-779'\n",
    "        elif 780 <= code <= 799:\n",
    "            return '780-799'\n",
    "        elif 800 <= code <= 999:  \n",
    "            return '800-999'\n",
    "    elif isinstance(code, str) and (code.startswith('E') or code.startswith('V')):\n",
    "        return 'E and V'   \n",
    "    return 'Not Available'\n",
    "\n",
    "# Apply the function to create new columns in the DataFrame with the grouped code ranges\n",
    "train_engineering['diag1_type'] = train_engineering['primary_diagnosis'].apply(group_diagnosis)\n",
    "train_engineering['diag2_type'] = train_engineering['secondary_diagnosis'].apply(group_diagnosis)\n",
    "train_engineering['diag_add_type'] = train_engineering['additional_diagnosis'].apply(group_diagnosis)\n",
    "\n",
    "val['diag1_type'] = val['primary_diagnosis'].apply(group_diagnosis)\n",
    "val['diag2_type'] = val['secondary_diagnosis'].apply(group_diagnosis)\n",
    "val['diag_add_type'] = val['additional_diagnosis'].apply(group_diagnosis)\n",
    "\n",
    "test['diag1_type'] = test['primary_diagnosis'].apply(group_diagnosis)\n",
    "test['diag2_type'] = test['secondary_diagnosis'].apply(group_diagnosis)\n",
    "test['diag_add_type'] = test['additional_diagnosis'].apply(group_diagnosis)"
   ]
  },
  {
   "cell_type": "markdown",
   "id": "8fbe8e2f",
   "metadata": {},
   "source": [
    "Dropping variables not needed anymore."
   ]
  },
  {
   "cell_type": "code",
   "execution_count": 81,
   "id": "7981e847",
   "metadata": {},
   "outputs": [],
   "source": [
    "train_engineering.drop('primary_diagnosis', axis=1, inplace=True)\n",
    "train_engineering.drop('secondary_diagnosis', axis=1, inplace=True)\n",
    "train_engineering.drop('additional_diagnosis', axis=1, inplace=True)\n",
    "\n",
    "val.drop('primary_diagnosis', axis=1, inplace=True)\n",
    "val.drop('secondary_diagnosis', axis=1, inplace=True)\n",
    "val.drop('additional_diagnosis', axis=1, inplace=True)\n",
    "\n",
    "test.drop('primary_diagnosis', axis=1, inplace=True)\n",
    "test.drop('secondary_diagnosis', axis=1, inplace=True)\n",
    "test.drop('additional_diagnosis', axis=1, inplace=True)"
   ]
  },
  {
   "cell_type": "markdown",
   "id": "c68463d5",
   "metadata": {},
   "source": [
    "Grouping categories in `medical_specialty`."
   ]
  },
  {
   "cell_type": "code",
   "execution_count": 82,
   "id": "52b77ee4",
   "metadata": {},
   "outputs": [
    {
     "data": {
      "text/plain": [
       "array(['Unknown', 'InternalMedicine', 'Emergency/Trauma',\n",
       "       'Surgery-General', 'Cardiology', 'Pulmonology',\n",
       "       'Family/GeneralPractice', 'Oncology', 'Radiologist',\n",
       "       'Orthopedics-Reconstructive', 'ObstetricsandGynecology',\n",
       "       'Orthopedics', 'Pediatrics-CriticalCare', 'Nephrology',\n",
       "       'Gynecology', 'Pediatrics-Endocrinology', 'Gastroenterology',\n",
       "       'Neurology', 'Hematology/Oncology', 'Psychiatry', 'Endocrinology',\n",
       "       'Hospitalist', 'Urology', 'Surgery-Vascular', 'Pediatrics',\n",
       "       'Psychology', 'Surgery-Cardiovascular',\n",
       "       'PhysicalMedicineandRehabilitation', 'Surgery-Neuro',\n",
       "       'Surgery-Cardiovascular/Thoracic', 'Surgery-Thoracic',\n",
       "       'SurgicalSpecialty', 'Otolaryngology', 'Pathology',\n",
       "       'Obsterics&Gynecology-GynecologicOnco', 'Obstetrics',\n",
       "       'OutreachServices', 'Podiatry', 'Surgery-Maxillofacial',\n",
       "       'Dentistry', 'InfectiousDiseases', 'Surgery-Plastic', 'Osteopath',\n",
       "       'Radiology', 'Surgery-Colon&Rectal', 'Surgeon', 'Hematology',\n",
       "       'Surgery-Pediatric', 'Anesthesiology-Pediatric',\n",
       "       'Cardiology-Pediatric', 'Rheumatology', 'PhysicianNotFound',\n",
       "       'Pediatrics-Pulmonology', 'Pediatrics-Neurology', 'Ophthalmology',\n",
       "       'Anesthesiology', 'Endocrinology-Metabolism',\n",
       "       'Pediatrics-InfectiousDiseases', 'DCPTEAM',\n",
       "       'Pediatrics-Hematology-Oncology', 'Psychiatry-Child/Adolescent',\n",
       "       'AllergyandImmunology', 'SportsMedicine', 'Proctology', 'Resident',\n",
       "       'Neurophysiology', 'Pediatrics-AllergyandImmunology'], dtype=object)"
      ]
     },
     "execution_count": 82,
     "metadata": {},
     "output_type": "execute_result"
    }
   ],
   "source": [
    "train_engineering['medical_specialty'].unique()"
   ]
  },
  {
   "cell_type": "code",
   "execution_count": 83,
   "id": "f9c50c2d",
   "metadata": {},
   "outputs": [],
   "source": [
    "group_mapping = {\n",
    "    \n",
    "    'GeneralSurgery': [\n",
    "        'Surgeon', 'Surgery-Cardiovascular', 'Surgery-Cardiovascular/Thoracic',\n",
    "        'Surgery-Colon&Rectal', 'Surgery-General', 'Surgery-Maxillofacial',\n",
    "        'Surgery-Neuro', 'Surgery-Pediatric',\n",
    "        'Surgery-Plastic', 'Surgery-Thoracic', 'Surgery-Vascular', 'SurgicalSpecialty'\n",
    "    ],\n",
    "    \n",
    "    'InternalMedicine': [\n",
    "        'Cardiology', 'DCPTEAM', 'Endocrinology', 'Endocrinology-Metabolism',\n",
    "        'Gastroenterology', 'Hematology', 'Hematology/Oncology', 'Hospitalist',\n",
    "        'InfectiousDiseases', 'InternalMedicine', 'Nephrology',\n",
    "        'Oncology', 'Proctology', 'Pulmonology', 'Rheumatology', 'SportsMedicine',\n",
    "        'Urology'\n",
    "    ],\n",
    "    \n",
    "    'Obstetrics&Gynecology': ['Gynecology', 'Obsterics&Gynecology-GynecologicOnco', 'Obstetrics', \n",
    "'ObstetricsandGynecology'],\n",
    "    \n",
    "    'Pediatrics': ['Cardiology-Pediatric', 'Pediatrics', 'Pediatrics-AllergyandImmunology', 'Pediatrics-CriticalCare', \n",
    "                   'Pediatrics-EmergencyMedicine', 'Pediatrics-Endocrinology', 'Pediatrics-Hematology-Oncology', \n",
    "                   'Pediatrics-InfectiousDiseases', 'Pediatrics-Neurology', 'Pediatrics-Pulmonology',\n",
    "                  'Psychiatry-Child/Adolescent'\n",
    "                   \n",
    "],\n",
    "    \n",
    "    'Anesthesiology': ['Anesthesiology', 'Anesthesiology-Pediatric'],\n",
    "    \n",
    "    'Diagnostic Radiology': ['Radiologist', 'Radiology'],\n",
    "    \n",
    "    'Orthopaedic Surgery': ['Orthopedics', 'Orthopedics-Reconstructive'],\n",
    "    \n",
    "    'Other': ['Dentistry', 'Podiatry', 'Psychology', 'Resident', 'Speech', 'OutreachServices',],\n",
    "    \n",
    "    'Physical Medicine and Rehabilitation': ['PhysicalMedicineandRehabilitation', 'PhysicianNotFound']\n",
    "}\n",
    "\n",
    "\n",
    "def map_specialty(spec):\n",
    "    for group, specialties in group_mapping.items():\n",
    "        if spec in specialties:\n",
    "            return group\n",
    "    return spec  \n",
    "\n",
    "train_engineering['medical_specialty'] = train_engineering['medical_specialty'].apply(map_specialty)\n",
    "val['medical_specialty'] = val['medical_specialty'].apply(map_specialty)"
   ]
  },
  {
   "cell_type": "code",
   "execution_count": 84,
   "id": "09ceb8b4",
   "metadata": {},
   "outputs": [],
   "source": [
    "test['medical_specialty'] = test['medical_specialty'].apply(map_specialty)"
   ]
  },
  {
   "cell_type": "code",
   "execution_count": 85,
   "id": "7fb508bf",
   "metadata": {
    "scrolled": true
   },
   "outputs": [
    {
     "data": {
      "text/html": [
       "<div>\n",
       "<style scoped>\n",
       "    .dataframe tbody tr th:only-of-type {\n",
       "        vertical-align: middle;\n",
       "    }\n",
       "\n",
       "    .dataframe tbody tr th {\n",
       "        vertical-align: top;\n",
       "    }\n",
       "\n",
       "    .dataframe thead th {\n",
       "        text-align: right;\n",
       "    }\n",
       "</style>\n",
       "<table border=\"1\" class=\"dataframe\">\n",
       "  <thead>\n",
       "    <tr style=\"text-align: right;\">\n",
       "      <th></th>\n",
       "      <th>race</th>\n",
       "      <th>gender</th>\n",
       "      <th>age</th>\n",
       "      <th>payer_code</th>\n",
       "      <th>outpatient_visits_in_previous_year</th>\n",
       "      <th>emergency_visits_in_previous_year</th>\n",
       "      <th>inpatient_visits_in_previous_year</th>\n",
       "      <th>admission_type</th>\n",
       "      <th>medical_specialty</th>\n",
       "      <th>average_pulse_bpm</th>\n",
       "      <th>...</th>\n",
       "      <th>diabetes_type</th>\n",
       "      <th>total_procedures</th>\n",
       "      <th>total_visits</th>\n",
       "      <th>age_group</th>\n",
       "      <th>encounter_count</th>\n",
       "      <th>avg_length_of_stay</th>\n",
       "      <th>total_visits_pp</th>\n",
       "      <th>diag1_type</th>\n",
       "      <th>diag2_type</th>\n",
       "      <th>diag_add_type</th>\n",
       "    </tr>\n",
       "    <tr>\n",
       "      <th>encounter_id</th>\n",
       "      <th></th>\n",
       "      <th></th>\n",
       "      <th></th>\n",
       "      <th></th>\n",
       "      <th></th>\n",
       "      <th></th>\n",
       "      <th></th>\n",
       "      <th></th>\n",
       "      <th></th>\n",
       "      <th></th>\n",
       "      <th></th>\n",
       "      <th></th>\n",
       "      <th></th>\n",
       "      <th></th>\n",
       "      <th></th>\n",
       "      <th></th>\n",
       "      <th></th>\n",
       "      <th></th>\n",
       "      <th></th>\n",
       "      <th></th>\n",
       "      <th></th>\n",
       "    </tr>\n",
       "  </thead>\n",
       "  <tbody>\n",
       "    <tr>\n",
       "      <th>402022</th>\n",
       "      <td>Other</td>\n",
       "      <td>0.0</td>\n",
       "      <td>[60-70)</td>\n",
       "      <td>Not Insured</td>\n",
       "      <td>0</td>\n",
       "      <td>0</td>\n",
       "      <td>0</td>\n",
       "      <td>Emergency</td>\n",
       "      <td>Unknown</td>\n",
       "      <td>108</td>\n",
       "      <td>...</td>\n",
       "      <td>Type II Diabetes</td>\n",
       "      <td>43</td>\n",
       "      <td>0</td>\n",
       "      <td>Elderly</td>\n",
       "      <td>1</td>\n",
       "      <td>4.000000</td>\n",
       "      <td>0</td>\n",
       "      <td>800-999</td>\n",
       "      <td>240-279</td>\n",
       "      <td>680-709</td>\n",
       "    </tr>\n",
       "    <tr>\n",
       "      <th>598943</th>\n",
       "      <td>Caucasian</td>\n",
       "      <td>1.0</td>\n",
       "      <td>[70-80)</td>\n",
       "      <td>Not Insured</td>\n",
       "      <td>1</td>\n",
       "      <td>0</td>\n",
       "      <td>8</td>\n",
       "      <td>Urgent</td>\n",
       "      <td>InternalMedicine</td>\n",
       "      <td>88</td>\n",
       "      <td>...</td>\n",
       "      <td>Type I Diabetes</td>\n",
       "      <td>58</td>\n",
       "      <td>9</td>\n",
       "      <td>Elderly</td>\n",
       "      <td>12</td>\n",
       "      <td>5.333333</td>\n",
       "      <td>68</td>\n",
       "      <td>800-999</td>\n",
       "      <td>680-709</td>\n",
       "      <td>520-579</td>\n",
       "    </tr>\n",
       "    <tr>\n",
       "      <th>428330</th>\n",
       "      <td>Caucasian</td>\n",
       "      <td>0.0</td>\n",
       "      <td>[70-80)</td>\n",
       "      <td>MC</td>\n",
       "      <td>0</td>\n",
       "      <td>0</td>\n",
       "      <td>0</td>\n",
       "      <td>Emergency</td>\n",
       "      <td>Unknown</td>\n",
       "      <td>123</td>\n",
       "      <td>...</td>\n",
       "      <td>Type I Diabetes</td>\n",
       "      <td>37</td>\n",
       "      <td>0</td>\n",
       "      <td>Elderly</td>\n",
       "      <td>1</td>\n",
       "      <td>1.000000</td>\n",
       "      <td>0</td>\n",
       "      <td>1-139</td>\n",
       "      <td>580-629</td>\n",
       "      <td>520-579</td>\n",
       "    </tr>\n",
       "    <tr>\n",
       "      <th>191745</th>\n",
       "      <td>Caucasian</td>\n",
       "      <td>1.0</td>\n",
       "      <td>[70-80)</td>\n",
       "      <td>MC</td>\n",
       "      <td>0</td>\n",
       "      <td>0</td>\n",
       "      <td>0</td>\n",
       "      <td>Emergency</td>\n",
       "      <td>Unknown</td>\n",
       "      <td>135</td>\n",
       "      <td>...</td>\n",
       "      <td>Type II Diabetes</td>\n",
       "      <td>37</td>\n",
       "      <td>0</td>\n",
       "      <td>Elderly</td>\n",
       "      <td>1</td>\n",
       "      <td>1.000000</td>\n",
       "      <td>0</td>\n",
       "      <td>390-459</td>\n",
       "      <td>240-279</td>\n",
       "      <td>240-279</td>\n",
       "    </tr>\n",
       "    <tr>\n",
       "      <th>114215</th>\n",
       "      <td>AfricanAmerican</td>\n",
       "      <td>0.0</td>\n",
       "      <td>[80-90)</td>\n",
       "      <td>SP</td>\n",
       "      <td>0</td>\n",
       "      <td>0</td>\n",
       "      <td>2</td>\n",
       "      <td>Elective</td>\n",
       "      <td>Emergency/Trauma</td>\n",
       "      <td>137</td>\n",
       "      <td>...</td>\n",
       "      <td>Type I Diabetes</td>\n",
       "      <td>28</td>\n",
       "      <td>2</td>\n",
       "      <td>Elderly</td>\n",
       "      <td>2</td>\n",
       "      <td>5.000000</td>\n",
       "      <td>3</td>\n",
       "      <td>320-389</td>\n",
       "      <td>390-459</td>\n",
       "      <td>240-279</td>\n",
       "    </tr>\n",
       "  </tbody>\n",
       "</table>\n",
       "<p>5 rows × 36 columns</p>\n",
       "</div>"
      ],
      "text/plain": [
       "                         race  gender      age   payer_code  \\\n",
       "encounter_id                                                  \n",
       "402022                  Other     0.0  [60-70)  Not Insured   \n",
       "598943              Caucasian     1.0  [70-80)  Not Insured   \n",
       "428330              Caucasian     0.0  [70-80)           MC   \n",
       "191745              Caucasian     1.0  [70-80)           MC   \n",
       "114215        AfricanAmerican     0.0  [80-90)           SP   \n",
       "\n",
       "              outpatient_visits_in_previous_year  \\\n",
       "encounter_id                                       \n",
       "402022                                         0   \n",
       "598943                                         1   \n",
       "428330                                         0   \n",
       "191745                                         0   \n",
       "114215                                         0   \n",
       "\n",
       "              emergency_visits_in_previous_year  \\\n",
       "encounter_id                                      \n",
       "402022                                        0   \n",
       "598943                                        0   \n",
       "428330                                        0   \n",
       "191745                                        0   \n",
       "114215                                        0   \n",
       "\n",
       "              inpatient_visits_in_previous_year admission_type  \\\n",
       "encounter_id                                                     \n",
       "402022                                        0      Emergency   \n",
       "598943                                        8         Urgent   \n",
       "428330                                        0      Emergency   \n",
       "191745                                        0      Emergency   \n",
       "114215                                        2       Elective   \n",
       "\n",
       "             medical_specialty  average_pulse_bpm  ...     diabetes_type  \\\n",
       "encounter_id                                       ...                     \n",
       "402022                 Unknown                108  ...  Type II Diabetes   \n",
       "598943        InternalMedicine                 88  ...   Type I Diabetes   \n",
       "428330                 Unknown                123  ...   Type I Diabetes   \n",
       "191745                 Unknown                135  ...  Type II Diabetes   \n",
       "114215        Emergency/Trauma                137  ...   Type I Diabetes   \n",
       "\n",
       "             total_procedures  total_visits  age_group  encounter_count  \\\n",
       "encounter_id                                                              \n",
       "402022                     43             0    Elderly                1   \n",
       "598943                     58             9    Elderly               12   \n",
       "428330                     37             0    Elderly                1   \n",
       "191745                     37             0    Elderly                1   \n",
       "114215                     28             2    Elderly                2   \n",
       "\n",
       "              avg_length_of_stay  total_visits_pp diag1_type diag2_type  \\\n",
       "encounter_id                                                              \n",
       "402022                  4.000000                0    800-999    240-279   \n",
       "598943                  5.333333               68    800-999    680-709   \n",
       "428330                  1.000000                0      1-139    580-629   \n",
       "191745                  1.000000                0    390-459    240-279   \n",
       "114215                  5.000000                3    320-389    390-459   \n",
       "\n",
       "              diag_add_type  \n",
       "encounter_id                 \n",
       "402022              680-709  \n",
       "598943              520-579  \n",
       "428330              520-579  \n",
       "191745              240-279  \n",
       "114215              240-279  \n",
       "\n",
       "[5 rows x 36 columns]"
      ]
     },
     "execution_count": 85,
     "metadata": {},
     "output_type": "execute_result"
    }
   ],
   "source": [
    "train_engineering.head()"
   ]
  },
  {
   "cell_type": "markdown",
   "id": "70a0dd1d",
   "metadata": {},
   "source": [
    "<a class=\"anchor\" id=\"ren\"></a>\n",
    "\n",
    "## <span style=\"color:black\">5.3. Renaming variables</span>"
   ]
  },
  {
   "cell_type": "code",
   "execution_count": 86,
   "id": "340dfc40",
   "metadata": {},
   "outputs": [],
   "source": [
    "train_engineering = train_engineering.rename(\n",
    "    columns={\n",
    "        'encounter_ID': 'ID',\n",
    "        'outpatient_visits_in_previous_year': 'outpatient',\n",
    "        'emergency_visits_in_previous_year': 'emergency',\n",
    "        'inpatient_visits_in_previous_year': 'inpatient',\n",
    "        'average_pulse_bpm': 'avg_bpm',\n",
    "        'length_of_stay_in_hospital': 'stay_length',\n",
    "        'change_in_meds_during_hospitalization': 'meds_change',\n",
    "        'a1c_test_result':'a1c',\n",
    "        'glucose_test_result':'glucose'\n",
    "        \n",
    "    })\n",
    "\n",
    "val = val.rename(\n",
    "    columns={\n",
    "        'encounter_ID': 'ID',\n",
    "        'outpatient_visits_in_previous_year': 'outpatient',\n",
    "        'emergency_visits_in_previous_year': 'emergency',\n",
    "        'inpatient_visits_in_previous_year': 'inpatient',\n",
    "        'average_pulse_bpm': 'avg_bpm',\n",
    "        'length_of_stay_in_hospital': 'stay_length',\n",
    "        'change_in_meds_during_hospitalization': 'meds_change',\n",
    "        'a1c_test_result':'a1c',\n",
    "        'glucose_test_result':'glucose'\n",
    "        \n",
    "    })\n",
    "\n",
    "test = test.rename(\n",
    "    columns={\n",
    "        'encounter_ID': 'ID',\n",
    "        'outpatient_visits_in_previous_year': 'outpatient',\n",
    "        'emergency_visits_in_previous_year': 'emergency',\n",
    "        'inpatient_visits_in_previous_year': 'inpatient',\n",
    "        'average_pulse_bpm': 'avg_bpm',\n",
    "        'length_of_stay_in_hospital': 'stay_length',\n",
    "        'change_in_meds_during_hospitalization': 'meds_change',\n",
    "        'a1c_test_result':'a1c',\n",
    "        'glucose_test_result':'glucose'\n",
    "        \n",
    "    })"
   ]
  },
  {
   "cell_type": "markdown",
   "id": "76248f39",
   "metadata": {},
   "source": [
    "Updating non_metric and metric features."
   ]
  },
  {
   "cell_type": "code",
   "execution_count": 87,
   "id": "2121c440",
   "metadata": {},
   "outputs": [],
   "source": [
    "non_metric_features[non_metric_features.index('glucose_test_result')] = 'glucose'\n",
    "non_metric_features[non_metric_features.index('a1c_test_result')] = 'a1c'\n",
    "non_metric_features[non_metric_features.index('change_in_meds_during_hospitalization')] = 'meds_change'\n",
    "metric_features[metric_features.index('outpatient_visits_in_previous_year')] = 'outpatient'\n",
    "metric_features[metric_features.index('inpatient_visits_in_previous_year')] = 'inpatient'\n",
    "metric_features[metric_features.index('emergency_visits_in_previous_year')] = 'emergency'\n",
    "metric_features[metric_features.index('average_pulse_bpm')] = 'avg_bpm'\n",
    "metric_features[metric_features.index('length_of_stay_in_hospital')] = 'stay_length'"
   ]
  },
  {
   "cell_type": "code",
   "execution_count": 88,
   "id": "9914d192",
   "metadata": {},
   "outputs": [],
   "source": [
    "new_metric_columns = ['total_procedures', 'total_visits', 'avg_length_of_stay', 'total_visits_pp'\n",
    "                      , 'encounter_count', 'diagnosis_count']\n",
    "\n",
    "metric_features.extend(new_metric_columns)"
   ]
  },
  {
   "cell_type": "code",
   "execution_count": 89,
   "id": "3be41b16",
   "metadata": {},
   "outputs": [],
   "source": [
    "columns_in_train_engineering = train_engineering.columns.tolist()\n",
    "\n",
    "non_metric_features = [\n",
    "    column for column in columns_in_train_engineering\n",
    "    if column not in metric_features\n",
    "]"
   ]
  },
  {
   "cell_type": "code",
   "execution_count": 90,
   "id": "5759b5c9",
   "metadata": {},
   "outputs": [],
   "source": [
    "non_metric_features.remove('readmitted_multiclass')"
   ]
  },
  {
   "cell_type": "code",
   "execution_count": 91,
   "id": "58214364",
   "metadata": {},
   "outputs": [
    {
     "data": {
      "text/plain": [
       "encounter_id\n",
       "402022          No\n",
       "598943    <30 days\n",
       "428330    >30 days\n",
       "191745          No\n",
       "114215    >30 days\n",
       "            ...   \n",
       "408006    >30 days\n",
       "999439    >30 days\n",
       "313324          No\n",
       "569530          No\n",
       "453160    >30 days\n",
       "Name: readmitted_multiclass, Length: 48880, dtype: object"
      ]
     },
     "execution_count": 91,
     "metadata": {},
     "output_type": "execute_result"
    }
   ],
   "source": [
    "train_engineering['readmitted_multiclass']"
   ]
  },
  {
   "cell_type": "markdown",
   "id": "30102ed8",
   "metadata": {},
   "source": [
    "<hr style=\"border: 1px solid black;\">\n",
    "<a class=\"anchor\" id=\"vis\"></a>\n",
    "\n",
    "# <span style=\"color:black\">6. Visualizations</span>"
   ]
  },
  {
   "cell_type": "code",
   "execution_count": 92,
   "id": "3f8c9de4",
   "metadata": {},
   "outputs": [],
   "source": [
    "train_copy = train_engineering.copy()"
   ]
  },
  {
   "cell_type": "code",
   "execution_count": 93,
   "id": "7aaa7407",
   "metadata": {},
   "outputs": [
    {
     "data": {
      "image/png": "[encoded data removed]",
      "text/plain": [
       "<Figure size 576x432 with 1 Axes>"
      ]
     },
     "metadata": {},
     "output_type": "display_data"
    }
   ],
   "source": [
    "train_copy['gender'] = train_copy['gender'].replace({0: 'Female', 1: 'Male'})\n",
    "\n",
    "plt.figure(figsize=(8, 6))\n",
    "sns.countplot(x='gender', hue='readmitted_multiclass', data=train_copy)\n",
    "plt.title('Bar Plot of Readmission by Gender')\n",
    "plt.xlabel('Gender')\n",
    "plt.ylabel('Count')\n",
    "plt.legend(title='Readmitted', loc='upper right')\n",
    "plt.show()"
   ]
  },
  {
   "cell_type": "code",
   "execution_count": 94,
   "id": "cb5fabfc",
   "metadata": {},
   "outputs": [
    {
     "data": {
      "image/png": "[encoded data removed]",
      "text/plain": [
       "<Figure size 720x432 with 1 Axes>"
      ]
     },
     "metadata": {},
     "output_type": "display_data"
    }
   ],
   "source": [
    "diagnosis_types = train_engineering[['diag1_type', 'diag2_type', 'diag_add_type']]\n",
    "diagnosis_types = diagnosis_types.melt(var_name='Diagnosis Type')\n",
    "\n",
    "plt.figure(figsize=(10, 6))\n",
    "sns.countplot(data=diagnosis_types, x='value', hue='Diagnosis Type')\n",
    "plt.title('Distribution of Diagnosis Types')\n",
    "plt.xlabel('Diagnosis Type')\n",
    "plt.ylabel('Count')\n",
    "plt.legend(title='Diagnosis Type')\n",
    "plt.xticks(rotation=45)  \n",
    "plt.tight_layout()\n",
    "plt.show()"
   ]
  },
  {
   "cell_type": "code",
   "execution_count": 95,
   "id": "ccdcbc21",
   "metadata": {},
   "outputs": [
    {
     "data": {
      "image/png": "[encoded data removed]",
      "text/plain": [
       "<Figure size 432x288 with 1 Axes>"
      ]
     },
     "metadata": {},
     "output_type": "display_data"
    }
   ],
   "source": [
    "sns.boxplot(x='age_group', y='stay_length', data=train_engineering)\n",
    "plt.title('Relationship between Age Group and Stay Length')\n",
    "plt.xlabel('Age Group')\n",
    "plt.ylabel('Stay Length')\n",
    "plt.show()"
   ]
  },
  {
   "cell_type": "code",
   "execution_count": 96,
   "id": "d2b5657f",
   "metadata": {
    "scrolled": true
   },
   "outputs": [
    {
     "data": {
      "image/png": "[encoded data removed]",
      "text/plain": [
       "<Figure size 720x360 with 1 Axes>"
      ]
     },
     "metadata": {},
     "output_type": "display_data"
    }
   ],
   "source": [
    "plt.figure(figsize=(10, 5))\n",
    "\n",
    "plt.subplot(1, 2, 2)\n",
    "sns.violinplot(x='gender', y='number_of_medications', data=train_engineering)\n",
    "plt.title('Violin Plot - gender vs number_of_medications')\n",
    "\n",
    "plt.tight_layout()\n",
    "plt.show()"
   ]
  },
  {
   "cell_type": "markdown",
   "id": "a6caa4f0",
   "metadata": {},
   "source": [
    "<hr style=\"border: 1px solid black;\">\n",
    "<a class=\"anchor\" id=\"split2\"></a>\n",
    "\n",
    "# <span style=\"color:black\">7. Split Data into X_train and y_train || X_val and y_val</span>"
   ]
  },
  {
   "cell_type": "code",
   "execution_count": 97,
   "id": "6645699b",
   "metadata": {},
   "outputs": [],
   "source": [
    "X_train=train_engineering.drop(columns=['readmitted_multiclass'],axis=1)\n",
    "y_train=train_engineering['readmitted_multiclass']"
   ]
  },
  {
   "cell_type": "code",
   "execution_count": 98,
   "id": "5fb21721",
   "metadata": {},
   "outputs": [],
   "source": [
    "X_val=val.drop(columns=['readmitted_multiclass'],axis=1)\n",
    "y_val=val['readmitted_multiclass']"
   ]
  },
  {
   "cell_type": "markdown",
   "id": "4cdef208",
   "metadata": {},
   "source": [
    "<hr style=\"border: 1px solid black;\">\n",
    "<a class=\"anchor\" id=\"enc\"></a>\n",
    "\n",
    "# <span style=\"color:black\">8. Encoding </span>"
   ]
  },
  {
   "cell_type": "markdown",
   "id": "a066c0f3",
   "metadata": {},
   "source": [
    "<a class=\"anchor\" id=\"label\"></a>\n",
    "\n",
    "## <span style=\"color:black\">8.1. Label Encoding </span>"
   ]
  },
  {
   "cell_type": "code",
   "execution_count": 100,
   "id": "aa43f7a5",
   "metadata": {},
   "outputs": [],
   "source": [
    "label_mapping = {'<30 days': 1, '>30 days': 2, 'No': 0}\n",
    "y_train = y_train.map(label_mapping)\n",
    "y_val = y_val.map(label_mapping)"
   ]
  },
  {
   "cell_type": "markdown",
   "id": "53c56d94",
   "metadata": {},
   "source": [
    "<a class=\"anchor\" id=\"ord\"></a>\n",
    "\n",
    "## <span style=\"color:black\">8.2. Ordinal Encoding </span>"
   ]
  },
  {
   "cell_type": "code",
   "execution_count": 101,
   "id": "61998f0e",
   "metadata": {},
   "outputs": [],
   "source": [
    "columns_to_encode = ['age_group', 'a1c', 'glucose', 'age']"
   ]
  },
  {
   "cell_type": "code",
   "execution_count": 102,
   "id": "a910ab0c",
   "metadata": {},
   "outputs": [],
   "source": [
    "a1c_categories = ['Not Available', 'Norm', '>7', '>8']\n",
    "glucose_categories = ['Not Available', 'Norm', '>200', '>300']\n",
    "Age_categories = ['Child', 'Teen', 'Young Adult', 'Adult', 'Elderly']\n",
    "\n",
    "# Mask missing values in 'AgeGroup'\n",
    "mask_train_age = X_train['age_group'].notnull()\n",
    "mask_val_age = X_val['age_group'].notnull()\n",
    "mask_test_age = test['age_group'].notnull()\n",
    "\n",
    "encoder_a1c = OrdinalEncoder(categories=[a1c_categories])\n",
    "encoder_glucose = OrdinalEncoder(categories=[glucose_categories])\n",
    "encoder_age = OrdinalEncoder(categories=[Age_categories])\n",
    "\n",
    "# Encode 'a1c' and 'glucose' columns\n",
    "X_train['a1c'] = encoder_a1c.fit_transform(X_train[['a1c']])\n",
    "X_train['glucose'] = encoder_glucose.fit_transform(X_train[['glucose']])\n",
    "\n",
    "X_val['a1c'] = encoder_a1c.transform(X_val[['a1c']])\n",
    "X_val['glucose'] = encoder_glucose.transform(X_val[['glucose']])\n",
    "\n",
    "test['a1c'] = encoder_a1c.transform(test[['a1c']])\n",
    "test['glucose'] = encoder_glucose.transform(test[['glucose']])\n",
    "\n",
    "# Encode 'AgeGroup' while maintaining missing values\n",
    "X_train.loc[mask_train_age, 'age_group'] = encoder_age.fit_transform(X_train.loc[mask_train_age, ['age_group']])\n",
    "X_val.loc[mask_val_age, 'age_group'] = encoder_age.transform(X_val.loc[mask_val_age, ['age_group']])\n",
    "test.loc[mask_test_age, 'age_group'] = encoder_age.transform(test.loc[mask_test_age, ['age_group']])"
   ]
  },
  {
   "cell_type": "code",
   "execution_count": 103,
   "id": "a7bc8153",
   "metadata": {},
   "outputs": [],
   "source": [
    "age_cat = ['[50-60)', '[60-70)', '[70-80)', '[80-90)', '[30-40)',\n",
    "       '[40-50)', '[90-100)', '[10-20)', '[20-30)', '[0-10)']\n",
    "\n",
    "mask_train_age1 = X_train['age'].notnull()\n",
    "mask_val_age1 = X_val['age'].notnull()\n",
    "mask_test_age1 = test['age'].notnull()\n",
    "\n",
    "encoder_age = OrdinalEncoder(categories=[age_cat])\n",
    "\n",
    "X_train.loc[mask_train_age1, 'age'] = encoder_age.fit_transform(X_train.loc[mask_train_age1, ['age']])\n",
    "X_val.loc[mask_val_age1, 'age'] = encoder_age.transform(X_val.loc[mask_val_age1, ['age']])\n",
    "test.loc[mask_test_age1, 'age'] = encoder_age.transform(test.loc[mask_test_age1, ['age']])"
   ]
  },
  {
   "cell_type": "markdown",
   "id": "12be8abe",
   "metadata": {},
   "source": [
    "<a class=\"anchor\" id=\"ord\"></a>\n",
    "\n",
    "## <span style=\"color:black\">8.3. OneHot Encoder </span>"
   ]
  },
  {
   "cell_type": "code",
   "execution_count": 104,
   "id": "19f3e53f",
   "metadata": {},
   "outputs": [],
   "source": [
    "# X_trainONEHOT = X_train.copy()\n",
    "# X_valONEHOT = X_val.copy()\n",
    "# testONEHOT=test.copy()"
   ]
  },
  {
   "cell_type": "code",
   "execution_count": 105,
   "id": "39c30fb6",
   "metadata": {},
   "outputs": [],
   "source": [
    "# non_metric_features"
   ]
  },
  {
   "cell_type": "code",
   "execution_count": 106,
   "id": "b99bed5c",
   "metadata": {},
   "outputs": [],
   "source": [
    "# ohc = OneHotEncoder(sparse=False, drop=\"first\", handle_unknown='ignore')\n",
    "# ohc_feat = ohc.fit_transform(np.array(X_trainONEHOT[columns_to_encode_ONEHOT]))\n",
    "# ohc_feat_names = ohc.get_feature_names_out()\n",
    "# ohc_df = pd.DataFrame(ohc_feat, index=X_trainONEHOT.index, columns=ohc_feat_names)  \n",
    "# ohc_df"
   ]
  },
  {
   "cell_type": "code",
   "execution_count": 107,
   "id": "2bef7b11",
   "metadata": {},
   "outputs": [],
   "source": [
    "# X_trainONEHOT = pd.concat([X_trainONEHOT.drop(columns= columns_to_encode_ONEHOT), ohc_df], axis=1)\n",
    "# X_trainONEHOT.head()"
   ]
  },
  {
   "cell_type": "code",
   "execution_count": 108,
   "id": "00213de6",
   "metadata": {},
   "outputs": [],
   "source": [
    "# ohc_feat_VAL = ohc.transform(np.array(X_valONEHOT[columns_to_encode_ONEHOT]))\n",
    "# ohc_feat_names_val = ohc.get_feature_names_out()\n",
    "# ohc_df_val = pd.DataFrame(ohc_feat_VAL, index=X_valONEHOT.index, columns=ohc_feat_names_val)  "
   ]
  },
  {
   "cell_type": "code",
   "execution_count": 109,
   "id": "9d34a6b6",
   "metadata": {},
   "outputs": [],
   "source": [
    "# X_valONEHOT = pd.concat([X_valONEHOT.drop(columns= columns_to_encode_ONEHOT), ohc_df_val], axis=1)"
   ]
  },
  {
   "cell_type": "code",
   "execution_count": 110,
   "id": "ed038ac8",
   "metadata": {},
   "outputs": [],
   "source": [
    "# ohc_feat_TEST = ohc.transform(np.array(testONEHOT[columns_to_encode_ONEHOT]))\n",
    "# ohc_feat_names = ohc.get_feature_names_out()\n",
    "# ohc_df_test = pd.DataFrame(ohc_feat_TEST, index=testONEHOT.index, columns=ohc_feat_names)  "
   ]
  },
  {
   "cell_type": "code",
   "execution_count": 111,
   "id": "31f5af47",
   "metadata": {},
   "outputs": [],
   "source": [
    "# testONEHOT = pd.concat([testONEHOT.drop(columns= columns_to_encode_ONEHOT), ohc_df_test], axis=1)"
   ]
  },
  {
   "cell_type": "code",
   "execution_count": 112,
   "id": "a8da3ecd",
   "metadata": {},
   "outputs": [],
   "source": [
    "# X_train = X_trainONEHOT.copy()\n",
    "# X_val = X_valONEHOT.copy()\n",
    "# test = testONEHOT.copy()"
   ]
  },
  {
   "cell_type": "markdown",
   "id": "69fe43f6",
   "metadata": {},
   "source": [
    "<a class=\"anchor\" id=\"target\"></a>\n",
    "\n",
    "## <span style=\"color:black\">8.4. Target Encoding</span>"
   ]
  },
  {
   "cell_type": "code",
   "execution_count": 113,
   "id": "c95107ea",
   "metadata": {},
   "outputs": [],
   "source": [
    "columns_to_encode = ['race', 'admission_type', 'medical_specialty', 'discharge_disposition', 'admission_source',\n",
    "                     'glucose', 'a1c','medication', 'diag1_type', 'diag2_type', 'diag_add_type', 'payer_code', 'diabetes_type']"
   ]
  },
  {
   "cell_type": "code",
   "execution_count": 114,
   "id": "e6715670",
   "metadata": {},
   "outputs": [],
   "source": [
    "X_trainTARGET=X_train.copy()\n",
    "X_valTARGET=X_val.copy()\n",
    "testTARGET=test.copy()"
   ]
  },
  {
   "cell_type": "code",
   "execution_count": 115,
   "id": "bd43933b",
   "metadata": {},
   "outputs": [],
   "source": [
    "# Create a mask for missing values\n",
    "missing_mask_train = X_trainTARGET[columns_to_encode].isnull()\n",
    "missing_mask_val = X_valTARGET[columns_to_encode].isnull()\n",
    "missing_mask_test = testTARGET[columns_to_encode].isnull()\n",
    "\n",
    "# Apply TargetEncoder to non-missing values\n",
    "encoder = ce.TargetEncoder(cols=columns_to_encode, smoothing=0.5)\n",
    "X_trainTARGET_encoded = encoder.fit_transform(X_trainTARGET[columns_to_encode], y_train)\n",
    "X_valTARGET_encoded = encoder.transform(X_valTARGET[columns_to_encode])\n",
    "testTARGET_encoded = encoder.transform(testTARGET[columns_to_encode])\n",
    "\n",
    "# Combine encoded values with missing values\n",
    "X_trainTARGET[columns_to_encode] = np.where(missing_mask_train, np.nan, X_trainTARGET_encoded)\n",
    "X_valTARGET[columns_to_encode] = np.where(missing_mask_val, np.nan, X_valTARGET_encoded)\n",
    "testTARGET[columns_to_encode] = np.where(missing_mask_test, np.nan, testTARGET_encoded)"
   ]
  },
  {
   "cell_type": "code",
   "execution_count": 116,
   "id": "d9ee88da",
   "metadata": {},
   "outputs": [],
   "source": [
    "X_train = X_trainTARGET.copy()\n",
    "X_val = X_valTARGET.copy()\n",
    "test = testTARGET.copy()"
   ]
  },
  {
   "cell_type": "markdown",
   "id": "d4522991",
   "metadata": {},
   "source": [
    "<hr style=\"border: 1px solid black;\">\n",
    "<a class=\"anchor\" id=\"scal\"></a>\n",
    "\n",
    "# <span style=\"color:black\"> Data Scaling </span>"
   ]
  },
  {
   "cell_type": "code",
   "execution_count": 117,
   "id": "c8206797",
   "metadata": {},
   "outputs": [],
   "source": [
    "columns_to_exclude = ['caucasian', 'gender', 'meds_change', 'prescribed_diabetes_meds','insurance']\n",
    "columns_to_scale = [col for col in X_train.columns if col not in columns_to_exclude]"
   ]
  },
  {
   "cell_type": "code",
   "execution_count": 118,
   "id": "d0af2d7f",
   "metadata": {},
   "outputs": [],
   "source": [
    "X_train_scale = X_train[columns_to_scale].set_index(X_train.index)\n",
    "X_val_scale = X_val[columns_to_scale].set_index(X_val.index)\n",
    "test_scale = test[columns_to_scale].set_index(test.index)"
   ]
  },
  {
   "cell_type": "markdown",
   "id": "97e15604",
   "metadata": {},
   "source": [
    "<a class=\"anchor\" id=\"minmax\"></a>\n",
    "\n",
    "## <span style=\"color:black\">9.1. MinMax Scaler </span>"
   ]
  },
  {
   "cell_type": "code",
   "execution_count": 119,
   "id": "cc11d9d6",
   "metadata": {},
   "outputs": [],
   "source": [
    "#call function\n",
    "scaler = MinMaxScaler()\n",
    "\n",
    "#fit to training data\n",
    "scaler.fit(X_train_scale)\n",
    "\n",
    "#transform the data\n",
    "X_train_minmax = scaler.transform(X_train_scale) # this will return an array\n",
    "\n",
    "# Convert the array to a pandas dataframe\n",
    "X_train_minmax = pd.DataFrame(X_train_minmax, columns = X_train_scale.columns).set_index(X_train.index)\n",
    "X_train_minmax\n",
    "\n",
    "X_val_minmax = scaler.transform(X_val_scale)\n",
    "X_val_minmax = pd.DataFrame(X_val_minmax, columns = X_val_scale.columns).set_index(X_val.index)\n",
    "\n",
    "test_minmax = scaler.transform(test_scale)\n",
    "test_minmax = pd.DataFrame(test_minmax, columns = test_scale.columns).set_index(test.index)\n",
    "\n",
    "X_train[columns_to_scale] = X_train_minmax\n",
    "X_val[columns_to_scale] = X_val_minmax\n",
    "test[columns_to_scale] = test_minmax"
   ]
  },
  {
   "cell_type": "code",
   "execution_count": 120,
   "id": "6a6f3061",
   "metadata": {},
   "outputs": [
    {
     "data": {
      "text/html": [
       "<div>\n",
       "<style scoped>\n",
       "    .dataframe tbody tr th:only-of-type {\n",
       "        vertical-align: middle;\n",
       "    }\n",
       "\n",
       "    .dataframe tbody tr th {\n",
       "        vertical-align: top;\n",
       "    }\n",
       "\n",
       "    .dataframe thead th {\n",
       "        text-align: right;\n",
       "    }\n",
       "</style>\n",
       "<table border=\"1\" class=\"dataframe\">\n",
       "  <thead>\n",
       "    <tr style=\"text-align: right;\">\n",
       "      <th></th>\n",
       "      <th>count</th>\n",
       "      <th>mean</th>\n",
       "      <th>std</th>\n",
       "      <th>min</th>\n",
       "      <th>25%</th>\n",
       "      <th>50%</th>\n",
       "      <th>75%</th>\n",
       "      <th>max</th>\n",
       "    </tr>\n",
       "  </thead>\n",
       "  <tbody>\n",
       "    <tr>\n",
       "      <th>race</th>\n",
       "      <td>45433.0</td>\n",
       "      <td>0.940462</td>\n",
       "      <td>0.162657</td>\n",
       "      <td>0.0</td>\n",
       "      <td>1.000000</td>\n",
       "      <td>1.000000</td>\n",
       "      <td>1.000000</td>\n",
       "      <td>1.0</td>\n",
       "    </tr>\n",
       "    <tr>\n",
       "      <th>gender</th>\n",
       "      <td>48877.0</td>\n",
       "      <td>0.537410</td>\n",
       "      <td>0.498604</td>\n",
       "      <td>0.0</td>\n",
       "      <td>0.000000</td>\n",
       "      <td>1.000000</td>\n",
       "      <td>1.000000</td>\n",
       "      <td>1.0</td>\n",
       "    </tr>\n",
       "    <tr>\n",
       "      <th>age</th>\n",
       "      <td>46444.0</td>\n",
       "      <td>0.247170</td>\n",
       "      <td>0.202006</td>\n",
       "      <td>0.0</td>\n",
       "      <td>0.111111</td>\n",
       "      <td>0.222222</td>\n",
       "      <td>0.333333</td>\n",
       "      <td>1.0</td>\n",
       "    </tr>\n",
       "    <tr>\n",
       "      <th>payer_code</th>\n",
       "      <td>48880.0</td>\n",
       "      <td>0.592130</td>\n",
       "      <td>0.086090</td>\n",
       "      <td>0.0</td>\n",
       "      <td>0.580811</td>\n",
       "      <td>0.580811</td>\n",
       "      <td>0.662195</td>\n",
       "      <td>1.0</td>\n",
       "    </tr>\n",
       "    <tr>\n",
       "      <th>outpatient</th>\n",
       "      <td>48880.0</td>\n",
       "      <td>0.019046</td>\n",
       "      <td>0.060232</td>\n",
       "      <td>0.0</td>\n",
       "      <td>0.000000</td>\n",
       "      <td>0.000000</td>\n",
       "      <td>0.000000</td>\n",
       "      <td>1.0</td>\n",
       "    </tr>\n",
       "    <tr>\n",
       "      <th>emergency</th>\n",
       "      <td>48880.0</td>\n",
       "      <td>0.010333</td>\n",
       "      <td>0.039920</td>\n",
       "      <td>0.0</td>\n",
       "      <td>0.000000</td>\n",
       "      <td>0.000000</td>\n",
       "      <td>0.000000</td>\n",
       "      <td>1.0</td>\n",
       "    </tr>\n",
       "    <tr>\n",
       "      <th>inpatient</th>\n",
       "      <td>48880.0</td>\n",
       "      <td>0.068899</td>\n",
       "      <td>0.130760</td>\n",
       "      <td>0.0</td>\n",
       "      <td>0.000000</td>\n",
       "      <td>0.000000</td>\n",
       "      <td>0.111111</td>\n",
       "      <td>1.0</td>\n",
       "    </tr>\n",
       "    <tr>\n",
       "      <th>admission_type</th>\n",
       "      <td>48880.0</td>\n",
       "      <td>0.611577</td>\n",
       "      <td>0.313693</td>\n",
       "      <td>0.0</td>\n",
       "      <td>0.569147</td>\n",
       "      <td>0.767046</td>\n",
       "      <td>0.767046</td>\n",
       "      <td>1.0</td>\n",
       "    </tr>\n",
       "    <tr>\n",
       "      <th>medical_specialty</th>\n",
       "      <td>48880.0</td>\n",
       "      <td>0.774146</td>\n",
       "      <td>0.144524</td>\n",
       "      <td>0.0</td>\n",
       "      <td>0.718575</td>\n",
       "      <td>0.836856</td>\n",
       "      <td>0.836856</td>\n",
       "      <td>1.0</td>\n",
       "    </tr>\n",
       "    <tr>\n",
       "      <th>avg_bpm</th>\n",
       "      <td>48880.0</td>\n",
       "      <td>0.500897</td>\n",
       "      <td>0.291470</td>\n",
       "      <td>0.0</td>\n",
       "      <td>0.253165</td>\n",
       "      <td>0.506329</td>\n",
       "      <td>0.746835</td>\n",
       "      <td>1.0</td>\n",
       "    </tr>\n",
       "    <tr>\n",
       "      <th>discharge_disposition</th>\n",
       "      <td>47077.0</td>\n",
       "      <td>0.859187</td>\n",
       "      <td>0.088618</td>\n",
       "      <td>0.0</td>\n",
       "      <td>0.837224</td>\n",
       "      <td>0.837224</td>\n",
       "      <td>0.888413</td>\n",
       "      <td>1.0</td>\n",
       "    </tr>\n",
       "    <tr>\n",
       "      <th>admission_source</th>\n",
       "      <td>48880.0</td>\n",
       "      <td>0.842765</td>\n",
       "      <td>0.232633</td>\n",
       "      <td>0.0</td>\n",
       "      <td>0.680616</td>\n",
       "      <td>1.000000</td>\n",
       "      <td>1.000000</td>\n",
       "      <td>1.0</td>\n",
       "    </tr>\n",
       "    <tr>\n",
       "      <th>stay_length</th>\n",
       "      <td>48880.0</td>\n",
       "      <td>0.260185</td>\n",
       "      <td>0.228191</td>\n",
       "      <td>0.0</td>\n",
       "      <td>0.076923</td>\n",
       "      <td>0.230769</td>\n",
       "      <td>0.384615</td>\n",
       "      <td>1.0</td>\n",
       "    </tr>\n",
       "    <tr>\n",
       "      <th>number_lab_tests</th>\n",
       "      <td>48880.0</td>\n",
       "      <td>0.358601</td>\n",
       "      <td>0.167887</td>\n",
       "      <td>0.0</td>\n",
       "      <td>0.256410</td>\n",
       "      <td>0.367521</td>\n",
       "      <td>0.478632</td>\n",
       "      <td>1.0</td>\n",
       "    </tr>\n",
       "    <tr>\n",
       "      <th>non_lab_procedures</th>\n",
       "      <td>48880.0</td>\n",
       "      <td>0.221294</td>\n",
       "      <td>0.282391</td>\n",
       "      <td>0.0</td>\n",
       "      <td>0.000000</td>\n",
       "      <td>0.166667</td>\n",
       "      <td>0.333333</td>\n",
       "      <td>1.0</td>\n",
       "    </tr>\n",
       "    <tr>\n",
       "      <th>number_of_medications</th>\n",
       "      <td>48880.0</td>\n",
       "      <td>0.257153</td>\n",
       "      <td>0.136448</td>\n",
       "      <td>0.0</td>\n",
       "      <td>0.155172</td>\n",
       "      <td>0.241379</td>\n",
       "      <td>0.327586</td>\n",
       "      <td>1.0</td>\n",
       "    </tr>\n",
       "    <tr>\n",
       "      <th>number_diagnoses</th>\n",
       "      <td>48880.0</td>\n",
       "      <td>0.427160</td>\n",
       "      <td>0.129710</td>\n",
       "      <td>0.0</td>\n",
       "      <td>0.333333</td>\n",
       "      <td>0.466667</td>\n",
       "      <td>0.533333</td>\n",
       "      <td>1.0</td>\n",
       "    </tr>\n",
       "    <tr>\n",
       "      <th>glucose</th>\n",
       "      <td>48880.0</td>\n",
       "      <td>0.124520</td>\n",
       "      <td>0.096423</td>\n",
       "      <td>0.0</td>\n",
       "      <td>0.115528</td>\n",
       "      <td>0.115528</td>\n",
       "      <td>0.115528</td>\n",
       "      <td>1.0</td>\n",
       "    </tr>\n",
       "    <tr>\n",
       "      <th>a1c</th>\n",
       "      <td>48880.0</td>\n",
       "      <td>0.909537</td>\n",
       "      <td>0.247224</td>\n",
       "      <td>0.0</td>\n",
       "      <td>1.000000</td>\n",
       "      <td>1.000000</td>\n",
       "      <td>1.000000</td>\n",
       "      <td>1.0</td>\n",
       "    </tr>\n",
       "    <tr>\n",
       "      <th>meds_change</th>\n",
       "      <td>48880.0</td>\n",
       "      <td>0.466121</td>\n",
       "      <td>0.498856</td>\n",
       "      <td>0.0</td>\n",
       "      <td>0.000000</td>\n",
       "      <td>0.000000</td>\n",
       "      <td>1.000000</td>\n",
       "      <td>1.0</td>\n",
       "    </tr>\n",
       "    <tr>\n",
       "      <th>prescribed_diabetes_meds</th>\n",
       "      <td>48880.0</td>\n",
       "      <td>0.772791</td>\n",
       "      <td>0.419033</td>\n",
       "      <td>0.0</td>\n",
       "      <td>1.000000</td>\n",
       "      <td>1.000000</td>\n",
       "      <td>1.000000</td>\n",
       "      <td>1.0</td>\n",
       "    </tr>\n",
       "    <tr>\n",
       "      <th>medication</th>\n",
       "      <td>48880.0</td>\n",
       "      <td>0.279924</td>\n",
       "      <td>0.097251</td>\n",
       "      <td>0.0</td>\n",
       "      <td>0.163818</td>\n",
       "      <td>0.296408</td>\n",
       "      <td>0.350769</td>\n",
       "      <td>1.0</td>\n",
       "    </tr>\n",
       "    <tr>\n",
       "      <th>insurance</th>\n",
       "      <td>48880.0</td>\n",
       "      <td>0.603785</td>\n",
       "      <td>0.489115</td>\n",
       "      <td>0.0</td>\n",
       "      <td>0.000000</td>\n",
       "      <td>1.000000</td>\n",
       "      <td>1.000000</td>\n",
       "      <td>1.0</td>\n",
       "    </tr>\n",
       "    <tr>\n",
       "      <th>caucasian</th>\n",
       "      <td>48880.0</td>\n",
       "      <td>0.712643</td>\n",
       "      <td>0.452534</td>\n",
       "      <td>0.0</td>\n",
       "      <td>0.000000</td>\n",
       "      <td>1.000000</td>\n",
       "      <td>1.000000</td>\n",
       "      <td>1.0</td>\n",
       "    </tr>\n",
       "    <tr>\n",
       "      <th>diagnosis_count</th>\n",
       "      <td>48880.0</td>\n",
       "      <td>0.999734</td>\n",
       "      <td>0.016306</td>\n",
       "      <td>0.0</td>\n",
       "      <td>1.000000</td>\n",
       "      <td>1.000000</td>\n",
       "      <td>1.000000</td>\n",
       "      <td>1.0</td>\n",
       "    </tr>\n",
       "    <tr>\n",
       "      <th>diabetes_type</th>\n",
       "      <td>48880.0</td>\n",
       "      <td>0.634960</td>\n",
       "      <td>0.366407</td>\n",
       "      <td>0.0</td>\n",
       "      <td>0.707640</td>\n",
       "      <td>0.707640</td>\n",
       "      <td>1.000000</td>\n",
       "      <td>1.0</td>\n",
       "    </tr>\n",
       "    <tr>\n",
       "      <th>total_procedures</th>\n",
       "      <td>48880.0</td>\n",
       "      <td>0.354787</td>\n",
       "      <td>0.162244</td>\n",
       "      <td>0.0</td>\n",
       "      <td>0.262295</td>\n",
       "      <td>0.360656</td>\n",
       "      <td>0.467213</td>\n",
       "      <td>1.0</td>\n",
       "    </tr>\n",
       "    <tr>\n",
       "      <th>total_visits</th>\n",
       "      <td>48880.0</td>\n",
       "      <td>0.046718</td>\n",
       "      <td>0.081675</td>\n",
       "      <td>0.0</td>\n",
       "      <td>0.000000</td>\n",
       "      <td>0.000000</td>\n",
       "      <td>0.080000</td>\n",
       "      <td>1.0</td>\n",
       "    </tr>\n",
       "    <tr>\n",
       "      <th>age_group</th>\n",
       "      <td>46444.0</td>\n",
       "      <td>0.908971</td>\n",
       "      <td>0.142642</td>\n",
       "      <td>0.0</td>\n",
       "      <td>0.750000</td>\n",
       "      <td>1.000000</td>\n",
       "      <td>1.000000</td>\n",
       "      <td>1.0</td>\n",
       "    </tr>\n",
       "    <tr>\n",
       "      <th>encounter_count</th>\n",
       "      <td>48880.0</td>\n",
       "      <td>0.045578</td>\n",
       "      <td>0.091454</td>\n",
       "      <td>0.0</td>\n",
       "      <td>0.000000</td>\n",
       "      <td>0.000000</td>\n",
       "      <td>0.076923</td>\n",
       "      <td>1.0</td>\n",
       "    </tr>\n",
       "    <tr>\n",
       "      <th>avg_length_of_stay</th>\n",
       "      <td>48880.0</td>\n",
       "      <td>0.260185</td>\n",
       "      <td>0.209485</td>\n",
       "      <td>0.0</td>\n",
       "      <td>0.076923</td>\n",
       "      <td>0.230769</td>\n",
       "      <td>0.384615</td>\n",
       "      <td>1.0</td>\n",
       "    </tr>\n",
       "    <tr>\n",
       "      <th>total_visits_pp</th>\n",
       "      <td>48880.0</td>\n",
       "      <td>0.017376</td>\n",
       "      <td>0.048845</td>\n",
       "      <td>0.0</td>\n",
       "      <td>0.000000</td>\n",
       "      <td>0.005848</td>\n",
       "      <td>0.017544</td>\n",
       "      <td>1.0</td>\n",
       "    </tr>\n",
       "    <tr>\n",
       "      <th>diag1_type</th>\n",
       "      <td>48867.0</td>\n",
       "      <td>0.781497</td>\n",
       "      <td>0.145982</td>\n",
       "      <td>0.0</td>\n",
       "      <td>0.746003</td>\n",
       "      <td>0.812784</td>\n",
       "      <td>0.859722</td>\n",
       "      <td>1.0</td>\n",
       "    </tr>\n",
       "    <tr>\n",
       "      <th>diag2_type</th>\n",
       "      <td>48880.0</td>\n",
       "      <td>0.805669</td>\n",
       "      <td>0.091670</td>\n",
       "      <td>0.0</td>\n",
       "      <td>0.757618</td>\n",
       "      <td>0.835055</td>\n",
       "      <td>0.844319</td>\n",
       "      <td>1.0</td>\n",
       "    </tr>\n",
       "    <tr>\n",
       "      <th>diag_add_type</th>\n",
       "      <td>48880.0</td>\n",
       "      <td>0.790322</td>\n",
       "      <td>0.107074</td>\n",
       "      <td>0.0</td>\n",
       "      <td>0.725596</td>\n",
       "      <td>0.764206</td>\n",
       "      <td>0.840386</td>\n",
       "      <td>1.0</td>\n",
       "    </tr>\n",
       "  </tbody>\n",
       "</table>\n",
       "</div>"
      ],
      "text/plain": [
       "                            count      mean       std  min       25%  \\\n",
       "race                      45433.0  0.940462  0.162657  0.0  1.000000   \n",
       "gender                    48877.0  0.537410  0.498604  0.0  0.000000   \n",
       "age                       46444.0  0.247170  0.202006  0.0  0.111111   \n",
       "payer_code                48880.0  0.592130  0.086090  0.0  0.580811   \n",
       "outpatient                48880.0  0.019046  0.060232  0.0  0.000000   \n",
       "emergency                 48880.0  0.010333  0.039920  0.0  0.000000   \n",
       "inpatient                 48880.0  0.068899  0.130760  0.0  0.000000   \n",
       "admission_type            48880.0  0.611577  0.313693  0.0  0.569147   \n",
       "medical_specialty         48880.0  0.774146  0.144524  0.0  0.718575   \n",
       "avg_bpm                   48880.0  0.500897  0.291470  0.0  0.253165   \n",
       "discharge_disposition     47077.0  0.859187  0.088618  0.0  0.837224   \n",
       "admission_source          48880.0  0.842765  0.232633  0.0  0.680616   \n",
       "stay_length               48880.0  0.260185  0.228191  0.0  0.076923   \n",
       "number_lab_tests          48880.0  0.358601  0.167887  0.0  0.256410   \n",
       "non_lab_procedures        48880.0  0.221294  0.282391  0.0  0.000000   \n",
       "number_of_medications     48880.0  0.257153  0.136448  0.0  0.155172   \n",
       "number_diagnoses          48880.0  0.427160  0.129710  0.0  0.333333   \n",
       "glucose                   48880.0  0.124520  0.096423  0.0  0.115528   \n",
       "a1c                       48880.0  0.909537  0.247224  0.0  1.000000   \n",
       "meds_change               48880.0  0.466121  0.498856  0.0  0.000000   \n",
       "prescribed_diabetes_meds  48880.0  0.772791  0.419033  0.0  1.000000   \n",
       "medication                48880.0  0.279924  0.097251  0.0  0.163818   \n",
       "insurance                 48880.0  0.603785  0.489115  0.0  0.000000   \n",
       "caucasian                 48880.0  0.712643  0.452534  0.0  0.000000   \n",
       "diagnosis_count           48880.0  0.999734  0.016306  0.0  1.000000   \n",
       "diabetes_type             48880.0  0.634960  0.366407  0.0  0.707640   \n",
       "total_procedures          48880.0  0.354787  0.162244  0.0  0.262295   \n",
       "total_visits              48880.0  0.046718  0.081675  0.0  0.000000   \n",
       "age_group                 46444.0  0.908971  0.142642  0.0  0.750000   \n",
       "encounter_count           48880.0  0.045578  0.091454  0.0  0.000000   \n",
       "avg_length_of_stay        48880.0  0.260185  0.209485  0.0  0.076923   \n",
       "total_visits_pp           48880.0  0.017376  0.048845  0.0  0.000000   \n",
       "diag1_type                48867.0  0.781497  0.145982  0.0  0.746003   \n",
       "diag2_type                48880.0  0.805669  0.091670  0.0  0.757618   \n",
       "diag_add_type             48880.0  0.790322  0.107074  0.0  0.725596   \n",
       "\n",
       "                               50%       75%  max  \n",
       "race                      1.000000  1.000000  1.0  \n",
       "gender                    1.000000  1.000000  1.0  \n",
       "age                       0.222222  0.333333  1.0  \n",
       "payer_code                0.580811  0.662195  1.0  \n",
       "outpatient                0.000000  0.000000  1.0  \n",
       "emergency                 0.000000  0.000000  1.0  \n",
       "inpatient                 0.000000  0.111111  1.0  \n",
       "admission_type            0.767046  0.767046  1.0  \n",
       "medical_specialty         0.836856  0.836856  1.0  \n",
       "avg_bpm                   0.506329  0.746835  1.0  \n",
       "discharge_disposition     0.837224  0.888413  1.0  \n",
       "admission_source          1.000000  1.000000  1.0  \n",
       "stay_length               0.230769  0.384615  1.0  \n",
       "number_lab_tests          0.367521  0.478632  1.0  \n",
       "non_lab_procedures        0.166667  0.333333  1.0  \n",
       "number_of_medications     0.241379  0.327586  1.0  \n",
       "number_diagnoses          0.466667  0.533333  1.0  \n",
       "glucose                   0.115528  0.115528  1.0  \n",
       "a1c                       1.000000  1.000000  1.0  \n",
       "meds_change               0.000000  1.000000  1.0  \n",
       "prescribed_diabetes_meds  1.000000  1.000000  1.0  \n",
       "medication                0.296408  0.350769  1.0  \n",
       "insurance                 1.000000  1.000000  1.0  \n",
       "caucasian                 1.000000  1.000000  1.0  \n",
       "diagnosis_count           1.000000  1.000000  1.0  \n",
       "diabetes_type             0.707640  1.000000  1.0  \n",
       "total_procedures          0.360656  0.467213  1.0  \n",
       "total_visits              0.000000  0.080000  1.0  \n",
       "age_group                 1.000000  1.000000  1.0  \n",
       "encounter_count           0.000000  0.076923  1.0  \n",
       "avg_length_of_stay        0.230769  0.384615  1.0  \n",
       "total_visits_pp           0.005848  0.017544  1.0  \n",
       "diag1_type                0.812784  0.859722  1.0  \n",
       "diag2_type                0.835055  0.844319  1.0  \n",
       "diag_add_type             0.764206  0.840386  1.0  "
      ]
     },
     "execution_count": 120,
     "metadata": {},
     "output_type": "execute_result"
    }
   ],
   "source": [
    "X_train.describe().T"
   ]
  },
  {
   "cell_type": "markdown",
   "id": "d7374507",
   "metadata": {},
   "source": [
    "<a class=\"anchor\" id=\"std\"></a>\n",
    "\n",
    "## <span style=\"color:black\">9.2. Standard Scaler </span>"
   ]
  },
  {
   "cell_type": "code",
   "execution_count": 121,
   "id": "379c521f",
   "metadata": {},
   "outputs": [],
   "source": [
    "# #call function\n",
    "# scaler = StandardScaler()\n",
    "\n",
    "# #fit to training data\n",
    "# scaler.fit(X_train_scale)\n",
    "\n",
    "# #transform the data\n",
    "# X_train_standard = scaler.transform(X_train_scale) \n",
    "# X_train_standard = pd.DataFrame(X_train_standard, columns = X_train_scale.columns).set_index(X_train.index)\n",
    "\n",
    "# X_val_standard = scaler.transform(X_val_scale)\n",
    "# X_val_standard = pd.DataFrame(X_val_standard, columns = X_val_scale.columns).set_index(X_val.index)"
   ]
  },
  {
   "cell_type": "markdown",
   "id": "84ae44f2",
   "metadata": {},
   "source": [
    "<hr style=\"border: 1px solid black;\">\n",
    "<a class=\"anchor\" id=\"miss\"></a>\n",
    "\n",
    "# <span style=\"color:black\">10. Missing Values </span>"
   ]
  },
  {
   "cell_type": "markdown",
   "id": "0d9a6d5a",
   "metadata": {},
   "source": [
    "<a class=\"anchor\" id=\"knn\"></a>\n",
    "\n",
    "## <span style=\"color:black\">10.1. KNN imputation </span>"
   ]
  },
  {
   "cell_type": "code",
   "execution_count": 122,
   "id": "1d284622",
   "metadata": {},
   "outputs": [
    {
     "data": {
      "text/plain": [
       "race                        7.05\n",
       "gender                      0.01\n",
       "age                         4.98\n",
       "payer_code                  0.00\n",
       "outpatient                  0.00\n",
       "emergency                   0.00\n",
       "inpatient                   0.00\n",
       "admission_type              0.00\n",
       "medical_specialty           0.00\n",
       "avg_bpm                     0.00\n",
       "discharge_disposition       3.69\n",
       "admission_source            0.00\n",
       "stay_length                 0.00\n",
       "number_lab_tests            0.00\n",
       "non_lab_procedures          0.00\n",
       "number_of_medications       0.00\n",
       "number_diagnoses            0.00\n",
       "glucose                     0.00\n",
       "a1c                         0.00\n",
       "meds_change                 0.00\n",
       "prescribed_diabetes_meds    0.00\n",
       "medication                  0.00\n",
       "insurance                   0.00\n",
       "caucasian                   0.00\n",
       "diagnosis_count             0.00\n",
       "diabetes_type               0.00\n",
       "total_procedures            0.00\n",
       "total_visits                0.00\n",
       "age_group                   4.98\n",
       "encounter_count             0.00\n",
       "avg_length_of_stay          0.00\n",
       "total_visits_pp             0.00\n",
       "diag1_type                  0.03\n",
       "diag2_type                  0.00\n",
       "diag_add_type               0.00\n",
       "dtype: float64"
      ]
     },
     "execution_count": 122,
     "metadata": {},
     "output_type": "execute_result"
    }
   ],
   "source": [
    "round(X_train.isna().sum()/len(X_train),4)*100"
   ]
  },
  {
   "cell_type": "code",
   "execution_count": 123,
   "id": "4416eaf2",
   "metadata": {},
   "outputs": [],
   "source": [
    "columns_with_missing = ['race', 'diag1_type', 'caucasian', 'gender', 'age_group', 'discharge_disposition', 'age' ]\n",
    "\n",
    "imputer = KNNImputer(n_neighbors=5)\n",
    "\n",
    "X_train[columns_with_missing] = imputer.fit_transform(X_train[columns_with_missing])\n",
    "X_val[columns_with_missing] = imputer.transform(X_val[columns_with_missing])\n",
    "test[columns_with_missing] = imputer.transform(test[columns_with_missing])"
   ]
  },
  {
   "cell_type": "markdown",
   "id": "5627a896",
   "metadata": {},
   "source": [
    "<hr style=\"border: 1px solid black;\">\n",
    "<a class=\"anchor\" id=\"res\"></a>\n",
    "\n",
    "# <span style=\"color:black\">11. Re-sampling Techniques for Imbalanced Classification </span>"
   ]
  },
  {
   "cell_type": "code",
   "execution_count": 124,
   "id": "d00d3aeb",
   "metadata": {},
   "outputs": [],
   "source": [
    "X_train_no_res = X_train.copy()\n",
    "y_train_no_res = y_train.copy()"
   ]
  },
  {
   "cell_type": "code",
   "execution_count": 125,
   "id": "ef7e2f88",
   "metadata": {},
   "outputs": [
    {
     "data": {
      "text/plain": [
       "0    53.269231\n",
       "2    35.466448\n",
       "1    11.264321\n",
       "Name: readmitted_multiclass, dtype: float64"
      ]
     },
     "execution_count": 125,
     "metadata": {},
     "output_type": "execute_result"
    }
   ],
   "source": [
    "(y_train.value_counts()/len(y_train))*100"
   ]
  },
  {
   "cell_type": "markdown",
   "id": "96e19d8a",
   "metadata": {},
   "source": [
    "<a class=\"anchor\" id=\"SNC\"></a>\n",
    "\n",
    "## <span style=\"color:black\">11.1. SmoteNC </span>"
   ]
  },
  {
   "cell_type": "code",
   "execution_count": 126,
   "id": "1f87d990",
   "metadata": {},
   "outputs": [],
   "source": [
    "# ! pip install imbalanced-learn"
   ]
  },
  {
   "cell_type": "code",
   "execution_count": 127,
   "id": "93ca38aa",
   "metadata": {
    "scrolled": true
   },
   "outputs": [],
   "source": [
    "# X_train"
   ]
  },
  {
   "cell_type": "code",
   "execution_count": 128,
   "id": "84212586",
   "metadata": {},
   "outputs": [],
   "source": [
    "# # Initialize SMOTE-NC and apply it to the training data only\n",
    "# smote_nc = SMOTENC(categorical_features = non_metric_features, random_state=42)\n",
    "# X_train, y_train=smote_nc.fit_resample(X_train, y_train)"
   ]
  },
  {
   "cell_type": "markdown",
   "id": "92ebca9b",
   "metadata": {},
   "source": [
    "<a class=\"anchor\" id=\"SNN\"></a>\n",
    "\n",
    "## <span style=\"color:black\">11.2. SmoteNN </span>"
   ]
  },
  {
   "cell_type": "code",
   "execution_count": 129,
   "id": "1dafac31",
   "metadata": {},
   "outputs": [],
   "source": [
    "# smoteenn = SMOTEENN(random_state=42)\n",
    "# X_train_resampled, y_train_resampled = smoteenn.fit_resample(X_train,y_train)"
   ]
  },
  {
   "cell_type": "markdown",
   "id": "9417f9bc",
   "metadata": {},
   "source": [
    "<a class=\"anchor\" id=\"undov\"></a>\n",
    "\n",
    "## <span style=\"color:black\">11.3. SMOTETomek </span>"
   ]
  },
  {
   "cell_type": "code",
   "execution_count": 130,
   "id": "c97def98",
   "metadata": {},
   "outputs": [],
   "source": [
    "# smote_tomek = SMOTETomek(random_state=42)\n",
    "\n",
    "# # Apply SMOTE-TomekLinks to the training data\n",
    "# X_train_st, y_train_st = smote_tomek.fit_resample(X_train, y_train)"
   ]
  },
  {
   "cell_type": "code",
   "execution_count": 131,
   "id": "4749a38c",
   "metadata": {},
   "outputs": [],
   "source": [
    "# (y_train_st.value_counts()/len(y_train_st))*100"
   ]
  },
  {
   "cell_type": "code",
   "execution_count": 132,
   "id": "b4582319",
   "metadata": {},
   "outputs": [],
   "source": [
    "# X_train,y_train = X_train_st, y_train_st"
   ]
  },
  {
   "cell_type": "markdown",
   "id": "a41c1b41",
   "metadata": {},
   "source": [
    "<a class=\"anchor\" id=\"under\"></a>\n",
    "\n",
    "## <span style=\"color:black\">11.4. Undersampling </span>"
   ]
  },
  {
   "cell_type": "code",
   "execution_count": 133,
   "id": "a583b430",
   "metadata": {},
   "outputs": [],
   "source": [
    "undersampler = RandomUnderSampler(sampling_strategy='auto', random_state=42)\n",
    "X_train, y_train= undersampler.fit_resample(X_train,y_train)"
   ]
  },
  {
   "cell_type": "code",
   "execution_count": 134,
   "id": "5c59cb8c",
   "metadata": {},
   "outputs": [
    {
     "data": {
      "text/plain": [
       "0    33.333333\n",
       "1    33.333333\n",
       "2    33.333333\n",
       "Name: readmitted_multiclass, dtype: float64"
      ]
     },
     "execution_count": 134,
     "metadata": {},
     "output_type": "execute_result"
    }
   ],
   "source": [
    "(y_train.value_counts()/len(y_train))*100"
   ]
  },
  {
   "cell_type": "markdown",
   "id": "9edcc541",
   "metadata": {},
   "source": [
    "<a class=\"anchor\" id=\"over\"></a>\n",
    "\n",
    "## <span style=\"color:black\">11.5. Oversampling </span>"
   ]
  },
  {
   "cell_type": "code",
   "execution_count": 135,
   "id": "eddaa2cf",
   "metadata": {},
   "outputs": [],
   "source": [
    "# # define undersample strategy\n",
    "# oversample = RandomOverSampler(sampling_strategy='auto')\n",
    "# # fit and apply the transform\n",
    "# X_train_o, y_train_o = oversample.fit_resample(X_train, y_train)"
   ]
  },
  {
   "cell_type": "code",
   "execution_count": 136,
   "id": "d6193394",
   "metadata": {},
   "outputs": [],
   "source": [
    "# (y_train_o.value_counts()/len(y_train_o))*100"
   ]
  },
  {
   "cell_type": "markdown",
   "id": "8c0ab721",
   "metadata": {},
   "source": [
    "<a class=\"anchor\" id=\"undov\"></a>\n",
    "\n",
    "## <span style=\"color:black\">11.6. Undersampling and Oversampling </span>"
   ]
  },
  {
   "cell_type": "code",
   "execution_count": 137,
   "id": "524bd2b8",
   "metadata": {},
   "outputs": [],
   "source": [
    "# over_sampling_strategy = {0: int(0.5 * len(y_train)), 1: int(0.5 * len(y_train)), 2: int(0.5 * len(y_train))}\n",
    "\n",
    "# # Calculate the maximum number of samples that can be requested for under-sampling\n",
    "# max_under_sampling_samples = min(y_train.value_counts())\n",
    "\n",
    "# # Define the sampling strategy for undersampling\n",
    "# under_sampling_strategy = {0: int(0.2* max_under_sampling_samples),\n",
    "#                             1: int(0.2 * max_under_sampling_samples),\n",
    "#                             2: int(0.2 * max_under_sampling_samples)}\n",
    "\n",
    "# # Define the multiclass resampling pipeline\n",
    "# resampling_pipeline = Pipeline([\n",
    "#     ('under', RandomUnderSampler(sampling_strategy=under_sampling_strategy, random_state=42)),\n",
    "#     ('over', RandomOverSampler(sampling_strategy=over_sampling_strategy, random_state=42))\n",
    "# ])\n",
    "\n",
    "# # Apply resampling to the training data\n",
    "# X_train, y_train = resampling_pipeline.fit_resample(X_train, y_train)"
   ]
  },
  {
   "cell_type": "code",
   "execution_count": 138,
   "id": "f1e4baa7",
   "metadata": {},
   "outputs": [],
   "source": [
    "# (y_train.value_counts()/len(y_train_uo))*100"
   ]
  },
  {
   "cell_type": "markdown",
   "id": "740b3479",
   "metadata": {},
   "source": [
    "<hr style=\"border: 1px solid black;\">\n",
    "<a class=\"anchor\" id=\"fs\"></a>\n",
    "\n",
    "# <span style=\"color:black\">12. Feature Selection </span>"
   ]
  },
  {
   "cell_type": "markdown",
   "id": "f34368ce",
   "metadata": {},
   "source": [
    "<a class=\"anchor\" id=\"sp\"></a>\n",
    "\n",
    "## <span style=\"color:black\">12.1. Spearman Correlation </span>"
   ]
  },
  {
   "cell_type": "code",
   "execution_count": 139,
   "id": "6eaaf286",
   "metadata": {
    "scrolled": true
   },
   "outputs": [
    {
     "data": {
      "image/png": "[encoded data removed]",
      "text/plain": [
       "<Figure size 864x720 with 2 Axes>"
      ]
     },
     "metadata": {},
     "output_type": "display_data"
    }
   ],
   "source": [
    "cor_spearman = train_engineering[metric_features].corr(method ='spearman')\n",
    "cor_spearman\n",
    "\n",
    "def cor_heatmap(cor):\n",
    "    plt.figure(figsize=(12,10))\n",
    "    sns.heatmap(data = cor, annot = True, cmap = \"Blues\", fmt='.1')\n",
    "    plt.show()\n",
    "\n",
    "cor_heatmap(cor_spearman)"
   ]
  },
  {
   "cell_type": "markdown",
   "id": "8b66d5e5",
   "metadata": {},
   "source": [
    "<a class=\"anchor\" id=\"cs\"></a>\n",
    "\n",
    "## <span style=\"color:black\">12.2. Chi-Square </span>"
   ]
  },
  {
   "cell_type": "markdown",
   "id": "3c64ff1d",
   "metadata": {},
   "source": [
    "Dividing train into categorical and numeric."
   ]
  },
  {
   "cell_type": "code",
   "execution_count": 140,
   "id": "c1bec053",
   "metadata": {},
   "outputs": [],
   "source": [
    "train_num = X_train[metric_features].set_index(X_train.index)\n",
    "train_cat = X_train[non_metric_features].set_index(X_train.index)"
   ]
  },
  {
   "cell_type": "code",
   "execution_count": 141,
   "id": "03d2255f",
   "metadata": {
    "scrolled": true
   },
   "outputs": [
    {
     "data": {
      "text/plain": [
       "Index(['race', 'gender', 'age', 'payer_code', 'admission_type',\n",
       "       'medical_specialty', 'discharge_disposition', 'admission_source',\n",
       "       'glucose', 'a1c', 'meds_change', 'prescribed_diabetes_meds',\n",
       "       'medication', 'insurance', 'caucasian', 'diabetes_type', 'age_group',\n",
       "       'diag1_type', 'diag2_type', 'diag_add_type'],\n",
       "      dtype='object')"
      ]
     },
     "execution_count": 141,
     "metadata": {},
     "output_type": "execute_result"
    }
   ],
   "source": [
    "train_cat.columns"
   ]
  },
  {
   "cell_type": "code",
   "execution_count": 142,
   "id": "843a99e0",
   "metadata": {},
   "outputs": [
    {
     "name": "stdout",
     "output_type": "stream",
     "text": [
      "race is IMPORTANT for Prediction\n",
      "gender is NOT an important predictor. (Discard gender from model)\n",
      "age is IMPORTANT for Prediction\n",
      "payer_code is IMPORTANT for Prediction\n",
      "admission_type is IMPORTANT for Prediction\n",
      "medical_specialty is IMPORTANT for Prediction\n",
      "discharge_disposition is IMPORTANT for Prediction\n",
      "admission_source is IMPORTANT for Prediction\n",
      "glucose is IMPORTANT for Prediction\n",
      "a1c is IMPORTANT for Prediction\n",
      "meds_change is IMPORTANT for Prediction\n",
      "prescribed_diabetes_meds is IMPORTANT for Prediction\n",
      "medication is IMPORTANT for Prediction\n",
      "insurance is IMPORTANT for Prediction\n",
      "caucasian is IMPORTANT for Prediction\n",
      "diabetes_type is IMPORTANT for Prediction\n",
      "age_group is IMPORTANT for Prediction\n",
      "diag1_type is IMPORTANT for Prediction\n",
      "diag2_type is IMPORTANT for Prediction\n",
      "diag_add_type is IMPORTANT for Prediction\n"
     ]
    }
   ],
   "source": [
    "def TestIndependence(X,y,var,alpha=0.05):        \n",
    "    dfObserved = pd.crosstab(y,X) \n",
    "    chi2, p, dof, expected = stats.chi2_contingency(dfObserved.values)\n",
    "    dfExpected = pd.DataFrame(expected, columns=dfObserved.columns, index = dfObserved.index)\n",
    "    if p<alpha:\n",
    "        result=\"{0} is IMPORTANT for Prediction\".format(var)\n",
    "    else:\n",
    "        result=\"{0} is NOT an important predictor. (Discard {0} from model)\".format(var)\n",
    "    print(result)\n",
    "\n",
    "for var in train_cat:\n",
    "    TestIndependence(train_cat[var],y_train,var)"
   ]
  },
  {
   "cell_type": "markdown",
   "id": "68f3a8ca",
   "metadata": {},
   "source": [
    "<a class=\"anchor\" id=\"rfe\"></a>\n",
    "\n",
    "## <span style=\"color:black\">12.3. Recursive Feature Elimination - RFE </span>"
   ]
  },
  {
   "cell_type": "code",
   "execution_count": 143,
   "id": "667552f1",
   "metadata": {
    "scrolled": true
   },
   "outputs": [
    {
     "name": "stdout",
     "output_type": "stream",
     "text": [
      "Optimum number of features: 32\n",
      "F1 score with 32 features: 0.538027\n"
     ]
    }
   ],
   "source": [
    "nof_list = np.arange(1, X_train.shape[1])\n",
    "high_score = 0\n",
    "# Variable to store the optimum features\n",
    "nof = 0\n",
    "train_score_list = []\n",
    "val_score_list = []\n",
    "\n",
    "for n in range(len(nof_list)):\n",
    "    model = LogisticRegression(random_state=42)\n",
    "\n",
    "    rfe = RFE(estimator=model, n_features_to_select=nof_list[n])\n",
    "    X_train_rfe = rfe.fit_transform(X_train, y_train)\n",
    "    X_val_rfe = rfe.transform(X_val)\n",
    "    model.fit(X_train_rfe, y_train)\n",
    "\n",
    "    # storing results on training data\n",
    "    train_pred = model.predict(X_train_rfe)\n",
    "    train_score = f1_score(y_train, train_pred, average='weighted') \n",
    "    train_score_list.append(train_score)\n",
    "    \n",
    "    # storing results on validation data\n",
    "    val_pred = model.predict(X_val_rfe)\n",
    "    val_score = f1_score(y_val, val_pred, average='weighted')\n",
    "    val_score_list.append(val_score)\n",
    "\n",
    "    # check best score\n",
    "    if val_score >= high_score:\n",
    "        high_score = val_score\n",
    "        nof = nof_list[n]\n",
    "\n",
    "print(\"Optimum number of features: %d\" % nof)\n",
    "print(\"F1 score with %d features: %f\" % (nof, high_score))"
   ]
  },
  {
   "cell_type": "code",
   "execution_count": 144,
   "id": "266c3d31",
   "metadata": {
    "scrolled": true
   },
   "outputs": [
    {
     "data": {
      "text/plain": [
       "['race',\n",
       " 'gender',\n",
       " 'age',\n",
       " 'payer_code',\n",
       " 'outpatient',\n",
       " 'emergency',\n",
       " 'inpatient',\n",
       " 'medical_specialty',\n",
       " 'discharge_disposition',\n",
       " 'admission_source',\n",
       " 'stay_length',\n",
       " 'number_lab_tests',\n",
       " 'non_lab_procedures',\n",
       " 'number_of_medications',\n",
       " 'number_diagnoses',\n",
       " 'glucose',\n",
       " 'a1c',\n",
       " 'prescribed_diabetes_meds',\n",
       " 'medication',\n",
       " 'insurance',\n",
       " 'caucasian',\n",
       " 'diagnosis_count',\n",
       " 'diabetes_type',\n",
       " 'total_procedures',\n",
       " 'total_visits',\n",
       " 'age_group',\n",
       " 'encounter_count',\n",
       " 'avg_length_of_stay',\n",
       " 'total_visits_pp',\n",
       " 'diag1_type',\n",
       " 'diag2_type',\n",
       " 'diag_add_type']"
      ]
     },
     "execution_count": 144,
     "metadata": {},
     "output_type": "execute_result"
    }
   ],
   "source": [
    "model = LogisticRegression()\n",
    "rfe = RFE(estimator=model, n_features_to_select=32)\n",
    "X_rfe = rfe.fit_transform(X_train, y_train)\n",
    "rfe.support_\n",
    "rfe.ranking_\n",
    "selected_features = np.where(rfe.support_)[0]\n",
    "selected_feature_names = [X_train.columns[i] for i in selected_features]\n",
    "selected_feature_names"
   ]
  },
  {
   "cell_type": "markdown",
   "id": "433890b0",
   "metadata": {},
   "source": [
    "<a class=\"anchor\" id=\"lasso\"></a>\n",
    "\n",
    "## <span style=\"color:black\">12.4. LASSO </span>"
   ]
  },
  {
   "cell_type": "code",
   "execution_count": 145,
   "id": "adae226c",
   "metadata": {},
   "outputs": [
    {
     "name": "stdout",
     "output_type": "stream",
     "text": [
      "Lasso picked 33 variables and eliminated the other 2 variables\n"
     ]
    },
    {
     "data": {
      "image/png": "[encoded data removed]",
      "text/plain": [
       "<Figure size 576x720 with 1 Axes>"
      ]
     },
     "metadata": {},
     "output_type": "display_data"
    }
   ],
   "source": [
    "def plot_importance(coef,name):\n",
    "    imp_coef = coef.sort_values()\n",
    "    plt.figure(figsize=(8,10))\n",
    "    imp_coef.plot(kind = \"barh\")\n",
    "    plt.title(\"Feature importance using \" + name + \" Model\")\n",
    "    plt.show()\n",
    "    \n",
    "reg = LassoCV()\n",
    "reg.fit(X_train, y_train)\n",
    "\n",
    "coef = pd.Series(reg.coef_, index = X_train.columns)\n",
    "\n",
    "print(\"Lasso picked \" + str(sum(coef != 0)) + \" variables and eliminated the other \" +  str(sum(coef == 0)) + \" variables\")\n",
    "\n",
    "coef.sort_values()\n",
    "\n",
    "plot_importance(coef,'Lasso')"
   ]
  },
  {
   "cell_type": "code",
   "execution_count": 146,
   "id": "169769dd",
   "metadata": {},
   "outputs": [
    {
     "name": "stdout",
     "output_type": "stream",
     "text": [
      "Best alpha using built-in LassoCV: 0.000021\n"
     ]
    }
   ],
   "source": [
    "print(\"Best alpha using built-in LassoCV: %f\" % reg.alpha_)"
   ]
  },
  {
   "cell_type": "code",
   "execution_count": 147,
   "id": "c6ce6b43",
   "metadata": {},
   "outputs": [
    {
     "name": "stdout",
     "output_type": "stream",
     "text": [
      "Best score using built-in LassoCV: 0.098794\n"
     ]
    }
   ],
   "source": [
    "print(\"Best score using built-in LassoCV: %f\" %reg.score(X_train, y_train))"
   ]
  },
  {
   "cell_type": "code",
   "execution_count": 148,
   "id": "17cdcf45",
   "metadata": {
    "scrolled": false
   },
   "outputs": [
    {
     "data": {
      "text/plain": [
       "race                        0.131527\n",
       "gender                      0.010180\n",
       "age                        -0.067638\n",
       "payer_code                  0.414738\n",
       "outpatient                  0.602698\n",
       "emergency                   1.045513\n",
       "inpatient                  -0.097467\n",
       "admission_type             -0.001855\n",
       "medical_specialty           0.145986\n",
       "avg_bpm                    -0.015556\n",
       "discharge_disposition       0.532747\n",
       "admission_source            0.218592\n",
       "stay_length                -0.035677\n",
       "number_lab_tests            0.092641\n",
       "non_lab_procedures         -0.030354\n",
       "number_of_medications      -0.027067\n",
       "number_diagnoses            0.315327\n",
       "glucose                     0.088030\n",
       "a1c                         0.027199\n",
       "meds_change                -0.006472\n",
       "prescribed_diabetes_meds    0.126621\n",
       "medication                  0.453199\n",
       "insurance                  -0.072803\n",
       "caucasian                   0.016760\n",
       "diagnosis_count             0.000000\n",
       "diabetes_type              -0.117997\n",
       "total_procedures            0.000000\n",
       "total_visits                0.647105\n",
       "age_group                  -0.000427\n",
       "encounter_count             2.706113\n",
       "avg_length_of_stay          0.077640\n",
       "total_visits_pp            -3.172010\n",
       "diag1_type                  0.104849\n",
       "diag2_type                  0.284211\n",
       "diag_add_type               0.057164\n",
       "dtype: float64"
      ]
     },
     "execution_count": 148,
     "metadata": {},
     "output_type": "execute_result"
    }
   ],
   "source": [
    "coef = pd.Series(reg.coef_, index = X_train.columns)\n",
    "coef"
   ]
  },
  {
   "cell_type": "markdown",
   "id": "c69a76cf",
   "metadata": {},
   "source": [
    "<a class=\"anchor\" id=\"kb\"></a>\n",
    "\n",
    "## <span style=\"color:black\">12.5. K-best </span>"
   ]
  },
  {
   "cell_type": "code",
   "execution_count": 149,
   "id": "c067bf48",
   "metadata": {},
   "outputs": [
    {
     "data": {
      "text/plain": [
       "Index(['outpatient', 'inpatient', 'discharge_disposition', 'number_lab_tests',\n",
       "       'diabetes_type', 'total_visits', 'encounter_count',\n",
       "       'avg_length_of_stay', 'total_visits_pp', 'diag_add_type'],\n",
       "      dtype='object')"
      ]
     },
     "execution_count": 149,
     "metadata": {},
     "output_type": "execute_result"
    }
   ],
   "source": [
    "selector = SelectKBest(score_func=mutual_info_classif)\n",
    "selector.fit_transform(X_train, y_train)\n",
    "X_train.columns[selector.get_support()]"
   ]
  },
  {
   "cell_type": "markdown",
   "id": "b61d15cd",
   "metadata": {},
   "source": [
    "<a class=\"anchor\" id=\"rf\"></a>\n",
    "\n",
    "## <span style=\"color:black\">12.6. Random Forest </span>"
   ]
  },
  {
   "cell_type": "code",
   "execution_count": 150,
   "id": "6c7fea41",
   "metadata": {},
   "outputs": [
    {
     "data": {
      "text/html": [
       "<style>#sk-container-id-1 {color: black;}#sk-container-id-1 pre{padding: 0;}#sk-container-id-1 div.sk-toggleable {background-color: white;}#sk-container-id-1 label.sk-toggleable__label {cursor: pointer;display: block;width: 100%;margin-bottom: 0;padding: 0.3em;box-sizing: border-box;text-align: center;}#sk-container-id-1 label.sk-toggleable__label-arrow:before {content: \"▸\";float: left;margin-right: 0.25em;color: #696969;}#sk-container-id-1 label.sk-toggleable__label-arrow:hover:before {color: black;}#sk-container-id-1 div.sk-estimator:hover label.sk-toggleable__label-arrow:before {color: black;}#sk-container-id-1 div.sk-toggleable__content {max-height: 0;max-width: 0;overflow: hidden;text-align: left;background-color: #f0f8ff;}#sk-container-id-1 div.sk-toggleable__content pre {margin: 0.2em;color: black;border-radius: 0.25em;background-color: #f0f8ff;}#sk-container-id-1 input.sk-toggleable__control:checked~div.sk-toggleable__content {max-height: 200px;max-width: 100%;overflow: auto;}#sk-container-id-1 input.sk-toggleable__control:checked~label.sk-toggleable__label-arrow:before {content: \"▾\";}#sk-container-id-1 div.sk-estimator input.sk-toggleable__control:checked~label.sk-toggleable__label {background-color: #d4ebff;}#sk-container-id-1 div.sk-label input.sk-toggleable__control:checked~label.sk-toggleable__label {background-color: #d4ebff;}#sk-container-id-1 input.sk-hidden--visually {border: 0;clip: rect(1px 1px 1px 1px);clip: rect(1px, 1px, 1px, 1px);height: 1px;margin: -1px;overflow: hidden;padding: 0;position: absolute;width: 1px;}#sk-container-id-1 div.sk-estimator {font-family: monospace;background-color: #f0f8ff;border: 1px dotted black;border-radius: 0.25em;box-sizing: border-box;margin-bottom: 0.5em;}#sk-container-id-1 div.sk-estimator:hover {background-color: #d4ebff;}#sk-container-id-1 div.sk-parallel-item::after {content: \"\";width: 100%;border-bottom: 1px solid gray;flex-grow: 1;}#sk-container-id-1 div.sk-label:hover label.sk-toggleable__label {background-color: #d4ebff;}#sk-container-id-1 div.sk-serial::before {content: \"\";position: absolute;border-left: 1px solid gray;box-sizing: border-box;top: 0;bottom: 0;left: 50%;z-index: 0;}#sk-container-id-1 div.sk-serial {display: flex;flex-direction: column;align-items: center;background-color: white;padding-right: 0.2em;padding-left: 0.2em;position: relative;}#sk-container-id-1 div.sk-item {position: relative;z-index: 1;}#sk-container-id-1 div.sk-parallel {display: flex;align-items: stretch;justify-content: center;background-color: white;position: relative;}#sk-container-id-1 div.sk-item::before, #sk-container-id-1 div.sk-parallel-item::before {content: \"\";position: absolute;border-left: 1px solid gray;box-sizing: border-box;top: 0;bottom: 0;left: 50%;z-index: -1;}#sk-container-id-1 div.sk-parallel-item {display: flex;flex-direction: column;z-index: 1;position: relative;background-color: white;}#sk-container-id-1 div.sk-parallel-item:first-child::after {align-self: flex-end;width: 50%;}#sk-container-id-1 div.sk-parallel-item:last-child::after {align-self: flex-start;width: 50%;}#sk-container-id-1 div.sk-parallel-item:only-child::after {width: 0;}#sk-container-id-1 div.sk-dashed-wrapped {border: 1px dashed gray;margin: 0 0.4em 0.5em 0.4em;box-sizing: border-box;padding-bottom: 0.4em;background-color: white;}#sk-container-id-1 div.sk-label label {font-family: monospace;font-weight: bold;display: inline-block;line-height: 1.2em;}#sk-container-id-1 div.sk-label-container {text-align: center;}#sk-container-id-1 div.sk-container {/* jupyter's `normalize.less` sets `[hidden] { display: none; }` but bootstrap.min.css set `[hidden] { display: none !important; }` so we also need the `!important` here to be able to override the default hidden behavior on the sphinx rendered scikit-learn.org. See: https://github.com/scikit-learn/scikit-learn/issues/21755 */display: inline-block !important;position: relative;}#sk-container-id-1 div.sk-text-repr-fallback {display: none;}</style><div id=\"sk-container-id-1\" class=\"sk-top-container\"><div class=\"sk-text-repr-fallback\"><pre>SelectFromModel(estimator=RandomForestClassifier())</pre><b>In a Jupyter environment, please rerun this cell to show the HTML representation or trust the notebook. <br />On GitHub, the HTML representation is unable to render, please try loading this page with nbviewer.org.</b></div><div class=\"sk-container\" hidden><div class=\"sk-item sk-dashed-wrapped\"><div class=\"sk-label-container\"><div class=\"sk-label sk-toggleable\"><input class=\"sk-toggleable__control sk-hidden--visually\" id=\"sk-estimator-id-1\" type=\"checkbox\" ><label for=\"sk-estimator-id-1\" class=\"sk-toggleable__label sk-toggleable__label-arrow\">SelectFromModel</label><div class=\"sk-toggleable__content\"><pre>SelectFromModel(estimator=RandomForestClassifier())</pre></div></div></div><div class=\"sk-parallel\"><div class=\"sk-parallel-item\"><div class=\"sk-item\"><div class=\"sk-label-container\"><div class=\"sk-label sk-toggleable\"><input class=\"sk-toggleable__control sk-hidden--visually\" id=\"sk-estimator-id-2\" type=\"checkbox\" ><label for=\"sk-estimator-id-2\" class=\"sk-toggleable__label sk-toggleable__label-arrow\">estimator: RandomForestClassifier</label><div class=\"sk-toggleable__content\"><pre>RandomForestClassifier()</pre></div></div></div><div class=\"sk-serial\"><div class=\"sk-item\"><div class=\"sk-estimator sk-toggleable\"><input class=\"sk-toggleable__control sk-hidden--visually\" id=\"sk-estimator-id-3\" type=\"checkbox\" ><label for=\"sk-estimator-id-3\" class=\"sk-toggleable__label sk-toggleable__label-arrow\">RandomForestClassifier</label><div class=\"sk-toggleable__content\"><pre>RandomForestClassifier()</pre></div></div></div></div></div></div></div></div></div></div>"
      ],
      "text/plain": [
       "SelectFromModel(estimator=RandomForestClassifier())"
      ]
     },
     "execution_count": 150,
     "metadata": {},
     "output_type": "execute_result"
    }
   ],
   "source": [
    "sel = SelectFromModel(RandomForestClassifier(n_estimators=100))\n",
    "sel.fit(X_train, y_train)"
   ]
  },
  {
   "cell_type": "code",
   "execution_count": 151,
   "id": "8e68e67a",
   "metadata": {
    "scrolled": true
   },
   "outputs": [
    {
     "data": {
      "text/plain": [
       "Index(['age', 'medical_specialty', 'avg_bpm', 'discharge_disposition',\n",
       "       'stay_length', 'number_lab_tests', 'non_lab_procedures',\n",
       "       'number_of_medications', 'number_diagnoses', 'medication',\n",
       "       'total_procedures', 'encounter_count', 'avg_length_of_stay',\n",
       "       'total_visits_pp', 'diag1_type', 'diag2_type', 'diag_add_type'],\n",
       "      dtype='object')"
      ]
     },
     "execution_count": 151,
     "metadata": {},
     "output_type": "execute_result"
    }
   ],
   "source": [
    "sel.get_support()\n",
    "X_train.columns[(sel.get_support())]"
   ]
  },
  {
   "cell_type": "markdown",
   "id": "aaf3bf6e",
   "metadata": {},
   "source": [
    "<a class=\"anchor\" id=\"dec\"></a>\n",
    "\n",
    "## <span style=\"color:black\">12.7. Final Decision </span>"
   ]
  },
  {
   "cell_type": "code",
   "execution_count": 152,
   "id": "3d6d016a",
   "metadata": {},
   "outputs": [
    {
     "data": {
      "text/html": [
       "<style type=\"text/css\">\n",
       "#T_7d735_row0_col0, #T_7d735_row0_col1, #T_7d735_row0_col2, #T_7d735_row0_col3, #T_7d735_row0_col4, #T_7d735_row0_col5, #T_7d735_row0_col6, #T_7d735_row0_col7, #T_7d735_row2_col0, #T_7d735_row2_col1, #T_7d735_row2_col2, #T_7d735_row2_col3, #T_7d735_row2_col4, #T_7d735_row2_col5, #T_7d735_row2_col6, #T_7d735_row2_col7, #T_7d735_row3_col0, #T_7d735_row3_col1, #T_7d735_row3_col2, #T_7d735_row3_col3, #T_7d735_row3_col4, #T_7d735_row3_col5, #T_7d735_row3_col6, #T_7d735_row3_col7, #T_7d735_row4_col0, #T_7d735_row4_col1, #T_7d735_row4_col2, #T_7d735_row4_col3, #T_7d735_row4_col4, #T_7d735_row4_col5, #T_7d735_row4_col6, #T_7d735_row4_col7, #T_7d735_row5_col0, #T_7d735_row5_col1, #T_7d735_row5_col2, #T_7d735_row5_col3, #T_7d735_row5_col4, #T_7d735_row5_col5, #T_7d735_row5_col6, #T_7d735_row5_col7, #T_7d735_row6_col0, #T_7d735_row6_col1, #T_7d735_row6_col2, #T_7d735_row6_col3, #T_7d735_row6_col4, #T_7d735_row6_col5, #T_7d735_row6_col6, #T_7d735_row6_col7, #T_7d735_row7_col0, #T_7d735_row7_col1, #T_7d735_row7_col2, #T_7d735_row7_col3, #T_7d735_row7_col4, #T_7d735_row7_col5, #T_7d735_row7_col6, #T_7d735_row7_col7, #T_7d735_row8_col0, #T_7d735_row8_col1, #T_7d735_row8_col2, #T_7d735_row8_col3, #T_7d735_row8_col4, #T_7d735_row8_col5, #T_7d735_row8_col6, #T_7d735_row8_col7, #T_7d735_row9_col0, #T_7d735_row9_col1, #T_7d735_row9_col2, #T_7d735_row9_col3, #T_7d735_row9_col4, #T_7d735_row9_col5, #T_7d735_row9_col6, #T_7d735_row9_col7, #T_7d735_row10_col0, #T_7d735_row10_col1, #T_7d735_row10_col2, #T_7d735_row10_col3, #T_7d735_row10_col4, #T_7d735_row10_col5, #T_7d735_row10_col6, #T_7d735_row10_col7, #T_7d735_row11_col0, #T_7d735_row11_col1, #T_7d735_row11_col2, #T_7d735_row11_col3, #T_7d735_row11_col4, #T_7d735_row11_col5, #T_7d735_row11_col6, #T_7d735_row11_col7, #T_7d735_row12_col0, #T_7d735_row12_col1, #T_7d735_row12_col2, #T_7d735_row12_col3, #T_7d735_row12_col4, #T_7d735_row12_col5, #T_7d735_row12_col6, #T_7d735_row12_col7, #T_7d735_row13_col0, #T_7d735_row13_col1, #T_7d735_row13_col2, #T_7d735_row13_col3, #T_7d735_row13_col4, #T_7d735_row13_col5, #T_7d735_row13_col6, #T_7d735_row13_col7, #T_7d735_row14_col0, #T_7d735_row14_col1, #T_7d735_row14_col2, #T_7d735_row14_col3, #T_7d735_row14_col4, #T_7d735_row14_col5, #T_7d735_row14_col6, #T_7d735_row14_col7, #T_7d735_row15_col0, #T_7d735_row15_col1, #T_7d735_row15_col2, #T_7d735_row15_col3, #T_7d735_row15_col4, #T_7d735_row15_col5, #T_7d735_row15_col6, #T_7d735_row15_col7, #T_7d735_row16_col0, #T_7d735_row16_col1, #T_7d735_row16_col2, #T_7d735_row16_col3, #T_7d735_row16_col4, #T_7d735_row16_col5, #T_7d735_row16_col6, #T_7d735_row16_col7, #T_7d735_row17_col0, #T_7d735_row17_col1, #T_7d735_row17_col2, #T_7d735_row17_col3, #T_7d735_row17_col4, #T_7d735_row17_col5, #T_7d735_row17_col6, #T_7d735_row17_col7, #T_7d735_row18_col0, #T_7d735_row18_col1, #T_7d735_row18_col2, #T_7d735_row18_col3, #T_7d735_row18_col4, #T_7d735_row18_col5, #T_7d735_row18_col6, #T_7d735_row18_col7, #T_7d735_row19_col0, #T_7d735_row19_col1, #T_7d735_row19_col2, #T_7d735_row19_col3, #T_7d735_row19_col4, #T_7d735_row19_col5, #T_7d735_row19_col6, #T_7d735_row19_col7, #T_7d735_row20_col0, #T_7d735_row20_col1, #T_7d735_row20_col2, #T_7d735_row20_col3, #T_7d735_row20_col4, #T_7d735_row20_col5, #T_7d735_row20_col6, #T_7d735_row20_col7, #T_7d735_row21_col0, #T_7d735_row21_col1, #T_7d735_row21_col2, #T_7d735_row21_col3, #T_7d735_row21_col4, #T_7d735_row21_col5, #T_7d735_row21_col6, #T_7d735_row21_col7, #T_7d735_row22_col0, #T_7d735_row22_col1, #T_7d735_row22_col2, #T_7d735_row22_col3, #T_7d735_row22_col4, #T_7d735_row22_col5, #T_7d735_row22_col6, #T_7d735_row22_col7, #T_7d735_row23_col0, #T_7d735_row23_col1, #T_7d735_row23_col2, #T_7d735_row23_col3, #T_7d735_row23_col4, #T_7d735_row23_col5, #T_7d735_row23_col6, #T_7d735_row23_col7, #T_7d735_row26_col0, #T_7d735_row26_col1, #T_7d735_row26_col2, #T_7d735_row26_col3, #T_7d735_row26_col4, #T_7d735_row26_col5, #T_7d735_row26_col6, #T_7d735_row26_col7, #T_7d735_row27_col0, #T_7d735_row27_col1, #T_7d735_row27_col2, #T_7d735_row27_col3, #T_7d735_row27_col4, #T_7d735_row27_col5, #T_7d735_row27_col6, #T_7d735_row27_col7, #T_7d735_row28_col0, #T_7d735_row28_col1, #T_7d735_row28_col2, #T_7d735_row28_col3, #T_7d735_row28_col4, #T_7d735_row28_col5, #T_7d735_row28_col6, #T_7d735_row28_col7, #T_7d735_row29_col0, #T_7d735_row29_col1, #T_7d735_row29_col2, #T_7d735_row29_col3, #T_7d735_row29_col4, #T_7d735_row29_col5, #T_7d735_row29_col6, #T_7d735_row29_col7, #T_7d735_row30_col0, #T_7d735_row30_col1, #T_7d735_row30_col2, #T_7d735_row30_col3, #T_7d735_row30_col4, #T_7d735_row30_col5, #T_7d735_row30_col6, #T_7d735_row30_col7, #T_7d735_row31_col0, #T_7d735_row31_col1, #T_7d735_row31_col2, #T_7d735_row31_col3, #T_7d735_row31_col4, #T_7d735_row31_col5, #T_7d735_row31_col6, #T_7d735_row31_col7, #T_7d735_row32_col0, #T_7d735_row32_col1, #T_7d735_row32_col2, #T_7d735_row32_col3, #T_7d735_row32_col4, #T_7d735_row32_col5, #T_7d735_row32_col6, #T_7d735_row32_col7, #T_7d735_row33_col0, #T_7d735_row33_col1, #T_7d735_row33_col2, #T_7d735_row33_col3, #T_7d735_row33_col4, #T_7d735_row33_col5, #T_7d735_row33_col6, #T_7d735_row33_col7, #T_7d735_row34_col0, #T_7d735_row34_col1, #T_7d735_row34_col2, #T_7d735_row34_col3, #T_7d735_row34_col4, #T_7d735_row34_col5, #T_7d735_row34_col6, #T_7d735_row34_col7 {\n",
       "  background-color: #d4edda;\n",
       "}\n",
       "</style>\n",
       "<table id=\"T_7d735_\">\n",
       "  <thead>\n",
       "    <tr>\n",
       "      <th class=\"blank level0\" >&nbsp;</th>\n",
       "      <th class=\"col_heading level0 col0\" >Spearman</th>\n",
       "      <th class=\"col_heading level0 col1\" >Chi-Square</th>\n",
       "      <th class=\"col_heading level0 col2\" >RFE Logistic</th>\n",
       "      <th class=\"col_heading level0 col3\" >Lasso</th>\n",
       "      <th class=\"col_heading level0 col4\" >Kbest</th>\n",
       "      <th class=\"col_heading level0 col5\" >Random Forest</th>\n",
       "      <th class=\"col_heading level0 col6\" >% Keep</th>\n",
       "      <th class=\"col_heading level0 col7\" >Decision</th>\n",
       "    </tr>\n",
       "    <tr>\n",
       "      <th class=\"index_name level0\" >Variables</th>\n",
       "      <th class=\"blank col0\" >&nbsp;</th>\n",
       "      <th class=\"blank col1\" >&nbsp;</th>\n",
       "      <th class=\"blank col2\" >&nbsp;</th>\n",
       "      <th class=\"blank col3\" >&nbsp;</th>\n",
       "      <th class=\"blank col4\" >&nbsp;</th>\n",
       "      <th class=\"blank col5\" >&nbsp;</th>\n",
       "      <th class=\"blank col6\" >&nbsp;</th>\n",
       "      <th class=\"blank col7\" >&nbsp;</th>\n",
       "    </tr>\n",
       "  </thead>\n",
       "  <tbody>\n",
       "    <tr>\n",
       "      <th id=\"T_7d735_level0_row0\" class=\"row_heading level0 row0\" >race</th>\n",
       "      <td id=\"T_7d735_row0_col0\" class=\"data row0 col0\" >-</td>\n",
       "      <td id=\"T_7d735_row0_col1\" class=\"data row0 col1\" >Keep</td>\n",
       "      <td id=\"T_7d735_row0_col2\" class=\"data row0 col2\" >Keep</td>\n",
       "      <td id=\"T_7d735_row0_col3\" class=\"data row0 col3\" >Keep</td>\n",
       "      <td id=\"T_7d735_row0_col4\" class=\"data row0 col4\" >Discard</td>\n",
       "      <td id=\"T_7d735_row0_col5\" class=\"data row0 col5\" >Discard</td>\n",
       "      <td id=\"T_7d735_row0_col6\" class=\"data row0 col6\" >60</td>\n",
       "      <td id=\"T_7d735_row0_col7\" class=\"data row0 col7\" >Keep</td>\n",
       "    </tr>\n",
       "    <tr>\n",
       "      <th id=\"T_7d735_level0_row1\" class=\"row_heading level0 row1\" >gender</th>\n",
       "      <td id=\"T_7d735_row1_col0\" class=\"data row1 col0\" >-</td>\n",
       "      <td id=\"T_7d735_row1_col1\" class=\"data row1 col1\" >Discard</td>\n",
       "      <td id=\"T_7d735_row1_col2\" class=\"data row1 col2\" >Keep</td>\n",
       "      <td id=\"T_7d735_row1_col3\" class=\"data row1 col3\" >Keep</td>\n",
       "      <td id=\"T_7d735_row1_col4\" class=\"data row1 col4\" >Discard</td>\n",
       "      <td id=\"T_7d735_row1_col5\" class=\"data row1 col5\" >Discard</td>\n",
       "      <td id=\"T_7d735_row1_col6\" class=\"data row1 col6\" >40</td>\n",
       "      <td id=\"T_7d735_row1_col7\" class=\"data row1 col7\" >Discard</td>\n",
       "    </tr>\n",
       "    <tr>\n",
       "      <th id=\"T_7d735_level0_row2\" class=\"row_heading level0 row2\" >age</th>\n",
       "      <td id=\"T_7d735_row2_col0\" class=\"data row2 col0\" >-</td>\n",
       "      <td id=\"T_7d735_row2_col1\" class=\"data row2 col1\" >Keep</td>\n",
       "      <td id=\"T_7d735_row2_col2\" class=\"data row2 col2\" >Keep</td>\n",
       "      <td id=\"T_7d735_row2_col3\" class=\"data row2 col3\" >Keep</td>\n",
       "      <td id=\"T_7d735_row2_col4\" class=\"data row2 col4\" >Discard</td>\n",
       "      <td id=\"T_7d735_row2_col5\" class=\"data row2 col5\" >Keep</td>\n",
       "      <td id=\"T_7d735_row2_col6\" class=\"data row2 col6\" >80</td>\n",
       "      <td id=\"T_7d735_row2_col7\" class=\"data row2 col7\" >Keep</td>\n",
       "    </tr>\n",
       "    <tr>\n",
       "      <th id=\"T_7d735_level0_row3\" class=\"row_heading level0 row3\" >payer_code</th>\n",
       "      <td id=\"T_7d735_row3_col0\" class=\"data row3 col0\" >-</td>\n",
       "      <td id=\"T_7d735_row3_col1\" class=\"data row3 col1\" >Keep</td>\n",
       "      <td id=\"T_7d735_row3_col2\" class=\"data row3 col2\" >Keep</td>\n",
       "      <td id=\"T_7d735_row3_col3\" class=\"data row3 col3\" >Keep</td>\n",
       "      <td id=\"T_7d735_row3_col4\" class=\"data row3 col4\" >Discard</td>\n",
       "      <td id=\"T_7d735_row3_col5\" class=\"data row3 col5\" >Discard</td>\n",
       "      <td id=\"T_7d735_row3_col6\" class=\"data row3 col6\" >60</td>\n",
       "      <td id=\"T_7d735_row3_col7\" class=\"data row3 col7\" >Keep</td>\n",
       "    </tr>\n",
       "    <tr>\n",
       "      <th id=\"T_7d735_level0_row4\" class=\"row_heading level0 row4\" >outpatient</th>\n",
       "      <td id=\"T_7d735_row4_col0\" class=\"data row4 col0\" >Keep</td>\n",
       "      <td id=\"T_7d735_row4_col1\" class=\"data row4 col1\" >-</td>\n",
       "      <td id=\"T_7d735_row4_col2\" class=\"data row4 col2\" >Keep</td>\n",
       "      <td id=\"T_7d735_row4_col3\" class=\"data row4 col3\" >Keep</td>\n",
       "      <td id=\"T_7d735_row4_col4\" class=\"data row4 col4\" >Discard</td>\n",
       "      <td id=\"T_7d735_row4_col5\" class=\"data row4 col5\" >Discard</td>\n",
       "      <td id=\"T_7d735_row4_col6\" class=\"data row4 col6\" >60</td>\n",
       "      <td id=\"T_7d735_row4_col7\" class=\"data row4 col7\" >Keep</td>\n",
       "    </tr>\n",
       "    <tr>\n",
       "      <th id=\"T_7d735_level0_row5\" class=\"row_heading level0 row5\" >emergency</th>\n",
       "      <td id=\"T_7d735_row5_col0\" class=\"data row5 col0\" >Keep</td>\n",
       "      <td id=\"T_7d735_row5_col1\" class=\"data row5 col1\" >-</td>\n",
       "      <td id=\"T_7d735_row5_col2\" class=\"data row5 col2\" >Keep</td>\n",
       "      <td id=\"T_7d735_row5_col3\" class=\"data row5 col3\" >Keep</td>\n",
       "      <td id=\"T_7d735_row5_col4\" class=\"data row5 col4\" >Discard</td>\n",
       "      <td id=\"T_7d735_row5_col5\" class=\"data row5 col5\" >Discard</td>\n",
       "      <td id=\"T_7d735_row5_col6\" class=\"data row5 col6\" >60</td>\n",
       "      <td id=\"T_7d735_row5_col7\" class=\"data row5 col7\" >Keep</td>\n",
       "    </tr>\n",
       "    <tr>\n",
       "      <th id=\"T_7d735_level0_row6\" class=\"row_heading level0 row6\" >inpatient</th>\n",
       "      <td id=\"T_7d735_row6_col0\" class=\"data row6 col0\" >Keep</td>\n",
       "      <td id=\"T_7d735_row6_col1\" class=\"data row6 col1\" >-</td>\n",
       "      <td id=\"T_7d735_row6_col2\" class=\"data row6 col2\" >Keep</td>\n",
       "      <td id=\"T_7d735_row6_col3\" class=\"data row6 col3\" >Keep</td>\n",
       "      <td id=\"T_7d735_row6_col4\" class=\"data row6 col4\" >Keep</td>\n",
       "      <td id=\"T_7d735_row6_col5\" class=\"data row6 col5\" >Discard</td>\n",
       "      <td id=\"T_7d735_row6_col6\" class=\"data row6 col6\" >80</td>\n",
       "      <td id=\"T_7d735_row6_col7\" class=\"data row6 col7\" >Keep</td>\n",
       "    </tr>\n",
       "    <tr>\n",
       "      <th id=\"T_7d735_level0_row7\" class=\"row_heading level0 row7\" >admission_type</th>\n",
       "      <td id=\"T_7d735_row7_col0\" class=\"data row7 col0\" >-</td>\n",
       "      <td id=\"T_7d735_row7_col1\" class=\"data row7 col1\" >Keep</td>\n",
       "      <td id=\"T_7d735_row7_col2\" class=\"data row7 col2\" >Keep</td>\n",
       "      <td id=\"T_7d735_row7_col3\" class=\"data row7 col3\" >Keep</td>\n",
       "      <td id=\"T_7d735_row7_col4\" class=\"data row7 col4\" >Discard</td>\n",
       "      <td id=\"T_7d735_row7_col5\" class=\"data row7 col5\" >Discard</td>\n",
       "      <td id=\"T_7d735_row7_col6\" class=\"data row7 col6\" >60</td>\n",
       "      <td id=\"T_7d735_row7_col7\" class=\"data row7 col7\" >Keep</td>\n",
       "    </tr>\n",
       "    <tr>\n",
       "      <th id=\"T_7d735_level0_row8\" class=\"row_heading level0 row8\" >medical_specialty</th>\n",
       "      <td id=\"T_7d735_row8_col0\" class=\"data row8 col0\" >-</td>\n",
       "      <td id=\"T_7d735_row8_col1\" class=\"data row8 col1\" >Keep</td>\n",
       "      <td id=\"T_7d735_row8_col2\" class=\"data row8 col2\" >Keep</td>\n",
       "      <td id=\"T_7d735_row8_col3\" class=\"data row8 col3\" >Keep</td>\n",
       "      <td id=\"T_7d735_row8_col4\" class=\"data row8 col4\" >Discard</td>\n",
       "      <td id=\"T_7d735_row8_col5\" class=\"data row8 col5\" >Keep</td>\n",
       "      <td id=\"T_7d735_row8_col6\" class=\"data row8 col6\" >80</td>\n",
       "      <td id=\"T_7d735_row8_col7\" class=\"data row8 col7\" >Keep</td>\n",
       "    </tr>\n",
       "    <tr>\n",
       "      <th id=\"T_7d735_level0_row9\" class=\"row_heading level0 row9\" >avg_bpm</th>\n",
       "      <td id=\"T_7d735_row9_col0\" class=\"data row9 col0\" >Discard</td>\n",
       "      <td id=\"T_7d735_row9_col1\" class=\"data row9 col1\" >-</td>\n",
       "      <td id=\"T_7d735_row9_col2\" class=\"data row9 col2\" >Keep</td>\n",
       "      <td id=\"T_7d735_row9_col3\" class=\"data row9 col3\" >Keep</td>\n",
       "      <td id=\"T_7d735_row9_col4\" class=\"data row9 col4\" >Discard</td>\n",
       "      <td id=\"T_7d735_row9_col5\" class=\"data row9 col5\" >Keep</td>\n",
       "      <td id=\"T_7d735_row9_col6\" class=\"data row9 col6\" >60</td>\n",
       "      <td id=\"T_7d735_row9_col7\" class=\"data row9 col7\" >Keep</td>\n",
       "    </tr>\n",
       "    <tr>\n",
       "      <th id=\"T_7d735_level0_row10\" class=\"row_heading level0 row10\" >discharge_disposition</th>\n",
       "      <td id=\"T_7d735_row10_col0\" class=\"data row10 col0\" >-</td>\n",
       "      <td id=\"T_7d735_row10_col1\" class=\"data row10 col1\" >Keep</td>\n",
       "      <td id=\"T_7d735_row10_col2\" class=\"data row10 col2\" >Keep</td>\n",
       "      <td id=\"T_7d735_row10_col3\" class=\"data row10 col3\" >Keep</td>\n",
       "      <td id=\"T_7d735_row10_col4\" class=\"data row10 col4\" >Keep</td>\n",
       "      <td id=\"T_7d735_row10_col5\" class=\"data row10 col5\" >Keep</td>\n",
       "      <td id=\"T_7d735_row10_col6\" class=\"data row10 col6\" >100</td>\n",
       "      <td id=\"T_7d735_row10_col7\" class=\"data row10 col7\" >Keep</td>\n",
       "    </tr>\n",
       "    <tr>\n",
       "      <th id=\"T_7d735_level0_row11\" class=\"row_heading level0 row11\" >admission_source</th>\n",
       "      <td id=\"T_7d735_row11_col0\" class=\"data row11 col0\" >-</td>\n",
       "      <td id=\"T_7d735_row11_col1\" class=\"data row11 col1\" >Keep</td>\n",
       "      <td id=\"T_7d735_row11_col2\" class=\"data row11 col2\" >Keep</td>\n",
       "      <td id=\"T_7d735_row11_col3\" class=\"data row11 col3\" >Keep</td>\n",
       "      <td id=\"T_7d735_row11_col4\" class=\"data row11 col4\" >Keep</td>\n",
       "      <td id=\"T_7d735_row11_col5\" class=\"data row11 col5\" >Discard</td>\n",
       "      <td id=\"T_7d735_row11_col6\" class=\"data row11 col6\" >80</td>\n",
       "      <td id=\"T_7d735_row11_col7\" class=\"data row11 col7\" >Keep</td>\n",
       "    </tr>\n",
       "    <tr>\n",
       "      <th id=\"T_7d735_level0_row12\" class=\"row_heading level0 row12\" >stay_length</th>\n",
       "      <td id=\"T_7d735_row12_col0\" class=\"data row12 col0\" >Keep</td>\n",
       "      <td id=\"T_7d735_row12_col1\" class=\"data row12 col1\" >-</td>\n",
       "      <td id=\"T_7d735_row12_col2\" class=\"data row12 col2\" >Keep</td>\n",
       "      <td id=\"T_7d735_row12_col3\" class=\"data row12 col3\" >Keep</td>\n",
       "      <td id=\"T_7d735_row12_col4\" class=\"data row12 col4\" >Discard</td>\n",
       "      <td id=\"T_7d735_row12_col5\" class=\"data row12 col5\" >Keep</td>\n",
       "      <td id=\"T_7d735_row12_col6\" class=\"data row12 col6\" >80</td>\n",
       "      <td id=\"T_7d735_row12_col7\" class=\"data row12 col7\" >Keep</td>\n",
       "    </tr>\n",
       "    <tr>\n",
       "      <th id=\"T_7d735_level0_row13\" class=\"row_heading level0 row13\" >number_lab_tests</th>\n",
       "      <td id=\"T_7d735_row13_col0\" class=\"data row13 col0\" >Keep</td>\n",
       "      <td id=\"T_7d735_row13_col1\" class=\"data row13 col1\" >-</td>\n",
       "      <td id=\"T_7d735_row13_col2\" class=\"data row13 col2\" >Keep</td>\n",
       "      <td id=\"T_7d735_row13_col3\" class=\"data row13 col3\" >Keep</td>\n",
       "      <td id=\"T_7d735_row13_col4\" class=\"data row13 col4\" >Discard</td>\n",
       "      <td id=\"T_7d735_row13_col5\" class=\"data row13 col5\" >Keep</td>\n",
       "      <td id=\"T_7d735_row13_col6\" class=\"data row13 col6\" >80</td>\n",
       "      <td id=\"T_7d735_row13_col7\" class=\"data row13 col7\" >Keep</td>\n",
       "    </tr>\n",
       "    <tr>\n",
       "      <th id=\"T_7d735_level0_row14\" class=\"row_heading level0 row14\" >non_lab_procedures</th>\n",
       "      <td id=\"T_7d735_row14_col0\" class=\"data row14 col0\" >Keep</td>\n",
       "      <td id=\"T_7d735_row14_col1\" class=\"data row14 col1\" >-</td>\n",
       "      <td id=\"T_7d735_row14_col2\" class=\"data row14 col2\" >Keep</td>\n",
       "      <td id=\"T_7d735_row14_col3\" class=\"data row14 col3\" >Keep</td>\n",
       "      <td id=\"T_7d735_row14_col4\" class=\"data row14 col4\" >Discard</td>\n",
       "      <td id=\"T_7d735_row14_col5\" class=\"data row14 col5\" >Keep</td>\n",
       "      <td id=\"T_7d735_row14_col6\" class=\"data row14 col6\" >80</td>\n",
       "      <td id=\"T_7d735_row14_col7\" class=\"data row14 col7\" >Keep</td>\n",
       "    </tr>\n",
       "    <tr>\n",
       "      <th id=\"T_7d735_level0_row15\" class=\"row_heading level0 row15\" >number_of_medications</th>\n",
       "      <td id=\"T_7d735_row15_col0\" class=\"data row15 col0\" >Keep</td>\n",
       "      <td id=\"T_7d735_row15_col1\" class=\"data row15 col1\" >-</td>\n",
       "      <td id=\"T_7d735_row15_col2\" class=\"data row15 col2\" >Keep</td>\n",
       "      <td id=\"T_7d735_row15_col3\" class=\"data row15 col3\" >Keep</td>\n",
       "      <td id=\"T_7d735_row15_col4\" class=\"data row15 col4\" >Keep</td>\n",
       "      <td id=\"T_7d735_row15_col5\" class=\"data row15 col5\" >Keep</td>\n",
       "      <td id=\"T_7d735_row15_col6\" class=\"data row15 col6\" >100</td>\n",
       "      <td id=\"T_7d735_row15_col7\" class=\"data row15 col7\" >Keep</td>\n",
       "    </tr>\n",
       "    <tr>\n",
       "      <th id=\"T_7d735_level0_row16\" class=\"row_heading level0 row16\" >number_diagnoses</th>\n",
       "      <td id=\"T_7d735_row16_col0\" class=\"data row16 col0\" >Keep</td>\n",
       "      <td id=\"T_7d735_row16_col1\" class=\"data row16 col1\" >-</td>\n",
       "      <td id=\"T_7d735_row16_col2\" class=\"data row16 col2\" >Keep</td>\n",
       "      <td id=\"T_7d735_row16_col3\" class=\"data row16 col3\" >Keep</td>\n",
       "      <td id=\"T_7d735_row16_col4\" class=\"data row16 col4\" >Discard</td>\n",
       "      <td id=\"T_7d735_row16_col5\" class=\"data row16 col5\" >Keep</td>\n",
       "      <td id=\"T_7d735_row16_col6\" class=\"data row16 col6\" >80</td>\n",
       "      <td id=\"T_7d735_row16_col7\" class=\"data row16 col7\" >Keep</td>\n",
       "    </tr>\n",
       "    <tr>\n",
       "      <th id=\"T_7d735_level0_row17\" class=\"row_heading level0 row17\" >glucose</th>\n",
       "      <td id=\"T_7d735_row17_col0\" class=\"data row17 col0\" >-</td>\n",
       "      <td id=\"T_7d735_row17_col1\" class=\"data row17 col1\" >Keep</td>\n",
       "      <td id=\"T_7d735_row17_col2\" class=\"data row17 col2\" >Keep</td>\n",
       "      <td id=\"T_7d735_row17_col3\" class=\"data row17 col3\" >Keep</td>\n",
       "      <td id=\"T_7d735_row17_col4\" class=\"data row17 col4\" >Discard</td>\n",
       "      <td id=\"T_7d735_row17_col5\" class=\"data row17 col5\" >Discard</td>\n",
       "      <td id=\"T_7d735_row17_col6\" class=\"data row17 col6\" >60</td>\n",
       "      <td id=\"T_7d735_row17_col7\" class=\"data row17 col7\" >Keep</td>\n",
       "    </tr>\n",
       "    <tr>\n",
       "      <th id=\"T_7d735_level0_row18\" class=\"row_heading level0 row18\" >a1c</th>\n",
       "      <td id=\"T_7d735_row18_col0\" class=\"data row18 col0\" >-</td>\n",
       "      <td id=\"T_7d735_row18_col1\" class=\"data row18 col1\" >Keep</td>\n",
       "      <td id=\"T_7d735_row18_col2\" class=\"data row18 col2\" >Keep</td>\n",
       "      <td id=\"T_7d735_row18_col3\" class=\"data row18 col3\" >Keep</td>\n",
       "      <td id=\"T_7d735_row18_col4\" class=\"data row18 col4\" >Discard</td>\n",
       "      <td id=\"T_7d735_row18_col5\" class=\"data row18 col5\" >Discard</td>\n",
       "      <td id=\"T_7d735_row18_col6\" class=\"data row18 col6\" >60</td>\n",
       "      <td id=\"T_7d735_row18_col7\" class=\"data row18 col7\" >Keep</td>\n",
       "    </tr>\n",
       "    <tr>\n",
       "      <th id=\"T_7d735_level0_row19\" class=\"row_heading level0 row19\" >meds_change</th>\n",
       "      <td id=\"T_7d735_row19_col0\" class=\"data row19 col0\" >-</td>\n",
       "      <td id=\"T_7d735_row19_col1\" class=\"data row19 col1\" >Keep</td>\n",
       "      <td id=\"T_7d735_row19_col2\" class=\"data row19 col2\" >Keep</td>\n",
       "      <td id=\"T_7d735_row19_col3\" class=\"data row19 col3\" >Keep</td>\n",
       "      <td id=\"T_7d735_row19_col4\" class=\"data row19 col4\" >Discard</td>\n",
       "      <td id=\"T_7d735_row19_col5\" class=\"data row19 col5\" >Discard</td>\n",
       "      <td id=\"T_7d735_row19_col6\" class=\"data row19 col6\" >60</td>\n",
       "      <td id=\"T_7d735_row19_col7\" class=\"data row19 col7\" >Keep</td>\n",
       "    </tr>\n",
       "    <tr>\n",
       "      <th id=\"T_7d735_level0_row20\" class=\"row_heading level0 row20\" >prescribed_diabetes_med</th>\n",
       "      <td id=\"T_7d735_row20_col0\" class=\"data row20 col0\" >-</td>\n",
       "      <td id=\"T_7d735_row20_col1\" class=\"data row20 col1\" >Keep</td>\n",
       "      <td id=\"T_7d735_row20_col2\" class=\"data row20 col2\" >Keep</td>\n",
       "      <td id=\"T_7d735_row20_col3\" class=\"data row20 col3\" >Keep</td>\n",
       "      <td id=\"T_7d735_row20_col4\" class=\"data row20 col4\" >Discard</td>\n",
       "      <td id=\"T_7d735_row20_col5\" class=\"data row20 col5\" >Discard</td>\n",
       "      <td id=\"T_7d735_row20_col6\" class=\"data row20 col6\" >60</td>\n",
       "      <td id=\"T_7d735_row20_col7\" class=\"data row20 col7\" >Keep</td>\n",
       "    </tr>\n",
       "    <tr>\n",
       "      <th id=\"T_7d735_level0_row21\" class=\"row_heading level0 row21\" >medication</th>\n",
       "      <td id=\"T_7d735_row21_col0\" class=\"data row21 col0\" >-</td>\n",
       "      <td id=\"T_7d735_row21_col1\" class=\"data row21 col1\" >Keep</td>\n",
       "      <td id=\"T_7d735_row21_col2\" class=\"data row21 col2\" >Keep</td>\n",
       "      <td id=\"T_7d735_row21_col3\" class=\"data row21 col3\" >Keep</td>\n",
       "      <td id=\"T_7d735_row21_col4\" class=\"data row21 col4\" >Discard</td>\n",
       "      <td id=\"T_7d735_row21_col5\" class=\"data row21 col5\" >Keep</td>\n",
       "      <td id=\"T_7d735_row21_col6\" class=\"data row21 col6\" >80</td>\n",
       "      <td id=\"T_7d735_row21_col7\" class=\"data row21 col7\" >Keep</td>\n",
       "    </tr>\n",
       "    <tr>\n",
       "      <th id=\"T_7d735_level0_row22\" class=\"row_heading level0 row22\" >caucasian</th>\n",
       "      <td id=\"T_7d735_row22_col0\" class=\"data row22 col0\" >-</td>\n",
       "      <td id=\"T_7d735_row22_col1\" class=\"data row22 col1\" >Keep</td>\n",
       "      <td id=\"T_7d735_row22_col2\" class=\"data row22 col2\" >Keep</td>\n",
       "      <td id=\"T_7d735_row22_col3\" class=\"data row22 col3\" >Keep</td>\n",
       "      <td id=\"T_7d735_row22_col4\" class=\"data row22 col4\" >Keep</td>\n",
       "      <td id=\"T_7d735_row22_col5\" class=\"data row22 col5\" >Discard</td>\n",
       "      <td id=\"T_7d735_row22_col6\" class=\"data row22 col6\" >80</td>\n",
       "      <td id=\"T_7d735_row22_col7\" class=\"data row22 col7\" >Keep</td>\n",
       "    </tr>\n",
       "    <tr>\n",
       "      <th id=\"T_7d735_level0_row23\" class=\"row_heading level0 row23\" >insurance</th>\n",
       "      <td id=\"T_7d735_row23_col0\" class=\"data row23 col0\" >-</td>\n",
       "      <td id=\"T_7d735_row23_col1\" class=\"data row23 col1\" >Keep</td>\n",
       "      <td id=\"T_7d735_row23_col2\" class=\"data row23 col2\" >Keep</td>\n",
       "      <td id=\"T_7d735_row23_col3\" class=\"data row23 col3\" >Keep</td>\n",
       "      <td id=\"T_7d735_row23_col4\" class=\"data row23 col4\" >Discard</td>\n",
       "      <td id=\"T_7d735_row23_col5\" class=\"data row23 col5\" >Discard</td>\n",
       "      <td id=\"T_7d735_row23_col6\" class=\"data row23 col6\" >60</td>\n",
       "      <td id=\"T_7d735_row23_col7\" class=\"data row23 col7\" >Keep</td>\n",
       "    </tr>\n",
       "    <tr>\n",
       "      <th id=\"T_7d735_level0_row24\" class=\"row_heading level0 row24\" >diagnosis_count</th>\n",
       "      <td id=\"T_7d735_row24_col0\" class=\"data row24 col0\" >Discard</td>\n",
       "      <td id=\"T_7d735_row24_col1\" class=\"data row24 col1\" >-</td>\n",
       "      <td id=\"T_7d735_row24_col2\" class=\"data row24 col2\" >Keep</td>\n",
       "      <td id=\"T_7d735_row24_col3\" class=\"data row24 col3\" >Discard</td>\n",
       "      <td id=\"T_7d735_row24_col4\" class=\"data row24 col4\" >Discard</td>\n",
       "      <td id=\"T_7d735_row24_col5\" class=\"data row24 col5\" >Discard</td>\n",
       "      <td id=\"T_7d735_row24_col6\" class=\"data row24 col6\" >20</td>\n",
       "      <td id=\"T_7d735_row24_col7\" class=\"data row24 col7\" >Discard</td>\n",
       "    </tr>\n",
       "    <tr>\n",
       "      <th id=\"T_7d735_level0_row25\" class=\"row_heading level0 row25\" >total_procedures</th>\n",
       "      <td id=\"T_7d735_row25_col0\" class=\"data row25 col0\" >Discard</td>\n",
       "      <td id=\"T_7d735_row25_col1\" class=\"data row25 col1\" >-</td>\n",
       "      <td id=\"T_7d735_row25_col2\" class=\"data row25 col2\" >Keep</td>\n",
       "      <td id=\"T_7d735_row25_col3\" class=\"data row25 col3\" >Discard</td>\n",
       "      <td id=\"T_7d735_row25_col4\" class=\"data row25 col4\" >Discard</td>\n",
       "      <td id=\"T_7d735_row25_col5\" class=\"data row25 col5\" >Keep</td>\n",
       "      <td id=\"T_7d735_row25_col6\" class=\"data row25 col6\" >40</td>\n",
       "      <td id=\"T_7d735_row25_col7\" class=\"data row25 col7\" >Discard</td>\n",
       "    </tr>\n",
       "    <tr>\n",
       "      <th id=\"T_7d735_level0_row26\" class=\"row_heading level0 row26\" >total_visits</th>\n",
       "      <td id=\"T_7d735_row26_col0\" class=\"data row26 col0\" >Keep</td>\n",
       "      <td id=\"T_7d735_row26_col1\" class=\"data row26 col1\" >-</td>\n",
       "      <td id=\"T_7d735_row26_col2\" class=\"data row26 col2\" >Keep</td>\n",
       "      <td id=\"T_7d735_row26_col3\" class=\"data row26 col3\" >Keep</td>\n",
       "      <td id=\"T_7d735_row26_col4\" class=\"data row26 col4\" >Keep</td>\n",
       "      <td id=\"T_7d735_row26_col5\" class=\"data row26 col5\" >Discard</td>\n",
       "      <td id=\"T_7d735_row26_col6\" class=\"data row26 col6\" >80</td>\n",
       "      <td id=\"T_7d735_row26_col7\" class=\"data row26 col7\" >Keep</td>\n",
       "    </tr>\n",
       "    <tr>\n",
       "      <th id=\"T_7d735_level0_row27\" class=\"row_heading level0 row27\" >age_group</th>\n",
       "      <td id=\"T_7d735_row27_col0\" class=\"data row27 col0\" >-</td>\n",
       "      <td id=\"T_7d735_row27_col1\" class=\"data row27 col1\" >Keep</td>\n",
       "      <td id=\"T_7d735_row27_col2\" class=\"data row27 col2\" >Keep</td>\n",
       "      <td id=\"T_7d735_row27_col3\" class=\"data row27 col3\" >Keep</td>\n",
       "      <td id=\"T_7d735_row27_col4\" class=\"data row27 col4\" >Discard</td>\n",
       "      <td id=\"T_7d735_row27_col5\" class=\"data row27 col5\" >Discard</td>\n",
       "      <td id=\"T_7d735_row27_col6\" class=\"data row27 col6\" >60</td>\n",
       "      <td id=\"T_7d735_row27_col7\" class=\"data row27 col7\" >Keep</td>\n",
       "    </tr>\n",
       "    <tr>\n",
       "      <th id=\"T_7d735_level0_row28\" class=\"row_heading level0 row28\" >encounter_count</th>\n",
       "      <td id=\"T_7d735_row28_col0\" class=\"data row28 col0\" >Keep</td>\n",
       "      <td id=\"T_7d735_row28_col1\" class=\"data row28 col1\" >-</td>\n",
       "      <td id=\"T_7d735_row28_col2\" class=\"data row28 col2\" >Keep</td>\n",
       "      <td id=\"T_7d735_row28_col3\" class=\"data row28 col3\" >Keep</td>\n",
       "      <td id=\"T_7d735_row28_col4\" class=\"data row28 col4\" >Keep</td>\n",
       "      <td id=\"T_7d735_row28_col5\" class=\"data row28 col5\" >Keep</td>\n",
       "      <td id=\"T_7d735_row28_col6\" class=\"data row28 col6\" >100</td>\n",
       "      <td id=\"T_7d735_row28_col7\" class=\"data row28 col7\" >Keep</td>\n",
       "    </tr>\n",
       "    <tr>\n",
       "      <th id=\"T_7d735_level0_row29\" class=\"row_heading level0 row29\" >avg_length_of_stay</th>\n",
       "      <td id=\"T_7d735_row29_col0\" class=\"data row29 col0\" >Discard</td>\n",
       "      <td id=\"T_7d735_row29_col1\" class=\"data row29 col1\" >-</td>\n",
       "      <td id=\"T_7d735_row29_col2\" class=\"data row29 col2\" >Keep</td>\n",
       "      <td id=\"T_7d735_row29_col3\" class=\"data row29 col3\" >Keep</td>\n",
       "      <td id=\"T_7d735_row29_col4\" class=\"data row29 col4\" >Keep</td>\n",
       "      <td id=\"T_7d735_row29_col5\" class=\"data row29 col5\" >Keep</td>\n",
       "      <td id=\"T_7d735_row29_col6\" class=\"data row29 col6\" >80</td>\n",
       "      <td id=\"T_7d735_row29_col7\" class=\"data row29 col7\" >Keep</td>\n",
       "    </tr>\n",
       "    <tr>\n",
       "      <th id=\"T_7d735_level0_row30\" class=\"row_heading level0 row30\" >total_visists_pp</th>\n",
       "      <td id=\"T_7d735_row30_col0\" class=\"data row30 col0\" >Discard</td>\n",
       "      <td id=\"T_7d735_row30_col1\" class=\"data row30 col1\" >-</td>\n",
       "      <td id=\"T_7d735_row30_col2\" class=\"data row30 col2\" >Keep</td>\n",
       "      <td id=\"T_7d735_row30_col3\" class=\"data row30 col3\" >Keep</td>\n",
       "      <td id=\"T_7d735_row30_col4\" class=\"data row30 col4\" >Keep</td>\n",
       "      <td id=\"T_7d735_row30_col5\" class=\"data row30 col5\" >Keep</td>\n",
       "      <td id=\"T_7d735_row30_col6\" class=\"data row30 col6\" >80</td>\n",
       "      <td id=\"T_7d735_row30_col7\" class=\"data row30 col7\" >Keep</td>\n",
       "    </tr>\n",
       "    <tr>\n",
       "      <th id=\"T_7d735_level0_row31\" class=\"row_heading level0 row31\" >diag1_type</th>\n",
       "      <td id=\"T_7d735_row31_col0\" class=\"data row31 col0\" >-</td>\n",
       "      <td id=\"T_7d735_row31_col1\" class=\"data row31 col1\" >Keep</td>\n",
       "      <td id=\"T_7d735_row31_col2\" class=\"data row31 col2\" >Keep</td>\n",
       "      <td id=\"T_7d735_row31_col3\" class=\"data row31 col3\" >Keep</td>\n",
       "      <td id=\"T_7d735_row31_col4\" class=\"data row31 col4\" >Keep</td>\n",
       "      <td id=\"T_7d735_row31_col5\" class=\"data row31 col5\" >Keep</td>\n",
       "      <td id=\"T_7d735_row31_col6\" class=\"data row31 col6\" >100</td>\n",
       "      <td id=\"T_7d735_row31_col7\" class=\"data row31 col7\" >Keep</td>\n",
       "    </tr>\n",
       "    <tr>\n",
       "      <th id=\"T_7d735_level0_row32\" class=\"row_heading level0 row32\" >diag2_type</th>\n",
       "      <td id=\"T_7d735_row32_col0\" class=\"data row32 col0\" >-</td>\n",
       "      <td id=\"T_7d735_row32_col1\" class=\"data row32 col1\" >Keep</td>\n",
       "      <td id=\"T_7d735_row32_col2\" class=\"data row32 col2\" >Keep</td>\n",
       "      <td id=\"T_7d735_row32_col3\" class=\"data row32 col3\" >Keep</td>\n",
       "      <td id=\"T_7d735_row32_col4\" class=\"data row32 col4\" >Discard</td>\n",
       "      <td id=\"T_7d735_row32_col5\" class=\"data row32 col5\" >Keep</td>\n",
       "      <td id=\"T_7d735_row32_col6\" class=\"data row32 col6\" >80</td>\n",
       "      <td id=\"T_7d735_row32_col7\" class=\"data row32 col7\" >Keep</td>\n",
       "    </tr>\n",
       "    <tr>\n",
       "      <th id=\"T_7d735_level0_row33\" class=\"row_heading level0 row33\" >diag_add_type</th>\n",
       "      <td id=\"T_7d735_row33_col0\" class=\"data row33 col0\" >-</td>\n",
       "      <td id=\"T_7d735_row33_col1\" class=\"data row33 col1\" >Keep</td>\n",
       "      <td id=\"T_7d735_row33_col2\" class=\"data row33 col2\" >Keep</td>\n",
       "      <td id=\"T_7d735_row33_col3\" class=\"data row33 col3\" >Keep</td>\n",
       "      <td id=\"T_7d735_row33_col4\" class=\"data row33 col4\" >Discard</td>\n",
       "      <td id=\"T_7d735_row33_col5\" class=\"data row33 col5\" >Keep</td>\n",
       "      <td id=\"T_7d735_row33_col6\" class=\"data row33 col6\" >80</td>\n",
       "      <td id=\"T_7d735_row33_col7\" class=\"data row33 col7\" >Keep</td>\n",
       "    </tr>\n",
       "    <tr>\n",
       "      <th id=\"T_7d735_level0_row34\" class=\"row_heading level0 row34\" >diabetes_type</th>\n",
       "      <td id=\"T_7d735_row34_col0\" class=\"data row34 col0\" >-</td>\n",
       "      <td id=\"T_7d735_row34_col1\" class=\"data row34 col1\" >Keep</td>\n",
       "      <td id=\"T_7d735_row34_col2\" class=\"data row34 col2\" >Keep</td>\n",
       "      <td id=\"T_7d735_row34_col3\" class=\"data row34 col3\" >Keep</td>\n",
       "      <td id=\"T_7d735_row34_col4\" class=\"data row34 col4\" >Discard</td>\n",
       "      <td id=\"T_7d735_row34_col5\" class=\"data row34 col5\" >Discard</td>\n",
       "      <td id=\"T_7d735_row34_col6\" class=\"data row34 col6\" >60</td>\n",
       "      <td id=\"T_7d735_row34_col7\" class=\"data row34 col7\" >Keep</td>\n",
       "    </tr>\n",
       "  </tbody>\n",
       "</table>\n"
      ],
      "text/plain": [
       "<pandas.io.formats.style.Styler at 0x1def9acfca0>"
      ]
     },
     "execution_count": 152,
     "metadata": {},
     "output_type": "execute_result"
    }
   ],
   "source": [
    "data = pd.read_excel('FeatureSelection.xlsx', sheet_name='multiclass', index_col='Variables')\n",
    "data['% Keep'] = (data['% Keep'] * 100).astype(int)\n",
    "def highlight_keep_rows(row):\n",
    "    if row['Decision'] == 'Keep':\n",
    "        return ['background-color: #d4edda'] * len(row)\n",
    "    else:\n",
    "        return [''] * len(row)\n",
    "styled_data = data.style.apply(highlight_keep_rows, axis=1)\n",
    "styled_data"
   ]
  },
  {
   "cell_type": "code",
   "execution_count": 153,
   "id": "6812f50c",
   "metadata": {},
   "outputs": [
    {
     "data": {
      "text/plain": [
       "(16518, 35)"
      ]
     },
     "execution_count": 153,
     "metadata": {},
     "output_type": "execute_result"
    }
   ],
   "source": [
    "X_train.shape"
   ]
  },
  {
   "cell_type": "code",
   "execution_count": 154,
   "id": "6212fd02",
   "metadata": {
    "scrolled": true
   },
   "outputs": [],
   "source": [
    "X_train.drop(['gender','diagnosis_count', 'total_procedures'], axis=1, inplace=True)"
   ]
  },
  {
   "cell_type": "code",
   "execution_count": 155,
   "id": "cb20ab1d",
   "metadata": {},
   "outputs": [],
   "source": [
    "X_val.drop(['gender','diagnosis_count', 'total_procedures'],\n",
    " axis=1, inplace=True)"
   ]
  },
  {
   "cell_type": "code",
   "execution_count": 156,
   "id": "6e3721ea",
   "metadata": {},
   "outputs": [],
   "source": [
    "test.drop(['gender','diagnosis_count', 'total_procedures'],\n",
    " axis=1, inplace=True)"
   ]
  },
  {
   "cell_type": "code",
   "execution_count": 157,
   "id": "f3dcc7aa",
   "metadata": {},
   "outputs": [],
   "source": [
    "X_train_no_res.drop(['gender','diagnosis_count', 'total_procedures'], axis=1, inplace=True)"
   ]
  },
  {
   "cell_type": "markdown",
   "id": "e3230314",
   "metadata": {},
   "source": [
    "<hr style=\"border: 1px solid black;\">\n",
    "<a class=\"anchor\" id=\"models\"></a>\n",
    "\n",
    "# <span style=\"color:black\">13. Models </span>"
   ]
  },
  {
   "cell_type": "code",
   "execution_count": 158,
   "id": "458ef0df",
   "metadata": {},
   "outputs": [],
   "source": [
    "def metrics(y_train, pred_train , y_val, pred_val):\n",
    "    print('___________________________________________________________________________________________________________')\n",
    "    print('                                                     TRAIN                                                 ')\n",
    "    print('-----------------------------------------------------------------------------------------------------------')\n",
    "    print(classification_report(y_train, labels_train))\n",
    "    print(confusion_matrix(y_train, labels_train))\n",
    "\n",
    "\n",
    "    print('___________________________________________________________________________________________________________')\n",
    "    print('                                                VALIDATION                                                 ')\n",
    "    print('-----------------------------------------------------------------------------------------------------------')\n",
    "    print(classification_report(y_val, labels_val))\n",
    "    print(confusion_matrix(y_val, labels_val))"
   ]
  },
  {
   "cell_type": "markdown",
   "id": "61ca6ef5",
   "metadata": {},
   "source": [
    "<a class=\"anchor\" id=\"bayes\"></a>\n",
    "\n",
    "## <span style=\"color:black\">13.1. Bayes Classifier </span>"
   ]
  },
  {
   "cell_type": "markdown",
   "id": "a91c6675",
   "metadata": {},
   "source": [
    "* Default Parameteres"
   ]
  },
  {
   "cell_type": "code",
   "execution_count": 159,
   "id": "847bc00a",
   "metadata": {},
   "outputs": [],
   "source": [
    "model_bayes = GaussianNB().fit(X_train, y_train)"
   ]
  },
  {
   "cell_type": "code",
   "execution_count": 160,
   "id": "83561456",
   "metadata": {
    "scrolled": true
   },
   "outputs": [],
   "source": [
    "labels_train = model_bayes.predict(X_train)\n",
    "labels_val = model_bayes.predict(X_val)"
   ]
  },
  {
   "cell_type": "code",
   "execution_count": 161,
   "id": "387c2ad4",
   "metadata": {
    "scrolled": true
   },
   "outputs": [
    {
     "data": {
      "text/plain": [
       "array([[9.96148746e-01, 1.81497946e-03, 2.03627460e-03],\n",
       "       [9.67275292e-01, 8.36902995e-03, 2.43556784e-02],\n",
       "       [1.94818365e-05, 5.59764340e-01, 4.40216178e-01],\n",
       "       ...,\n",
       "       [9.98213444e-01, 5.83261937e-04, 1.20329449e-03],\n",
       "       [9.66634933e-04, 2.50455730e-01, 7.48577635e-01],\n",
       "       [1.03729472e-04, 3.66827397e-01, 6.33068874e-01]])"
      ]
     },
     "execution_count": 161,
     "metadata": {},
     "output_type": "execute_result"
    }
   ],
   "source": [
    "model_bayes.predict_proba(X_val)"
   ]
  },
  {
   "cell_type": "code",
   "execution_count": 162,
   "id": "54417ea1",
   "metadata": {},
   "outputs": [
    {
     "name": "stdout",
     "output_type": "stream",
     "text": [
      "Train: 0.4004155150685152\n",
      "Validation: 0.500196017181752\n"
     ]
    }
   ],
   "source": [
    "print('Train:', f1_score(y_train, labels_train, average='weighted'))\n",
    "print('Validation:', f1_score(y_val, labels_val, average='weighted'))"
   ]
  },
  {
   "cell_type": "code",
   "execution_count": 163,
   "id": "62da3e00",
   "metadata": {},
   "outputs": [
    {
     "name": "stdout",
     "output_type": "stream",
     "text": [
      "___________________________________________________________________________________________________________\n",
      "                                                     TRAIN                                                 \n",
      "-----------------------------------------------------------------------------------------------------------\n",
      "              precision    recall  f1-score   support\n",
      "\n",
      "           0       0.43      0.89      0.58      5506\n",
      "           1       0.55      0.21      0.31      5506\n",
      "           2       0.44      0.24      0.31      5506\n",
      "\n",
      "    accuracy                           0.45     16518\n",
      "   macro avg       0.47      0.45      0.40     16518\n",
      "weighted avg       0.47      0.45      0.40     16518\n",
      "\n",
      "[[4898  193  415]\n",
      " [3039 1183 1284]\n",
      " [3396  784 1326]]\n",
      "___________________________________________________________________________________________________________\n",
      "                                                VALIDATION                                                 \n",
      "-----------------------------------------------------------------------------------------------------------\n",
      "              precision    recall  f1-score   support\n",
      "\n",
      "           0       0.60      0.90      0.72     11173\n",
      "           1       0.24      0.16      0.19      2385\n",
      "           2       0.54      0.18      0.27      7464\n",
      "\n",
      "    accuracy                           0.56     21022\n",
      "   macro avg       0.46      0.41      0.39     21022\n",
      "weighted avg       0.54      0.56      0.50     21022\n",
      "\n",
      "[[10099   379   695]\n",
      " [ 1567   374   444]\n",
      " [ 5296   805  1363]]\n"
     ]
    }
   ],
   "source": [
    "metrics(y_train, labels_train, y_val, labels_val)"
   ]
  },
  {
   "cell_type": "markdown",
   "id": "d6ac9d31",
   "metadata": {},
   "source": [
    "<a class=\"anchor\" id=\"knnmodel\"></a>\n",
    "\n",
    "## <span style=\"color:black\">13.2. KNN </span>"
   ]
  },
  {
   "cell_type": "code",
   "execution_count": 164,
   "id": "395de457",
   "metadata": {},
   "outputs": [],
   "source": [
    "modelKNNT = KNeighborsClassifier().fit(X_train, y_train)"
   ]
  },
  {
   "cell_type": "code",
   "execution_count": 165,
   "id": "a3cf64f5",
   "metadata": {},
   "outputs": [],
   "source": [
    "labels_train = modelKNNT.predict(X_train)\n",
    "labels_val = modelKNNT.predict(X_val)"
   ]
  },
  {
   "cell_type": "code",
   "execution_count": 166,
   "id": "6c8b8970",
   "metadata": {},
   "outputs": [
    {
     "name": "stdout",
     "output_type": "stream",
     "text": [
      "Train: 0.5876948236217194\n",
      "Validation: 0.43999321775423683\n"
     ]
    }
   ],
   "source": [
    "print('Train:', f1_score(y_train, labels_train, average='weighted'))\n",
    "print('Validation:', f1_score(y_val, labels_val, average='weighted'))"
   ]
  },
  {
   "cell_type": "code",
   "execution_count": 167,
   "id": "f36f725a",
   "metadata": {},
   "outputs": [
    {
     "name": "stdout",
     "output_type": "stream",
     "text": [
      "___________________________________________________________________________________________________________\n",
      "                                                     TRAIN                                                 \n",
      "-----------------------------------------------------------------------------------------------------------\n",
      "              precision    recall  f1-score   support\n",
      "\n",
      "           0       0.56      0.76      0.64      5506\n",
      "           1       0.60      0.57      0.59      5506\n",
      "           2       0.66      0.45      0.53      5506\n",
      "\n",
      "    accuracy                           0.59     16518\n",
      "   macro avg       0.61      0.59      0.59     16518\n",
      "weighted avg       0.61      0.59      0.59     16518\n",
      "\n",
      "[[4199  737  570]\n",
      " [1653 3155  698]\n",
      " [1709 1338 2459]]\n",
      "___________________________________________________________________________________________________________\n",
      "                                                VALIDATION                                                 \n",
      "-----------------------------------------------------------------------------------------------------------\n",
      "              precision    recall  f1-score   support\n",
      "\n",
      "           0       0.59      0.58      0.58     11173\n",
      "           1       0.15      0.35      0.21      2385\n",
      "           2       0.41      0.24      0.30      7464\n",
      "\n",
      "    accuracy                           0.43     21022\n",
      "   macro avg       0.38      0.39      0.36     21022\n",
      "weighted avg       0.47      0.43      0.44     21022\n",
      "\n",
      "[[6464 2623 2086]\n",
      " [1060  823  502]\n",
      " [3496 2183 1785]]\n"
     ]
    }
   ],
   "source": [
    "metrics(y_train, labels_train, y_val, labels_val)"
   ]
  },
  {
   "cell_type": "code",
   "execution_count": 168,
   "id": "41791fcf",
   "metadata": {},
   "outputs": [],
   "source": [
    "# clf = GridSearchCV(estimator=KNeighborsClassifier(),\n",
    "#                    param_grid={\n",
    "#                        'algorithm': ['ball_tree', 'kd_tree', 'brute'],\n",
    "#                        'weights': ['uniform', 'distance'],\n",
    "#                        'leaf_size':\n",
    "#                        (5, 50, 100),\n",
    "#                        'n_jobs': (1, -1, -2),\n",
    "#                        'n_neighbors':[1,5,10]\n",
    "#                    })\n",
    "# clf.fit(X_train, y_train)\n",
    "# clf.best_params_"
   ]
  },
  {
   "cell_type": "code",
   "execution_count": 169,
   "id": "a21ccf37",
   "metadata": {},
   "outputs": [
    {
     "name": "stdout",
     "output_type": "stream",
     "text": [
      "Best number of neighbors: 19\n",
      "Mean F1 score in train with 19 neighbors: 0.503801\n",
      "Mean F1 score in validation with 19 neighbors: 0.464263\n"
     ]
    }
   ],
   "source": [
    "# numberK_list = np.arange(1, 21)\n",
    "# high_score = 0\n",
    "# best_f1_score = 0\n",
    "# best_nof = 0\n",
    "# score_list_train = []\n",
    "# score_list_val = []\n",
    "# f1_list_train = []\n",
    "# f1_list_val = []\n",
    "# for n in numberK_list:\n",
    "#     model = KNeighborsClassifier(n_neighbors=n).fit(X_train, y_train)\n",
    "#     score_train = model.score(X_train, y_train)\n",
    "#     score_val = model.score(X_val, y_val)\n",
    "#     score_list_train.append(score_train)\n",
    "#     score_list_val.append(score_val)\n",
    "\n",
    "#     y_pred_train = model.predict(X_train)\n",
    "#     y_pred_val = model.predict(X_val)\n",
    "\n",
    "#     f1_train = f1_score(y_train, y_pred_train, average='weighted')\n",
    "#     f1_val = f1_score(y_val, y_pred_val, average='weighted')\n",
    "\n",
    "#     f1_list_train.append(f1_train)\n",
    "#     f1_list_val.append(f1_val)\n",
    "\n",
    "#     if f1_val > high_score:\n",
    "#         high_score = f1_val\n",
    "#         best_f1_score = f1_list_val[n - 1]\n",
    "#         best_nof = numberK_list[n - 1]\n",
    "\n",
    "# print(\"Best number of neighbors: %d\" % best_nof)\n",
    "# print(\"Mean F1 score in train with %d neighbors: %f\" % (best_nof, f1_list_train[best_nof - 1]))\n",
    "# print(\"Mean F1 score in validation with %d neighbors: %f\" % (best_nof, best_f1_score))"
   ]
  },
  {
   "cell_type": "code",
   "execution_count": 171,
   "id": "ae67c3b2",
   "metadata": {},
   "outputs": [
    {
     "name": "stdout",
     "output_type": "stream",
     "text": [
      "Best Hyperparameters: {'algorithm': 'brute', 'leaf_size': 56, 'n_jobs': 1, 'n_neighbors': 15, 'weights': 'uniform'}\n",
      "Train: 0.5876948236217194\n",
      "Validation: 0.43999321775423683\n"
     ]
    }
   ],
   "source": [
    "# param_dist = {\n",
    "#     'algorithm': ['ball_tree', 'kd_tree', 'brute'],\n",
    "#     'weights': ['uniform', 'distance'],\n",
    "#     'leaf_size':randint(5, 100),\n",
    "#     'n_jobs': (1, -1, -2),\n",
    "#     'n_neighbors':randint(1, 50)\n",
    "# }\n",
    "\n",
    "# base_model = KNeighborsClassifier()\n",
    "\n",
    "# random_search = RandomizedSearchCV(\n",
    "#     base_model,\n",
    "#     param_distributions=param_dist,\n",
    "#     n_iter=10, \n",
    "#     cv=5,      \n",
    "#     scoring='f1',  \n",
    "#     random_state=42,\n",
    "#     n_jobs=-1,\n",
    "# )\n",
    "\n",
    "# random_search.fit(X_train, y_train)\n",
    "\n",
    "# print(\"Best Hyperparameters:\", random_search.best_params_)\n",
    "\n",
    "# best_model = random_search.best_estimator_\n",
    "\n",
    "# train_pred = best_model.predict(X_train)\n",
    "# train_f1 = f1_score(y_train, train_pred, average='weighted')\n",
    "# print('Train:', f1_score(y_train, labels_train, average='weighted'))\n",
    "\n",
    "\n",
    "# val_pred = best_model.predict(X_val)\n",
    "# val_f1 = f1_score(y_val, val_pred, average='weighted')\n",
    "# print('Validation:', f1_score(y_val, labels_val, average='weighted'))"
   ]
  },
  {
   "cell_type": "code",
   "execution_count": 172,
   "id": "a28907f2",
   "metadata": {},
   "outputs": [],
   "source": [
    "modelKNNT = KNeighborsClassifier(algorithm= 'brute', leaf_size=56, n_jobs=1, n_neighbors=50, weights= 'uniform').fit(X_train,y_train)"
   ]
  },
  {
   "cell_type": "code",
   "execution_count": 173,
   "id": "2d8bb3ad",
   "metadata": {},
   "outputs": [],
   "source": [
    "labels_train = modelKNNT.predict(X_train)\n",
    "labels_val = modelKNNT.predict(X_val)"
   ]
  },
  {
   "cell_type": "code",
   "execution_count": 174,
   "id": "8f589999",
   "metadata": {},
   "outputs": [
    {
     "name": "stdout",
     "output_type": "stream",
     "text": [
      "Train: 0.46955427911023595\n",
      "Validation: 0.4711268507368554\n"
     ]
    }
   ],
   "source": [
    "print('Train:', f1_score(y_train, labels_train, average='weighted'))\n",
    "print('Validation:', f1_score(y_val, labels_val, average='weighted'))"
   ]
  },
  {
   "cell_type": "code",
   "execution_count": 175,
   "id": "43690d69",
   "metadata": {},
   "outputs": [
    {
     "name": "stdout",
     "output_type": "stream",
     "text": [
      "___________________________________________________________________________________________________________\n",
      "                                                     TRAIN                                                 \n",
      "-----------------------------------------------------------------------------------------------------------\n",
      "              precision    recall  f1-score   support\n",
      "\n",
      "           0       0.49      0.59      0.54      5506\n",
      "           1       0.49      0.40      0.44      5506\n",
      "           2       0.43      0.43      0.43      5506\n",
      "\n",
      "    accuracy                           0.47     16518\n",
      "   macro avg       0.47      0.47      0.47     16518\n",
      "weighted avg       0.47      0.47      0.47     16518\n",
      "\n",
      "[[3248  878 1380]\n",
      " [1605 2175 1726]\n",
      " [1727 1392 2387]]\n",
      "___________________________________________________________________________________________________________\n",
      "                                                VALIDATION                                                 \n",
      "-----------------------------------------------------------------------------------------------------------\n",
      "              precision    recall  f1-score   support\n",
      "\n",
      "           0       0.63      0.55      0.59     11173\n",
      "           1       0.16      0.32      0.22      2385\n",
      "           2       0.41      0.36      0.38      7464\n",
      "\n",
      "    accuracy                           0.46     21022\n",
      "   macro avg       0.40      0.41      0.39     21022\n",
      "weighted avg       0.50      0.46      0.47     21022\n",
      "\n",
      "[[6170 1908 3095]\n",
      " [ 832  754  799]\n",
      " [2858 1944 2662]]\n"
     ]
    }
   ],
   "source": [
    "metrics(y_train, labels_train, y_val, labels_val)"
   ]
  },
  {
   "cell_type": "markdown",
   "id": "695cdcf9",
   "metadata": {},
   "source": [
    "<a class=\"anchor\" id=\"dt\"></a>\n",
    "\n",
    "## <span style=\"color:black\">13.3. Decision Trees </span>"
   ]
  },
  {
   "cell_type": "code",
   "execution_count": 176,
   "id": "c5bd3b4f",
   "metadata": {},
   "outputs": [],
   "source": [
    "modelDT = DecisionTreeClassifier(random_state=42, class_weight = 'balanced').fit(X_train, y_train)"
   ]
  },
  {
   "cell_type": "code",
   "execution_count": 177,
   "id": "c4c9706d",
   "metadata": {},
   "outputs": [],
   "source": [
    "labels_train =modelDT.predict(X_train_no_res)\n",
    "labels_val = modelDT.predict(X_val)"
   ]
  },
  {
   "cell_type": "code",
   "execution_count": 178,
   "id": "1d4ee879",
   "metadata": {},
   "outputs": [
    {
     "name": "stdout",
     "output_type": "stream",
     "text": [
      "Train: 0.6490909061800659\n",
      "Validation: 0.45702598714391096\n"
     ]
    }
   ],
   "source": [
    "print('Train:', f1_score(y_train_no_res, labels_train, average='weighted'))\n",
    "print('Validation:', f1_score(y_val, labels_val, average='weighted'))"
   ]
  },
  {
   "cell_type": "code",
   "execution_count": 179,
   "id": "ad577456",
   "metadata": {},
   "outputs": [
    {
     "name": "stdout",
     "output_type": "stream",
     "text": [
      "___________________________________________________________________________________________________________\n",
      "                                                     TRAIN                                                 \n",
      "-----------------------------------------------------------------------------------------------------------\n",
      "              precision    recall  f1-score   support\n",
      "\n",
      "           0       0.83      0.60      0.70     26038\n",
      "           1       0.39      1.00      0.56      5506\n",
      "           2       0.64      0.57      0.60     17336\n",
      "\n",
      "    accuracy                           0.64     48880\n",
      "   macro avg       0.62      0.73      0.62     48880\n",
      "weighted avg       0.71      0.64      0.65     48880\n",
      "\n",
      "[[15737  4598  5703]\n",
      " [    0  5506     0]\n",
      " [ 3237  4155  9944]]\n",
      "___________________________________________________________________________________________________________\n",
      "                                                VALIDATION                                                 \n",
      "-----------------------------------------------------------------------------------------------------------\n",
      "              precision    recall  f1-score   support\n",
      "\n",
      "           0       0.64      0.51      0.56     11173\n",
      "           1       0.16      0.37      0.22      2385\n",
      "           2       0.40      0.35      0.37      7464\n",
      "\n",
      "    accuracy                           0.43     21022\n",
      "   macro avg       0.40      0.41      0.39     21022\n",
      "weighted avg       0.50      0.43      0.46     21022\n",
      "\n",
      "[[5657 2420 3096]\n",
      " [ 729  884  772]\n",
      " [2508 2358 2598]]\n"
     ]
    }
   ],
   "source": [
    "metrics(y_train_no_res, labels_train, y_val, labels_val)"
   ]
  },
  {
   "cell_type": "code",
   "execution_count": 180,
   "id": "54a62b0c",
   "metadata": {},
   "outputs": [],
   "source": [
    "# dt_grid_search = GridSearchCV(estimator=DecisionTreeClassifier(),\n",
    "#                    param_grid={\n",
    "#                        'criterion': ['gini', 'entropy', 'log_loss'],\n",
    "#                        'splitter': ['best', 'random'],\n",
    "#                        'max_depth': [2,3,4,5,6],\n",
    "#                        'max_features': [2,4,6,8, None],\n",
    "#                        'max_leaf_nodes': [4,8,12, None]\n",
    "#                    })\n",
    "# dt_grid_search.fit(X_train, y_train)\n",
    "# dt_grid_search.best_params_"
   ]
  },
  {
   "cell_type": "code",
   "execution_count": 181,
   "id": "e2979764",
   "metadata": {},
   "outputs": [
    {
     "name": "stdout",
     "output_type": "stream",
     "text": [
      "Best Hyperparameters: {'splitter': 'best', 'max_leaf_nodes': 4, 'max_features': 8, 'max_depth': 1, 'criterion': 'gini'}\n",
      "Train F1-score: 0.3945345923023288\n",
      "Validation F1-score: 0.38671481221671633\n"
     ]
    }
   ],
   "source": [
    "# param_dist = {\n",
    "#    'criterion': ['gini', 'entropy', 'log_loss'],\n",
    "#                        'splitter': ['best', 'random'],\n",
    "#                        'max_depth': (1,20),\n",
    "#                        'max_features': [2,4,6,8, None],\n",
    "#                        'max_leaf_nodes': [4,8,12, None]\n",
    "# }\n",
    "\n",
    "# base_model = DecisionTreeClassifier(random_state=42, class_weight = 'balanced')\n",
    "\n",
    "# random_search = RandomizedSearchCV(\n",
    "#     base_model,\n",
    "#     param_distributions=param_dist,\n",
    "#     n_iter=10, \n",
    "#     cv=5,      \n",
    "#     scoring='f1',  \n",
    "#     random_state=42,\n",
    "#     n_jobs=-1,\n",
    "# )\n",
    "\n",
    "# random_search.fit(X_train_no_res, y_train_no_res)\n",
    "\n",
    "# print(\"Best Hyperparameters:\", random_search.best_params_)\n",
    "\n",
    "# best_model = random_search.best_estimator_\n",
    "\n",
    "# train_pred = best_model.predict(X_train_no_res)\n",
    "# train_f1 = f1_score(y_train_no_res, train_pred, average='weighted')\n",
    "# print(\"Train F1-score:\", train_f1)\n",
    "\n",
    "# val_pred = best_model.predict(X_val)\n",
    "# val_f1 = f1_score(y_val, val_pred, average='weighted')\n",
    "# print(\"Validation F1-score:\", val_f1)"
   ]
  },
  {
   "cell_type": "code",
   "execution_count": 182,
   "id": "20d20917",
   "metadata": {},
   "outputs": [],
   "source": [
    "modelDT = DecisionTreeClassifier(random_state=42, class_weight = 'balanced',splitter='best', max_leaf_nodes= 4, max_features= 8, max_depth= 20, criterion= 'gini' ).fit(X_train, y_train)"
   ]
  },
  {
   "cell_type": "code",
   "execution_count": 183,
   "id": "4aaa670a",
   "metadata": {},
   "outputs": [],
   "source": [
    "labels_train =modelDT.predict(X_train_no_res)\n",
    "labels_val = modelDT.predict(X_val)"
   ]
  },
  {
   "cell_type": "code",
   "execution_count": 184,
   "id": "3ab3277d",
   "metadata": {},
   "outputs": [
    {
     "name": "stdout",
     "output_type": "stream",
     "text": [
      "Train: 0.5513297075994923\n",
      "Validation: 0.5414015682010307\n"
     ]
    }
   ],
   "source": [
    "print('Train:', f1_score(y_train_no_res, labels_train, average='weighted'))\n",
    "print('Validation:', f1_score(y_val, labels_val, average='weighted'))"
   ]
  },
  {
   "cell_type": "code",
   "execution_count": 185,
   "id": "585c2904",
   "metadata": {},
   "outputs": [
    {
     "name": "stdout",
     "output_type": "stream",
     "text": [
      "___________________________________________________________________________________________________________\n",
      "                                                     TRAIN                                                 \n",
      "-----------------------------------------------------------------------------------------------------------\n",
      "              precision    recall  f1-score   support\n",
      "\n",
      "           0       0.72      0.65      0.68     26038\n",
      "           1       0.25      0.35      0.29      5506\n",
      "           2       0.43      0.44      0.44     17336\n",
      "\n",
      "    accuracy                           0.54     48880\n",
      "   macro avg       0.47      0.48      0.47     48880\n",
      "weighted avg       0.57      0.54      0.55     48880\n",
      "\n",
      "[[16796  1404  7838]\n",
      " [ 1224  1927  2355]\n",
      " [ 5152  4480  7704]]\n",
      "___________________________________________________________________________________________________________\n",
      "                                                VALIDATION                                                 \n",
      "-----------------------------------------------------------------------------------------------------------\n",
      "              precision    recall  f1-score   support\n",
      "\n",
      "           0       0.68      0.66      0.67     11173\n",
      "           1       0.24      0.24      0.24      2385\n",
      "           2       0.43      0.46      0.44      7464\n",
      "\n",
      "    accuracy                           0.54     21022\n",
      "   macro avg       0.45      0.45      0.45     21022\n",
      "weighted avg       0.54      0.54      0.54     21022\n",
      "\n",
      "[[7378  435 3360]\n",
      " [ 729  562 1094]\n",
      " [2694 1369 3401]]\n"
     ]
    }
   ],
   "source": [
    "metrics(y_train_no_res, labels_train, y_val, labels_val)"
   ]
  },
  {
   "cell_type": "markdown",
   "id": "e532a75c",
   "metadata": {},
   "source": [
    "<a class=\"anchor\" id=\"lr\"></a>\n",
    "## <span style=\"color:black\">13.4. Logistic Regression </span>"
   ]
  },
  {
   "cell_type": "code",
   "execution_count": 186,
   "id": "69862e94",
   "metadata": {},
   "outputs": [],
   "source": [
    "log_reg = LogisticRegression(class_weight='balanced', random_state=42).fit(X_train_no_res, y_train_no_res)"
   ]
  },
  {
   "cell_type": "code",
   "execution_count": 187,
   "id": "68f7c29a",
   "metadata": {},
   "outputs": [],
   "source": [
    "labels_train = log_reg.predict(X_train_no_res)\n",
    "labels_val = log_reg.predict(X_val)"
   ]
  },
  {
   "cell_type": "code",
   "execution_count": 188,
   "id": "84c0e925",
   "metadata": {},
   "outputs": [
    {
     "data": {
      "text/plain": [
       "array([[0.32986673, 0.37208202, 0.29805125],\n",
       "       [0.61218338, 0.18111259, 0.20670403],\n",
       "       [0.11967447, 0.51972772, 0.36059781],\n",
       "       ...,\n",
       "       [0.32014595, 0.34102662, 0.33882743],\n",
       "       [0.04051093, 0.48752846, 0.47196061],\n",
       "       [0.34202906, 0.30840848, 0.34956246]])"
      ]
     },
     "execution_count": 188,
     "metadata": {},
     "output_type": "execute_result"
    }
   ],
   "source": [
    "log_reg.predict_proba(X_val)"
   ]
  },
  {
   "cell_type": "code",
   "execution_count": 189,
   "id": "bdc76925",
   "metadata": {},
   "outputs": [
    {
     "name": "stdout",
     "output_type": "stream",
     "text": [
      "Train: 0.5757707654434296\n",
      "Validation: 0.531908795408646\n"
     ]
    }
   ],
   "source": [
    "print('Train:', f1_score(y_train_no_res, labels_train, average='weighted'))\n",
    "print('Validation:', f1_score(y_val, labels_val, average='weighted'))"
   ]
  },
  {
   "cell_type": "code",
   "execution_count": 190,
   "id": "ab507a07",
   "metadata": {},
   "outputs": [
    {
     "name": "stdout",
     "output_type": "stream",
     "text": [
      "___________________________________________________________________________________________________________\n",
      "                                                     TRAIN                                                 \n",
      "-----------------------------------------------------------------------------------------------------------\n",
      "              precision    recall  f1-score   support\n",
      "\n",
      "           0       0.70      0.82      0.75     26038\n",
      "           1       0.24      0.41      0.30      5506\n",
      "           2       0.58      0.30      0.40     17336\n",
      "\n",
      "    accuracy                           0.59     48880\n",
      "   macro avg       0.51      0.51      0.48     48880\n",
      "weighted avg       0.60      0.59      0.58     48880\n",
      "\n",
      "[[21309  2288  2441]\n",
      " [ 1904  2231  1371]\n",
      " [ 7328  4781  5227]]\n",
      "___________________________________________________________________________________________________________\n",
      "                                                VALIDATION                                                 \n",
      "-----------------------------------------------------------------------------------------------------------\n",
      "              precision    recall  f1-score   support\n",
      "\n",
      "           0       0.63      0.87      0.73     11173\n",
      "           1       0.24      0.28      0.26      2385\n",
      "           2       0.57      0.22      0.32      7464\n",
      "\n",
      "    accuracy                           0.57     21022\n",
      "   macro avg       0.48      0.46      0.44     21022\n",
      "weighted avg       0.57      0.57      0.53     21022\n",
      "\n",
      "[[9726  673  774]\n",
      " [1243  673  469]\n",
      " [4383 1440 1641]]\n"
     ]
    }
   ],
   "source": [
    "metrics(y_train_no_res, labels_train, y_val, labels_val)"
   ]
  },
  {
   "cell_type": "code",
   "execution_count": 191,
   "id": "099478ec",
   "metadata": {},
   "outputs": [],
   "source": [
    "log_reg= LogisticRegression(class_weight='balanced', multi_class='multinomial',random_state=42).fit(X_train_no_res, y_train_no_res)"
   ]
  },
  {
   "cell_type": "code",
   "execution_count": 192,
   "id": "3aa32ac0",
   "metadata": {},
   "outputs": [],
   "source": [
    "labels_train = log_reg.predict(X_train_no_res)\n",
    "labels_val = log_reg.predict(X_val)"
   ]
  },
  {
   "cell_type": "code",
   "execution_count": 193,
   "id": "b2bf3bf6",
   "metadata": {},
   "outputs": [
    {
     "name": "stdout",
     "output_type": "stream",
     "text": [
      "Train: 0.5757707654434296\n",
      "Validation: 0.531908795408646\n"
     ]
    }
   ],
   "source": [
    "print('Train:', f1_score(y_train_no_res, labels_train, average='weighted'))\n",
    "print('Validation:', f1_score(y_val, labels_val, average='weighted'))"
   ]
  },
  {
   "cell_type": "markdown",
   "id": "95fdf3b6",
   "metadata": {},
   "source": [
    "<a class=\"anchor\" id=\"nn\"></a>\n",
    "\n",
    "## <span style=\"color:black\">13.5. Neural Network </span>"
   ]
  },
  {
   "cell_type": "code",
   "execution_count": 194,
   "id": "2ca53218",
   "metadata": {},
   "outputs": [
    {
     "data": {
      "text/html": [
       "<style>#sk-container-id-2 {color: black;}#sk-container-id-2 pre{padding: 0;}#sk-container-id-2 div.sk-toggleable {background-color: white;}#sk-container-id-2 label.sk-toggleable__label {cursor: pointer;display: block;width: 100%;margin-bottom: 0;padding: 0.3em;box-sizing: border-box;text-align: center;}#sk-container-id-2 label.sk-toggleable__label-arrow:before {content: \"▸\";float: left;margin-right: 0.25em;color: #696969;}#sk-container-id-2 label.sk-toggleable__label-arrow:hover:before {color: black;}#sk-container-id-2 div.sk-estimator:hover label.sk-toggleable__label-arrow:before {color: black;}#sk-container-id-2 div.sk-toggleable__content {max-height: 0;max-width: 0;overflow: hidden;text-align: left;background-color: #f0f8ff;}#sk-container-id-2 div.sk-toggleable__content pre {margin: 0.2em;color: black;border-radius: 0.25em;background-color: #f0f8ff;}#sk-container-id-2 input.sk-toggleable__control:checked~div.sk-toggleable__content {max-height: 200px;max-width: 100%;overflow: auto;}#sk-container-id-2 input.sk-toggleable__control:checked~label.sk-toggleable__label-arrow:before {content: \"▾\";}#sk-container-id-2 div.sk-estimator input.sk-toggleable__control:checked~label.sk-toggleable__label {background-color: #d4ebff;}#sk-container-id-2 div.sk-label input.sk-toggleable__control:checked~label.sk-toggleable__label {background-color: #d4ebff;}#sk-container-id-2 input.sk-hidden--visually {border: 0;clip: rect(1px 1px 1px 1px);clip: rect(1px, 1px, 1px, 1px);height: 1px;margin: -1px;overflow: hidden;padding: 0;position: absolute;width: 1px;}#sk-container-id-2 div.sk-estimator {font-family: monospace;background-color: #f0f8ff;border: 1px dotted black;border-radius: 0.25em;box-sizing: border-box;margin-bottom: 0.5em;}#sk-container-id-2 div.sk-estimator:hover {background-color: #d4ebff;}#sk-container-id-2 div.sk-parallel-item::after {content: \"\";width: 100%;border-bottom: 1px solid gray;flex-grow: 1;}#sk-container-id-2 div.sk-label:hover label.sk-toggleable__label {background-color: #d4ebff;}#sk-container-id-2 div.sk-serial::before {content: \"\";position: absolute;border-left: 1px solid gray;box-sizing: border-box;top: 0;bottom: 0;left: 50%;z-index: 0;}#sk-container-id-2 div.sk-serial {display: flex;flex-direction: column;align-items: center;background-color: white;padding-right: 0.2em;padding-left: 0.2em;position: relative;}#sk-container-id-2 div.sk-item {position: relative;z-index: 1;}#sk-container-id-2 div.sk-parallel {display: flex;align-items: stretch;justify-content: center;background-color: white;position: relative;}#sk-container-id-2 div.sk-item::before, #sk-container-id-2 div.sk-parallel-item::before {content: \"\";position: absolute;border-left: 1px solid gray;box-sizing: border-box;top: 0;bottom: 0;left: 50%;z-index: -1;}#sk-container-id-2 div.sk-parallel-item {display: flex;flex-direction: column;z-index: 1;position: relative;background-color: white;}#sk-container-id-2 div.sk-parallel-item:first-child::after {align-self: flex-end;width: 50%;}#sk-container-id-2 div.sk-parallel-item:last-child::after {align-self: flex-start;width: 50%;}#sk-container-id-2 div.sk-parallel-item:only-child::after {width: 0;}#sk-container-id-2 div.sk-dashed-wrapped {border: 1px dashed gray;margin: 0 0.4em 0.5em 0.4em;box-sizing: border-box;padding-bottom: 0.4em;background-color: white;}#sk-container-id-2 div.sk-label label {font-family: monospace;font-weight: bold;display: inline-block;line-height: 1.2em;}#sk-container-id-2 div.sk-label-container {text-align: center;}#sk-container-id-2 div.sk-container {/* jupyter's `normalize.less` sets `[hidden] { display: none; }` but bootstrap.min.css set `[hidden] { display: none !important; }` so we also need the `!important` here to be able to override the default hidden behavior on the sphinx rendered scikit-learn.org. See: https://github.com/scikit-learn/scikit-learn/issues/21755 */display: inline-block !important;position: relative;}#sk-container-id-2 div.sk-text-repr-fallback {display: none;}</style><div id=\"sk-container-id-2\" class=\"sk-top-container\"><div class=\"sk-text-repr-fallback\"><pre>MLPClassifier(random_state=42)</pre><b>In a Jupyter environment, please rerun this cell to show the HTML representation or trust the notebook. <br />On GitHub, the HTML representation is unable to render, please try loading this page with nbviewer.org.</b></div><div class=\"sk-container\" hidden><div class=\"sk-item\"><div class=\"sk-estimator sk-toggleable\"><input class=\"sk-toggleable__control sk-hidden--visually\" id=\"sk-estimator-id-4\" type=\"checkbox\" checked><label for=\"sk-estimator-id-4\" class=\"sk-toggleable__label sk-toggleable__label-arrow\">MLPClassifier</label><div class=\"sk-toggleable__content\"><pre>MLPClassifier(random_state=42)</pre></div></div></div></div></div>"
      ],
      "text/plain": [
       "MLPClassifier(random_state=42)"
      ]
     },
     "execution_count": 194,
     "metadata": {},
     "output_type": "execute_result"
    }
   ],
   "source": [
    "modelNN = MLPClassifier(random_state=42)\n",
    "modelNN.fit(X_train, y_train)"
   ]
  },
  {
   "cell_type": "code",
   "execution_count": 195,
   "id": "b78c1a21",
   "metadata": {},
   "outputs": [],
   "source": [
    "labels_train = modelNN.predict(X_train)\n",
    "labels_val = modelNN.predict(X_val)"
   ]
  },
  {
   "cell_type": "code",
   "execution_count": 196,
   "id": "ba56dd82",
   "metadata": {
    "scrolled": true
   },
   "outputs": [
    {
     "name": "stdout",
     "output_type": "stream",
     "text": [
      "Train: 0.5475642322636399\n",
      "Validation: 0.545727655381421\n"
     ]
    }
   ],
   "source": [
    "print('Train:', f1_score(y_train, labels_train, average='weighted'))\n",
    "print('Validation:', f1_score(y_val, labels_val, average='weighted'))"
   ]
  },
  {
   "cell_type": "code",
   "execution_count": 197,
   "id": "89a43799",
   "metadata": {},
   "outputs": [],
   "source": [
    "# NN = GridSearchCV(estimator=MLPClassifier(max_iter=1000000, warm_start=True),\n",
    "#                    param_grid={\n",
    "#                        'solver': ['adam', 'sgd', 'lbfgs'],\n",
    "#                        'learning_rate' = ['adaptive', 'invscaling', 'constant'],\n",
    "#                        'batch_size': (10, 20, 40, 60, 80, 100),\n",
    "#                        'activation': ['identity', 'relu', 'logistic', 'tanh'],\n",
    "#                        'hidden_layer_sizes':\n",
    "#                        (8, 100, 500, [100, 100], [100, 100, 100],\n",
    "#                         [100, 100, 100, 100, 100])\n",
    "#                    })\n",
    "# NN.fit(X_train, y_train)\n",
    "# NN.best_params_"
   ]
  },
  {
   "cell_type": "code",
   "execution_count": 198,
   "id": "59d49010",
   "metadata": {},
   "outputs": [
    {
     "name": "stdout",
     "output_type": "stream",
     "text": [
      "Best Hyperparameters: {'activation': 'logistic', 'batch_size': 61, 'hidden_layer_sizes': [100, 100, 100], 'learning_rate': 'constant', 'solver': 'lbfgs'}\n",
      "Train F1-score: 0.28035751116935326\n",
      "Validation F1-score: 0.40075590909980313\n"
     ]
    }
   ],
   "source": [
    "# param_dist = {\n",
    "#    'solver': ['adam', 'sgd', 'lbfgs'],\n",
    "#                        'learning_rate' : ['adaptive', 'invscaling', 'constant'],\n",
    "#                        'batch_size': randint(10, 100),\n",
    "#                        'activation': ['identity', 'relu', 'logistic', 'tanh'],\n",
    "#                        'hidden_layer_sizes':\n",
    "#                        (8, 100, 500, [100, 100], [100, 100, 100],\n",
    "#                         [100, 100, 100, 100, 100])\n",
    "# }\n",
    "\n",
    "# base_model = MLPClassifier(random_state=42)\n",
    "\n",
    "# random_search = RandomizedSearchCV(\n",
    "#     base_model,\n",
    "#     param_distributions=param_dist,\n",
    "#     n_iter=10, \n",
    "#     cv=5,      \n",
    "#     scoring='f1',  \n",
    "#     random_state=42,\n",
    "#     n_jobs=-1,\n",
    "# )\n",
    "\n",
    "# random_search.fit(X_train, y_train)\n",
    "\n",
    "# print(\"Best Hyperparameters:\", random_search.best_params_)\n",
    "\n",
    "# best_model = random_search.best_estimator_\n",
    "\n",
    "# train_pred = best_model.predict(X_train)\n",
    "# train_f1 = f1_score(y_train, train_pred, average='weighted')\n",
    "# print(\"Train F1-score:\", train_f1)\n",
    "\n",
    "# val_pred = best_model.predict(X_val)\n",
    "# val_f1 = f1_score(y_val, val_pred, average='weighted')\n",
    "# print(\"Validation F1-score:\", val_f1)"
   ]
  },
  {
   "cell_type": "code",
   "execution_count": 199,
   "id": "6326036c",
   "metadata": {},
   "outputs": [],
   "source": [
    "modelNN = MLPClassifier(activation='logistic',\n",
    "                        solver='lbfgs',\n",
    "                        batch_size=300,\n",
    "                        hidden_layer_sizes=[100, 100, 100],\n",
    "                        learning_rate= 'constant',\n",
    "                       random_state=42).fit(X_train, y_train)"
   ]
  },
  {
   "cell_type": "code",
   "execution_count": 200,
   "id": "32dd356d",
   "metadata": {},
   "outputs": [],
   "source": [
    "labels_train = modelNN.predict(X_train)\n",
    "labels_val = modelNN.predict(X_val)"
   ]
  },
  {
   "cell_type": "code",
   "execution_count": 201,
   "id": "39470f9e",
   "metadata": {},
   "outputs": [
    {
     "name": "stdout",
     "output_type": "stream",
     "text": [
      "Train: 0.342114943122934\n",
      "Validation: 0.415531789501662\n"
     ]
    }
   ],
   "source": [
    "print('Train:', f1_score(labels_train, y_train, average='weighted'))\n",
    "print('Validation:', f1_score(labels_val, y_val, average='weighted')) "
   ]
  },
  {
   "cell_type": "code",
   "execution_count": 202,
   "id": "f20520e1",
   "metadata": {},
   "outputs": [
    {
     "name": "stdout",
     "output_type": "stream",
     "text": [
      "___________________________________________________________________________________________________________\n",
      "                                                     TRAIN                                                 \n",
      "-----------------------------------------------------------------------------------------------------------\n",
      "              precision    recall  f1-score   support\n",
      "\n",
      "           0       0.31      0.56      0.40      5506\n",
      "           1       0.32      0.10      0.15      5506\n",
      "           2       0.31      0.27      0.29      5506\n",
      "\n",
      "    accuracy                           0.31     16518\n",
      "   macro avg       0.31      0.31      0.28     16518\n",
      "weighted avg       0.31      0.31      0.28     16518\n",
      "\n",
      "[[3109  589 1808]\n",
      " [3462  551 1493]\n",
      " [3431  594 1481]]\n",
      "___________________________________________________________________________________________________________\n",
      "                                                VALIDATION                                                 \n",
      "-----------------------------------------------------------------------------------------------------------\n",
      "              precision    recall  f1-score   support\n",
      "\n",
      "           0       0.51      0.56      0.53     11173\n",
      "           1       0.11      0.10      0.10      2385\n",
      "           2       0.32      0.28      0.30      7464\n",
      "\n",
      "    accuracy                           0.41     21022\n",
      "   macro avg       0.31      0.31      0.31     21022\n",
      "weighted avg       0.40      0.41      0.40     21022\n",
      "\n",
      "[[6231 1157 3785]\n",
      " [1495  230  660]\n",
      " [4592  753 2119]]\n"
     ]
    }
   ],
   "source": [
    "metrics(y_train, labels_train, y_val, labels_val)"
   ]
  },
  {
   "cell_type": "markdown",
   "id": "4186d902",
   "metadata": {},
   "source": [
    "<a class=\"anchor\" id=\"svm\"></a>\n",
    "\n",
    "## <span style=\"color:black\">13.6. Suport Vector Machines </span>"
   ]
  },
  {
   "cell_type": "code",
   "execution_count": 203,
   "id": "143be1ab",
   "metadata": {},
   "outputs": [
    {
     "data": {
      "text/html": [
       "<style>#sk-container-id-3 {color: black;}#sk-container-id-3 pre{padding: 0;}#sk-container-id-3 div.sk-toggleable {background-color: white;}#sk-container-id-3 label.sk-toggleable__label {cursor: pointer;display: block;width: 100%;margin-bottom: 0;padding: 0.3em;box-sizing: border-box;text-align: center;}#sk-container-id-3 label.sk-toggleable__label-arrow:before {content: \"▸\";float: left;margin-right: 0.25em;color: #696969;}#sk-container-id-3 label.sk-toggleable__label-arrow:hover:before {color: black;}#sk-container-id-3 div.sk-estimator:hover label.sk-toggleable__label-arrow:before {color: black;}#sk-container-id-3 div.sk-toggleable__content {max-height: 0;max-width: 0;overflow: hidden;text-align: left;background-color: #f0f8ff;}#sk-container-id-3 div.sk-toggleable__content pre {margin: 0.2em;color: black;border-radius: 0.25em;background-color: #f0f8ff;}#sk-container-id-3 input.sk-toggleable__control:checked~div.sk-toggleable__content {max-height: 200px;max-width: 100%;overflow: auto;}#sk-container-id-3 input.sk-toggleable__control:checked~label.sk-toggleable__label-arrow:before {content: \"▾\";}#sk-container-id-3 div.sk-estimator input.sk-toggleable__control:checked~label.sk-toggleable__label {background-color: #d4ebff;}#sk-container-id-3 div.sk-label input.sk-toggleable__control:checked~label.sk-toggleable__label {background-color: #d4ebff;}#sk-container-id-3 input.sk-hidden--visually {border: 0;clip: rect(1px 1px 1px 1px);clip: rect(1px, 1px, 1px, 1px);height: 1px;margin: -1px;overflow: hidden;padding: 0;position: absolute;width: 1px;}#sk-container-id-3 div.sk-estimator {font-family: monospace;background-color: #f0f8ff;border: 1px dotted black;border-radius: 0.25em;box-sizing: border-box;margin-bottom: 0.5em;}#sk-container-id-3 div.sk-estimator:hover {background-color: #d4ebff;}#sk-container-id-3 div.sk-parallel-item::after {content: \"\";width: 100%;border-bottom: 1px solid gray;flex-grow: 1;}#sk-container-id-3 div.sk-label:hover label.sk-toggleable__label {background-color: #d4ebff;}#sk-container-id-3 div.sk-serial::before {content: \"\";position: absolute;border-left: 1px solid gray;box-sizing: border-box;top: 0;bottom: 0;left: 50%;z-index: 0;}#sk-container-id-3 div.sk-serial {display: flex;flex-direction: column;align-items: center;background-color: white;padding-right: 0.2em;padding-left: 0.2em;position: relative;}#sk-container-id-3 div.sk-item {position: relative;z-index: 1;}#sk-container-id-3 div.sk-parallel {display: flex;align-items: stretch;justify-content: center;background-color: white;position: relative;}#sk-container-id-3 div.sk-item::before, #sk-container-id-3 div.sk-parallel-item::before {content: \"\";position: absolute;border-left: 1px solid gray;box-sizing: border-box;top: 0;bottom: 0;left: 50%;z-index: -1;}#sk-container-id-3 div.sk-parallel-item {display: flex;flex-direction: column;z-index: 1;position: relative;background-color: white;}#sk-container-id-3 div.sk-parallel-item:first-child::after {align-self: flex-end;width: 50%;}#sk-container-id-3 div.sk-parallel-item:last-child::after {align-self: flex-start;width: 50%;}#sk-container-id-3 div.sk-parallel-item:only-child::after {width: 0;}#sk-container-id-3 div.sk-dashed-wrapped {border: 1px dashed gray;margin: 0 0.4em 0.5em 0.4em;box-sizing: border-box;padding-bottom: 0.4em;background-color: white;}#sk-container-id-3 div.sk-label label {font-family: monospace;font-weight: bold;display: inline-block;line-height: 1.2em;}#sk-container-id-3 div.sk-label-container {text-align: center;}#sk-container-id-3 div.sk-container {/* jupyter's `normalize.less` sets `[hidden] { display: none; }` but bootstrap.min.css set `[hidden] { display: none !important; }` so we also need the `!important` here to be able to override the default hidden behavior on the sphinx rendered scikit-learn.org. See: https://github.com/scikit-learn/scikit-learn/issues/21755 */display: inline-block !important;position: relative;}#sk-container-id-3 div.sk-text-repr-fallback {display: none;}</style><div id=\"sk-container-id-3\" class=\"sk-top-container\"><div class=\"sk-text-repr-fallback\"><pre>SVC(class_weight=&#x27;balanced&#x27;, kernel=&#x27;linear&#x27;)</pre><b>In a Jupyter environment, please rerun this cell to show the HTML representation or trust the notebook. <br />On GitHub, the HTML representation is unable to render, please try loading this page with nbviewer.org.</b></div><div class=\"sk-container\" hidden><div class=\"sk-item\"><div class=\"sk-estimator sk-toggleable\"><input class=\"sk-toggleable__control sk-hidden--visually\" id=\"sk-estimator-id-5\" type=\"checkbox\" checked><label for=\"sk-estimator-id-5\" class=\"sk-toggleable__label sk-toggleable__label-arrow\">SVC</label><div class=\"sk-toggleable__content\"><pre>SVC(class_weight=&#x27;balanced&#x27;, kernel=&#x27;linear&#x27;)</pre></div></div></div></div></div>"
      ],
      "text/plain": [
       "SVC(class_weight='balanced', kernel='linear')"
      ]
     },
     "execution_count": 203,
     "metadata": {},
     "output_type": "execute_result"
    }
   ],
   "source": [
    "modelSVM = SVC(kernel='linear', class_weight = 'balanced')\n",
    "modelSVM.fit(X_train_no_res, y_train_no_res)"
   ]
  },
  {
   "cell_type": "code",
   "execution_count": 204,
   "id": "0f24056e",
   "metadata": {},
   "outputs": [],
   "source": [
    "labels_train = modelSVM.predict(X_train_no_res)\n",
    "labels_val = modelSVM.predict(X_val)"
   ]
  },
  {
   "cell_type": "code",
   "execution_count": 205,
   "id": "49949cd4",
   "metadata": {},
   "outputs": [
    {
     "name": "stdout",
     "output_type": "stream",
     "text": [
      "Train: 0.5783398177433796\n",
      "Validation: 0.5184254430294608\n"
     ]
    }
   ],
   "source": [
    "print('Train:', f1_score(y_train_no_res, labels_train, average='weighted'))\n",
    "print('Validation:', f1_score(y_val, labels_val, average='weighted'))"
   ]
  },
  {
   "cell_type": "code",
   "execution_count": 206,
   "id": "b42a362a",
   "metadata": {},
   "outputs": [],
   "source": [
    "# clf = GridSearchCV(estimator=svm.SVC(),\n",
    "#                    param_grid={\n",
    "#                        'C': [10, 100, 1000, 1500, 2000],\n",
    "#                        'gamma': [1, 0.1, 0.01, 0.001, 0.0001, 1.5, 2],\n",
    "#                        'kernel': ['rbf', 'linear']\n",
    "#                    })\n",
    "# clf.fit(final_dataset, target)\n",
    "# clf.best_params_"
   ]
  },
  {
   "cell_type": "code",
   "execution_count": 207,
   "id": "b9152851",
   "metadata": {},
   "outputs": [],
   "source": [
    "# param_dist = {\n",
    "#   'C': [10, 15],\n",
    "#                        'gamma': [0.1, 2],\n",
    "#                        'kernel': ['rbf', 'linear']\n",
    "# }\n",
    "\n",
    "# base_model = SVC(random_state=42, class_weight='balanced', kernel='rbf')\n",
    "\n",
    "# random_search = RandomizedSearchCV(\n",
    "#     base_model,\n",
    "#     param_distributions=param_dist,\n",
    "#     n_iter=10, \n",
    "#     cv=5,      \n",
    "#     scoring='f1',  \n",
    "#     random_state=42,\n",
    "#     n_jobs=-1,\n",
    "# )\n",
    "\n",
    "# random_search.fit(X_train_no_res, y_train_no_res)\n",
    "\n",
    "# print(\"Best Hyperparameters:\", random_search.best_params_)\n",
    "\n",
    "# best_model = random_search.best_estimator_\n",
    "\n",
    "# train_pred = best_model.predict(X_train_no_res)\n",
    "# train_f1 = f1_score(y_train_no_res, train_pred, average='weighted')\n",
    "# print(\"Train F1-score:\", train_f1)\n",
    "\n",
    "# val_pred = best_model.predict(X_val)\n",
    "# val_f1 = f1_score(y_val, val_pred, average='weighted')\n",
    "# print(\"Validation F1-score:\", val_f1)"
   ]
  },
  {
   "cell_type": "code",
   "execution_count": 208,
   "id": "a440773d",
   "metadata": {},
   "outputs": [
    {
     "data": {
      "text/html": [
       "<style>#sk-container-id-4 {color: black;}#sk-container-id-4 pre{padding: 0;}#sk-container-id-4 div.sk-toggleable {background-color: white;}#sk-container-id-4 label.sk-toggleable__label {cursor: pointer;display: block;width: 100%;margin-bottom: 0;padding: 0.3em;box-sizing: border-box;text-align: center;}#sk-container-id-4 label.sk-toggleable__label-arrow:before {content: \"▸\";float: left;margin-right: 0.25em;color: #696969;}#sk-container-id-4 label.sk-toggleable__label-arrow:hover:before {color: black;}#sk-container-id-4 div.sk-estimator:hover label.sk-toggleable__label-arrow:before {color: black;}#sk-container-id-4 div.sk-toggleable__content {max-height: 0;max-width: 0;overflow: hidden;text-align: left;background-color: #f0f8ff;}#sk-container-id-4 div.sk-toggleable__content pre {margin: 0.2em;color: black;border-radius: 0.25em;background-color: #f0f8ff;}#sk-container-id-4 input.sk-toggleable__control:checked~div.sk-toggleable__content {max-height: 200px;max-width: 100%;overflow: auto;}#sk-container-id-4 input.sk-toggleable__control:checked~label.sk-toggleable__label-arrow:before {content: \"▾\";}#sk-container-id-4 div.sk-estimator input.sk-toggleable__control:checked~label.sk-toggleable__label {background-color: #d4ebff;}#sk-container-id-4 div.sk-label input.sk-toggleable__control:checked~label.sk-toggleable__label {background-color: #d4ebff;}#sk-container-id-4 input.sk-hidden--visually {border: 0;clip: rect(1px 1px 1px 1px);clip: rect(1px, 1px, 1px, 1px);height: 1px;margin: -1px;overflow: hidden;padding: 0;position: absolute;width: 1px;}#sk-container-id-4 div.sk-estimator {font-family: monospace;background-color: #f0f8ff;border: 1px dotted black;border-radius: 0.25em;box-sizing: border-box;margin-bottom: 0.5em;}#sk-container-id-4 div.sk-estimator:hover {background-color: #d4ebff;}#sk-container-id-4 div.sk-parallel-item::after {content: \"\";width: 100%;border-bottom: 1px solid gray;flex-grow: 1;}#sk-container-id-4 div.sk-label:hover label.sk-toggleable__label {background-color: #d4ebff;}#sk-container-id-4 div.sk-serial::before {content: \"\";position: absolute;border-left: 1px solid gray;box-sizing: border-box;top: 0;bottom: 0;left: 50%;z-index: 0;}#sk-container-id-4 div.sk-serial {display: flex;flex-direction: column;align-items: center;background-color: white;padding-right: 0.2em;padding-left: 0.2em;position: relative;}#sk-container-id-4 div.sk-item {position: relative;z-index: 1;}#sk-container-id-4 div.sk-parallel {display: flex;align-items: stretch;justify-content: center;background-color: white;position: relative;}#sk-container-id-4 div.sk-item::before, #sk-container-id-4 div.sk-parallel-item::before {content: \"\";position: absolute;border-left: 1px solid gray;box-sizing: border-box;top: 0;bottom: 0;left: 50%;z-index: -1;}#sk-container-id-4 div.sk-parallel-item {display: flex;flex-direction: column;z-index: 1;position: relative;background-color: white;}#sk-container-id-4 div.sk-parallel-item:first-child::after {align-self: flex-end;width: 50%;}#sk-container-id-4 div.sk-parallel-item:last-child::after {align-self: flex-start;width: 50%;}#sk-container-id-4 div.sk-parallel-item:only-child::after {width: 0;}#sk-container-id-4 div.sk-dashed-wrapped {border: 1px dashed gray;margin: 0 0.4em 0.5em 0.4em;box-sizing: border-box;padding-bottom: 0.4em;background-color: white;}#sk-container-id-4 div.sk-label label {font-family: monospace;font-weight: bold;display: inline-block;line-height: 1.2em;}#sk-container-id-4 div.sk-label-container {text-align: center;}#sk-container-id-4 div.sk-container {/* jupyter's `normalize.less` sets `[hidden] { display: none; }` but bootstrap.min.css set `[hidden] { display: none !important; }` so we also need the `!important` here to be able to override the default hidden behavior on the sphinx rendered scikit-learn.org. See: https://github.com/scikit-learn/scikit-learn/issues/21755 */display: inline-block !important;position: relative;}#sk-container-id-4 div.sk-text-repr-fallback {display: none;}</style><div id=\"sk-container-id-4\" class=\"sk-top-container\"><div class=\"sk-text-repr-fallback\"><pre>SVC(C=10, class_weight=&#x27;balanced&#x27;, gamma=1, random_state=42)</pre><b>In a Jupyter environment, please rerun this cell to show the HTML representation or trust the notebook. <br />On GitHub, the HTML representation is unable to render, please try loading this page with nbviewer.org.</b></div><div class=\"sk-container\" hidden><div class=\"sk-item\"><div class=\"sk-estimator sk-toggleable\"><input class=\"sk-toggleable__control sk-hidden--visually\" id=\"sk-estimator-id-6\" type=\"checkbox\" checked><label for=\"sk-estimator-id-6\" class=\"sk-toggleable__label sk-toggleable__label-arrow\">SVC</label><div class=\"sk-toggleable__content\"><pre>SVC(C=10, class_weight=&#x27;balanced&#x27;, gamma=1, random_state=42)</pre></div></div></div></div></div>"
      ],
      "text/plain": [
       "SVC(C=10, class_weight='balanced', gamma=1, random_state=42)"
      ]
     },
     "execution_count": 208,
     "metadata": {},
     "output_type": "execute_result"
    }
   ],
   "source": [
    "modelSVM = SVC(C=10, gamma=1, kernel='rbf', class_weight = 'balanced', random_state=42)\n",
    "modelSVM.fit(X_train_no_res, y_train_no_res)"
   ]
  },
  {
   "cell_type": "code",
   "execution_count": 209,
   "id": "ac7aa427",
   "metadata": {},
   "outputs": [],
   "source": [
    "labels_train = modelSVM.predict(X_train_no_res)\n",
    "labels_val = modelSVM.predict(X_val)"
   ]
  },
  {
   "cell_type": "code",
   "execution_count": 210,
   "id": "c8fa8a0f",
   "metadata": {},
   "outputs": [
    {
     "name": "stdout",
     "output_type": "stream",
     "text": [
      "Train: 0.7760880050228928\n",
      "Validation 0.5726527624797689\n"
     ]
    }
   ],
   "source": [
    "print('Train:', f1_score(labels_train, y_train_no_res, average='weighted'))\n",
    "print('Validation', f1_score(labels_val, y_val, average='weighted'))"
   ]
  },
  {
   "cell_type": "code",
   "execution_count": 211,
   "id": "e07813cb",
   "metadata": {},
   "outputs": [
    {
     "data": {
      "text/html": [
       "<style>#sk-container-id-5 {color: black;}#sk-container-id-5 pre{padding: 0;}#sk-container-id-5 div.sk-toggleable {background-color: white;}#sk-container-id-5 label.sk-toggleable__label {cursor: pointer;display: block;width: 100%;margin-bottom: 0;padding: 0.3em;box-sizing: border-box;text-align: center;}#sk-container-id-5 label.sk-toggleable__label-arrow:before {content: \"▸\";float: left;margin-right: 0.25em;color: #696969;}#sk-container-id-5 label.sk-toggleable__label-arrow:hover:before {color: black;}#sk-container-id-5 div.sk-estimator:hover label.sk-toggleable__label-arrow:before {color: black;}#sk-container-id-5 div.sk-toggleable__content {max-height: 0;max-width: 0;overflow: hidden;text-align: left;background-color: #f0f8ff;}#sk-container-id-5 div.sk-toggleable__content pre {margin: 0.2em;color: black;border-radius: 0.25em;background-color: #f0f8ff;}#sk-container-id-5 input.sk-toggleable__control:checked~div.sk-toggleable__content {max-height: 200px;max-width: 100%;overflow: auto;}#sk-container-id-5 input.sk-toggleable__control:checked~label.sk-toggleable__label-arrow:before {content: \"▾\";}#sk-container-id-5 div.sk-estimator input.sk-toggleable__control:checked~label.sk-toggleable__label {background-color: #d4ebff;}#sk-container-id-5 div.sk-label input.sk-toggleable__control:checked~label.sk-toggleable__label {background-color: #d4ebff;}#sk-container-id-5 input.sk-hidden--visually {border: 0;clip: rect(1px 1px 1px 1px);clip: rect(1px, 1px, 1px, 1px);height: 1px;margin: -1px;overflow: hidden;padding: 0;position: absolute;width: 1px;}#sk-container-id-5 div.sk-estimator {font-family: monospace;background-color: #f0f8ff;border: 1px dotted black;border-radius: 0.25em;box-sizing: border-box;margin-bottom: 0.5em;}#sk-container-id-5 div.sk-estimator:hover {background-color: #d4ebff;}#sk-container-id-5 div.sk-parallel-item::after {content: \"\";width: 100%;border-bottom: 1px solid gray;flex-grow: 1;}#sk-container-id-5 div.sk-label:hover label.sk-toggleable__label {background-color: #d4ebff;}#sk-container-id-5 div.sk-serial::before {content: \"\";position: absolute;border-left: 1px solid gray;box-sizing: border-box;top: 0;bottom: 0;left: 50%;z-index: 0;}#sk-container-id-5 div.sk-serial {display: flex;flex-direction: column;align-items: center;background-color: white;padding-right: 0.2em;padding-left: 0.2em;position: relative;}#sk-container-id-5 div.sk-item {position: relative;z-index: 1;}#sk-container-id-5 div.sk-parallel {display: flex;align-items: stretch;justify-content: center;background-color: white;position: relative;}#sk-container-id-5 div.sk-item::before, #sk-container-id-5 div.sk-parallel-item::before {content: \"\";position: absolute;border-left: 1px solid gray;box-sizing: border-box;top: 0;bottom: 0;left: 50%;z-index: -1;}#sk-container-id-5 div.sk-parallel-item {display: flex;flex-direction: column;z-index: 1;position: relative;background-color: white;}#sk-container-id-5 div.sk-parallel-item:first-child::after {align-self: flex-end;width: 50%;}#sk-container-id-5 div.sk-parallel-item:last-child::after {align-self: flex-start;width: 50%;}#sk-container-id-5 div.sk-parallel-item:only-child::after {width: 0;}#sk-container-id-5 div.sk-dashed-wrapped {border: 1px dashed gray;margin: 0 0.4em 0.5em 0.4em;box-sizing: border-box;padding-bottom: 0.4em;background-color: white;}#sk-container-id-5 div.sk-label label {font-family: monospace;font-weight: bold;display: inline-block;line-height: 1.2em;}#sk-container-id-5 div.sk-label-container {text-align: center;}#sk-container-id-5 div.sk-container {/* jupyter's `normalize.less` sets `[hidden] { display: none; }` but bootstrap.min.css set `[hidden] { display: none !important; }` so we also need the `!important` here to be able to override the default hidden behavior on the sphinx rendered scikit-learn.org. See: https://github.com/scikit-learn/scikit-learn/issues/21755 */display: inline-block !important;position: relative;}#sk-container-id-5 div.sk-text-repr-fallback {display: none;}</style><div id=\"sk-container-id-5\" class=\"sk-top-container\"><div class=\"sk-text-repr-fallback\"><pre>SVC(C=10, class_weight=&#x27;balanced&#x27;, gamma=1, kernel=&#x27;linear&#x27;, random_state=42)</pre><b>In a Jupyter environment, please rerun this cell to show the HTML representation or trust the notebook. <br />On GitHub, the HTML representation is unable to render, please try loading this page with nbviewer.org.</b></div><div class=\"sk-container\" hidden><div class=\"sk-item\"><div class=\"sk-estimator sk-toggleable\"><input class=\"sk-toggleable__control sk-hidden--visually\" id=\"sk-estimator-id-7\" type=\"checkbox\" checked><label for=\"sk-estimator-id-7\" class=\"sk-toggleable__label sk-toggleable__label-arrow\">SVC</label><div class=\"sk-toggleable__content\"><pre>SVC(C=10, class_weight=&#x27;balanced&#x27;, gamma=1, kernel=&#x27;linear&#x27;, random_state=42)</pre></div></div></div></div></div>"
      ],
      "text/plain": [
       "SVC(C=10, class_weight='balanced', gamma=1, kernel='linear', random_state=42)"
      ]
     },
     "execution_count": 211,
     "metadata": {},
     "output_type": "execute_result"
    }
   ],
   "source": [
    "modelSVM = SVC(C=10, gamma=1, kernel='linear', class_weight = 'balanced', random_state=42)\n",
    "modelSVM.fit(X_train_no_res, y_train_no_res)"
   ]
  },
  {
   "cell_type": "code",
   "execution_count": 212,
   "id": "44852afc",
   "metadata": {},
   "outputs": [],
   "source": [
    "labels_train = modelSVM.predict(X_train_no_res)\n",
    "labels_val = modelSVM.predict(X_val)"
   ]
  },
  {
   "cell_type": "code",
   "execution_count": 213,
   "id": "ea6eb61d",
   "metadata": {},
   "outputs": [
    {
     "name": "stdout",
     "output_type": "stream",
     "text": [
      "Train: 0.6280414701214759\n",
      "Validation 0.6492914886805529\n"
     ]
    }
   ],
   "source": [
    "print('Train:', f1_score(labels_train, y_train_no_res, average='weighted'))\n",
    "print('Validation', f1_score(labels_val, y_val, average='weighted'))"
   ]
  },
  {
   "cell_type": "code",
   "execution_count": 214,
   "id": "0849f71c",
   "metadata": {},
   "outputs": [],
   "source": [
    "results.reset_index(inplace=True)"
   ]
  },
  {
   "cell_type": "code",
   "execution_count": 215,
   "id": "177dcb3d",
   "metadata": {},
   "outputs": [],
   "source": [
    "results['readmitted_multiclass'].replace(0,'No',inplace=True)"
   ]
  },
  {
   "cell_type": "code",
   "execution_count": 218,
   "id": "2ba43e5e",
   "metadata": {},
   "outputs": [],
   "source": [
    "labels_test = modelSVM.predict(test)"
   ]
  },
  {
   "cell_type": "code",
   "execution_count": 219,
   "id": "43a8c13f",
   "metadata": {},
   "outputs": [],
   "source": [
    "index = test.index.T\n",
    "results_final = pd.DataFrame([index, labels_test]).T\n",
    "results_final.columns = ['encounter_id','readmitted_multiclass']\n",
    "results_final['readmitted_multiclass'].replace(0,'No',inplace=True)\n",
    "results_final['readmitted_multiclass'].replace(1,'<30 days',inplace=True)\n",
    "results_final['readmitted_multiclass'].replace(2,'>30 days',inplace=True)"
   ]
  },
  {
   "cell_type": "code",
   "execution_count": 220,
   "id": "67b86316",
   "metadata": {},
   "outputs": [],
   "source": [
    "results_final = results_final.append(results, ignore_index=True)"
   ]
  },
  {
   "cell_type": "markdown",
   "id": "2542ed27",
   "metadata": {},
   "source": [
    "<a class=\"anchor\" id=\"rfmodel\"></a>\n",
    "\n",
    "## <span style=\"color:black\">13.7. Random Forest </span>"
   ]
  },
  {
   "cell_type": "code",
   "execution_count": 222,
   "id": "c3281f15",
   "metadata": {},
   "outputs": [],
   "source": [
    "rf = RandomForestClassifier(random_state=42, class_weight= 'balanced')"
   ]
  },
  {
   "cell_type": "code",
   "execution_count": 223,
   "id": "bc3e16ed",
   "metadata": {},
   "outputs": [
    {
     "data": {
      "text/html": [
       "<style>#sk-container-id-6 {color: black;}#sk-container-id-6 pre{padding: 0;}#sk-container-id-6 div.sk-toggleable {background-color: white;}#sk-container-id-6 label.sk-toggleable__label {cursor: pointer;display: block;width: 100%;margin-bottom: 0;padding: 0.3em;box-sizing: border-box;text-align: center;}#sk-container-id-6 label.sk-toggleable__label-arrow:before {content: \"▸\";float: left;margin-right: 0.25em;color: #696969;}#sk-container-id-6 label.sk-toggleable__label-arrow:hover:before {color: black;}#sk-container-id-6 div.sk-estimator:hover label.sk-toggleable__label-arrow:before {color: black;}#sk-container-id-6 div.sk-toggleable__content {max-height: 0;max-width: 0;overflow: hidden;text-align: left;background-color: #f0f8ff;}#sk-container-id-6 div.sk-toggleable__content pre {margin: 0.2em;color: black;border-radius: 0.25em;background-color: #f0f8ff;}#sk-container-id-6 input.sk-toggleable__control:checked~div.sk-toggleable__content {max-height: 200px;max-width: 100%;overflow: auto;}#sk-container-id-6 input.sk-toggleable__control:checked~label.sk-toggleable__label-arrow:before {content: \"▾\";}#sk-container-id-6 div.sk-estimator input.sk-toggleable__control:checked~label.sk-toggleable__label {background-color: #d4ebff;}#sk-container-id-6 div.sk-label input.sk-toggleable__control:checked~label.sk-toggleable__label {background-color: #d4ebff;}#sk-container-id-6 input.sk-hidden--visually {border: 0;clip: rect(1px 1px 1px 1px);clip: rect(1px, 1px, 1px, 1px);height: 1px;margin: -1px;overflow: hidden;padding: 0;position: absolute;width: 1px;}#sk-container-id-6 div.sk-estimator {font-family: monospace;background-color: #f0f8ff;border: 1px dotted black;border-radius: 0.25em;box-sizing: border-box;margin-bottom: 0.5em;}#sk-container-id-6 div.sk-estimator:hover {background-color: #d4ebff;}#sk-container-id-6 div.sk-parallel-item::after {content: \"\";width: 100%;border-bottom: 1px solid gray;flex-grow: 1;}#sk-container-id-6 div.sk-label:hover label.sk-toggleable__label {background-color: #d4ebff;}#sk-container-id-6 div.sk-serial::before {content: \"\";position: absolute;border-left: 1px solid gray;box-sizing: border-box;top: 0;bottom: 0;left: 50%;z-index: 0;}#sk-container-id-6 div.sk-serial {display: flex;flex-direction: column;align-items: center;background-color: white;padding-right: 0.2em;padding-left: 0.2em;position: relative;}#sk-container-id-6 div.sk-item {position: relative;z-index: 1;}#sk-container-id-6 div.sk-parallel {display: flex;align-items: stretch;justify-content: center;background-color: white;position: relative;}#sk-container-id-6 div.sk-item::before, #sk-container-id-6 div.sk-parallel-item::before {content: \"\";position: absolute;border-left: 1px solid gray;box-sizing: border-box;top: 0;bottom: 0;left: 50%;z-index: -1;}#sk-container-id-6 div.sk-parallel-item {display: flex;flex-direction: column;z-index: 1;position: relative;background-color: white;}#sk-container-id-6 div.sk-parallel-item:first-child::after {align-self: flex-end;width: 50%;}#sk-container-id-6 div.sk-parallel-item:last-child::after {align-self: flex-start;width: 50%;}#sk-container-id-6 div.sk-parallel-item:only-child::after {width: 0;}#sk-container-id-6 div.sk-dashed-wrapped {border: 1px dashed gray;margin: 0 0.4em 0.5em 0.4em;box-sizing: border-box;padding-bottom: 0.4em;background-color: white;}#sk-container-id-6 div.sk-label label {font-family: monospace;font-weight: bold;display: inline-block;line-height: 1.2em;}#sk-container-id-6 div.sk-label-container {text-align: center;}#sk-container-id-6 div.sk-container {/* jupyter's `normalize.less` sets `[hidden] { display: none; }` but bootstrap.min.css set `[hidden] { display: none !important; }` so we also need the `!important` here to be able to override the default hidden behavior on the sphinx rendered scikit-learn.org. See: https://github.com/scikit-learn/scikit-learn/issues/21755 */display: inline-block !important;position: relative;}#sk-container-id-6 div.sk-text-repr-fallback {display: none;}</style><div id=\"sk-container-id-6\" class=\"sk-top-container\"><div class=\"sk-text-repr-fallback\"><pre>RandomForestClassifier(class_weight=&#x27;balanced&#x27;, random_state=42)</pre><b>In a Jupyter environment, please rerun this cell to show the HTML representation or trust the notebook. <br />On GitHub, the HTML representation is unable to render, please try loading this page with nbviewer.org.</b></div><div class=\"sk-container\" hidden><div class=\"sk-item\"><div class=\"sk-estimator sk-toggleable\"><input class=\"sk-toggleable__control sk-hidden--visually\" id=\"sk-estimator-id-8\" type=\"checkbox\" checked><label for=\"sk-estimator-id-8\" class=\"sk-toggleable__label sk-toggleable__label-arrow\">RandomForestClassifier</label><div class=\"sk-toggleable__content\"><pre>RandomForestClassifier(class_weight=&#x27;balanced&#x27;, random_state=42)</pre></div></div></div></div></div>"
      ],
      "text/plain": [
       "RandomForestClassifier(class_weight='balanced', random_state=42)"
      ]
     },
     "execution_count": 223,
     "metadata": {},
     "output_type": "execute_result"
    }
   ],
   "source": [
    "rf.fit(X_train_no_res, y_train_no_res) "
   ]
  },
  {
   "cell_type": "code",
   "execution_count": 224,
   "id": "322ab55e",
   "metadata": {},
   "outputs": [],
   "source": [
    "labels_train = rf.predict(X_train_no_res)\n",
    "labels_val = rf.predict(X_val)"
   ]
  },
  {
   "cell_type": "code",
   "execution_count": 225,
   "id": "e2feb093",
   "metadata": {},
   "outputs": [
    {
     "name": "stdout",
     "output_type": "stream",
     "text": [
      "Train: 1.0\n",
      "Validation: 0.5598892716269086\n"
     ]
    }
   ],
   "source": [
    "print('Train:', f1_score(y_train_no_res, labels_train, average='weighted'))\n",
    "print('Validation:', f1_score(y_val, labels_val, average='weighted'))"
   ]
  },
  {
   "cell_type": "code",
   "execution_count": 226,
   "id": "d1775f83",
   "metadata": {
    "scrolled": true
   },
   "outputs": [
    {
     "name": "stdout",
     "output_type": "stream",
     "text": [
      "___________________________________________________________________________________________________________\n",
      "                                                     TRAIN                                                 \n",
      "-----------------------------------------------------------------------------------------------------------\n",
      "              precision    recall  f1-score   support\n",
      "\n",
      "           0       1.00      1.00      1.00     26038\n",
      "           1       1.00      1.00      1.00      5506\n",
      "           2       1.00      1.00      1.00     17336\n",
      "\n",
      "    accuracy                           1.00     48880\n",
      "   macro avg       1.00      1.00      1.00     48880\n",
      "weighted avg       1.00      1.00      1.00     48880\n",
      "\n",
      "[[26038     0     0]\n",
      " [    0  5506     0]\n",
      " [    0     0 17336]]\n",
      "___________________________________________________________________________________________________________\n",
      "                                                VALIDATION                                                 \n",
      "-----------------------------------------------------------------------------------------------------------\n",
      "              precision    recall  f1-score   support\n",
      "\n",
      "           0       0.63      0.92      0.75     11173\n",
      "           1       0.46      0.02      0.03      2385\n",
      "           2       0.59      0.36      0.45      7464\n",
      "\n",
      "    accuracy                           0.62     21022\n",
      "   macro avg       0.56      0.43      0.41     21022\n",
      "weighted avg       0.60      0.62      0.56     21022\n",
      "\n",
      "[[10267     6   900]\n",
      " [ 1389    41   955]\n",
      " [ 4714    42  2708]]\n"
     ]
    }
   ],
   "source": [
    "metrics(y_train_no_res, labels_train, y_val, labels_val)"
   ]
  },
  {
   "cell_type": "code",
   "execution_count": 227,
   "id": "5d05f1ef",
   "metadata": {},
   "outputs": [],
   "source": [
    "# rf_grid_search  = GridSearchCV(estimator=RandomForestClassifier(random_state=42),\n",
    "#                    param_grid={\n",
    "#     'n_estimators': [100, 200, 300],\n",
    "#     'max_depth': [None, 10, 20],\n",
    "#     'max_samples':[0.2,0.4,0.6,0.8,None],\n",
    "#     'max_features':['sqrt', 'log2', None],\n",
    "\n",
    "# })\n",
    "# rf_grid_search.fit(X_train, y_train)\n",
    "# rf_grid_search.best_params_"
   ]
  },
  {
   "cell_type": "code",
   "execution_count": 228,
   "id": "a42844ac",
   "metadata": {},
   "outputs": [
    {
     "name": "stdout",
     "output_type": "stream",
     "text": [
      "Best Hyperparameters: {'max_depth': 20, 'max_features': 'sqrt', 'max_samples': 0.6, 'n_estimators': 171}\n",
      "Train F1-score: 0.930375003327168\n",
      "Validation F1-score: 0.568131654689527\n"
     ]
    }
   ],
   "source": [
    "param_dist = {\n",
    "   'n_estimators': randint(100, 300),\n",
    "    'max_depth': [None, 10, 20],\n",
    "    'max_samples':[0.2,0.4,0.6,0.8,None],\n",
    "    'max_features':['sqrt', 'log2', None]\n",
    "}\n",
    "\n",
    "base_model = RandomForestClassifier(random_state=42, class_weight = 'balanced')\n",
    "\n",
    "random_search = RandomizedSearchCV(\n",
    "    base_model,\n",
    "    param_distributions=param_dist,\n",
    "    n_iter=10, \n",
    "    cv=5,      \n",
    "    scoring='f1',  \n",
    "    random_state=42,\n",
    "    n_jobs=-1,\n",
    ")\n",
    "\n",
    "random_search.fit(X_train_no_res, y_train_no_res)\n",
    "\n",
    "print(\"Best Hyperparameters:\", random_search.best_params_)\n",
    "\n",
    "best_model = random_search.best_estimator_\n",
    "\n",
    "train_pred = best_model.predict(X_train_no_res)\n",
    "train_f1 = f1_score(y_train_no_res, train_pred, average='weighted')\n",
    "print(\"Train F1-score:\", train_f1)\n",
    "\n",
    "val_pred = best_model.predict(X_val)\n",
    "val_f1 = f1_score(y_val, val_pred, average='weighted')\n",
    "print(\"Validation F1-score:\", val_f1)"
   ]
  },
  {
   "cell_type": "code",
   "execution_count": 229,
   "id": "76eabb06",
   "metadata": {},
   "outputs": [],
   "source": [
    "model_rf=RandomForestClassifier(max_depth= 20, max_features= 'sqrt', max_samples= 0.8, n_estimators= 171, random_state = 42, class_weight = 'balanced')"
   ]
  },
  {
   "cell_type": "code",
   "execution_count": 230,
   "id": "721e8143",
   "metadata": {
    "scrolled": true
   },
   "outputs": [
    {
     "data": {
      "text/html": [
       "<style>#sk-container-id-7 {color: black;}#sk-container-id-7 pre{padding: 0;}#sk-container-id-7 div.sk-toggleable {background-color: white;}#sk-container-id-7 label.sk-toggleable__label {cursor: pointer;display: block;width: 100%;margin-bottom: 0;padding: 0.3em;box-sizing: border-box;text-align: center;}#sk-container-id-7 label.sk-toggleable__label-arrow:before {content: \"▸\";float: left;margin-right: 0.25em;color: #696969;}#sk-container-id-7 label.sk-toggleable__label-arrow:hover:before {color: black;}#sk-container-id-7 div.sk-estimator:hover label.sk-toggleable__label-arrow:before {color: black;}#sk-container-id-7 div.sk-toggleable__content {max-height: 0;max-width: 0;overflow: hidden;text-align: left;background-color: #f0f8ff;}#sk-container-id-7 div.sk-toggleable__content pre {margin: 0.2em;color: black;border-radius: 0.25em;background-color: #f0f8ff;}#sk-container-id-7 input.sk-toggleable__control:checked~div.sk-toggleable__content {max-height: 200px;max-width: 100%;overflow: auto;}#sk-container-id-7 input.sk-toggleable__control:checked~label.sk-toggleable__label-arrow:before {content: \"▾\";}#sk-container-id-7 div.sk-estimator input.sk-toggleable__control:checked~label.sk-toggleable__label {background-color: #d4ebff;}#sk-container-id-7 div.sk-label input.sk-toggleable__control:checked~label.sk-toggleable__label {background-color: #d4ebff;}#sk-container-id-7 input.sk-hidden--visually {border: 0;clip: rect(1px 1px 1px 1px);clip: rect(1px, 1px, 1px, 1px);height: 1px;margin: -1px;overflow: hidden;padding: 0;position: absolute;width: 1px;}#sk-container-id-7 div.sk-estimator {font-family: monospace;background-color: #f0f8ff;border: 1px dotted black;border-radius: 0.25em;box-sizing: border-box;margin-bottom: 0.5em;}#sk-container-id-7 div.sk-estimator:hover {background-color: #d4ebff;}#sk-container-id-7 div.sk-parallel-item::after {content: \"\";width: 100%;border-bottom: 1px solid gray;flex-grow: 1;}#sk-container-id-7 div.sk-label:hover label.sk-toggleable__label {background-color: #d4ebff;}#sk-container-id-7 div.sk-serial::before {content: \"\";position: absolute;border-left: 1px solid gray;box-sizing: border-box;top: 0;bottom: 0;left: 50%;z-index: 0;}#sk-container-id-7 div.sk-serial {display: flex;flex-direction: column;align-items: center;background-color: white;padding-right: 0.2em;padding-left: 0.2em;position: relative;}#sk-container-id-7 div.sk-item {position: relative;z-index: 1;}#sk-container-id-7 div.sk-parallel {display: flex;align-items: stretch;justify-content: center;background-color: white;position: relative;}#sk-container-id-7 div.sk-item::before, #sk-container-id-7 div.sk-parallel-item::before {content: \"\";position: absolute;border-left: 1px solid gray;box-sizing: border-box;top: 0;bottom: 0;left: 50%;z-index: -1;}#sk-container-id-7 div.sk-parallel-item {display: flex;flex-direction: column;z-index: 1;position: relative;background-color: white;}#sk-container-id-7 div.sk-parallel-item:first-child::after {align-self: flex-end;width: 50%;}#sk-container-id-7 div.sk-parallel-item:last-child::after {align-self: flex-start;width: 50%;}#sk-container-id-7 div.sk-parallel-item:only-child::after {width: 0;}#sk-container-id-7 div.sk-dashed-wrapped {border: 1px dashed gray;margin: 0 0.4em 0.5em 0.4em;box-sizing: border-box;padding-bottom: 0.4em;background-color: white;}#sk-container-id-7 div.sk-label label {font-family: monospace;font-weight: bold;display: inline-block;line-height: 1.2em;}#sk-container-id-7 div.sk-label-container {text-align: center;}#sk-container-id-7 div.sk-container {/* jupyter's `normalize.less` sets `[hidden] { display: none; }` but bootstrap.min.css set `[hidden] { display: none !important; }` so we also need the `!important` here to be able to override the default hidden behavior on the sphinx rendered scikit-learn.org. See: https://github.com/scikit-learn/scikit-learn/issues/21755 */display: inline-block !important;position: relative;}#sk-container-id-7 div.sk-text-repr-fallback {display: none;}</style><div id=\"sk-container-id-7\" class=\"sk-top-container\"><div class=\"sk-text-repr-fallback\"><pre>RandomForestClassifier(class_weight=&#x27;balanced&#x27;, max_depth=20, max_samples=0.8,\n",
       "                       n_estimators=171, random_state=42)</pre><b>In a Jupyter environment, please rerun this cell to show the HTML representation or trust the notebook. <br />On GitHub, the HTML representation is unable to render, please try loading this page with nbviewer.org.</b></div><div class=\"sk-container\" hidden><div class=\"sk-item\"><div class=\"sk-estimator sk-toggleable\"><input class=\"sk-toggleable__control sk-hidden--visually\" id=\"sk-estimator-id-9\" type=\"checkbox\" checked><label for=\"sk-estimator-id-9\" class=\"sk-toggleable__label sk-toggleable__label-arrow\">RandomForestClassifier</label><div class=\"sk-toggleable__content\"><pre>RandomForestClassifier(class_weight=&#x27;balanced&#x27;, max_depth=20, max_samples=0.8,\n",
       "                       n_estimators=171, random_state=42)</pre></div></div></div></div></div>"
      ],
      "text/plain": [
       "RandomForestClassifier(class_weight='balanced', max_depth=20, max_samples=0.8,\n",
       "                       n_estimators=171, random_state=42)"
      ]
     },
     "execution_count": 230,
     "metadata": {},
     "output_type": "execute_result"
    }
   ],
   "source": [
    "model_rf.fit(X_train_no_res, y_train_no_res) "
   ]
  },
  {
   "cell_type": "code",
   "execution_count": 231,
   "id": "5acc96a3",
   "metadata": {},
   "outputs": [],
   "source": [
    "labels_train = model_rf.predict(X_train_no_res)\n",
    "labels_val = model_rf.predict(X_val)"
   ]
  },
  {
   "cell_type": "code",
   "execution_count": 232,
   "id": "9d01a15d",
   "metadata": {},
   "outputs": [
    {
     "name": "stdout",
     "output_type": "stream",
     "text": [
      "Train: 0.9608366397900023\n",
      "Validation: 0.5664818327019264\n"
     ]
    }
   ],
   "source": [
    "print('Train:', f1_score(y_train_no_res, labels_train, average='weighted'))\n",
    "print('Validation:', f1_score(y_val, labels_val, average='weighted'))"
   ]
  },
  {
   "cell_type": "code",
   "execution_count": null,
   "id": "938f7c75",
   "metadata": {},
   "outputs": [],
   "source": []
  }
 ],
 "metadata": {
  "colab": {
   "provenance": []
  },
  "kernelspec": {
   "display_name": "Python 3 (ipykernel)",
   "language": "python",
   "name": "python3"
  },
  "language_info": {
   "codemirror_mode": {
    "name": "ipython",
    "version": 3
   },
   "file_extension": ".py",
   "mimetype": "text/x-python",
   "name": "python",
   "nbconvert_exporter": "python",
   "pygments_lexer": "ipython3",
   "version": "3.9.7"
  }
 },
 "nbformat": 4,
 "nbformat_minor": 5
}
