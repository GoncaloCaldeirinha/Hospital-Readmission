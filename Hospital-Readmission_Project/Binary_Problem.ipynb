{
 "cells": [
  {
   "cell_type": "markdown",
   "id": "8a62dbd3",
   "metadata": {},
   "source": [
    "## Machine Learning Project  \n",
    "\n",
    "**Msc:** Data Science and Advanced Analytics - Major in Bussiness Ananlytics @ NOVA IMS  \n",
    "**Course:** Machine Learning - 2023/2024 <br>\n",
    "**Group 27:** <br>\n",
    "- Joana Macedo - r20201498 <br>\n",
    "- Ana Morgado - 20230385 <br>\n",
    "- Gonçalo Caldeirinha - 20230469 <br>\n",
    "- Taha  Ben Attia - 20230742 <br>\n",
    "- Emanuele Travisani - 20231243 "
   ]
  },
  {
   "cell_type": "markdown",
   "id": "743dd476",
   "metadata": {},
   "source": [
    "\n",
    "<h2 style=\"color:black\">Table of Contents</h2>\n",
    "\n",
    "[1. Import](#import)<br>\n",
    "&emsp;[1.1. Import Libraries](#importlibraries)<br>\n",
    "&emsp;[1.2. Import Datasets](#importdatasets)<br>\n",
    "[2. Explore Dataset](#Explore)<br>\n",
    "&emsp;[2.1. Statistical Information](#stats)<br>\n",
    "&emsp;[2.2. Defining Metric and Non-metric Features](#metric)<br>\n",
    "[3. Split Data into Train and Val](#split)<br>\n",
    "[4. Data Pre-processing](#preproc)<br>\n",
    "&emsp;[4.1. Incoherences and Missclassifications](#inco)<br>\n",
    "&emsp;[4.2. Duplicates](#dup)<br>\n",
    "&emsp;[4.3. Treat Outliers](#out)<br>\n",
    "[5. Feature Engineering](#fe)<br>\n",
    "&emsp;[5.1. Dummy Variables](#dummy)<br>\n",
    "&emsp;[5.2. Creation of New Variables](#newvar)<br>\n",
    "&emsp;[5.3. Renaming Variables](#ren)<br>\n",
    "[6. Visualizations](#vis)<br>\n",
    "[7. Split Data into X_train and y_train || X_val and y_val](#split2)<br>\n",
    "[8. Encoding](#enc)<br>\n",
    "&emsp;[8.1. Ordinal Encoding](#ord)<br>\n",
    "&emsp;[8.2. OneHot Encoder](#onehot)<br>\n",
    "&emsp;[8.3. Target Encoding](#target)<br>\n",
    "[9. Data Scaling](#scal)<br>\n",
    "&emsp;[9.1. MinMax Scaler](#minmax)<br>\n",
    "&emsp;[9.2. Standard Scaler](#std)<br>\n",
    "[10. Missing Values](#miss)<br>\n",
    "&emsp;[10.1. KNN imputation](#knn)<br>\n",
    "[11. Re-sampling Techniques for Imbalanced Classification](#res)<br>\n",
    "&emsp;[11.1. SmoteNC](#SNC)<br>\n",
    "&emsp;[11.2. SmoteNN](#SNN)<br>\n",
    "&emsp;[11.3. SmoteTomek](#STK)<br>\n",
    "&emsp;[11.4. Undersampling](#under)<br>\n",
    "&emsp;[11.5. Oversampling](#over)<br>\n",
    "&emsp;[11.6. Undersampling and Oversampling](#undov)<br>\n",
    "[12. Feature Selection](#fs)<br>\n",
    "&emsp;[12.1. Spearman Correlation](#sp)<br>\n",
    "&emsp;[12.2. Chi-Square](#cs)<br>\n",
    "&emsp;[12.3. Recursive Feature Elimination - RFE](#rfe)<br>\n",
    "&emsp;[12.4. LASSO](#lasso)<br>\n",
    "&emsp;[12.5. K-best](#kb)<br>\n",
    "&emsp;[12.6. Random Forest](#rf)<br>\n",
    "&emsp;[12.7. Decision of FS](#dec)<br>\n",
    "[13. Models](#models)<br>\n",
    "&emsp;[13.1. Bayes Classifier](#bayes)<br>\n",
    "&emsp;[13.2. KNN](#knnmodel)<br>\n",
    "&emsp;[13.3. Decision Trees](#dt)<br>\n",
    "&emsp;[13.4. Logistic Regression](#lr)<br>\n",
    "&emsp;[13.5. Neural Network](#nn)<br>\n",
    "&emsp;[13.6. Support Vector Machines](#svm)<br>\n",
    "&emsp;[13.7. Random Forest](#rfmodel)<br>\n",
    "\n",
    "\n",
    "\n",
    "\n",
    "\n",
    "\n"
   ]
  },
  {
   "cell_type": "markdown",
   "id": "8a145b11",
   "metadata": {},
   "source": [
    "<hr style=\"border: 1px solid black;\">\n",
    "<a class=\"anchor\" id=\"import\"></a>\n",
    "\n",
    "# <span style=\"color:black\">1. Import</span>"
   ]
  },
  {
   "cell_type": "markdown",
   "id": "6fe8a30f",
   "metadata": {},
   "source": [
    "<a class=\"anchor\" id=\"importlibraries\"></a>\n",
    "\n",
    "## <span style=\"color:black\">1.1. Import Libraries</span>"
   ]
  },
  {
   "cell_type": "markdown",
   "id": "3b8f3608",
   "metadata": {},
   "source": [
    "We will start by importing the libraries needed."
   ]
  },
  {
   "cell_type": "code",
   "execution_count": 1,
   "id": "5dd1400d",
   "metadata": {},
   "outputs": [],
   "source": [
    "import pandas as pd\n",
    "import os\n",
    "import scipy\n",
    "import numpy as np\n",
    "from sklearn.preprocessing import MinMaxScaler, OneHotEncoder, StandardScaler, OrdinalEncoder, RobustScaler\n",
    "import seaborn as sns\n",
    "import matplotlib.pyplot as plt\n",
    "from math import ceil\n",
    "import scipy.stats as stats\n",
    "from scipy import stats\n",
    "from scipy.stats import chi2_contingency\n",
    "from sklearn.linear_model import LogisticRegression, LassoCV, RidgeCV, Ridge\n",
    "from sklearn.svm import SVC\n",
    "from sklearn.feature_selection import RFE, SelectKBest, chi2, f_regression, RFE, SelectFromModel, mutual_info_classif\n",
    "import warnings\n",
    "warnings.filterwarnings('ignore')\n",
    "import category_encoders as ce\n",
    "from category_encoders import TargetEncoder, OneHotEncoder\n",
    "from sklearn.impute import SimpleImputer, KNNImputer\n",
    "from imblearn.over_sampling import SMOTE, SMOTENC \n",
    "from imblearn.over_sampling import RandomOverSampler\n",
    "from imblearn.under_sampling import RandomUnderSampler\n",
    "from collections import Counter\n",
    "from numpy import mean\n",
    "from sklearn.datasets import make_classification\n",
    "from sklearn.model_selection import cross_val_score, RepeatedStratifiedKFold, StratifiedKFold, GridSearchCV, train_test_split, RandomizedSearchCV\n",
    "from sklearn.tree import DecisionTreeClassifier\n",
    "from imblearn.pipeline import Pipeline\n",
    "from imblearn.combine import SMOTEENN\n",
    "from sklearn.ensemble import RandomForestClassifier, GradientBoostingClassifier, BaggingClassifier\n",
    "from sklearn.naive_bayes import GaussianNB\n",
    "from sklearn.metrics import make_scorer, f1_score, classification_report, confusion_matrix, roc_auc_score,  roc_curve, auc\n",
    "from sklearn.neighbors import KNeighborsClassifier\n",
    "from sklearn import tree\n",
    "import pydotplus\n",
    "import graphviz\n",
    "from sklearn.tree import export_graphviz\n",
    "from sklearn.linear_model import RidgeClassifier\n",
    "from sklearn.neural_network import MLPClassifier\n",
    "import time\n",
    "from sklearn.svm import SVC\n",
    "from scipy.stats import randint"
   ]
  },
  {
   "cell_type": "markdown",
   "id": "dbd1e93a",
   "metadata": {},
   "source": [
    "<a class=\"anchor\" id=\"importlibraries\"></a>\n",
    "\n",
    "## <span style=\"color:black\">1.2. Import Dataset</span>"
   ]
  },
  {
   "cell_type": "code",
   "execution_count": 2,
   "id": "25b17619",
   "metadata": {},
   "outputs": [],
   "source": [
    "#loading file into a dataframe\n",
    "train_original = pd.read_csv(\"train.csv\", sep = ',')\n",
    "test_original = pd.read_csv(\"test.csv\", sep = ',')"
   ]
  },
  {
   "cell_type": "code",
   "execution_count": 3,
   "id": "106ced42",
   "metadata": {},
   "outputs": [],
   "source": [
    "#create a copy of the original dataframe\n",
    "data = train_original.copy()\n",
    "test = test_original.copy()"
   ]
  },
  {
   "cell_type": "markdown",
   "id": "6a82b45d",
   "metadata": {},
   "source": [
    "<hr style=\"border: 1px solid black;\">\n",
    "<a class=\"anchor\" id=\"Explore\"></a>\n",
    "\n",
    "# <span style=\"color:black\">2. Explore Dataset</span>"
   ]
  },
  {
   "cell_type": "markdown",
   "id": "ae8a43d6",
   "metadata": {},
   "source": [
    "We want to have an overview of the first five rows of the train dataset."
   ]
  },
  {
   "cell_type": "code",
   "execution_count": 4,
   "id": "8a988340",
   "metadata": {},
   "outputs": [
    {
     "data": {
      "text/html": [
       "<div>\n",
       "<style scoped>\n",
       "    .dataframe tbody tr th:only-of-type {\n",
       "        vertical-align: middle;\n",
       "    }\n",
       "\n",
       "    .dataframe tbody tr th {\n",
       "        vertical-align: top;\n",
       "    }\n",
       "\n",
       "    .dataframe thead th {\n",
       "        text-align: right;\n",
       "    }\n",
       "</style>\n",
       "<table border=\"1\" class=\"dataframe\">\n",
       "  <thead>\n",
       "    <tr style=\"text-align: right;\">\n",
       "      <th></th>\n",
       "      <th>encounter_id</th>\n",
       "      <th>country</th>\n",
       "      <th>patient_id</th>\n",
       "      <th>race</th>\n",
       "      <th>gender</th>\n",
       "      <th>age</th>\n",
       "      <th>weight</th>\n",
       "      <th>payer_code</th>\n",
       "      <th>outpatient_visits_in_previous_year</th>\n",
       "      <th>emergency_visits_in_previous_year</th>\n",
       "      <th>...</th>\n",
       "      <th>secondary_diagnosis</th>\n",
       "      <th>additional_diagnosis</th>\n",
       "      <th>number_diagnoses</th>\n",
       "      <th>glucose_test_result</th>\n",
       "      <th>a1c_test_result</th>\n",
       "      <th>change_in_meds_during_hospitalization</th>\n",
       "      <th>prescribed_diabetes_meds</th>\n",
       "      <th>medication</th>\n",
       "      <th>readmitted_binary</th>\n",
       "      <th>readmitted_multiclass</th>\n",
       "    </tr>\n",
       "  </thead>\n",
       "  <tbody>\n",
       "    <tr>\n",
       "      <th>0</th>\n",
       "      <td>533253</td>\n",
       "      <td>USA</td>\n",
       "      <td>70110</td>\n",
       "      <td>Caucasian</td>\n",
       "      <td>Female</td>\n",
       "      <td>[70-80)</td>\n",
       "      <td>?</td>\n",
       "      <td>?</td>\n",
       "      <td>0</td>\n",
       "      <td>0</td>\n",
       "      <td>...</td>\n",
       "      <td>276</td>\n",
       "      <td>466</td>\n",
       "      <td>8</td>\n",
       "      <td>NaN</td>\n",
       "      <td>NaN</td>\n",
       "      <td>No</td>\n",
       "      <td>No</td>\n",
       "      <td>[]</td>\n",
       "      <td>No</td>\n",
       "      <td>&gt;30 days</td>\n",
       "    </tr>\n",
       "    <tr>\n",
       "      <th>1</th>\n",
       "      <td>426224</td>\n",
       "      <td>USA</td>\n",
       "      <td>29775006</td>\n",
       "      <td>AfricanAmerican</td>\n",
       "      <td>Male</td>\n",
       "      <td>[50-60)</td>\n",
       "      <td>?</td>\n",
       "      <td>?</td>\n",
       "      <td>0</td>\n",
       "      <td>0</td>\n",
       "      <td>...</td>\n",
       "      <td>785</td>\n",
       "      <td>162</td>\n",
       "      <td>9</td>\n",
       "      <td>NaN</td>\n",
       "      <td>NaN</td>\n",
       "      <td>No</td>\n",
       "      <td>Yes</td>\n",
       "      <td>['insulin']</td>\n",
       "      <td>No</td>\n",
       "      <td>No</td>\n",
       "    </tr>\n",
       "    <tr>\n",
       "      <th>2</th>\n",
       "      <td>634063</td>\n",
       "      <td>USA</td>\n",
       "      <td>80729253</td>\n",
       "      <td>Caucasian</td>\n",
       "      <td>Female</td>\n",
       "      <td>[60-70)</td>\n",
       "      <td>?</td>\n",
       "      <td>?</td>\n",
       "      <td>0</td>\n",
       "      <td>0</td>\n",
       "      <td>...</td>\n",
       "      <td>135</td>\n",
       "      <td>250</td>\n",
       "      <td>6</td>\n",
       "      <td>NaN</td>\n",
       "      <td>NaN</td>\n",
       "      <td>Ch</td>\n",
       "      <td>Yes</td>\n",
       "      <td>['glimepiride', 'insulin']</td>\n",
       "      <td>No</td>\n",
       "      <td>No</td>\n",
       "    </tr>\n",
       "    <tr>\n",
       "      <th>3</th>\n",
       "      <td>890610</td>\n",
       "      <td>USA</td>\n",
       "      <td>2919042</td>\n",
       "      <td>AfricanAmerican</td>\n",
       "      <td>Male</td>\n",
       "      <td>[60-70)</td>\n",
       "      <td>?</td>\n",
       "      <td>MC</td>\n",
       "      <td>0</td>\n",
       "      <td>0</td>\n",
       "      <td>...</td>\n",
       "      <td>562</td>\n",
       "      <td>455</td>\n",
       "      <td>5</td>\n",
       "      <td>NaN</td>\n",
       "      <td>NaN</td>\n",
       "      <td>No</td>\n",
       "      <td>No</td>\n",
       "      <td>[]</td>\n",
       "      <td>No</td>\n",
       "      <td>No</td>\n",
       "    </tr>\n",
       "    <tr>\n",
       "      <th>4</th>\n",
       "      <td>654194</td>\n",
       "      <td>USA</td>\n",
       "      <td>84871971</td>\n",
       "      <td>Caucasian</td>\n",
       "      <td>Female</td>\n",
       "      <td>[70-80)</td>\n",
       "      <td>?</td>\n",
       "      <td>HM</td>\n",
       "      <td>1</td>\n",
       "      <td>0</td>\n",
       "      <td>...</td>\n",
       "      <td>599</td>\n",
       "      <td>428</td>\n",
       "      <td>9</td>\n",
       "      <td>NaN</td>\n",
       "      <td>NaN</td>\n",
       "      <td>No</td>\n",
       "      <td>No</td>\n",
       "      <td>[]</td>\n",
       "      <td>No</td>\n",
       "      <td>&gt;30 days</td>\n",
       "    </tr>\n",
       "  </tbody>\n",
       "</table>\n",
       "<p>5 rows × 31 columns</p>\n",
       "</div>"
      ],
      "text/plain": [
       "   encounter_id country  patient_id             race  gender      age weight  \\\n",
       "0        533253     USA       70110        Caucasian  Female  [70-80)      ?   \n",
       "1        426224     USA    29775006  AfricanAmerican    Male  [50-60)      ?   \n",
       "2        634063     USA    80729253        Caucasian  Female  [60-70)      ?   \n",
       "3        890610     USA     2919042  AfricanAmerican    Male  [60-70)      ?   \n",
       "4        654194     USA    84871971        Caucasian  Female  [70-80)      ?   \n",
       "\n",
       "  payer_code  outpatient_visits_in_previous_year  \\\n",
       "0          ?                                   0   \n",
       "1          ?                                   0   \n",
       "2          ?                                   0   \n",
       "3         MC                                   0   \n",
       "4         HM                                   1   \n",
       "\n",
       "   emergency_visits_in_previous_year  ...  secondary_diagnosis  \\\n",
       "0                                  0  ...                  276   \n",
       "1                                  0  ...                  785   \n",
       "2                                  0  ...                  135   \n",
       "3                                  0  ...                  562   \n",
       "4                                  0  ...                  599   \n",
       "\n",
       "  additional_diagnosis number_diagnoses  glucose_test_result a1c_test_result  \\\n",
       "0                  466                8                  NaN             NaN   \n",
       "1                  162                9                  NaN             NaN   \n",
       "2                  250                6                  NaN             NaN   \n",
       "3                  455                5                  NaN             NaN   \n",
       "4                  428                9                  NaN             NaN   \n",
       "\n",
       "  change_in_meds_during_hospitalization  prescribed_diabetes_meds  \\\n",
       "0                                    No                        No   \n",
       "1                                    No                       Yes   \n",
       "2                                    Ch                       Yes   \n",
       "3                                    No                        No   \n",
       "4                                    No                        No   \n",
       "\n",
       "                   medication  readmitted_binary  readmitted_multiclass  \n",
       "0                          []                 No               >30 days  \n",
       "1                 ['insulin']                 No                     No  \n",
       "2  ['glimepiride', 'insulin']                 No                     No  \n",
       "3                          []                 No                     No  \n",
       "4                          []                 No               >30 days  \n",
       "\n",
       "[5 rows x 31 columns]"
      ]
     },
     "execution_count": 4,
     "metadata": {},
     "output_type": "execute_result"
    }
   ],
   "source": [
    "data.head()"
   ]
  },
  {
   "cell_type": "markdown",
   "id": "48858fb9",
   "metadata": {},
   "source": [
    "Checking how many rows and columns the dataset has."
   ]
  },
  {
   "cell_type": "code",
   "execution_count": 5,
   "id": "222bf9d5",
   "metadata": {},
   "outputs": [
    {
     "name": "stdout",
     "output_type": "stream",
     "text": [
      "The dataset has a total of 71236 rows and 31 columns.\n"
     ]
    }
   ],
   "source": [
    "print('The dataset has a total of', data.shape[0], 'rows and', data.shape[1], 'columns.')"
   ]
  },
  {
   "cell_type": "markdown",
   "id": "d5e4f910",
   "metadata": {},
   "source": [
    "Setting `encounter_id` as the index."
   ]
  },
  {
   "cell_type": "code",
   "execution_count": 6,
   "id": "db025597",
   "metadata": {},
   "outputs": [
    {
     "data": {
      "text/html": [
       "<div>\n",
       "<style scoped>\n",
       "    .dataframe tbody tr th:only-of-type {\n",
       "        vertical-align: middle;\n",
       "    }\n",
       "\n",
       "    .dataframe tbody tr th {\n",
       "        vertical-align: top;\n",
       "    }\n",
       "\n",
       "    .dataframe thead th {\n",
       "        text-align: right;\n",
       "    }\n",
       "</style>\n",
       "<table border=\"1\" class=\"dataframe\">\n",
       "  <thead>\n",
       "    <tr style=\"text-align: right;\">\n",
       "      <th></th>\n",
       "      <th>country</th>\n",
       "      <th>patient_id</th>\n",
       "      <th>race</th>\n",
       "      <th>gender</th>\n",
       "      <th>age</th>\n",
       "      <th>weight</th>\n",
       "      <th>payer_code</th>\n",
       "      <th>outpatient_visits_in_previous_year</th>\n",
       "      <th>emergency_visits_in_previous_year</th>\n",
       "      <th>inpatient_visits_in_previous_year</th>\n",
       "      <th>...</th>\n",
       "      <th>secondary_diagnosis</th>\n",
       "      <th>additional_diagnosis</th>\n",
       "      <th>number_diagnoses</th>\n",
       "      <th>glucose_test_result</th>\n",
       "      <th>a1c_test_result</th>\n",
       "      <th>change_in_meds_during_hospitalization</th>\n",
       "      <th>prescribed_diabetes_meds</th>\n",
       "      <th>medication</th>\n",
       "      <th>readmitted_binary</th>\n",
       "      <th>readmitted_multiclass</th>\n",
       "    </tr>\n",
       "    <tr>\n",
       "      <th>encounter_id</th>\n",
       "      <th></th>\n",
       "      <th></th>\n",
       "      <th></th>\n",
       "      <th></th>\n",
       "      <th></th>\n",
       "      <th></th>\n",
       "      <th></th>\n",
       "      <th></th>\n",
       "      <th></th>\n",
       "      <th></th>\n",
       "      <th></th>\n",
       "      <th></th>\n",
       "      <th></th>\n",
       "      <th></th>\n",
       "      <th></th>\n",
       "      <th></th>\n",
       "      <th></th>\n",
       "      <th></th>\n",
       "      <th></th>\n",
       "      <th></th>\n",
       "      <th></th>\n",
       "    </tr>\n",
       "  </thead>\n",
       "  <tbody>\n",
       "    <tr>\n",
       "      <th>533253</th>\n",
       "      <td>USA</td>\n",
       "      <td>70110</td>\n",
       "      <td>Caucasian</td>\n",
       "      <td>Female</td>\n",
       "      <td>[70-80)</td>\n",
       "      <td>?</td>\n",
       "      <td>?</td>\n",
       "      <td>0</td>\n",
       "      <td>0</td>\n",
       "      <td>2</td>\n",
       "      <td>...</td>\n",
       "      <td>276</td>\n",
       "      <td>466</td>\n",
       "      <td>8</td>\n",
       "      <td>NaN</td>\n",
       "      <td>NaN</td>\n",
       "      <td>No</td>\n",
       "      <td>No</td>\n",
       "      <td>[]</td>\n",
       "      <td>No</td>\n",
       "      <td>&gt;30 days</td>\n",
       "    </tr>\n",
       "    <tr>\n",
       "      <th>426224</th>\n",
       "      <td>USA</td>\n",
       "      <td>29775006</td>\n",
       "      <td>AfricanAmerican</td>\n",
       "      <td>Male</td>\n",
       "      <td>[50-60)</td>\n",
       "      <td>?</td>\n",
       "      <td>?</td>\n",
       "      <td>0</td>\n",
       "      <td>0</td>\n",
       "      <td>0</td>\n",
       "      <td>...</td>\n",
       "      <td>785</td>\n",
       "      <td>162</td>\n",
       "      <td>9</td>\n",
       "      <td>NaN</td>\n",
       "      <td>NaN</td>\n",
       "      <td>No</td>\n",
       "      <td>Yes</td>\n",
       "      <td>['insulin']</td>\n",
       "      <td>No</td>\n",
       "      <td>No</td>\n",
       "    </tr>\n",
       "    <tr>\n",
       "      <th>634063</th>\n",
       "      <td>USA</td>\n",
       "      <td>80729253</td>\n",
       "      <td>Caucasian</td>\n",
       "      <td>Female</td>\n",
       "      <td>[60-70)</td>\n",
       "      <td>?</td>\n",
       "      <td>?</td>\n",
       "      <td>0</td>\n",
       "      <td>0</td>\n",
       "      <td>1</td>\n",
       "      <td>...</td>\n",
       "      <td>135</td>\n",
       "      <td>250</td>\n",
       "      <td>6</td>\n",
       "      <td>NaN</td>\n",
       "      <td>NaN</td>\n",
       "      <td>Ch</td>\n",
       "      <td>Yes</td>\n",
       "      <td>['glimepiride', 'insulin']</td>\n",
       "      <td>No</td>\n",
       "      <td>No</td>\n",
       "    </tr>\n",
       "    <tr>\n",
       "      <th>890610</th>\n",
       "      <td>USA</td>\n",
       "      <td>2919042</td>\n",
       "      <td>AfricanAmerican</td>\n",
       "      <td>Male</td>\n",
       "      <td>[60-70)</td>\n",
       "      <td>?</td>\n",
       "      <td>MC</td>\n",
       "      <td>0</td>\n",
       "      <td>0</td>\n",
       "      <td>1</td>\n",
       "      <td>...</td>\n",
       "      <td>562</td>\n",
       "      <td>455</td>\n",
       "      <td>5</td>\n",
       "      <td>NaN</td>\n",
       "      <td>NaN</td>\n",
       "      <td>No</td>\n",
       "      <td>No</td>\n",
       "      <td>[]</td>\n",
       "      <td>No</td>\n",
       "      <td>No</td>\n",
       "    </tr>\n",
       "    <tr>\n",
       "      <th>654194</th>\n",
       "      <td>USA</td>\n",
       "      <td>84871971</td>\n",
       "      <td>Caucasian</td>\n",
       "      <td>Female</td>\n",
       "      <td>[70-80)</td>\n",
       "      <td>?</td>\n",
       "      <td>HM</td>\n",
       "      <td>1</td>\n",
       "      <td>0</td>\n",
       "      <td>0</td>\n",
       "      <td>...</td>\n",
       "      <td>599</td>\n",
       "      <td>428</td>\n",
       "      <td>9</td>\n",
       "      <td>NaN</td>\n",
       "      <td>NaN</td>\n",
       "      <td>No</td>\n",
       "      <td>No</td>\n",
       "      <td>[]</td>\n",
       "      <td>No</td>\n",
       "      <td>&gt;30 days</td>\n",
       "    </tr>\n",
       "  </tbody>\n",
       "</table>\n",
       "<p>5 rows × 30 columns</p>\n",
       "</div>"
      ],
      "text/plain": [
       "             country  patient_id             race  gender      age weight  \\\n",
       "encounter_id                                                                \n",
       "533253           USA       70110        Caucasian  Female  [70-80)      ?   \n",
       "426224           USA    29775006  AfricanAmerican    Male  [50-60)      ?   \n",
       "634063           USA    80729253        Caucasian  Female  [60-70)      ?   \n",
       "890610           USA     2919042  AfricanAmerican    Male  [60-70)      ?   \n",
       "654194           USA    84871971        Caucasian  Female  [70-80)      ?   \n",
       "\n",
       "             payer_code  outpatient_visits_in_previous_year  \\\n",
       "encounter_id                                                  \n",
       "533253                ?                                   0   \n",
       "426224                ?                                   0   \n",
       "634063                ?                                   0   \n",
       "890610               MC                                   0   \n",
       "654194               HM                                   1   \n",
       "\n",
       "              emergency_visits_in_previous_year  \\\n",
       "encounter_id                                      \n",
       "533253                                        0   \n",
       "426224                                        0   \n",
       "634063                                        0   \n",
       "890610                                        0   \n",
       "654194                                        0   \n",
       "\n",
       "              inpatient_visits_in_previous_year  ... secondary_diagnosis  \\\n",
       "encounter_id                                     ...                       \n",
       "533253                                        2  ...                 276   \n",
       "426224                                        0  ...                 785   \n",
       "634063                                        1  ...                 135   \n",
       "890610                                        1  ...                 562   \n",
       "654194                                        0  ...                 599   \n",
       "\n",
       "             additional_diagnosis  number_diagnoses glucose_test_result  \\\n",
       "encounter_id                                                              \n",
       "533253                        466                 8                 NaN   \n",
       "426224                        162                 9                 NaN   \n",
       "634063                        250                 6                 NaN   \n",
       "890610                        455                 5                 NaN   \n",
       "654194                        428                 9                 NaN   \n",
       "\n",
       "             a1c_test_result  change_in_meds_during_hospitalization  \\\n",
       "encounter_id                                                          \n",
       "533253                   NaN                                     No   \n",
       "426224                   NaN                                     No   \n",
       "634063                   NaN                                     Ch   \n",
       "890610                   NaN                                     No   \n",
       "654194                   NaN                                     No   \n",
       "\n",
       "              prescribed_diabetes_meds                  medication  \\\n",
       "encounter_id                                                         \n",
       "533253                              No                          []   \n",
       "426224                             Yes                 ['insulin']   \n",
       "634063                             Yes  ['glimepiride', 'insulin']   \n",
       "890610                              No                          []   \n",
       "654194                              No                          []   \n",
       "\n",
       "              readmitted_binary readmitted_multiclass  \n",
       "encounter_id                                           \n",
       "533253                       No              >30 days  \n",
       "426224                       No                    No  \n",
       "634063                       No                    No  \n",
       "890610                       No                    No  \n",
       "654194                       No              >30 days  \n",
       "\n",
       "[5 rows x 30 columns]"
      ]
     },
     "execution_count": 6,
     "metadata": {},
     "output_type": "execute_result"
    }
   ],
   "source": [
    "data.set_index('encounter_id', inplace=True) \n",
    "test.set_index('encounter_id', inplace=True) \n",
    "data.head()"
   ]
  },
  {
   "cell_type": "markdown",
   "id": "e45ed935",
   "metadata": {},
   "source": [
    "Checking the type of variables we have."
   ]
  },
  {
   "cell_type": "code",
   "execution_count": 7,
   "id": "964d443c",
   "metadata": {},
   "outputs": [
    {
     "name": "stdout",
     "output_type": "stream",
     "text": [
      "<class 'pandas.core.frame.DataFrame'>\n",
      "Int64Index: 71236 entries, 533253 to 459757\n",
      "Data columns (total 30 columns):\n",
      " #   Column                                 Non-Null Count  Dtype \n",
      "---  ------                                 --------------  ----- \n",
      " 0   country                                71236 non-null  object\n",
      " 1   patient_id                             71236 non-null  int64 \n",
      " 2   race                                   67682 non-null  object\n",
      " 3   gender                                 71236 non-null  object\n",
      " 4   age                                    67679 non-null  object\n",
      " 5   weight                                 71236 non-null  object\n",
      " 6   payer_code                             71236 non-null  object\n",
      " 7   outpatient_visits_in_previous_year     71236 non-null  int64 \n",
      " 8   emergency_visits_in_previous_year      71236 non-null  int64 \n",
      " 9   inpatient_visits_in_previous_year      71236 non-null  int64 \n",
      " 10  admission_type                         67530 non-null  object\n",
      " 11  medical_specialty                      71236 non-null  object\n",
      " 12  average_pulse_bpm                      71236 non-null  int64 \n",
      " 13  discharge_disposition                  68646 non-null  object\n",
      " 14  admission_source                       66518 non-null  object\n",
      " 15  length_of_stay_in_hospital             71236 non-null  int64 \n",
      " 16  number_lab_tests                       71236 non-null  int64 \n",
      " 17  non_lab_procedures                     71236 non-null  int64 \n",
      " 18  number_of_medications                  71236 non-null  int64 \n",
      " 19  primary_diagnosis                      71236 non-null  object\n",
      " 20  secondary_diagnosis                    71236 non-null  object\n",
      " 21  additional_diagnosis                   71236 non-null  object\n",
      " 22  number_diagnoses                       71236 non-null  int64 \n",
      " 23  glucose_test_result                    3688 non-null   object\n",
      " 24  a1c_test_result                        11916 non-null  object\n",
      " 25  change_in_meds_during_hospitalization  71236 non-null  object\n",
      " 26  prescribed_diabetes_meds               71236 non-null  object\n",
      " 27  medication                             71236 non-null  object\n",
      " 28  readmitted_binary                      71236 non-null  object\n",
      " 29  readmitted_multiclass                  71236 non-null  object\n",
      "dtypes: int64(10), object(20)\n",
      "memory usage: 16.8+ MB\n"
     ]
    }
   ],
   "source": [
    "data.info()"
   ]
  },
  {
   "cell_type": "markdown",
   "id": "d6e9e031",
   "metadata": {},
   "source": [
    "<a class=\"anchor\" id=\"stats\"></a>\n",
    "\n",
    "## <span style=\"color:black\">2.1. Statistical Information</span>"
   ]
  },
  {
   "cell_type": "markdown",
   "id": "4805a9b2",
   "metadata": {},
   "source": [
    "We first evaluated the main statistical characteristics of our variables."
   ]
  },
  {
   "cell_type": "code",
   "execution_count": 8,
   "id": "b22d927f",
   "metadata": {},
   "outputs": [
    {
     "data": {
      "text/html": [
       "<div>\n",
       "<style scoped>\n",
       "    .dataframe tbody tr th:only-of-type {\n",
       "        vertical-align: middle;\n",
       "    }\n",
       "\n",
       "    .dataframe tbody tr th {\n",
       "        vertical-align: top;\n",
       "    }\n",
       "\n",
       "    .dataframe thead th {\n",
       "        text-align: right;\n",
       "    }\n",
       "</style>\n",
       "<table border=\"1\" class=\"dataframe\">\n",
       "  <thead>\n",
       "    <tr style=\"text-align: right;\">\n",
       "      <th></th>\n",
       "      <th>count</th>\n",
       "      <th>mean</th>\n",
       "      <th>std</th>\n",
       "      <th>min</th>\n",
       "      <th>25%</th>\n",
       "      <th>50%</th>\n",
       "      <th>75%</th>\n",
       "      <th>max</th>\n",
       "    </tr>\n",
       "  </thead>\n",
       "  <tbody>\n",
       "    <tr>\n",
       "      <th>patient_id</th>\n",
       "      <td>71236.0</td>\n",
       "      <td>5.430228e+07</td>\n",
       "      <td>3.879585e+07</td>\n",
       "      <td>135.0</td>\n",
       "      <td>23396510.25</td>\n",
       "      <td>45305631.0</td>\n",
       "      <td>87558374.25</td>\n",
       "      <td>189502619.0</td>\n",
       "    </tr>\n",
       "    <tr>\n",
       "      <th>outpatient_visits_in_previous_year</th>\n",
       "      <td>71236.0</td>\n",
       "      <td>3.695884e-01</td>\n",
       "      <td>1.287469e+00</td>\n",
       "      <td>0.0</td>\n",
       "      <td>0.00</td>\n",
       "      <td>0.0</td>\n",
       "      <td>0.00</td>\n",
       "      <td>42.0</td>\n",
       "    </tr>\n",
       "    <tr>\n",
       "      <th>emergency_visits_in_previous_year</th>\n",
       "      <td>71236.0</td>\n",
       "      <td>1.962491e-01</td>\n",
       "      <td>9.108537e-01</td>\n",
       "      <td>0.0</td>\n",
       "      <td>0.00</td>\n",
       "      <td>0.0</td>\n",
       "      <td>0.00</td>\n",
       "      <td>76.0</td>\n",
       "    </tr>\n",
       "    <tr>\n",
       "      <th>inpatient_visits_in_previous_year</th>\n",
       "      <td>71236.0</td>\n",
       "      <td>6.401539e-01</td>\n",
       "      <td>1.267271e+00</td>\n",
       "      <td>0.0</td>\n",
       "      <td>0.00</td>\n",
       "      <td>0.0</td>\n",
       "      <td>1.00</td>\n",
       "      <td>21.0</td>\n",
       "    </tr>\n",
       "    <tr>\n",
       "      <th>average_pulse_bpm</th>\n",
       "      <td>71236.0</td>\n",
       "      <td>9.961122e+01</td>\n",
       "      <td>2.304052e+01</td>\n",
       "      <td>60.0</td>\n",
       "      <td>80.00</td>\n",
       "      <td>100.0</td>\n",
       "      <td>119.00</td>\n",
       "      <td>139.0</td>\n",
       "    </tr>\n",
       "    <tr>\n",
       "      <th>length_of_stay_in_hospital</th>\n",
       "      <td>71236.0</td>\n",
       "      <td>4.391024e+00</td>\n",
       "      <td>2.988739e+00</td>\n",
       "      <td>1.0</td>\n",
       "      <td>2.00</td>\n",
       "      <td>4.0</td>\n",
       "      <td>6.00</td>\n",
       "      <td>14.0</td>\n",
       "    </tr>\n",
       "    <tr>\n",
       "      <th>number_lab_tests</th>\n",
       "      <td>71236.0</td>\n",
       "      <td>4.309565e+01</td>\n",
       "      <td>1.964292e+01</td>\n",
       "      <td>1.0</td>\n",
       "      <td>31.00</td>\n",
       "      <td>44.0</td>\n",
       "      <td>57.00</td>\n",
       "      <td>121.0</td>\n",
       "    </tr>\n",
       "    <tr>\n",
       "      <th>non_lab_procedures</th>\n",
       "      <td>71236.0</td>\n",
       "      <td>1.340923e+00</td>\n",
       "      <td>1.706664e+00</td>\n",
       "      <td>0.0</td>\n",
       "      <td>0.00</td>\n",
       "      <td>1.0</td>\n",
       "      <td>2.00</td>\n",
       "      <td>6.0</td>\n",
       "    </tr>\n",
       "    <tr>\n",
       "      <th>number_of_medications</th>\n",
       "      <td>71236.0</td>\n",
       "      <td>1.599545e+01</td>\n",
       "      <td>8.122347e+00</td>\n",
       "      <td>1.0</td>\n",
       "      <td>10.00</td>\n",
       "      <td>15.0</td>\n",
       "      <td>20.00</td>\n",
       "      <td>75.0</td>\n",
       "    </tr>\n",
       "    <tr>\n",
       "      <th>number_diagnoses</th>\n",
       "      <td>71236.0</td>\n",
       "      <td>7.421023e+00</td>\n",
       "      <td>1.937809e+00</td>\n",
       "      <td>1.0</td>\n",
       "      <td>6.00</td>\n",
       "      <td>8.0</td>\n",
       "      <td>9.00</td>\n",
       "      <td>16.0</td>\n",
       "    </tr>\n",
       "  </tbody>\n",
       "</table>\n",
       "</div>"
      ],
      "text/plain": [
       "                                      count          mean           std  \\\n",
       "patient_id                          71236.0  5.430228e+07  3.879585e+07   \n",
       "outpatient_visits_in_previous_year  71236.0  3.695884e-01  1.287469e+00   \n",
       "emergency_visits_in_previous_year   71236.0  1.962491e-01  9.108537e-01   \n",
       "inpatient_visits_in_previous_year   71236.0  6.401539e-01  1.267271e+00   \n",
       "average_pulse_bpm                   71236.0  9.961122e+01  2.304052e+01   \n",
       "length_of_stay_in_hospital          71236.0  4.391024e+00  2.988739e+00   \n",
       "number_lab_tests                    71236.0  4.309565e+01  1.964292e+01   \n",
       "non_lab_procedures                  71236.0  1.340923e+00  1.706664e+00   \n",
       "number_of_medications               71236.0  1.599545e+01  8.122347e+00   \n",
       "number_diagnoses                    71236.0  7.421023e+00  1.937809e+00   \n",
       "\n",
       "                                      min          25%         50%  \\\n",
       "patient_id                          135.0  23396510.25  45305631.0   \n",
       "outpatient_visits_in_previous_year    0.0         0.00         0.0   \n",
       "emergency_visits_in_previous_year     0.0         0.00         0.0   \n",
       "inpatient_visits_in_previous_year     0.0         0.00         0.0   \n",
       "average_pulse_bpm                    60.0        80.00       100.0   \n",
       "length_of_stay_in_hospital            1.0         2.00         4.0   \n",
       "number_lab_tests                      1.0        31.00        44.0   \n",
       "non_lab_procedures                    0.0         0.00         1.0   \n",
       "number_of_medications                 1.0        10.00        15.0   \n",
       "number_diagnoses                      1.0         6.00         8.0   \n",
       "\n",
       "                                            75%          max  \n",
       "patient_id                          87558374.25  189502619.0  \n",
       "outpatient_visits_in_previous_year         0.00         42.0  \n",
       "emergency_visits_in_previous_year          0.00         76.0  \n",
       "inpatient_visits_in_previous_year          1.00         21.0  \n",
       "average_pulse_bpm                        119.00        139.0  \n",
       "length_of_stay_in_hospital                 6.00         14.0  \n",
       "number_lab_tests                          57.00        121.0  \n",
       "non_lab_procedures                         2.00          6.0  \n",
       "number_of_medications                     20.00         75.0  \n",
       "number_diagnoses                           9.00         16.0  "
      ]
     },
     "execution_count": 8,
     "metadata": {},
     "output_type": "execute_result"
    }
   ],
   "source": [
    "data.describe().T"
   ]
  },
  {
   "cell_type": "code",
   "execution_count": 9,
   "id": "4b5d3afe",
   "metadata": {},
   "outputs": [
    {
     "data": {
      "text/html": [
       "<div>\n",
       "<style scoped>\n",
       "    .dataframe tbody tr th:only-of-type {\n",
       "        vertical-align: middle;\n",
       "    }\n",
       "\n",
       "    .dataframe tbody tr th {\n",
       "        vertical-align: top;\n",
       "    }\n",
       "\n",
       "    .dataframe thead th {\n",
       "        text-align: right;\n",
       "    }\n",
       "</style>\n",
       "<table border=\"1\" class=\"dataframe\">\n",
       "  <thead>\n",
       "    <tr style=\"text-align: right;\">\n",
       "      <th></th>\n",
       "      <th>count</th>\n",
       "      <th>unique</th>\n",
       "      <th>top</th>\n",
       "      <th>freq</th>\n",
       "    </tr>\n",
       "  </thead>\n",
       "  <tbody>\n",
       "    <tr>\n",
       "      <th>country</th>\n",
       "      <td>71236</td>\n",
       "      <td>1</td>\n",
       "      <td>USA</td>\n",
       "      <td>71236</td>\n",
       "    </tr>\n",
       "    <tr>\n",
       "      <th>race</th>\n",
       "      <td>67682</td>\n",
       "      <td>6</td>\n",
       "      <td>Caucasian</td>\n",
       "      <td>50693</td>\n",
       "    </tr>\n",
       "    <tr>\n",
       "      <th>gender</th>\n",
       "      <td>71236</td>\n",
       "      <td>3</td>\n",
       "      <td>Female</td>\n",
       "      <td>38228</td>\n",
       "    </tr>\n",
       "    <tr>\n",
       "      <th>age</th>\n",
       "      <td>67679</td>\n",
       "      <td>10</td>\n",
       "      <td>[70-80)</td>\n",
       "      <td>17359</td>\n",
       "    </tr>\n",
       "    <tr>\n",
       "      <th>weight</th>\n",
       "      <td>71236</td>\n",
       "      <td>10</td>\n",
       "      <td>?</td>\n",
       "      <td>68990</td>\n",
       "    </tr>\n",
       "    <tr>\n",
       "      <th>payer_code</th>\n",
       "      <td>71236</td>\n",
       "      <td>18</td>\n",
       "      <td>?</td>\n",
       "      <td>28201</td>\n",
       "    </tr>\n",
       "    <tr>\n",
       "      <th>admission_type</th>\n",
       "      <td>67530</td>\n",
       "      <td>7</td>\n",
       "      <td>Emergency</td>\n",
       "      <td>37742</td>\n",
       "    </tr>\n",
       "    <tr>\n",
       "      <th>medical_specialty</th>\n",
       "      <td>71236</td>\n",
       "      <td>69</td>\n",
       "      <td>?</td>\n",
       "      <td>34922</td>\n",
       "    </tr>\n",
       "    <tr>\n",
       "      <th>discharge_disposition</th>\n",
       "      <td>68646</td>\n",
       "      <td>25</td>\n",
       "      <td>Discharged to home</td>\n",
       "      <td>42256</td>\n",
       "    </tr>\n",
       "    <tr>\n",
       "      <th>admission_source</th>\n",
       "      <td>66518</td>\n",
       "      <td>16</td>\n",
       "      <td>Emergency Room</td>\n",
       "      <td>40319</td>\n",
       "    </tr>\n",
       "    <tr>\n",
       "      <th>primary_diagnosis</th>\n",
       "      <td>71236</td>\n",
       "      <td>687</td>\n",
       "      <td>428</td>\n",
       "      <td>4776</td>\n",
       "    </tr>\n",
       "    <tr>\n",
       "      <th>secondary_diagnosis</th>\n",
       "      <td>71236</td>\n",
       "      <td>699</td>\n",
       "      <td>276</td>\n",
       "      <td>4694</td>\n",
       "    </tr>\n",
       "    <tr>\n",
       "      <th>additional_diagnosis</th>\n",
       "      <td>71236</td>\n",
       "      <td>747</td>\n",
       "      <td>250</td>\n",
       "      <td>8070</td>\n",
       "    </tr>\n",
       "    <tr>\n",
       "      <th>glucose_test_result</th>\n",
       "      <td>3688</td>\n",
       "      <td>3</td>\n",
       "      <td>Norm</td>\n",
       "      <td>1806</td>\n",
       "    </tr>\n",
       "    <tr>\n",
       "      <th>a1c_test_result</th>\n",
       "      <td>11916</td>\n",
       "      <td>3</td>\n",
       "      <td>&gt;8</td>\n",
       "      <td>5705</td>\n",
       "    </tr>\n",
       "    <tr>\n",
       "      <th>change_in_meds_during_hospitalization</th>\n",
       "      <td>71236</td>\n",
       "      <td>2</td>\n",
       "      <td>No</td>\n",
       "      <td>38326</td>\n",
       "    </tr>\n",
       "    <tr>\n",
       "      <th>prescribed_diabetes_meds</th>\n",
       "      <td>71236</td>\n",
       "      <td>2</td>\n",
       "      <td>Yes</td>\n",
       "      <td>54890</td>\n",
       "    </tr>\n",
       "    <tr>\n",
       "      <th>medication</th>\n",
       "      <td>71236</td>\n",
       "      <td>303</td>\n",
       "      <td>['insulin']</td>\n",
       "      <td>21715</td>\n",
       "    </tr>\n",
       "    <tr>\n",
       "      <th>readmitted_binary</th>\n",
       "      <td>71236</td>\n",
       "      <td>2</td>\n",
       "      <td>No</td>\n",
       "      <td>63286</td>\n",
       "    </tr>\n",
       "    <tr>\n",
       "      <th>readmitted_multiclass</th>\n",
       "      <td>71236</td>\n",
       "      <td>3</td>\n",
       "      <td>No</td>\n",
       "      <td>38405</td>\n",
       "    </tr>\n",
       "  </tbody>\n",
       "</table>\n",
       "</div>"
      ],
      "text/plain": [
       "                                       count unique                 top   freq\n",
       "country                                71236      1                 USA  71236\n",
       "race                                   67682      6           Caucasian  50693\n",
       "gender                                 71236      3              Female  38228\n",
       "age                                    67679     10             [70-80)  17359\n",
       "weight                                 71236     10                   ?  68990\n",
       "payer_code                             71236     18                   ?  28201\n",
       "admission_type                         67530      7           Emergency  37742\n",
       "medical_specialty                      71236     69                   ?  34922\n",
       "discharge_disposition                  68646     25  Discharged to home  42256\n",
       "admission_source                       66518     16      Emergency Room  40319\n",
       "primary_diagnosis                      71236    687                 428   4776\n",
       "secondary_diagnosis                    71236    699                 276   4694\n",
       "additional_diagnosis                   71236    747                 250   8070\n",
       "glucose_test_result                     3688      3                Norm   1806\n",
       "a1c_test_result                        11916      3                  >8   5705\n",
       "change_in_meds_during_hospitalization  71236      2                  No  38326\n",
       "prescribed_diabetes_meds               71236      2                 Yes  54890\n",
       "medication                             71236    303         ['insulin']  21715\n",
       "readmitted_binary                      71236      2                  No  63286\n",
       "readmitted_multiclass                  71236      3                  No  38405"
      ]
     },
     "execution_count": 9,
     "metadata": {},
     "output_type": "execute_result"
    }
   ],
   "source": [
    "data.describe(include=['O']).T"
   ]
  },
  {
   "cell_type": "markdown",
   "id": "0ae03b4b",
   "metadata": {},
   "source": [
    "We noticed that `country` only has one unique value, which is *USA*. We can see that `weight`has a very high percentage of missing values, 96.85%. We will remove it from our analysis."
   ]
  },
  {
   "cell_type": "code",
   "execution_count": 10,
   "id": "e68f0a29",
   "metadata": {},
   "outputs": [],
   "source": [
    "data.drop('country', axis=1, inplace=True)\n",
    "data.drop('weight', axis=1, inplace=True)"
   ]
  },
  {
   "cell_type": "code",
   "execution_count": 11,
   "id": "4c2a6727",
   "metadata": {},
   "outputs": [],
   "source": [
    "test.drop('country', axis=1, inplace=True)\n",
    "test.drop('weight', axis=1, inplace=True)"
   ]
  },
  {
   "cell_type": "code",
   "execution_count": 12,
   "id": "3b24ad5c",
   "metadata": {},
   "outputs": [],
   "source": [
    "data.drop('readmitted_multiclass', axis=1, inplace=True)"
   ]
  },
  {
   "cell_type": "markdown",
   "id": "85583e09",
   "metadata": {},
   "source": [
    "<a class=\"anchor\" id=\"metric\"></a>\n",
    "\n",
    "## <span style=\"color:black\">2.2. Defining Metric and Non-metric Features</span>"
   ]
  },
  {
   "cell_type": "markdown",
   "id": "47846c3d",
   "metadata": {},
   "source": [
    "Dividing the dataset."
   ]
  },
  {
   "cell_type": "code",
   "execution_count": 13,
   "id": "0fe28104",
   "metadata": {},
   "outputs": [
    {
     "data": {
      "text/plain": [
       "Index(['patient_id', 'race', 'gender', 'age', 'payer_code',\n",
       "       'outpatient_visits_in_previous_year',\n",
       "       'emergency_visits_in_previous_year',\n",
       "       'inpatient_visits_in_previous_year', 'admission_type',\n",
       "       'medical_specialty', 'average_pulse_bpm', 'discharge_disposition',\n",
       "       'admission_source', 'length_of_stay_in_hospital', 'number_lab_tests',\n",
       "       'non_lab_procedures', 'number_of_medications', 'primary_diagnosis',\n",
       "       'secondary_diagnosis', 'additional_diagnosis', 'number_diagnoses',\n",
       "       'glucose_test_result', 'a1c_test_result',\n",
       "       'change_in_meds_during_hospitalization', 'prescribed_diabetes_meds',\n",
       "       'medication', 'readmitted_binary'],\n",
       "      dtype='object')"
      ]
     },
     "execution_count": 13,
     "metadata": {},
     "output_type": "execute_result"
    }
   ],
   "source": [
    "data.columns"
   ]
  },
  {
   "cell_type": "code",
   "execution_count": 14,
   "id": "31157c40",
   "metadata": {},
   "outputs": [],
   "source": [
    "non_metric_features = [\"race\", \"gender\", \"age\", \"payer_code\",\"admission_type\"\n",
    "                      , \"medical_specialty\", \"discharge_disposition\", \"admission_source\", \"primary_diagnosis\", \n",
    "                       \"secondary_diagnosis\", \"additional_diagnosis\", \"glucose_test_result\",\n",
    "                      \"a1c_test_result\" ,\"change_in_meds_during_hospitalization\",\n",
    "                      \"prescribed_diabetes_meds\", \"medication\"]\n",
    "metric_features = [\"outpatient_visits_in_previous_year\", \"emergency_visits_in_previous_year\", \"inpatient_visits_in_previous_year\",\n",
    "                  \"average_pulse_bpm\", \"length_of_stay_in_hospital\", \"number_lab_tests\", \"non_lab_procedures\", \"number_of_medications\",\n",
    "                  \"number_diagnoses\"]"
   ]
  },
  {
   "cell_type": "markdown",
   "id": "55184b06",
   "metadata": {},
   "source": [
    "<hr style=\"border: 1px solid black;\">\n",
    "<a class=\"anchor\" id=\"split\"></a>\n",
    "\n",
    "# <span style=\"color:black\">3. Split Data into Train and Val</span>"
   ]
  },
  {
   "cell_type": "code",
   "execution_count": 15,
   "id": "77f7be85",
   "metadata": {},
   "outputs": [],
   "source": [
    "X = data.drop(['readmitted_binary'], axis=1)\n",
    "y = data['readmitted_binary']\n",
    "\n",
    "# Splitting the data into train and validation\n",
    "train, val = train_test_split(data, test_size=0.3, random_state=42, stratify=y, shuffle=True)"
   ]
  },
  {
   "cell_type": "markdown",
   "id": "0d7824a4",
   "metadata": {},
   "source": [
    "<hr style=\"border: 1px solid black;\">\n",
    "<a class=\"anchor\" id=\"preproc\"></a>\n",
    "\n",
    "# <span style=\"color:black\">4. Data Pre-processing</span>"
   ]
  },
  {
   "cell_type": "markdown",
   "id": "3781debd",
   "metadata": {},
   "source": [
    "<a class=\"anchor\" id=\"inco\"></a>\n",
    "\n",
    "## <span style=\"color:black\">4.1. Incoherences and Missclassifications</span>"
   ]
  },
  {
   "cell_type": "markdown",
   "id": "48d26d48",
   "metadata": {},
   "source": [
    "Checking for **missclassifications**."
   ]
  },
  {
   "cell_type": "code",
   "execution_count": 16,
   "id": "ce188942",
   "metadata": {},
   "outputs": [
    {
     "data": {
      "text/plain": [
       "array(['Male', 'Female', 'Unknown/Invalid'], dtype=object)"
      ]
     },
     "execution_count": 16,
     "metadata": {},
     "output_type": "execute_result"
    }
   ],
   "source": [
    "train['gender'].unique()"
   ]
  },
  {
   "cell_type": "code",
   "execution_count": 17,
   "id": "995beccc",
   "metadata": {},
   "outputs": [
    {
     "data": {
      "text/plain": [
       "array([' Emergency Room', ' Physician Referral', nan,\n",
       "       ' Transfer from a Skilled Nursing Facility (SNF)',\n",
       "       'Transfer from a hospital', 'Clinic Referral',\n",
       "       ' Transfer from another health care facility', ' Not Mapped',\n",
       "       ' Not Available', 'HMO Referral',\n",
       "       ' Transfer from critial access hospital',\n",
       "       ' Transfer from hospital inpt/same fac reslt in a sep claim',\n",
       "       ' Court/Law Enforcement',\n",
       "       ' Transfer from Ambulatory Surgery Center', 'Normal Delivery'],\n",
       "      dtype=object)"
      ]
     },
     "execution_count": 17,
     "metadata": {},
     "output_type": "execute_result"
    }
   ],
   "source": [
    "train['admission_source'].unique()"
   ]
  },
  {
   "cell_type": "code",
   "execution_count": 18,
   "id": "d096f1f3",
   "metadata": {},
   "outputs": [
    {
     "data": {
      "text/plain": [
       "array(['Emergency', 'Urgent', 'Elective', 'Not Available', nan,\n",
       "       'Not Mapped', 'Trauma Center', 'Newborn'], dtype=object)"
      ]
     },
     "execution_count": 18,
     "metadata": {},
     "output_type": "execute_result"
    }
   ],
   "source": [
    "train['admission_type'].unique()"
   ]
  },
  {
   "cell_type": "code",
   "execution_count": 19,
   "id": "9c818afa",
   "metadata": {},
   "outputs": [
    {
     "data": {
      "text/plain": [
       "array(['No', 'Ch'], dtype=object)"
      ]
     },
     "execution_count": 19,
     "metadata": {},
     "output_type": "execute_result"
    }
   ],
   "source": [
    "train['change_in_meds_during_hospitalization'].unique()"
   ]
  },
  {
   "cell_type": "code",
   "execution_count": 20,
   "id": "f21f84b9",
   "metadata": {},
   "outputs": [],
   "source": [
    "#Replace Special characters for NaN\n",
    "special_char = [\"?\"]\n",
    "train.replace(special_char, np.nan, inplace =True)\n",
    "\n",
    "#Replace Unknown/Invalid seen in Gender for NaN\n",
    "special_char1 = [\"Unknown/Invalid\"]\n",
    "train.replace(special_char1, np.nan, inplace =True)\n",
    "\n",
    "#Replace Not mapped/Not Available seen in Admission type and source for Not Available and remove leading spaces. Replace\n",
    "#NaN for Not Available\n",
    "train['admission_source'] = train['admission_source'].str.lstrip()\n",
    "special_char2 = ['Not Mapped', 'Not Available']\n",
    "train.replace(special_char2, 'Not Available', inplace =True)\n",
    "train['admission_type'] = train['admission_type'].fillna('Not Available')\n",
    "train['admission_source'] = train['admission_source'].fillna('Not Available')\n",
    "\n",
    "#Glucose and ac1 missing values should not be considered missing values\n",
    "train['glucose_test_result'] = train['glucose_test_result'].fillna('Not Available')\n",
    "train['a1c_test_result'] = train['a1c_test_result'].fillna('Not Available')\n",
    "\n",
    "#Change medication where the value is '[]' to 'No medication'\n",
    "train['medication'] = train['medication'].replace('[]', 'No medication')\n",
    "\n",
    "#The variable change_in_meds_during_hopitalization has as values 'no' and 'ch' we should change this for 'yes' and 'no'\n",
    "train['change_in_meds_during_hospitalization']=train['change_in_meds_during_hospitalization'].replace('Ch', 'Yes')\n",
    "\n",
    "#Filling missing values in medical specialty for 'Unknow'\n",
    "train['medical_specialty'] = train['medical_specialty'].fillna('Unknown')\n",
    "\n",
    "#Fillin Nan in payer_code\n",
    "train['payer_code'] = train['payer_code'].fillna('Not Insured')\n",
    "\n",
    "#secondary and additional diagnosis can be null\n",
    "train['secondary_diagnosis'] = train['secondary_diagnosis'].fillna('Not Available')\n",
    "train['additional_diagnosis'] = train['additional_diagnosis'].fillna('Not Available')"
   ]
  },
  {
   "cell_type": "code",
   "execution_count": 21,
   "id": "8f3257a4",
   "metadata": {},
   "outputs": [],
   "source": [
    "val.replace(special_char, np.nan, inplace =True)\n",
    "val.replace(special_char1, np.nan, inplace =True)\n",
    "val['admission_source'] = val['admission_source'].str.lstrip()\n",
    "val.replace(special_char2, 'Not Available', inplace =True)\n",
    "val['admission_type'] = val['admission_type'].fillna('Not Available')\n",
    "val['admission_source'] = val['admission_source'].fillna('Not Available')\n",
    "val['glucose_test_result'] = val['glucose_test_result'].fillna('Not Available')\n",
    "val['a1c_test_result'] = val['a1c_test_result'].fillna('Not Available')\n",
    "val['medication'] = val['medication'].replace('[]', 'No medication')\n",
    "val['change_in_meds_during_hospitalization']=val['change_in_meds_during_hospitalization'].replace('Ch', 'Yes')\n",
    "val['medical_specialty'] = val['medical_specialty'].fillna('Unknown')\n",
    "val['payer_code'] = val['payer_code'].fillna('Not Insured')\n",
    "val['secondary_diagnosis'] = val['secondary_diagnosis'].fillna('Not Available')\n",
    "val['additional_diagnosis'] = val['additional_diagnosis'].fillna('Not Available')"
   ]
  },
  {
   "cell_type": "code",
   "execution_count": 22,
   "id": "a3eaa212",
   "metadata": {},
   "outputs": [],
   "source": [
    "test.replace(special_char, np.nan, inplace =True)\n",
    "test.replace(special_char1, np.nan, inplace =True)\n",
    "test['admission_source'] = test['admission_source'].str.lstrip()\n",
    "test.replace(special_char2, 'Not Available', inplace =True)\n",
    "test['admission_type'] = test['admission_type'].fillna('Not Available')\n",
    "test['admission_source'] = test['admission_source'].fillna('Not Available')\n",
    "test['glucose_test_result'] = test['glucose_test_result'].fillna('Not Available')\n",
    "test['a1c_test_result'] = test['a1c_test_result'].fillna('Not Available')\n",
    "test['medication'] = test['medication'].replace('[]', 'No medication')\n",
    "test['change_in_meds_during_hospitalization']=test['change_in_meds_during_hospitalization'].replace('Ch', 'Yes')\n",
    "test['medical_specialty'] = test['medical_specialty'].fillna('Unknown')\n",
    "test['payer_code'] = test['payer_code'].fillna('Not Insured')\n",
    "test['secondary_diagnosis'] = test['secondary_diagnosis'].fillna('Not Available')\n",
    "test['additional_diagnosis'] = test['additional_diagnosis'].fillna('Not Available')"
   ]
  },
  {
   "cell_type": "markdown",
   "id": "1d043c10",
   "metadata": {},
   "source": [
    "Checking for **inconsistencies**."
   ]
  },
  {
   "cell_type": "code",
   "execution_count": 23,
   "id": "c10b5dfb",
   "metadata": {},
   "outputs": [],
   "source": [
    "#Check for equal diagnosis\n",
    "\n",
    "for index, row in train.iterrows():\n",
    "    if row['primary_diagnosis'] == 'Not Available':\n",
    "        train.at[index, 'primary_diagnosis'] = row['secondary_diagnosis']\n",
    "        train.at[index, 'secondary_diagnosis'] = row['additional_diagnosis']\n",
    "        \n",
    "    if row['primary_diagnosis'] == row['secondary_diagnosis']:\n",
    "        train.at[index, 'secondary_diagnosis'] = row['additional_diagnosis']\n",
    "        train.at[index, 'additional_diagnosis'] = 'Not Available'\n",
    "\n",
    "    if row['primary_diagnosis'] == row['additional_diagnosis']:\n",
    "        train.at[index, 'additional_diagnosis'] = 'Not Available'\n",
    "\n",
    "    if (row['secondary_diagnosis'] == row['additional_diagnosis']\n",
    "        and row['additional_diagnosis'] != 'Not Available'):\n",
    "        train.at[index, 'additional_diagnosis'] = 'Not Available'"
   ]
  },
  {
   "cell_type": "code",
   "execution_count": 24,
   "id": "ad3d618c",
   "metadata": {},
   "outputs": [],
   "source": [
    "#Check for equal diagnosis\n",
    "\n",
    "for index, row in val.iterrows():\n",
    "    if row['primary_diagnosis'] == 'Not Available':\n",
    "        val.at[index, 'primary_diagnosis'] = row['secondary_diagnosis']\n",
    "        val.at[index, 'secondary_diagnosis'] = row['additional_diagnosis']\n",
    "        \n",
    "    if row['primary_diagnosis'] == row['secondary_diagnosis']:\n",
    "        val.at[index, 'secondary_diagnosis'] = row['additional_diagnosis']\n",
    "        val.at[index, 'additional_diagnosis'] = 'Not Available'\n",
    "\n",
    "    if row['primary_diagnosis'] == row['additional_diagnosis']:\n",
    "        val.at[index, 'additional_diagnosis'] = 'Not Available'\n",
    "\n",
    "    if (row['secondary_diagnosis'] == row['additional_diagnosis']\n",
    "        and row['additional_diagnosis'] != 'Not Available'):\n",
    "        val.at[index, 'additional_diagnosis'] = 'Not Available'"
   ]
  },
  {
   "cell_type": "code",
   "execution_count": 25,
   "id": "89232381",
   "metadata": {},
   "outputs": [],
   "source": [
    "#Check for equal diagnosis\n",
    "\n",
    "for index, row in test.iterrows():\n",
    "    if row['primary_diagnosis'] == 'Not Available':\n",
    "        test.at[index, 'primary_diagnosis'] = row['secondary_diagnosis']\n",
    "        test.at[index, 'secondary_diagnosis'] = row['additional_diagnosis']\n",
    "        \n",
    "    if row['primary_diagnosis'] == row['secondary_diagnosis']:\n",
    "        test.at[index, 'secondary_diagnosis'] = row['additional_diagnosis']\n",
    "        test.at[index, 'additional_diagnosis'] = 'Not Available'\n",
    "\n",
    "    if row['primary_diagnosis'] == row['additional_diagnosis']:\n",
    "        test.at[index, 'additional_diagnosis'] = 'Not Available'\n",
    "\n",
    "    if (row['secondary_diagnosis'] == row['additional_diagnosis']\n",
    "        and row['additional_diagnosis'] != 'Not Available'):\n",
    "        test.at[index, 'additional_diagnosis'] = 'Not Available'"
   ]
  },
  {
   "cell_type": "markdown",
   "id": "ebdd9e67",
   "metadata": {},
   "source": [
    "<a class=\"anchor\" id=\"dup\"></a>\n",
    "\n",
    "## <span style=\"color:black\">4.2. Duplicates</span>"
   ]
  },
  {
   "cell_type": "code",
   "execution_count": 26,
   "id": "578cebe3",
   "metadata": {},
   "outputs": [
    {
     "data": {
      "text/plain": [
       "9600"
      ]
     },
     "execution_count": 26,
     "metadata": {},
     "output_type": "execute_result"
    }
   ],
   "source": [
    "train.duplicated(subset=['patient_id']).sum()"
   ]
  },
  {
   "cell_type": "code",
   "execution_count": 27,
   "id": "a9e4a9d6",
   "metadata": {},
   "outputs": [
    {
     "data": {
      "text/plain": [
       "0"
      ]
     },
     "execution_count": 27,
     "metadata": {},
     "output_type": "execute_result"
    }
   ],
   "source": [
    "#checking for duplicates in dataset\n",
    "train.duplicated().sum()"
   ]
  },
  {
   "cell_type": "markdown",
   "id": "d5ad5b0a",
   "metadata": {},
   "source": [
    "<a class=\"anchor\" id=\"out\"></a>\n",
    "\n",
    "## <span style=\"color:black\">4.3. Treat Outliers</span>"
   ]
  },
  {
   "cell_type": "markdown",
   "id": "81d72cfa",
   "metadata": {},
   "source": [
    "Plotting the **histograms**."
   ]
  },
  {
   "cell_type": "code",
   "execution_count": 28,
   "id": "72cb05c9",
   "metadata": {},
   "outputs": [
    {
     "data": {
      "image/png": "[encoded data removed]",
      "text/plain": [
       "<Figure size 1440x792 with 10 Axes>"
      ]
     },
     "metadata": {},
     "output_type": "display_data"
    }
   ],
   "source": [
    "sns.set()\n",
    "\n",
    "fig, axes = plt.subplots(2, ceil(len(metric_features) / 2), figsize=(20, 11))\n",
    "\n",
    "# Plot data\n",
    "for ax, feat in zip(axes.flatten(), metric_features):\n",
    "    ax.hist(train[feat])\n",
    "    ax.set_title(feat, y=-0.13)\n",
    "\n",
    "title = \"Numeric Variables' Histograms\"\n",
    "\n",
    "plt.suptitle(title)\n",
    "\n",
    "plt.show()"
   ]
  },
  {
   "cell_type": "markdown",
   "id": "8296e90d",
   "metadata": {},
   "source": [
    "Plotting the **box plots**."
   ]
  },
  {
   "cell_type": "code",
   "execution_count": 29,
   "id": "3449a247",
   "metadata": {},
   "outputs": [
    {
     "data": {
      "image/png": "[encoded data removed]",
      "text/plain": [
       "<Figure size 1440x792 with 10 Axes>"
      ]
     },
     "metadata": {},
     "output_type": "display_data"
    }
   ],
   "source": [
    "sns.set()\n",
    "\n",
    "fig, axes = plt.subplots(2, ceil(len(metric_features) / 2), figsize=(20, 11))\n",
    "\n",
    "# Plot data\n",
    "for ax, feat in zip(axes.flatten(), metric_features): \n",
    "    sns.boxplot(x=train[feat], ax=ax)\n",
    "\n",
    "title = \"Numeric Variables' Box Plots\"\n",
    "\n",
    "plt.suptitle(title)\n",
    "\n",
    "plt.show()"
   ]
  },
  {
   "cell_type": "markdown",
   "id": "a6e5ab00",
   "metadata": {},
   "source": [
    "Plotting **histograms** for specific varibales."
   ]
  },
  {
   "cell_type": "code",
   "execution_count": 30,
   "id": "4ef1b296",
   "metadata": {},
   "outputs": [
    {
     "data": {
      "image/png": "[encoded data removed]",
      "text/plain": [
       "<Figure size 1440x792 with 4 Axes>"
      ]
     },
     "metadata": {},
     "output_type": "display_data"
    }
   ],
   "source": [
    "variables_to_plot = ['outpatient_visits_in_previous_year', 'emergency_visits_in_previous_year', 'inpatient_visits_in_previous_year', 'number_of_medications']\n",
    "\n",
    "sns.set()\n",
    "\n",
    "fig, axes = plt.subplots(2, ceil(len(variables_to_plot) / 2), figsize=(20, 11))\n",
    "\n",
    "# Plot data\n",
    "for ax, feat in zip(axes.flatten(), variables_to_plot):\n",
    "    ax.hist(train[feat])\n",
    "    ax.set_title(feat, y=-0.13)\n",
    "\n",
    "# Layout\n",
    "# Add a centered title to the figure:\n",
    "title = \"Numeric Variables' Histograms\"\n",
    "\n",
    "plt.suptitle(title)\n",
    "\n",
    "plt.show()"
   ]
  },
  {
   "cell_type": "markdown",
   "id": "5c512d58",
   "metadata": {},
   "source": [
    "We can see that 99.96% of the observations of `outpatient_visits_in_previous_year` are bellow 20."
   ]
  },
  {
   "cell_type": "code",
   "execution_count": 31,
   "id": "2e5c177c",
   "metadata": {},
   "outputs": [
    {
     "data": {
      "text/plain": [
       "99.9558808783716"
      ]
     },
     "execution_count": 31,
     "metadata": {},
     "output_type": "execute_result"
    }
   ],
   "source": [
    "len(train[train['outpatient_visits_in_previous_year'] < 20])/len(train['outpatient_visits_in_previous_year']) *100"
   ]
  },
  {
   "cell_type": "markdown",
   "id": "2cb91bda",
   "metadata": {},
   "source": [
    " We can see that 99.98% of the observations of `emergency_visits_in_previous_year` are bellow 20."
   ]
  },
  {
   "cell_type": "code",
   "execution_count": 32,
   "id": "f938e7bf",
   "metadata": {},
   "outputs": [
    {
     "data": {
      "text/plain": [
       "99.97994585380528"
      ]
     },
     "execution_count": 32,
     "metadata": {},
     "output_type": "execute_result"
    }
   ],
   "source": [
    "len(train[train['emergency_visits_in_previous_year'] < 20])/len(train['emergency_visits_in_previous_year']) *100"
   ]
  },
  {
   "cell_type": "markdown",
   "id": "8a8c91f0",
   "metadata": {},
   "source": [
    "We can see that 99.83% of the observations of `inpatient_visits_in_previous_year` are bellow 10."
   ]
  },
  {
   "cell_type": "code",
   "execution_count": 33,
   "id": "9a98baf4",
   "metadata": {},
   "outputs": [
    {
     "data": {
      "text/plain": [
       "99.82953975734483"
      ]
     },
     "execution_count": 33,
     "metadata": {},
     "output_type": "execute_result"
    }
   ],
   "source": [
    "len(train[train['inpatient_visits_in_previous_year'] < 10])/len(train['inpatient_visits_in_previous_year']) *100"
   ]
  },
  {
   "cell_type": "markdown",
   "id": "5d2e0cd1",
   "metadata": {},
   "source": [
    "We can see that 99.89% of the observations of `number_of_medications` are bellow 60."
   ]
  },
  {
   "cell_type": "code",
   "execution_count": 34,
   "id": "22cf52c0",
   "metadata": {},
   "outputs": [
    {
     "data": {
      "text/plain": [
       "99.88168053745112"
      ]
     },
     "execution_count": 34,
     "metadata": {},
     "output_type": "execute_result"
    }
   ],
   "source": [
    "len(train[train['number_of_medications'] < 60])/len(train['number_of_medications']) *100"
   ]
  },
  {
   "cell_type": "markdown",
   "id": "b757a96e",
   "metadata": {},
   "source": [
    "There are also outliers in the variables `number_lab_tests`, `non_lab_procedures`, `number_of_medications`, `number_diagnoses`. We will not delete these outliers since they can be important for the study."
   ]
  },
  {
   "cell_type": "code",
   "execution_count": 35,
   "id": "f94c758f",
   "metadata": {},
   "outputs": [
    {
     "data": {
      "text/plain": [
       "<AxesSubplot:xlabel='number_lab_tests'>"
      ]
     },
     "execution_count": 35,
     "metadata": {},
     "output_type": "execute_result"
    },
    {
     "data": {
      "image/png": "[encoded data removed]",
      "text/plain": [
       "<Figure size 432x288 with 1 Axes>"
      ]
     },
     "metadata": {},
     "output_type": "display_data"
    }
   ],
   "source": [
    "sns.boxplot(x='number_lab_tests', data = train)"
   ]
  },
  {
   "cell_type": "code",
   "execution_count": 36,
   "id": "69fc3e35",
   "metadata": {},
   "outputs": [
    {
     "data": {
      "text/plain": [
       "<AxesSubplot:xlabel='number_of_medications'>"
      ]
     },
     "execution_count": 36,
     "metadata": {},
     "output_type": "execute_result"
    },
    {
     "data": {
      "image/png": "[encoded data removed]",
      "text/plain": [
       "<Figure size 432x288 with 1 Axes>"
      ]
     },
     "metadata": {},
     "output_type": "display_data"
    }
   ],
   "source": [
    "sns.boxplot(x='number_of_medications', data = train)"
   ]
  },
  {
   "cell_type": "code",
   "execution_count": 37,
   "id": "8405fda3",
   "metadata": {},
   "outputs": [],
   "source": [
    "filters1 = (\n",
    "   (train['outpatient_visits_in_previous_year']<20)\n",
    "    &\n",
    "    (train['emergency_visits_in_previous_year']<15)\n",
    "    &\n",
    "    (train['inpatient_visits_in_previous_year']<10)\n",
    "    &\n",
    "    (train['number_lab_tests']<125)\n",
    "    &\n",
    "    (train['number_of_medications']<50)\n",
    "    &\n",
    "    (train['number_diagnoses']<13)\n",
    "    &\n",
    "    (train['number_diagnoses']>2)\n",
    ")\n",
    "\n",
    "train_box = train[filters1].copy()"
   ]
  },
  {
   "cell_type": "code",
   "execution_count": 38,
   "id": "df1fe268",
   "metadata": {},
   "outputs": [
    {
     "name": "stdout",
     "output_type": "stream",
     "text": [
      "Percentage of data kept after removing outliers: 97.91\n"
     ]
    }
   ],
   "source": [
    "print('Percentage of data kept after removing outliers:', np.round(train_box.shape[0] / train.shape[0], 4)*100)"
   ]
  },
  {
   "cell_type": "code",
   "execution_count": 39,
   "id": "f678174c",
   "metadata": {},
   "outputs": [
    {
     "name": "stdout",
     "output_type": "stream",
     "text": [
      "Percentage of data kept after removing outliers: 65.83\n"
     ]
    }
   ],
   "source": [
    "q25 = train[metric_features].quantile(.25)\n",
    "q75 = train[metric_features].quantile(.75)\n",
    "iqr = (q75 - q25)\n",
    "\n",
    "upper_lim = q75 + 1.5 * iqr\n",
    "lower_lim = q25 - 1.5 * iqr\n",
    "\n",
    "filters2 = []\n",
    "for metric in metric_features:\n",
    "    llim = lower_lim[metric]\n",
    "    ulim = upper_lim[metric]\n",
    "    filters2.append(train[metric].between(llim, ulim, inclusive='both'))\n",
    "\n",
    "filters2 = pd.Series(np.all(filters2, 0))\n",
    "filters2.index = train.index  # Reindexing to match DataFrame indices\n",
    "\n",
    "train_filtered = train[filters2]\n",
    "print('Percentage of data kept after removing outliers:', np.round(train_filtered.shape[0] / train.shape[0], 4)*100)"
   ]
  },
  {
   "cell_type": "code",
   "execution_count": 40,
   "id": "010a2769",
   "metadata": {},
   "outputs": [
    {
     "name": "stdout",
     "output_type": "stream",
     "text": [
      "Percentage of data kept after removing outliers: 98.81\n"
     ]
    }
   ],
   "source": [
    "train_no_outliers = train[(filters1 | filters2)]\n",
    "print('Percentage of data kept after removing outliers:', np.round(train_no_outliers.shape[0] / train.shape[0], 4)*100)"
   ]
  },
  {
   "cell_type": "markdown",
   "id": "658358c3",
   "metadata": {},
   "source": [
    "Since the percentage of data kept is very high, we will proceed with the removal of these outliers."
   ]
  },
  {
   "cell_type": "markdown",
   "id": "4a5a4969",
   "metadata": {},
   "source": [
    "<hr style=\"border: 1px solid black;\">\n",
    "<a class=\"anchor\" id=\"fe\"></a>\n",
    "\n",
    "# <span style=\"color:black\">5. Feature Engineering</span>"
   ]
  },
  {
   "cell_type": "markdown",
   "id": "29c5b153",
   "metadata": {},
   "source": [
    "Handling 'expired' patients. Deleting patients that have died because they can't be readmitted to the hospital."
   ]
  },
  {
   "cell_type": "code",
   "execution_count": 41,
   "id": "4fcbb578",
   "metadata": {},
   "outputs": [],
   "source": [
    "train_engineering= train_no_outliers.copy()"
   ]
  },
  {
   "cell_type": "code",
   "execution_count": 42,
   "id": "20e8f2b7",
   "metadata": {},
   "outputs": [
    {
     "name": "stdout",
     "output_type": "stream",
     "text": [
      "The number of occurrences of 'Expired' in discharge_disposition column: 792\n"
     ]
    }
   ],
   "source": [
    "expired_count = train_engineering['discharge_disposition'].str.contains('expired', case=False).sum()\n",
    "print(f\"The number of occurrences of 'Expired' in discharge_disposition column: {expired_count}\")"
   ]
  },
  {
   "cell_type": "code",
   "execution_count": 43,
   "id": "e231701e",
   "metadata": {},
   "outputs": [],
   "source": [
    "train_engineering['discharge_disposition'] = train_engineering['discharge_disposition'].replace(np.nan, 'missing')\n",
    "train_engineering['discharge_disposition'] = train_engineering['discharge_disposition'].astype(str)\n",
    "train_engineering = train_engineering[~train_engineering['discharge_disposition'].str.contains('expired', case=False)]\n",
    "train_engineering['discharge_disposition'] = train_engineering['discharge_disposition'].replace('missing', np.nan)"
   ]
  },
  {
   "cell_type": "code",
   "execution_count": 44,
   "id": "584d8fe2",
   "metadata": {},
   "outputs": [],
   "source": [
    "val['discharge_disposition'] = val['discharge_disposition'].replace(np.nan, 'missing')\n",
    "val['discharge_disposition'] = val['discharge_disposition'].astype(str)\n",
    "expired_rows = val[val['discharge_disposition'].str.contains('expired', case=False)]\n",
    "val = val[~val['discharge_disposition'].str.contains('expired', case=False)]\n",
    "val['discharge_disposition'] = val['discharge_disposition'].replace('missing', np.nan)"
   ]
  },
  {
   "cell_type": "code",
   "execution_count": 45,
   "id": "ce6a4102",
   "metadata": {},
   "outputs": [
    {
     "name": "stdout",
     "output_type": "stream",
     "text": [
      "The number of occurrences of 'Expired' in discharge_disposition column: 510\n"
     ]
    }
   ],
   "source": [
    "expired_count = test['discharge_disposition'].str.contains('expired', case=False).sum()\n",
    "print(f\"The number of occurrences of 'Expired' in discharge_disposition column: {expired_count}\")"
   ]
  },
  {
   "cell_type": "code",
   "execution_count": 46,
   "id": "9b7dbeb3",
   "metadata": {},
   "outputs": [],
   "source": [
    "test['discharge_disposition'] = test['discharge_disposition'].replace(np.nan, 'missing')\n",
    "expired_rows = test[test['discharge_disposition'].str.contains('expired', case=False)]\n",
    "results = pd.DataFrame(index=expired_rows.index)\n",
    "results['readmitted_binary'] = 0"
   ]
  },
  {
   "cell_type": "code",
   "execution_count": 47,
   "id": "2c81f068",
   "metadata": {},
   "outputs": [],
   "source": [
    "test = test[~test['discharge_disposition'].str.contains('expired', case=False)]\n",
    "test['discharge_disposition'] = test['discharge_disposition'].replace('missing', np.nan)"
   ]
  },
  {
   "cell_type": "markdown",
   "id": "ddadb59e",
   "metadata": {},
   "source": [
    "<a class=\"anchor\" id=\"dummy\"></a>\n",
    "\n",
    "## <span style=\"color:black\">5.1. Dummy variables</span>"
   ]
  },
  {
   "cell_type": "code",
   "execution_count": 48,
   "id": "eb341a77",
   "metadata": {},
   "outputs": [],
   "source": [
    "train_engineering['change_in_meds_during_hospitalization'].replace('Yes',1,inplace=True)\n",
    "train_engineering['change_in_meds_during_hospitalization'].replace('No',0,inplace=True)\n",
    "train_engineering['prescribed_diabetes_meds'].replace('Yes',1,inplace=True)\n",
    "train_engineering['prescribed_diabetes_meds'].replace('No',0,inplace=True)\n",
    "train_engineering['gender'].replace('Female',1,inplace=True)\n",
    "train_engineering['gender'].replace('Male',0,inplace=True)\n",
    "train_engineering['readmitted_binary'].replace('Yes',1,inplace=True)\n",
    "train_engineering['readmitted_binary'].replace('No',0,inplace=True)"
   ]
  },
  {
   "cell_type": "code",
   "execution_count": 49,
   "id": "d5c04f04",
   "metadata": {},
   "outputs": [],
   "source": [
    "val['change_in_meds_during_hospitalization'].replace('Yes',1,inplace=True)\n",
    "val['change_in_meds_during_hospitalization'].replace('No',0,inplace=True)\n",
    "val['prescribed_diabetes_meds'].replace('Yes',1,inplace=True)\n",
    "val['prescribed_diabetes_meds'].replace('No',0,inplace=True)\n",
    "val['gender'].replace('Female',1,inplace=True)\n",
    "val['gender'].replace('Male',0,inplace=True)\n",
    "val['readmitted_binary'].replace('Yes',1,inplace=True)\n",
    "val['readmitted_binary'].replace('No',0,inplace=True)"
   ]
  },
  {
   "cell_type": "code",
   "execution_count": 50,
   "id": "bb94ca9f",
   "metadata": {},
   "outputs": [],
   "source": [
    "test['change_in_meds_during_hospitalization'].replace('Yes',1,inplace=True)\n",
    "test['change_in_meds_during_hospitalization'].replace('No',0,inplace=True)\n",
    "test['prescribed_diabetes_meds'].replace('Yes',1,inplace=True)\n",
    "test['prescribed_diabetes_meds'].replace('No',0,inplace=True)\n",
    "test['gender'].replace('Female',1,inplace=True)\n",
    "test['gender'].replace('Male',0,inplace=True)"
   ]
  },
  {
   "cell_type": "markdown",
   "id": "cff527d3",
   "metadata": {},
   "source": [
    "<a class=\"anchor\" id=\"newvar\"></a>\n",
    "\n",
    "## <span style=\"color:black\">5.2. Creation of New Variables</span>"
   ]
  },
  {
   "cell_type": "markdown",
   "id": "03236ffc",
   "metadata": {},
   "source": [
    "Creating a new variable called `insurance` that assumes values 0 and 1."
   ]
  },
  {
   "cell_type": "code",
   "execution_count": 51,
   "id": "ed20a709",
   "metadata": {},
   "outputs": [],
   "source": [
    "train_engineering['insurance']=train_engineering['payer_code'].apply(lambda x: 0 if x == 'Not Insured' else 1)\n",
    "val['insurance']=val['payer_code'].apply(lambda x: 0 if x == 'Not Insured' else 1)\n",
    "test['insurance']=test['payer_code'].apply(lambda x: 0 if x == 'Not Insured' else 1)"
   ]
  },
  {
   "cell_type": "markdown",
   "id": "58992a07",
   "metadata": {},
   "source": [
    "Creating a new variable called `caucasian` that assumes values 0 and 1."
   ]
  },
  {
   "cell_type": "code",
   "execution_count": 52,
   "id": "b339b00f",
   "metadata": {},
   "outputs": [
    {
     "name": "stdout",
     "output_type": "stream",
     "text": [
      "Caucasian: 76.49%\n",
      "AfricanAmerican: 19.21%\n",
      "Hispanic: 2.15%\n",
      "Other: 1.49%\n",
      "Asian: 0.66%\n"
     ]
    }
   ],
   "source": [
    "race_counts = train_engineering['race'].value_counts()\n",
    "\n",
    "# Calculate total count\n",
    "total_count = race_counts.sum()\n",
    "\n",
    "# Calculate and display percentages for each race category\n",
    "for race, count in race_counts.items():\n",
    "    percentage = (count / total_count) * 100\n",
    "    print(f\"{race}: {percentage:.2f}%\")"
   ]
  },
  {
   "cell_type": "code",
   "execution_count": 53,
   "id": "4d18d00c",
   "metadata": {},
   "outputs": [],
   "source": [
    "train_engineering['caucasian'] = train_engineering['race'].apply(lambda x: 1 if x == 'Caucasian' else 0)\n",
    "val['caucasian'] = val['race'].apply(lambda x: 1 if x == 'Caucasian' else 0)\n",
    "test['caucasian'] = test['race'].apply(lambda x: 1 if x == 'Caucasian' else 0)"
   ]
  },
  {
   "cell_type": "markdown",
   "id": "05d685b7",
   "metadata": {},
   "source": [
    "Creating a new variable called `diagnosis_count` that sums all diagnosis."
   ]
  },
  {
   "cell_type": "code",
   "execution_count": 54,
   "id": "c91d645e",
   "metadata": {},
   "outputs": [],
   "source": [
    "train_engineering['diagnosis_count'] = train_engineering[['primary_diagnosis', 'secondary_diagnosis', 'additional_diagnosis']].count(axis=1)\n",
    "val['diagnosis_count'] = val[['primary_diagnosis', 'secondary_diagnosis', 'additional_diagnosis']].count(axis=1)\n",
    "test['diagnosis_count'] = test[['primary_diagnosis', 'secondary_diagnosis', 'additional_diagnosis']].count(axis=1)"
   ]
  },
  {
   "cell_type": "markdown",
   "id": "1d826719",
   "metadata": {},
   "source": [
    "Creating a new variable called `diabetes_type` that sees if the patient has 'Type II Diabetes' or 'Type I Diabetes', or 'Unknown' according to the medication prescribed."
   ]
  },
  {
   "cell_type": "code",
   "execution_count": 55,
   "id": "7503c00f",
   "metadata": {},
   "outputs": [
    {
     "name": "stdout",
     "output_type": "stream",
     "text": [
      "Number of unique medications: 272\n"
     ]
    }
   ],
   "source": [
    "unique_medication = train_engineering['medication'].nunique()\n",
    "\n",
    "print(\"Number of unique medications:\", unique_medication)"
   ]
  },
  {
   "cell_type": "code",
   "execution_count": 56,
   "id": "2973b814",
   "metadata": {},
   "outputs": [
    {
     "name": "stdout",
     "output_type": "stream",
     "text": [
      "insulin                    25710\n",
      "No medication              11089\n",
      "metformin                   9676\n",
      "glipizide                   6178\n",
      "glyburide                   5199\n",
      "pioglitazone                3440\n",
      "rosiglitazone               3082\n",
      "glimepiride                 2489\n",
      "repaglinide                  756\n",
      "glyburide-metformin          324\n",
      "nateglinide                  321\n",
      "acarbose                     139\n",
      "chlorpropamide                39\n",
      "miglitol                      20\n",
      "tolazamide                    14\n",
      "tolbutamide                    9\n",
      "glipizide-metformin            7\n",
      "troglitazone                   2\n",
      "acetohexamide                  1\n",
      "metformin-rosiglitazone        1\n",
      "metformin-pioglitazone         1\n",
      "dtype: int64\n",
      "Number of unique medications: 21\n"
     ]
    }
   ],
   "source": [
    "# Splitting medications into individual words and creating a list of all medications\n",
    "all_medications = train_engineering['medication'].str.replace(\"[\\[\\]']\", \"\").str.split(\", \")\n",
    "\n",
    "# Creating a flat list of all medications\n",
    "all_medications_flat = [med for sublist in all_medications for med in sublist]\n",
    "\n",
    "# Counting unique medications\n",
    "unique_medications_count = pd.Series(all_medications_flat).value_counts()\n",
    "\n",
    "print(unique_medications_count)\n",
    "print(\"Number of unique medications:\", len(unique_medications_count))"
   ]
  },
  {
   "cell_type": "code",
   "execution_count": 57,
   "id": "16a28ed6",
   "metadata": {},
   "outputs": [],
   "source": [
    "# Function to categorize diabetes type\n",
    "def categorize_diabetes(row):\n",
    "    if row['medication'] == \"['insulin']\":\n",
    "        return 'Type I Diabetes'\n",
    "    elif row['medication'] == 'No medication':\n",
    "        return 'Unknown'\n",
    "    else:\n",
    "        return 'Type II Diabetes'\n",
    "\n",
    "# Apply function to create the new variable 'diabetes_type'\n",
    "train_engineering['diabetes_type'] = train_engineering.apply(categorize_diabetes, axis=1)\n",
    "val['diabetes_type'] = val.apply(categorize_diabetes, axis=1)\n",
    "test['diabetes_type'] = test.apply(categorize_diabetes, axis=1)"
   ]
  },
  {
   "cell_type": "markdown",
   "id": "0ed183db",
   "metadata": {},
   "source": [
    "Creating a new variable called `total_procedures` that sums all the procedures done, either lab or not."
   ]
  },
  {
   "cell_type": "code",
   "execution_count": 58,
   "id": "a31ed960",
   "metadata": {},
   "outputs": [],
   "source": [
    "train_engineering['total_procedures'] = train_engineering['number_lab_tests'] + train_engineering['non_lab_procedures']\n",
    "val['total_procedures'] = val['number_lab_tests'] + val['non_lab_procedures']\n",
    "test['total_procedures'] = test['number_lab_tests'] + test['non_lab_procedures']"
   ]
  },
  {
   "cell_type": "markdown",
   "id": "eb548511",
   "metadata": {},
   "source": [
    "Creating a new variable called `total_visits` that sums all types of visits made in the year before the encounter."
   ]
  },
  {
   "cell_type": "code",
   "execution_count": 59,
   "id": "6f662c86",
   "metadata": {},
   "outputs": [],
   "source": [
    "train_engineering['total_visits'] = train_engineering['outpatient_visits_in_previous_year']+train_engineering['emergency_visits_in_previous_year']+train_engineering['inpatient_visits_in_previous_year']\n",
    "val['total_visits'] = val['outpatient_visits_in_previous_year']+val['emergency_visits_in_previous_year']+val['inpatient_visits_in_previous_year']\n",
    "test['total_visits'] = test['outpatient_visits_in_previous_year']+test['emergency_visits_in_previous_year']+test['inpatient_visits_in_previous_year']"
   ]
  },
  {
   "cell_type": "markdown",
   "id": "95ba4863",
   "metadata": {},
   "source": [
    "Creating a new variable called `age_group` that groups ages into certain categories."
   ]
  },
  {
   "cell_type": "code",
   "execution_count": 60,
   "id": "2c4752e8",
   "metadata": {},
   "outputs": [],
   "source": [
    "conditions = [\n",
    "    train_engineering['age'].isna(),\n",
    "    (train_engineering['age'] == '[0-10)'),\n",
    "    (train_engineering['age'] == '[10-20)'),\n",
    "    (train_engineering['age'] == '[20-30)'),\n",
    "    (train_engineering['age'] == '[30-40)') | (train_engineering['age'] == '[40-50)') | (train_engineering['age'] == '[50-60)'),\n",
    "    (train_engineering['age'] == '[60-70)') | (train_engineering['age'] == '[70-80)') | (train_engineering['age'] == '[80-90)') | (train_engineering['age'] == '[90-100)')\n",
    "]\n",
    "\n",
    "groups = ['missing', 'Child', 'Teen', 'Young Adult', 'Adult', 'Elderly']\n",
    "\n",
    "train_engineering['age_group'] = np.select(conditions, groups)\n",
    "train_engineering['age_group'] = train_engineering['age_group'].replace('missing', np.nan)"
   ]
  },
  {
   "cell_type": "code",
   "execution_count": 61,
   "id": "7ef78b89",
   "metadata": {},
   "outputs": [],
   "source": [
    "conditions = [\n",
    "    val['age'].isna(),\n",
    "    (val['age'] == '[0-10)'),\n",
    "    (val['age'] == '[10-20)'),\n",
    "    (val['age'] == '[20-30)'),\n",
    "    (val['age'] == '[30-40)') | (val['age'] == '[40-50)') | (val['age'] == '[50-60)'),\n",
    "    (val['age'] == '[60-70)') | (val['age'] == '[70-80)') | (val['age'] == '[80-90)') | (val['age'] == '[90-100)')\n",
    "]\n",
    "\n",
    "groups = ['missing', 'Child', 'Teen', 'Young Adult', 'Adult', 'Elderly']\n",
    "\n",
    "val['age_group'] = np.select(conditions, groups)\n",
    "val['age_group'] = val['age_group'].replace('missing', np.nan)"
   ]
  },
  {
   "cell_type": "code",
   "execution_count": 62,
   "id": "b44097a6",
   "metadata": {},
   "outputs": [],
   "source": [
    "conditions = [\n",
    "    test['age'].isna(),\n",
    "    (test['age'] == '[0-10)'),\n",
    "    (test['age'] == '[10-20)'),\n",
    "    (test['age'] == '[20-30)'),\n",
    "    (test['age'] == '[30-40)') | (test['age'] == '[40-50)') | (test['age'] == '[50-60)'),\n",
    "    (test['age'] == '[60-70)') | (test['age'] == '[70-80)') | (test['age'] == '[80-90)') | (test['age'] == '[90-100)')\n",
    "]\n",
    "\n",
    "groups = ['missing', 'Child', 'Teen', 'Young Adult', 'Adult', 'Elderly']\n",
    "\n",
    "test['age_group'] = np.select(conditions, groups)\n",
    "test['age_group'] = test['age_group'].replace('missing', np.nan)"
   ]
  },
  {
   "cell_type": "markdown",
   "id": "39406b0b",
   "metadata": {},
   "source": [
    "Creating a new variable called `encounter_count` that counts all the encounter made by the same patient."
   ]
  },
  {
   "cell_type": "code",
   "execution_count": 63,
   "id": "81823967",
   "metadata": {},
   "outputs": [],
   "source": [
    "train_engineering.reset_index(inplace=True)\n",
    "encounter_count_per_patient = train_engineering.groupby('patient_id').size().reset_index(name='encounter_count')\n",
    "train_engineering = train_engineering.merge(encounter_count_per_patient, on='patient_id', how='left')\n",
    "train_engineering.set_index('encounter_id', inplace=True)"
   ]
  },
  {
   "cell_type": "code",
   "execution_count": 64,
   "id": "a0c73ec9",
   "metadata": {},
   "outputs": [],
   "source": [
    "val.reset_index(inplace=True)\n",
    "encounter_count_per_patient = val.groupby('patient_id').size().reset_index(name='encounter_count')\n",
    "val = val.merge(encounter_count_per_patient, on='patient_id', how='left')\n",
    "val.set_index('encounter_id', inplace=True)"
   ]
  },
  {
   "cell_type": "code",
   "execution_count": 65,
   "id": "bc637609",
   "metadata": {},
   "outputs": [],
   "source": [
    "test.reset_index(inplace=True)\n",
    "encounter_count_per_patient = test.groupby('patient_id').size().reset_index(name='encounter_count')\n",
    "test = test.merge(encounter_count_per_patient, on='patient_id', how='left')\n",
    "test.set_index('encounter_id', inplace=True)"
   ]
  },
  {
   "cell_type": "markdown",
   "id": "183f5988",
   "metadata": {},
   "source": [
    "Creating a new variable called `avg_length_of_stay` that does the average of the lenght of stay of each patient."
   ]
  },
  {
   "cell_type": "code",
   "execution_count": 66,
   "id": "55f0b064",
   "metadata": {},
   "outputs": [],
   "source": [
    "train_engineering['avg_length_of_stay'] = train_engineering.groupby('patient_id')['length_of_stay_in_hospital'].transform('mean')\n",
    "val['avg_length_of_stay'] = val.groupby('patient_id')['length_of_stay_in_hospital'].transform('mean')\n",
    "test['avg_length_of_stay'] = test.groupby('patient_id')['length_of_stay_in_hospital'].transform('mean')"
   ]
  },
  {
   "cell_type": "markdown",
   "id": "85ceada6",
   "metadata": {},
   "source": [
    "Creating a new variable called `total_visits_pp` that calculates all visits done by that patient."
   ]
  },
  {
   "cell_type": "code",
   "execution_count": 67,
   "id": "b650a43b",
   "metadata": {},
   "outputs": [],
   "source": [
    "train_engineering['total_visits_pp'] = train_engineering.groupby('patient_id')['total_visits'].transform('sum')\n",
    "val['total_visits_pp'] = val.groupby('patient_id')['total_visits'].transform('sum')\n",
    "test['total_visits_pp'] = test.groupby('patient_id')['total_visits'].transform('sum')"
   ]
  },
  {
   "cell_type": "markdown",
   "id": "01b9af81",
   "metadata": {},
   "source": [
    "We no longer need the variable `patient_id` so lets drop it."
   ]
  },
  {
   "cell_type": "code",
   "execution_count": 68,
   "id": "98cb3afb",
   "metadata": {},
   "outputs": [],
   "source": [
    "train_engineering.drop(columns=['patient_id'], inplace=True)\n",
    "val.drop(columns=['patient_id'], inplace=True)\n",
    "test.drop(columns=['patient_id'], inplace=True)"
   ]
  },
  {
   "cell_type": "markdown",
   "id": "c79050ac",
   "metadata": {},
   "source": [
    "**Grouping categories of certain variables**"
   ]
  },
  {
   "cell_type": "code",
   "execution_count": 69,
   "id": "a75a9f48",
   "metadata": {},
   "outputs": [
    {
     "name": "stdout",
     "output_type": "stream",
     "text": [
      "Frequency count for column 'race':\n",
      "Caucasian          34458\n",
      "AfricanAmerican     8653\n",
      "Hispanic             967\n",
      "Other                673\n",
      "Asian                297\n",
      "Name: race, dtype: int64\n",
      "\n",
      "\n",
      "Frequency count for column 'gender':\n",
      "1.0    25999\n",
      "0.0    22480\n",
      "Name: gender, dtype: int64\n",
      "\n",
      "\n",
      "Frequency count for column 'age':\n",
      "[70-80)     11887\n",
      "[60-70)     10157\n",
      "[80-90)      7828\n",
      "[50-60)      7757\n",
      "[40-50)      4406\n",
      "[30-40)      1757\n",
      "[90-100)     1251\n",
      "[20-30)       675\n",
      "[10-20)       287\n",
      "[0-10)         57\n",
      "Name: age, dtype: int64\n",
      "\n",
      "\n",
      "Frequency count for column 'payer_code':\n",
      "Not Insured    19240\n",
      "MC             15363\n",
      "HM              2985\n",
      "SP              2418\n",
      "BC              2241\n",
      "MD              1670\n",
      "CP              1208\n",
      "UN              1181\n",
      "CM               922\n",
      "OG               468\n",
      "PO               283\n",
      "DM               251\n",
      "WC                68\n",
      "CH                66\n",
      "OT                46\n",
      "MP                38\n",
      "SI                34\n",
      "Name: payer_code, dtype: int64\n",
      "\n",
      "\n",
      "Frequency count for column 'admission_type':\n",
      "Emergency        25539\n",
      "Elective          9015\n",
      "Urgent            8975\n",
      "Not Available     4939\n",
      "Trauma Center        9\n",
      "Newborn              5\n",
      "Name: admission_type, dtype: int64\n",
      "\n",
      "\n",
      "Frequency count for column 'medical_specialty':\n",
      "Unknown                          23744\n",
      "InternalMedicine                  6999\n",
      "Emergency/Trauma                  3645\n",
      "Family/GeneralPractice            3578\n",
      "Cardiology                        2564\n",
      "                                 ...  \n",
      "Proctology                           1\n",
      "Pediatrics-InfectiousDiseases        1\n",
      "DCPTEAM                              1\n",
      "SportsMedicine                       1\n",
      "Pediatrics-EmergencyMedicine         1\n",
      "Name: medical_specialty, Length: 67, dtype: int64\n",
      "\n",
      "\n",
      "Frequency count for column 'discharge_disposition':\n",
      "Discharged to home                                                                                           29212\n",
      "Discharged/transferred to SNF                                                                                 6778\n",
      "Discharged/transferred to home with home health service                                                       6268\n",
      "Discharged/transferred to another short term hospital                                                         1030\n",
      "Discharged/transferred to another rehab fac including rehab units of a hospital .                              949\n",
      "Discharged/transferred to another type of inpatient care institution                                           568\n",
      "Not Available                                                                                                  467\n",
      "Discharged/transferred to ICF                                                                                  406\n",
      "Left AMA                                                                                                       289\n",
      "Hospice / medical facility                                                                                     181\n",
      "Hospice / home                                                                                                 180\n",
      "Discharged/transferred to a long term care hospital.                                                           180\n",
      "Discharged/transferred/referred to a psychiatric hospital of psychiatric distinct part unit of a hospital       62\n",
      "Discharged/transferred to home under care of Home IV provider                                                   51\n",
      "Discharged/transferred within this institution to Medicare approved swing bed                                   28\n",
      "Discharged/transferred to a nursing facility certified under Medicaid but not certified under Medicare.         26\n",
      "Admitted as an inpatient to this hospital                                                                        8\n",
      "Discharged/transferred/referred another institution for outpatient services                                      6\n",
      "Discharged/transferred/referred to this institution for outpatient services                                      6\n",
      "Discharged/transferred to a federal health care facility.                                                        2\n",
      "Still patient or expected to return for outpatient services                                                      2\n",
      "Neonate discharged to another hospital for neonatal aftercare                                                    1\n",
      "Name: discharge_disposition, dtype: int64\n",
      "\n",
      "\n",
      "Frequency count for column 'admission_source':\n",
      "Emergency Room                                               27333\n",
      "Physician Referral                                           14164\n",
      "Not Available                                                 3381\n",
      "Transfer from a hospital                                      1535\n",
      "Transfer from another health care facility                    1057\n",
      "Clinic Referral                                                522\n",
      "Transfer from a Skilled Nursing Facility (SNF)                 379\n",
      "HMO Referral                                                    89\n",
      "Court/Law Enforcement                                            8\n",
      "Transfer from critial access hospital                            6\n",
      "Transfer from hospital inpt/same fac reslt in a sep claim        6\n",
      "Transfer from Ambulatory Surgery Center                          1\n",
      "Normal Delivery                                                  1\n",
      "Name: admission_source, dtype: int64\n",
      "\n",
      "\n",
      "Frequency count for column 'primary_diagnosis':\n",
      "428    3307\n",
      "414    3097\n",
      "786    1991\n",
      "410    1689\n",
      "486    1654\n",
      "       ... \n",
      "131       1\n",
      "975       1\n",
      "147       1\n",
      "194       1\n",
      "214       1\n",
      "Name: primary_diagnosis, Length: 647, dtype: int64\n",
      "\n",
      "\n",
      "Frequency count for column 'secondary_diagnosis':\n",
      "276     3155\n",
      "428     3118\n",
      "250     3091\n",
      "427     2314\n",
      "401     1933\n",
      "        ... \n",
      "795        1\n",
      "E819       1\n",
      "725        1\n",
      "944        1\n",
      "603        1\n",
      "Name: secondary_diagnosis, Length: 655, dtype: int64\n",
      "\n",
      "\n",
      "Frequency count for column 'additional_diagnosis':\n",
      "250              5442\n",
      "401              3884\n",
      "Not Available    3124\n",
      "276              2031\n",
      "428              1919\n",
      "                 ... \n",
      "49                  1\n",
      "E922                1\n",
      "757                 1\n",
      "341                 1\n",
      "271                 1\n",
      "Name: additional_diagnosis, Length: 695, dtype: int64\n",
      "\n",
      "\n",
      "Frequency count for column 'glucose_test_result':\n",
      "Not Available    45994\n",
      "Norm              1234\n",
      ">200               714\n",
      ">300               540\n",
      "Name: glucose_test_result, dtype: int64\n",
      "\n",
      "\n",
      "Frequency count for column 'a1c_test_result':\n",
      "Not Available    40360\n",
      ">8                3854\n",
      "Norm              2433\n",
      ">7                1835\n",
      "Name: a1c_test_result, dtype: int64\n",
      "\n",
      "\n",
      "Frequency count for column 'change_in_meds_during_hospitalization':\n",
      "0    26168\n",
      "1    22314\n",
      "Name: change_in_meds_during_hospitalization, dtype: int64\n",
      "\n",
      "\n",
      "Frequency count for column 'prescribed_diabetes_meds':\n",
      "1    37393\n",
      "0    11089\n",
      "Name: prescribed_diabetes_meds, dtype: int64\n",
      "\n",
      "\n",
      "Frequency count for column 'medication':\n",
      "['insulin']                                                                           14528\n",
      "No medication                                                                         11089\n",
      "['metformin']                                                                          2192\n",
      "['metformin', 'insulin']                                                               2090\n",
      "['glipizide']                                                                          1893\n",
      "                                                                                      ...  \n",
      "['metformin', 'nateglinide', 'glipizide', 'glyburide', 'pioglitazone', 'miglitol']        1\n",
      "['metformin', 'repaglinide', 'glimepiride', 'rosiglitazone', 'insulin']                   1\n",
      "['glyburide', 'insulin', 'glyburide-metformin', 'glipizide-metformin']                    1\n",
      "['rosiglitazone', 'acarbose']                                                             1\n",
      "['metformin', 'glimepiride', 'insulin', 'glyburide-metformin']                            1\n",
      "Name: medication, Length: 272, dtype: int64\n",
      "\n",
      "\n"
     ]
    }
   ],
   "source": [
    "for column_name in non_metric_features:\n",
    "    frequency_count = train_engineering[column_name].value_counts()\n",
    "    print(f\"Frequency count for column '{column_name}':\")\n",
    "    print(frequency_count)\n",
    "    print(\"\\n\")"
   ]
  },
  {
   "cell_type": "markdown",
   "id": "48606bbd",
   "metadata": {},
   "source": [
    "Grouping categories in `primary_diagnosis`, `secondary_diagnosis` and `additional_diagnosis`."
   ]
  },
  {
   "cell_type": "code",
   "execution_count": 70,
   "id": "44bea992",
   "metadata": {},
   "outputs": [],
   "source": [
    "def group_diagnosis(code):\n",
    "    if pd.isnull(code):  # Check if the value is NaN (missing)\n",
    "        return np.nan\n",
    "    elif isinstance(code, str) and (code.isdigit() or code.replace('.', '', 1).isdigit()):\n",
    "        code = float(code)\n",
    "        if 1 <= code <= 139:\n",
    "            return '1-139'\n",
    "        elif 140 <= code <= 239:\n",
    "            return '140-239'\n",
    "        elif 240 <= code <= 279:\n",
    "            return '240-279'\n",
    "        elif 280 <= code <= 289:\n",
    "            return '280-289'\n",
    "        elif 290 <= code <= 319:\n",
    "            return '290-319'\n",
    "        elif 320 <= code <= 389:\n",
    "            return '320-389'\n",
    "        elif 390 <= code <= 459:\n",
    "            return '390-459'\n",
    "        elif 460 <= code <= 519:\n",
    "            return '460-519'\n",
    "        elif 520 <= code <= 579:\n",
    "            return '520-579'\n",
    "        elif 580 <= code <= 629:\n",
    "            return '580-629'\n",
    "        elif 630 <= code <= 679:\n",
    "            return '630-679'\n",
    "        elif 680 <= code <= 709:\n",
    "            return '680-709'\n",
    "        elif 710 <= code <= 739:\n",
    "            return '710-739'\n",
    "        elif 740 <= code <= 759:\n",
    "            return '740-759'\n",
    "        elif 760 <= code <= 779:\n",
    "            return '760-779'\n",
    "        elif 780 <= code <= 799:\n",
    "            return '780-799'\n",
    "        elif 800 <= code <= 999:  \n",
    "            return '800-999'\n",
    "    elif isinstance(code, str) and (code.startswith('E') or code.startswith('V')):\n",
    "        return 'E and V'   \n",
    "    return 'Not Available'\n",
    "\n",
    "# Apply the function to create new columns in the DataFrame with the grouped code ranges\n",
    "train_engineering['diag1_type'] = train_engineering['primary_diagnosis'].apply(group_diagnosis)\n",
    "train_engineering['diag2_type'] = train_engineering['secondary_diagnosis'].apply(group_diagnosis)\n",
    "train_engineering['diag_add_type'] = train_engineering['additional_diagnosis'].apply(group_diagnosis)\n",
    "\n",
    "val['diag1_type'] = val['primary_diagnosis'].apply(group_diagnosis)\n",
    "val['diag2_type'] = val['secondary_diagnosis'].apply(group_diagnosis)\n",
    "val['diag_add_type'] = val['additional_diagnosis'].apply(group_diagnosis)\n",
    "\n",
    "test['diag1_type'] = test['primary_diagnosis'].apply(group_diagnosis)\n",
    "test['diag2_type'] = test['secondary_diagnosis'].apply(group_diagnosis)\n",
    "test['diag_add_type'] = test['additional_diagnosis'].apply(group_diagnosis)"
   ]
  },
  {
   "cell_type": "markdown",
   "id": "a549c93d",
   "metadata": {},
   "source": [
    "Dropping variables not needed anymore."
   ]
  },
  {
   "cell_type": "code",
   "execution_count": 71,
   "id": "388a01fd",
   "metadata": {},
   "outputs": [],
   "source": [
    "train_engineering.drop('primary_diagnosis', axis=1, inplace=True)\n",
    "train_engineering.drop('secondary_diagnosis', axis=1, inplace=True)\n",
    "train_engineering.drop('additional_diagnosis', axis=1, inplace=True)\n",
    "\n",
    "val.drop('primary_diagnosis', axis=1, inplace=True)\n",
    "val.drop('secondary_diagnosis', axis=1, inplace=True)\n",
    "val.drop('additional_diagnosis', axis=1, inplace=True)\n",
    "\n",
    "test.drop('primary_diagnosis', axis=1, inplace=True)\n",
    "test.drop('secondary_diagnosis', axis=1, inplace=True)\n",
    "test.drop('additional_diagnosis', axis=1, inplace=True)"
   ]
  },
  {
   "cell_type": "markdown",
   "id": "f954db7f",
   "metadata": {},
   "source": [
    "Grouping categories in `medical_specialty`."
   ]
  },
  {
   "cell_type": "code",
   "execution_count": 72,
   "id": "03543c95",
   "metadata": {},
   "outputs": [
    {
     "data": {
      "text/plain": [
       "array(['Unknown', 'InternalMedicine', 'Cardiology',\n",
       "       'Orthopedics-Reconstructive', 'Emergency/Trauma',\n",
       "       'Family/GeneralPractice', 'Surgery-General', 'Urology', 'Surgeon',\n",
       "       'Orthopedics', 'ObstetricsandGynecology', 'Radiologist',\n",
       "       'Pediatrics', 'Surgery-Neuro', 'Nephrology', 'Neurology',\n",
       "       'Surgery-Vascular', 'Psychiatry',\n",
       "       'PhysicalMedicineandRehabilitation', 'Pulmonology',\n",
       "       'Gastroenterology', 'Endocrinology', 'Anesthesiology-Pediatric',\n",
       "       'Hematology/Oncology', 'Oncology',\n",
       "       'Surgery-Cardiovascular/Thoracic', 'Hematology', 'Gynecology',\n",
       "       'Pediatrics-Neurology', 'Pediatrics-Endocrinology', 'Pathology',\n",
       "       'Rheumatology', 'Otolaryngology', 'Surgery-Thoracic',\n",
       "       'OutreachServices', 'Psychiatry-Child/Adolescent', 'Podiatry',\n",
       "       'Obsterics&Gynecology-GynecologicOnco', 'Radiology',\n",
       "       'Pediatrics-CriticalCare', 'Pediatrics-Pulmonology',\n",
       "       'AllergyandImmunology', 'Obstetrics', 'Psychology', 'Osteopath',\n",
       "       'Surgery-Plastic', 'Hospitalist', 'SurgicalSpecialty',\n",
       "       'Surgery-Cardiovascular', 'Proctology', 'Cardiology-Pediatric',\n",
       "       'PhysicianNotFound', 'Anesthesiology', 'Surgery-Pediatric',\n",
       "       'Ophthalmology', 'Resident', 'InfectiousDiseases',\n",
       "       'Pediatrics-Hematology-Oncology',\n",
       "       'Pediatrics-AllergyandImmunology', 'Endocrinology-Metabolism',\n",
       "       'Dentistry', 'Surgery-Colon&Rectal',\n",
       "       'Pediatrics-InfectiousDiseases', 'Surgery-Maxillofacial',\n",
       "       'DCPTEAM', 'SportsMedicine', 'Pediatrics-EmergencyMedicine'],\n",
       "      dtype=object)"
      ]
     },
     "execution_count": 72,
     "metadata": {},
     "output_type": "execute_result"
    }
   ],
   "source": [
    "train_engineering['medical_specialty'].unique()"
   ]
  },
  {
   "cell_type": "code",
   "execution_count": 73,
   "id": "5f297dd2",
   "metadata": {},
   "outputs": [],
   "source": [
    "group_mapping = {\n",
    "    \n",
    "    'GeneralSurgery': [\n",
    "        'Surgeon', 'Surgery-Cardiovascular', 'Surgery-Cardiovascular/Thoracic',\n",
    "        'Surgery-Colon&Rectal', 'Surgery-General', 'Surgery-Maxillofacial',\n",
    "        'Surgery-Neuro', 'Surgery-Pediatric',\n",
    "        'Surgery-Plastic', 'Surgery-Thoracic', 'Surgery-Vascular', 'SurgicalSpecialty'\n",
    "    ],\n",
    "    \n",
    "    'InternalMedicine': [\n",
    "        'Cardiology', 'DCPTEAM', 'Endocrinology', 'Endocrinology-Metabolism',\n",
    "        'Gastroenterology', 'Hematology', 'Hematology/Oncology', 'Hospitalist',\n",
    "        'InfectiousDiseases', 'InternalMedicine', 'Nephrology',\n",
    "        'Oncology', 'Proctology', 'Pulmonology', 'Rheumatology', 'SportsMedicine',\n",
    "        'Urology'\n",
    "    ],\n",
    "    \n",
    "    'Obstetrics&Gynecology': ['Gynecology', 'Obsterics&Gynecology-GynecologicOnco', 'Obstetrics', \n",
    "'ObstetricsandGynecology'],\n",
    "    \n",
    "    'Pediatrics': ['Cardiology-Pediatric', 'Pediatrics', 'Pediatrics-AllergyandImmunology', 'Pediatrics-CriticalCare', \n",
    "                   'Pediatrics-EmergencyMedicine', 'Pediatrics-Endocrinology', 'Pediatrics-Hematology-Oncology', \n",
    "                   'Pediatrics-InfectiousDiseases', 'Pediatrics-Neurology', 'Pediatrics-Pulmonology',\n",
    "                  'Psychiatry-Child/Adolescent'\n",
    "                   \n",
    "],\n",
    "    \n",
    "    'Anesthesiology': ['Anesthesiology', 'Anesthesiology-Pediatric'],\n",
    "    \n",
    "    'DiagnosticRadiology': ['Radiologist', 'Radiology'],\n",
    "    \n",
    "    'OrthopedicSurgery': ['Orthopedics', 'Orthopedics-Reconstructive'],\n",
    "    \n",
    "    'Other': ['Dentistry', 'Podiatry', 'Psychology', 'Resident', 'Speech', 'OutreachServices'],\n",
    "    \n",
    "    'PhysicalMedicineandRehabilitation': ['PhysicalMedicineandRehabilitation', 'PhysicianNotFound']\n",
    "}\n",
    "\n",
    "\n",
    "def map_specialty(spec):\n",
    "    for group, specialties in group_mapping.items():\n",
    "        if spec in specialties:\n",
    "            return group\n",
    "    return spec  \n",
    "\n",
    "train_engineering['medical_specialty'] = train_engineering['medical_specialty'].apply(map_specialty)\n",
    "val['medical_specialty'] = val['medical_specialty'].apply(map_specialty)\n",
    "test['medical_specialty'] = test['medical_specialty'].apply(map_specialty)"
   ]
  },
  {
   "cell_type": "code",
   "execution_count": 74,
   "id": "ae86f925",
   "metadata": {},
   "outputs": [
    {
     "data": {
      "text/html": [
       "<div>\n",
       "<style scoped>\n",
       "    .dataframe tbody tr th:only-of-type {\n",
       "        vertical-align: middle;\n",
       "    }\n",
       "\n",
       "    .dataframe tbody tr th {\n",
       "        vertical-align: top;\n",
       "    }\n",
       "\n",
       "    .dataframe thead th {\n",
       "        text-align: right;\n",
       "    }\n",
       "</style>\n",
       "<table border=\"1\" class=\"dataframe\">\n",
       "  <thead>\n",
       "    <tr style=\"text-align: right;\">\n",
       "      <th></th>\n",
       "      <th>race</th>\n",
       "      <th>gender</th>\n",
       "      <th>age</th>\n",
       "      <th>payer_code</th>\n",
       "      <th>outpatient_visits_in_previous_year</th>\n",
       "      <th>emergency_visits_in_previous_year</th>\n",
       "      <th>inpatient_visits_in_previous_year</th>\n",
       "      <th>admission_type</th>\n",
       "      <th>medical_specialty</th>\n",
       "      <th>average_pulse_bpm</th>\n",
       "      <th>...</th>\n",
       "      <th>diabetes_type</th>\n",
       "      <th>total_procedures</th>\n",
       "      <th>total_visits</th>\n",
       "      <th>age_group</th>\n",
       "      <th>encounter_count</th>\n",
       "      <th>avg_length_of_stay</th>\n",
       "      <th>total_visits_pp</th>\n",
       "      <th>diag1_type</th>\n",
       "      <th>diag2_type</th>\n",
       "      <th>diag_add_type</th>\n",
       "    </tr>\n",
       "    <tr>\n",
       "      <th>encounter_id</th>\n",
       "      <th></th>\n",
       "      <th></th>\n",
       "      <th></th>\n",
       "      <th></th>\n",
       "      <th></th>\n",
       "      <th></th>\n",
       "      <th></th>\n",
       "      <th></th>\n",
       "      <th></th>\n",
       "      <th></th>\n",
       "      <th></th>\n",
       "      <th></th>\n",
       "      <th></th>\n",
       "      <th></th>\n",
       "      <th></th>\n",
       "      <th></th>\n",
       "      <th></th>\n",
       "      <th></th>\n",
       "      <th></th>\n",
       "      <th></th>\n",
       "      <th></th>\n",
       "    </tr>\n",
       "  </thead>\n",
       "  <tbody>\n",
       "    <tr>\n",
       "      <th>767545</th>\n",
       "      <td>Caucasian</td>\n",
       "      <td>0.0</td>\n",
       "      <td>[50-60)</td>\n",
       "      <td>HM</td>\n",
       "      <td>3</td>\n",
       "      <td>0</td>\n",
       "      <td>0</td>\n",
       "      <td>Emergency</td>\n",
       "      <td>Unknown</td>\n",
       "      <td>131</td>\n",
       "      <td>...</td>\n",
       "      <td>Unknown</td>\n",
       "      <td>48</td>\n",
       "      <td>3</td>\n",
       "      <td>Adult</td>\n",
       "      <td>1</td>\n",
       "      <td>4.0</td>\n",
       "      <td>3</td>\n",
       "      <td>240-279</td>\n",
       "      <td>710-739</td>\n",
       "      <td>680-709</td>\n",
       "    </tr>\n",
       "    <tr>\n",
       "      <th>260242</th>\n",
       "      <td>Caucasian</td>\n",
       "      <td>1.0</td>\n",
       "      <td>[60-70)</td>\n",
       "      <td>MC</td>\n",
       "      <td>2</td>\n",
       "      <td>0</td>\n",
       "      <td>0</td>\n",
       "      <td>Emergency</td>\n",
       "      <td>Unknown</td>\n",
       "      <td>130</td>\n",
       "      <td>...</td>\n",
       "      <td>Type I Diabetes</td>\n",
       "      <td>1</td>\n",
       "      <td>2</td>\n",
       "      <td>Elderly</td>\n",
       "      <td>1</td>\n",
       "      <td>3.0</td>\n",
       "      <td>2</td>\n",
       "      <td>320-389</td>\n",
       "      <td>800-999</td>\n",
       "      <td>710-739</td>\n",
       "    </tr>\n",
       "    <tr>\n",
       "      <th>793358</th>\n",
       "      <td>Caucasian</td>\n",
       "      <td>0.0</td>\n",
       "      <td>[50-60)</td>\n",
       "      <td>Not Insured</td>\n",
       "      <td>0</td>\n",
       "      <td>0</td>\n",
       "      <td>0</td>\n",
       "      <td>Urgent</td>\n",
       "      <td>InternalMedicine</td>\n",
       "      <td>60</td>\n",
       "      <td>...</td>\n",
       "      <td>Unknown</td>\n",
       "      <td>46</td>\n",
       "      <td>0</td>\n",
       "      <td>Adult</td>\n",
       "      <td>1</td>\n",
       "      <td>5.0</td>\n",
       "      <td>0</td>\n",
       "      <td>780-799</td>\n",
       "      <td>520-579</td>\n",
       "      <td>390-459</td>\n",
       "    </tr>\n",
       "    <tr>\n",
       "      <th>907877</th>\n",
       "      <td>AfricanAmerican</td>\n",
       "      <td>1.0</td>\n",
       "      <td>[70-80)</td>\n",
       "      <td>Not Insured</td>\n",
       "      <td>0</td>\n",
       "      <td>0</td>\n",
       "      <td>0</td>\n",
       "      <td>Emergency</td>\n",
       "      <td>Unknown</td>\n",
       "      <td>69</td>\n",
       "      <td>...</td>\n",
       "      <td>Type I Diabetes</td>\n",
       "      <td>2</td>\n",
       "      <td>0</td>\n",
       "      <td>Elderly</td>\n",
       "      <td>1</td>\n",
       "      <td>5.0</td>\n",
       "      <td>0</td>\n",
       "      <td>390-459</td>\n",
       "      <td>390-459</td>\n",
       "      <td>390-459</td>\n",
       "    </tr>\n",
       "    <tr>\n",
       "      <th>339521</th>\n",
       "      <td>Caucasian</td>\n",
       "      <td>0.0</td>\n",
       "      <td>[80-90)</td>\n",
       "      <td>Not Insured</td>\n",
       "      <td>0</td>\n",
       "      <td>0</td>\n",
       "      <td>0</td>\n",
       "      <td>Emergency</td>\n",
       "      <td>Unknown</td>\n",
       "      <td>65</td>\n",
       "      <td>...</td>\n",
       "      <td>Type II Diabetes</td>\n",
       "      <td>59</td>\n",
       "      <td>0</td>\n",
       "      <td>Elderly</td>\n",
       "      <td>1</td>\n",
       "      <td>4.0</td>\n",
       "      <td>0</td>\n",
       "      <td>780-799</td>\n",
       "      <td>240-279</td>\n",
       "      <td>240-279</td>\n",
       "    </tr>\n",
       "  </tbody>\n",
       "</table>\n",
       "<p>5 rows × 36 columns</p>\n",
       "</div>"
      ],
      "text/plain": [
       "                         race  gender      age   payer_code  \\\n",
       "encounter_id                                                  \n",
       "767545              Caucasian     0.0  [50-60)           HM   \n",
       "260242              Caucasian     1.0  [60-70)           MC   \n",
       "793358              Caucasian     0.0  [50-60)  Not Insured   \n",
       "907877        AfricanAmerican     1.0  [70-80)  Not Insured   \n",
       "339521              Caucasian     0.0  [80-90)  Not Insured   \n",
       "\n",
       "              outpatient_visits_in_previous_year  \\\n",
       "encounter_id                                       \n",
       "767545                                         3   \n",
       "260242                                         2   \n",
       "793358                                         0   \n",
       "907877                                         0   \n",
       "339521                                         0   \n",
       "\n",
       "              emergency_visits_in_previous_year  \\\n",
       "encounter_id                                      \n",
       "767545                                        0   \n",
       "260242                                        0   \n",
       "793358                                        0   \n",
       "907877                                        0   \n",
       "339521                                        0   \n",
       "\n",
       "              inpatient_visits_in_previous_year admission_type  \\\n",
       "encounter_id                                                     \n",
       "767545                                        0      Emergency   \n",
       "260242                                        0      Emergency   \n",
       "793358                                        0         Urgent   \n",
       "907877                                        0      Emergency   \n",
       "339521                                        0      Emergency   \n",
       "\n",
       "             medical_specialty  average_pulse_bpm  ...     diabetes_type  \\\n",
       "encounter_id                                       ...                     \n",
       "767545                 Unknown                131  ...           Unknown   \n",
       "260242                 Unknown                130  ...   Type I Diabetes   \n",
       "793358        InternalMedicine                 60  ...           Unknown   \n",
       "907877                 Unknown                 69  ...   Type I Diabetes   \n",
       "339521                 Unknown                 65  ...  Type II Diabetes   \n",
       "\n",
       "             total_procedures  total_visits  age_group  encounter_count  \\\n",
       "encounter_id                                                              \n",
       "767545                     48             3      Adult                1   \n",
       "260242                      1             2    Elderly                1   \n",
       "793358                     46             0      Adult                1   \n",
       "907877                      2             0    Elderly                1   \n",
       "339521                     59             0    Elderly                1   \n",
       "\n",
       "              avg_length_of_stay  total_visits_pp diag1_type diag2_type  \\\n",
       "encounter_id                                                              \n",
       "767545                       4.0                3    240-279    710-739   \n",
       "260242                       3.0                2    320-389    800-999   \n",
       "793358                       5.0                0    780-799    520-579   \n",
       "907877                       5.0                0    390-459    390-459   \n",
       "339521                       4.0                0    780-799    240-279   \n",
       "\n",
       "              diag_add_type  \n",
       "encounter_id                 \n",
       "767545              680-709  \n",
       "260242              710-739  \n",
       "793358              390-459  \n",
       "907877              390-459  \n",
       "339521              240-279  \n",
       "\n",
       "[5 rows x 36 columns]"
      ]
     },
     "execution_count": 74,
     "metadata": {},
     "output_type": "execute_result"
    }
   ],
   "source": [
    "train_engineering.head()"
   ]
  },
  {
   "cell_type": "markdown",
   "id": "e9b38240",
   "metadata": {},
   "source": [
    "<a class=\"anchor\" id=\"ren\"></a>\n",
    "\n",
    "## <span style=\"color:black\">5.3. Renaming variables</span>"
   ]
  },
  {
   "cell_type": "code",
   "execution_count": 75,
   "id": "a4dd9ffd",
   "metadata": {},
   "outputs": [],
   "source": [
    "train_engineering = train_engineering.rename(\n",
    "    columns={\n",
    "        'encounter_ID': 'ID',\n",
    "        'outpatient_visits_in_previous_year': 'outpatient',\n",
    "        'emergency_visits_in_previous_year': 'emergency',\n",
    "        'inpatient_visits_in_previous_year': 'inpatient',\n",
    "        'average_pulse_bpm': 'avg_bpm',\n",
    "        'length_of_stay_in_hospital': 'stay_length',\n",
    "        'change_in_meds_during_hospitalization': 'meds_change',\n",
    "        'a1c_test_result':'a1c',\n",
    "        'glucose_test_result':'glucose'\n",
    "        \n",
    "    })\n",
    "\n",
    "val = val.rename(\n",
    "    columns={\n",
    "        'encounter_ID': 'ID',\n",
    "        'outpatient_visits_in_previous_year': 'outpatient',\n",
    "        'emergency_visits_in_previous_year': 'emergency',\n",
    "        'inpatient_visits_in_previous_year': 'inpatient',\n",
    "        'average_pulse_bpm': 'avg_bpm',\n",
    "        'length_of_stay_in_hospital': 'stay_length',\n",
    "        'change_in_meds_during_hospitalization': 'meds_change',\n",
    "        'a1c_test_result':'a1c',\n",
    "        'glucose_test_result':'glucose'\n",
    "        \n",
    "    })\n",
    "\n",
    "test = test.rename(\n",
    "    columns={\n",
    "        'encounter_ID': 'ID',\n",
    "        'outpatient_visits_in_previous_year': 'outpatient',\n",
    "        'emergency_visits_in_previous_year': 'emergency',\n",
    "        'inpatient_visits_in_previous_year': 'inpatient',\n",
    "        'average_pulse_bpm': 'avg_bpm',\n",
    "        'length_of_stay_in_hospital': 'stay_length',\n",
    "        'change_in_meds_during_hospitalization': 'meds_change',\n",
    "        'a1c_test_result':'a1c',\n",
    "        'glucose_test_result':'glucose'\n",
    "        \n",
    "    })"
   ]
  },
  {
   "cell_type": "markdown",
   "id": "b4630e08",
   "metadata": {},
   "source": [
    "Updating non_metric and metric features."
   ]
  },
  {
   "cell_type": "code",
   "execution_count": 76,
   "id": "27ccbb32",
   "metadata": {},
   "outputs": [],
   "source": [
    "non_metric_features[non_metric_features.index('glucose_test_result')] = 'glucose'\n",
    "non_metric_features[non_metric_features.index('a1c_test_result')] = 'a1c'\n",
    "non_metric_features[non_metric_features.index('change_in_meds_during_hospitalization')] = 'meds_change'\n",
    "metric_features[metric_features.index('outpatient_visits_in_previous_year')] = 'outpatient'\n",
    "metric_features[metric_features.index('inpatient_visits_in_previous_year')] = 'inpatient'\n",
    "metric_features[metric_features.index('emergency_visits_in_previous_year')] = 'emergency'\n",
    "metric_features[metric_features.index('average_pulse_bpm')] = 'avg_bpm'\n",
    "metric_features[metric_features.index('length_of_stay_in_hospital')] = 'stay_length'"
   ]
  },
  {
   "cell_type": "code",
   "execution_count": 77,
   "id": "ecb72ecc",
   "metadata": {},
   "outputs": [],
   "source": [
    "new_metric_columns = ['total_procedures', 'total_visits', 'avg_length_of_stay', 'total_visits_pp'\n",
    "                      , 'encounter_count', 'diagnosis_count']\n",
    "\n",
    "metric_features.extend(new_metric_columns)"
   ]
  },
  {
   "cell_type": "code",
   "execution_count": 78,
   "id": "05e724fa",
   "metadata": {},
   "outputs": [],
   "source": [
    "columns_in_train_engineering = train_engineering.columns.tolist()\n",
    "\n",
    "non_metric_features = [\n",
    "    column for column in columns_in_train_engineering\n",
    "    if column not in metric_features\n",
    "]"
   ]
  },
  {
   "cell_type": "code",
   "execution_count": 79,
   "id": "dbdaaeb7",
   "metadata": {},
   "outputs": [],
   "source": [
    "non_metric_features.remove('readmitted_binary')"
   ]
  },
  {
   "cell_type": "markdown",
   "id": "a6e29364",
   "metadata": {},
   "source": [
    "<hr style=\"border: 1px solid black;\">\n",
    "<a class=\"anchor\" id=\"vis\"></a>\n",
    "\n",
    "# <span style=\"color:black\">6. Visualizations</span>"
   ]
  },
  {
   "cell_type": "code",
   "execution_count": 80,
   "id": "9f1a148d",
   "metadata": {},
   "outputs": [],
   "source": [
    "train_copy = train_engineering.copy()"
   ]
  },
  {
   "cell_type": "code",
   "execution_count": 81,
   "id": "63189914",
   "metadata": {},
   "outputs": [
    {
     "data": {
      "image/png": "[encoded data removed]",
      "text/plain": [
       "<Figure size 576x432 with 1 Axes>"
      ]
     },
     "metadata": {},
     "output_type": "display_data"
    }
   ],
   "source": [
    "train_copy['readmitted_binary'] = train_copy['readmitted_binary'].replace({0: 'Not Readmitted within 30 Days', 1: 'Readmitted within 30 Days'})\n",
    "train_copy['gender'] = train_copy['gender'].replace({0: 'Female', 1: 'Male'})\n",
    "\n",
    "plt.figure(figsize=(8, 6))\n",
    "sns.countplot(x='gender', hue='readmitted_binary', data=train_copy)\n",
    "plt.title('Bar Plot of Readmission by Gender')\n",
    "plt.xlabel('Gender')\n",
    "plt.ylabel('Count')\n",
    "plt.legend(title='Readmitted', loc='upper right')\n",
    "plt.show()"
   ]
  },
  {
   "cell_type": "code",
   "execution_count": 82,
   "id": "750f2d86",
   "metadata": {},
   "outputs": [
    {
     "data": {
      "image/png": "[encoded data removed]",
      "text/plain": [
       "<Figure size 720x432 with 1 Axes>"
      ]
     },
     "metadata": {},
     "output_type": "display_data"
    }
   ],
   "source": [
    "diagnosis_types = train_engineering[['diag1_type', 'diag2_type', 'diag_add_type']]\n",
    "diagnosis_types = diagnosis_types.melt(var_name='Diagnosis Type')\n",
    "\n",
    "plt.figure(figsize=(10, 6))\n",
    "sns.countplot(data=diagnosis_types, x='value', hue='Diagnosis Type')\n",
    "plt.title('Distribution of Diagnosis Types')\n",
    "plt.xlabel('Diagnosis Type')\n",
    "plt.ylabel('Count')\n",
    "plt.legend(title='Diagnosis Type')\n",
    "plt.xticks(rotation=45)  \n",
    "plt.tight_layout()\n",
    "plt.show()"
   ]
  },
  {
   "cell_type": "code",
   "execution_count": 83,
   "id": "2f55f222",
   "metadata": {},
   "outputs": [
    {
     "data": {
      "image/png": "[encoded data removed]",
      "text/plain": [
       "<Figure size 432x288 with 1 Axes>"
      ]
     },
     "metadata": {},
     "output_type": "display_data"
    }
   ],
   "source": [
    "sns.boxplot(x='age_group', y='stay_length', data=train_engineering)\n",
    "plt.title('Relationship between Age Group and Stay Length')\n",
    "plt.xlabel('Age Group')\n",
    "plt.ylabel('Stay Length')\n",
    "plt.show()"
   ]
  },
  {
   "cell_type": "code",
   "execution_count": 84,
   "id": "97c55391",
   "metadata": {},
   "outputs": [
    {
     "data": {
      "image/png": "[encoded data removed]",
      "text/plain": [
       "<Figure size 720x360 with 1 Axes>"
      ]
     },
     "metadata": {},
     "output_type": "display_data"
    }
   ],
   "source": [
    "train_copy['caucasian'] = train_copy['caucasian'].replace({0: 'Not Caucasian', 1: 'Caucasian'})\n",
    "\n",
    "plt.figure(figsize=(10, 5))\n",
    "\n",
    "plt.subplot(1, 2, 2)\n",
    "sns.violinplot(x='caucasian', y='number_of_medications', data=train_copy)\n",
    "plt.title('Violin Plot - race vs number_of_medications')\n",
    "\n",
    "plt.tight_layout()\n",
    "plt.show()"
   ]
  },
  {
   "cell_type": "markdown",
   "id": "9076ebd5",
   "metadata": {},
   "source": [
    "<hr style=\"border: 1px solid black;\">\n",
    "<a class=\"anchor\" id=\"split2\"></a>\n",
    "\n",
    "# <span style=\"color:black\">7. Split Data into X_train and y_train || X_val and y_val</span>"
   ]
  },
  {
   "cell_type": "code",
   "execution_count": 85,
   "id": "9918c35f",
   "metadata": {},
   "outputs": [],
   "source": [
    "X_train=train_engineering.drop(columns=['readmitted_binary'],axis=1)\n",
    "y_train=train_engineering['readmitted_binary']"
   ]
  },
  {
   "cell_type": "code",
   "execution_count": 86,
   "id": "fe29911c",
   "metadata": {},
   "outputs": [],
   "source": [
    "X_val=val.drop(columns=['readmitted_binary'],axis=1)\n",
    "y_val=val['readmitted_binary']"
   ]
  },
  {
   "cell_type": "code",
   "execution_count": 87,
   "id": "37af419d",
   "metadata": {},
   "outputs": [],
   "source": [
    "X_test=test.copy()"
   ]
  },
  {
   "cell_type": "markdown",
   "id": "e916e52f",
   "metadata": {},
   "source": [
    "<hr style=\"border: 1px solid black;\">\n",
    "<a class=\"anchor\" id=\"enc\"></a>\n",
    "\n",
    "# <span style=\"color:black\">8. Encoding </span>"
   ]
  },
  {
   "cell_type": "markdown",
   "id": "5fcb4a7e",
   "metadata": {},
   "source": [
    "<a class=\"anchor\" id=\"ord\"></a>\n",
    "\n",
    "## <span style=\"color:black\">8.1. Ordinal Encoding </span>"
   ]
  },
  {
   "cell_type": "code",
   "execution_count": 88,
   "id": "c9d1cb4f",
   "metadata": {},
   "outputs": [],
   "source": [
    "columns_to_encode = ['age_group', 'a1c', 'glucose', 'age']\n",
    "\n",
    "a1c_categories = ['Not Available', 'Norm', '>7', '>8']\n",
    "glucose_categories = ['Not Available', 'Norm', '>200', '>300']\n",
    "Age_categories = ['Child', 'Teen', 'Young Adult', 'Adult', 'Elderly']\n",
    "\n",
    "# Mask missing values in 'AgeGroup'\n",
    "mask_train_age = X_train['age_group'].notnull()\n",
    "mask_val_age = X_val['age_group'].notnull()\n",
    "mask_test_age = X_test['age_group'].notnull()\n",
    "\n",
    "encoder_a1c = OrdinalEncoder(categories=[a1c_categories])\n",
    "encoder_glucose = OrdinalEncoder(categories=[glucose_categories])\n",
    "encoder_age = OrdinalEncoder(categories=[Age_categories])\n",
    "\n",
    "# Encode 'a1c' and 'glucose' columns\n",
    "X_train['a1c'] = encoder_a1c.fit_transform(X_train[['a1c']])\n",
    "X_train['glucose'] = encoder_glucose.fit_transform(X_train[['glucose']])\n",
    "\n",
    "X_val['a1c'] = encoder_a1c.transform(X_val[['a1c']])\n",
    "X_val['glucose'] = encoder_glucose.transform(X_val[['glucose']])\n",
    "\n",
    "X_test['a1c'] = encoder_a1c.transform(X_test[['a1c']])\n",
    "X_test['glucose'] = encoder_glucose.transform(X_test[['glucose']])\n",
    "\n",
    "# Encode 'AgeGroup' while maintaining missing values\n",
    "X_train.loc[mask_train_age, 'age_group'] = encoder_age.fit_transform(X_train.loc[mask_train_age, ['age_group']])\n",
    "X_val.loc[mask_val_age, 'age_group'] = encoder_age.transform(X_val.loc[mask_val_age, ['age_group']])\n",
    "X_test.loc[mask_test_age, 'age_group'] = encoder_age.transform(X_test.loc[mask_test_age, ['age_group']])"
   ]
  },
  {
   "cell_type": "code",
   "execution_count": 89,
   "id": "dd6b6a49",
   "metadata": {},
   "outputs": [],
   "source": [
    "age_cat = ['[50-60)', '[60-70)', '[70-80)', '[80-90)', '[30-40)',\n",
    "       '[40-50)', '[90-100)', '[10-20)', '[20-30)', '[0-10)']\n",
    "\n",
    "mask_train_age1 = X_train['age'].notnull()\n",
    "mask_val_age1 = X_val['age'].notnull()\n",
    "mask_test_age1 = X_test['age'].notnull()\n",
    "\n",
    "encoder_age = OrdinalEncoder(categories=[age_cat])\n",
    "\n",
    "X_train.loc[mask_train_age1, 'age'] = encoder_age.fit_transform(X_train.loc[mask_train_age1, ['age']])\n",
    "X_val.loc[mask_val_age1, 'age'] = encoder_age.transform(X_val.loc[mask_val_age1, ['age']])\n",
    "X_test.loc[mask_test_age1, 'age'] = encoder_age.transform(X_test.loc[mask_test_age1, ['age']])"
   ]
  },
  {
   "cell_type": "markdown",
   "id": "65f580a0",
   "metadata": {},
   "source": [
    "<a class=\"anchor\" id=\"ord\"></a>\n",
    "\n",
    "## <span style=\"color:black\">8.2. OneHot Encoder </span>"
   ]
  },
  {
   "cell_type": "code",
   "execution_count": 90,
   "id": "72eda403",
   "metadata": {},
   "outputs": [],
   "source": [
    "# X_trainONEHOT = X_train.copy()\n",
    "# X_valONEHOT = X_val.copy()\n",
    "# testONEHOT=test.copy()"
   ]
  },
  {
   "cell_type": "code",
   "execution_count": 91,
   "id": "01f609b0",
   "metadata": {},
   "outputs": [],
   "source": [
    "# non_metric_features"
   ]
  },
  {
   "cell_type": "code",
   "execution_count": 92,
   "id": "16d5a070",
   "metadata": {},
   "outputs": [],
   "source": [
    "# ohc_feat = ohc.fit_transform(np.array(X_trainONEHOT[columns_to_encode_ONEHOT]))\n",
    "\n",
    "# ohc = OneHotEncoder(sparse=False, drop=\"first\", handle_unknown='ignore')\n",
    "# ohc_feat = ohc.fit_transform(np.array(X_trainONEHOT[columns_to_encode_ONEHOT]))\n",
    "# ohc_feat_names = ohc.get_feature_names_out()\n",
    "# ohc_df = pd.DataFrame(ohc_feat, index=X_trainONEHOT.index, columns=ohc_feat_names)  \n",
    "# ohc_df"
   ]
  },
  {
   "cell_type": "code",
   "execution_count": 93,
   "id": "54e31555",
   "metadata": {},
   "outputs": [],
   "source": [
    "# X_trainONEHOT = pd.concat([X_trainONEHOT.drop(columns= columns_to_encode_ONEHOT), ohc_df], axis=1)\n",
    "# X_trainONEHOT.head()"
   ]
  },
  {
   "cell_type": "code",
   "execution_count": 94,
   "id": "c8015072",
   "metadata": {},
   "outputs": [],
   "source": [
    "# ohc_feat_VAL = ohc.transform(np.array(X_valONEHOT[columns_to_encode_ONEHOT]))\n",
    "# ohc_feat_names_val = ohc.get_feature_names_out()\n",
    "# ohc_df_val = pd.DataFrame(ohc_feat_VAL, index=X_valONEHOT.index, columns=ohc_feat_names_val)  "
   ]
  },
  {
   "cell_type": "code",
   "execution_count": 95,
   "id": "2d5b30c0",
   "metadata": {},
   "outputs": [],
   "source": [
    "# X_valONEHOT = pd.concat([X_valONEHOT.drop(columns= columns_to_encode_ONEHOT), ohc_df_val], axis=1)"
   ]
  },
  {
   "cell_type": "code",
   "execution_count": 96,
   "id": "68599067",
   "metadata": {},
   "outputs": [],
   "source": [
    "# ohc_feat_TEST = ohc.transform(np.array(testONEHOT[columns_to_encode_ONEHOT]))\n",
    "# ohc_feat_names = ohc.get_feature_names_out()\n",
    "# ohc_df_test = pd.DataFrame(ohc_feat_TEST, index=testONEHOT.index, columns=ohc_feat_names)  "
   ]
  },
  {
   "cell_type": "code",
   "execution_count": 97,
   "id": "28dd6905",
   "metadata": {},
   "outputs": [],
   "source": [
    "# testONEHOT = pd.concat([testONEHOT.drop(columns= columns_to_encode_ONEHOT), ohc_df_test], axis=1)"
   ]
  },
  {
   "cell_type": "code",
   "execution_count": 98,
   "id": "a397d743",
   "metadata": {},
   "outputs": [],
   "source": [
    "# X_train = X_trainONEHOT.copy()\n",
    "# X_val = X_valONEHOT.copy()\n",
    "# test = testONEHOT.copy()"
   ]
  },
  {
   "cell_type": "markdown",
   "id": "f81de646",
   "metadata": {},
   "source": [
    "<a class=\"anchor\" id=\"target\"></a>\n",
    "\n",
    "## <span style=\"color:black\">8.3. Target Encoding</span>"
   ]
  },
  {
   "cell_type": "code",
   "execution_count": 99,
   "id": "ab034fb0",
   "metadata": {},
   "outputs": [],
   "source": [
    "columns_to_encode_target = ['race', 'admission_type', 'medical_specialty', 'discharge_disposition', 'admission_source',\n",
    "                     'glucose', 'a1c','medication', 'diag1_type', 'diag2_type', 'diag_add_type', 'payer_code', 'diabetes_type']"
   ]
  },
  {
   "cell_type": "code",
   "execution_count": 100,
   "id": "51c44e54",
   "metadata": {},
   "outputs": [],
   "source": [
    "X_trainTARGET=X_train.copy()\n",
    "X_valTARGET=X_val.copy()\n",
    "X_testTARGET=X_test.copy()"
   ]
  },
  {
   "cell_type": "code",
   "execution_count": 101,
   "id": "bcbe2924",
   "metadata": {},
   "outputs": [],
   "source": [
    "# Create a mask for missing values\n",
    "missing_mask_train = X_trainTARGET[columns_to_encode_target].isnull()\n",
    "missing_mask_val = X_valTARGET[columns_to_encode_target].isnull()\n",
    "missing_mask_test = X_testTARGET[columns_to_encode_target].isnull()\n",
    "\n",
    "# Apply TargetEncoder to non-missing values\n",
    "encoder = ce.TargetEncoder(cols=columns_to_encode_target, smoothing=0.5)\n",
    "X_trainTARGET_encoded = encoder.fit_transform(X_trainTARGET[columns_to_encode_target], y_train)\n",
    "X_valTARGET_encoded = encoder.transform(X_valTARGET[columns_to_encode_target])\n",
    "X_testTARGET_encoded = encoder.transform(X_testTARGET[columns_to_encode_target])\n",
    "\n",
    "# Combine encoded values with missing values\n",
    "X_trainTARGET[columns_to_encode_target] = np.where(missing_mask_train, np.nan, X_trainTARGET_encoded)\n",
    "X_valTARGET[columns_to_encode_target] = np.where(missing_mask_val, np.nan, X_valTARGET_encoded)\n",
    "X_testTARGET[columns_to_encode_target] = np.where(missing_mask_test, np.nan, X_testTARGET_encoded)"
   ]
  },
  {
   "cell_type": "code",
   "execution_count": 102,
   "id": "afbaea30",
   "metadata": {},
   "outputs": [],
   "source": [
    "X_train = X_trainTARGET.copy()\n",
    "X_val = X_valTARGET.copy()\n",
    "X_test = X_testTARGET.copy()"
   ]
  },
  {
   "cell_type": "markdown",
   "id": "6246027f",
   "metadata": {},
   "source": [
    "<hr style=\"border: 1px solid black;\">\n",
    "<a class=\"anchor\" id=\"scal\"></a>\n",
    "\n",
    "# <span style=\"color:black\">9. Data Scaling </span>"
   ]
  },
  {
   "cell_type": "code",
   "execution_count": 103,
   "id": "d217c42d",
   "metadata": {},
   "outputs": [],
   "source": [
    "columns_to_exclude = ['caucasian', 'gender', 'meds_change', 'prescribed_diabetes_meds','insurance']\n",
    "columns_to_scale = [col for col in X_train.columns if col not in columns_to_exclude]"
   ]
  },
  {
   "cell_type": "code",
   "execution_count": 104,
   "id": "ccf3356e",
   "metadata": {},
   "outputs": [],
   "source": [
    "X_train_scale = X_train[columns_to_scale].set_index(X_train.index)\n",
    "X_val_scale = X_val[columns_to_scale].set_index(X_val.index)\n",
    "X_test_scale = X_test[columns_to_scale].set_index(X_test.index)"
   ]
  },
  {
   "cell_type": "markdown",
   "id": "4a4a02a7",
   "metadata": {},
   "source": [
    "<a class=\"anchor\" id=\"minmax\"></a>\n",
    "\n",
    "## <span style=\"color:black\">9.1. MinMax Scaler </span>"
   ]
  },
  {
   "cell_type": "code",
   "execution_count": 105,
   "id": "02c6d35e",
   "metadata": {},
   "outputs": [],
   "source": [
    "#call function\n",
    "scaler = MinMaxScaler()\n",
    "\n",
    "#fit to training data\n",
    "scaler.fit(X_train_scale)\n",
    "\n",
    "#transform the data\n",
    "X_train_minmax = scaler.transform(X_train_scale) # this will return an array\n",
    "\n",
    "# Convert the array to a pandas dataframe\n",
    "X_train_minmax = pd.DataFrame(X_train_minmax, columns = X_train_scale.columns).set_index(X_train.index)\n",
    "X_train_minmax\n",
    "\n",
    "X_val_minmax = scaler.transform(X_val_scale)\n",
    "X_val_minmax = pd.DataFrame(X_val_minmax, columns = X_val_scale.columns).set_index(X_val.index)\n",
    "\n",
    "X_test_minmax = scaler.transform(X_test_scale)\n",
    "X_test_minmax = pd.DataFrame(X_test_minmax, columns = X_test_scale.columns).set_index(X_test.index)\n",
    "\n",
    "X_train[columns_to_scale] = X_train_minmax\n",
    "X_val[columns_to_scale] = X_val_minmax\n",
    "X_test[columns_to_scale] = X_test_minmax"
   ]
  },
  {
   "cell_type": "code",
   "execution_count": 106,
   "id": "9c0fc6f8",
   "metadata": {},
   "outputs": [
    {
     "data": {
      "text/html": [
       "<div>\n",
       "<style scoped>\n",
       "    .dataframe tbody tr th:only-of-type {\n",
       "        vertical-align: middle;\n",
       "    }\n",
       "\n",
       "    .dataframe tbody tr th {\n",
       "        vertical-align: top;\n",
       "    }\n",
       "\n",
       "    .dataframe thead th {\n",
       "        text-align: right;\n",
       "    }\n",
       "</style>\n",
       "<table border=\"1\" class=\"dataframe\">\n",
       "  <thead>\n",
       "    <tr style=\"text-align: right;\">\n",
       "      <th></th>\n",
       "      <th>count</th>\n",
       "      <th>mean</th>\n",
       "      <th>std</th>\n",
       "      <th>min</th>\n",
       "      <th>25%</th>\n",
       "      <th>50%</th>\n",
       "      <th>75%</th>\n",
       "      <th>max</th>\n",
       "    </tr>\n",
       "  </thead>\n",
       "  <tbody>\n",
       "    <tr>\n",
       "      <th>race</th>\n",
       "      <td>45048.0</td>\n",
       "      <td>0.955736</td>\n",
       "      <td>0.132108</td>\n",
       "      <td>0.0</td>\n",
       "      <td>1.000000</td>\n",
       "      <td>1.000000</td>\n",
       "      <td>1.000000</td>\n",
       "      <td>1.0</td>\n",
       "    </tr>\n",
       "    <tr>\n",
       "      <th>gender</th>\n",
       "      <td>48479.0</td>\n",
       "      <td>0.536294</td>\n",
       "      <td>0.498686</td>\n",
       "      <td>0.0</td>\n",
       "      <td>0.000000</td>\n",
       "      <td>1.000000</td>\n",
       "      <td>1.000000</td>\n",
       "      <td>1.0</td>\n",
       "    </tr>\n",
       "    <tr>\n",
       "      <th>age</th>\n",
       "      <td>46062.0</td>\n",
       "      <td>0.245806</td>\n",
       "      <td>0.199104</td>\n",
       "      <td>0.0</td>\n",
       "      <td>0.111111</td>\n",
       "      <td>0.222222</td>\n",
       "      <td>0.333333</td>\n",
       "      <td>1.0</td>\n",
       "    </tr>\n",
       "    <tr>\n",
       "      <th>payer_code</th>\n",
       "      <td>48482.0</td>\n",
       "      <td>0.710243</td>\n",
       "      <td>0.112020</td>\n",
       "      <td>0.0</td>\n",
       "      <td>0.732072</td>\n",
       "      <td>0.745790</td>\n",
       "      <td>0.793481</td>\n",
       "      <td>1.0</td>\n",
       "    </tr>\n",
       "    <tr>\n",
       "      <th>outpatient</th>\n",
       "      <td>48482.0</td>\n",
       "      <td>0.018542</td>\n",
       "      <td>0.058752</td>\n",
       "      <td>0.0</td>\n",
       "      <td>0.000000</td>\n",
       "      <td>0.000000</td>\n",
       "      <td>0.000000</td>\n",
       "      <td>1.0</td>\n",
       "    </tr>\n",
       "    <tr>\n",
       "      <th>emergency</th>\n",
       "      <td>48482.0</td>\n",
       "      <td>0.013053</td>\n",
       "      <td>0.049980</td>\n",
       "      <td>0.0</td>\n",
       "      <td>0.000000</td>\n",
       "      <td>0.000000</td>\n",
       "      <td>0.000000</td>\n",
       "      <td>1.0</td>\n",
       "    </tr>\n",
       "    <tr>\n",
       "      <th>inpatient</th>\n",
       "      <td>48482.0</td>\n",
       "      <td>0.068248</td>\n",
       "      <td>0.129025</td>\n",
       "      <td>0.0</td>\n",
       "      <td>0.000000</td>\n",
       "      <td>0.000000</td>\n",
       "      <td>0.111111</td>\n",
       "      <td>1.0</td>\n",
       "    </tr>\n",
       "    <tr>\n",
       "      <th>admission_type</th>\n",
       "      <td>48482.0</td>\n",
       "      <td>0.681509</td>\n",
       "      <td>0.381736</td>\n",
       "      <td>0.0</td>\n",
       "      <td>0.520479</td>\n",
       "      <td>1.000000</td>\n",
       "      <td>1.000000</td>\n",
       "      <td>1.0</td>\n",
       "    </tr>\n",
       "    <tr>\n",
       "      <th>medical_specialty</th>\n",
       "      <td>48482.0</td>\n",
       "      <td>0.652800</td>\n",
       "      <td>0.069063</td>\n",
       "      <td>0.0</td>\n",
       "      <td>0.638485</td>\n",
       "      <td>0.678178</td>\n",
       "      <td>0.678178</td>\n",
       "      <td>1.0</td>\n",
       "    </tr>\n",
       "    <tr>\n",
       "      <th>avg_bpm</th>\n",
       "      <td>48482.0</td>\n",
       "      <td>0.501076</td>\n",
       "      <td>0.291118</td>\n",
       "      <td>0.0</td>\n",
       "      <td>0.253165</td>\n",
       "      <td>0.506329</td>\n",
       "      <td>0.746835</td>\n",
       "      <td>1.0</td>\n",
       "    </tr>\n",
       "    <tr>\n",
       "      <th>discharge_disposition</th>\n",
       "      <td>46700.0</td>\n",
       "      <td>0.201677</td>\n",
       "      <td>0.085603</td>\n",
       "      <td>0.0</td>\n",
       "      <td>0.154892</td>\n",
       "      <td>0.154892</td>\n",
       "      <td>0.238033</td>\n",
       "      <td>1.0</td>\n",
       "    </tr>\n",
       "    <tr>\n",
       "      <th>admission_source</th>\n",
       "      <td>48482.0</td>\n",
       "      <td>0.276019</td>\n",
       "      <td>0.097328</td>\n",
       "      <td>0.0</td>\n",
       "      <td>0.196052</td>\n",
       "      <td>0.341063</td>\n",
       "      <td>0.341063</td>\n",
       "      <td>1.0</td>\n",
       "    </tr>\n",
       "    <tr>\n",
       "      <th>stay_length</th>\n",
       "      <td>48482.0</td>\n",
       "      <td>0.259895</td>\n",
       "      <td>0.228431</td>\n",
       "      <td>0.0</td>\n",
       "      <td>0.076923</td>\n",
       "      <td>0.230769</td>\n",
       "      <td>0.384615</td>\n",
       "      <td>1.0</td>\n",
       "    </tr>\n",
       "    <tr>\n",
       "      <th>number_lab_tests</th>\n",
       "      <td>48482.0</td>\n",
       "      <td>0.349113</td>\n",
       "      <td>0.163306</td>\n",
       "      <td>0.0</td>\n",
       "      <td>0.250000</td>\n",
       "      <td>0.358333</td>\n",
       "      <td>0.466667</td>\n",
       "      <td>1.0</td>\n",
       "    </tr>\n",
       "    <tr>\n",
       "      <th>non_lab_procedures</th>\n",
       "      <td>48482.0</td>\n",
       "      <td>0.220673</td>\n",
       "      <td>0.281828</td>\n",
       "      <td>0.0</td>\n",
       "      <td>0.000000</td>\n",
       "      <td>0.166667</td>\n",
       "      <td>0.333333</td>\n",
       "      <td>1.0</td>\n",
       "    </tr>\n",
       "    <tr>\n",
       "      <th>number_of_medications</th>\n",
       "      <td>48482.0</td>\n",
       "      <td>0.307897</td>\n",
       "      <td>0.158344</td>\n",
       "      <td>0.0</td>\n",
       "      <td>0.187500</td>\n",
       "      <td>0.291667</td>\n",
       "      <td>0.395833</td>\n",
       "      <td>1.0</td>\n",
       "    </tr>\n",
       "    <tr>\n",
       "      <th>number_diagnoses</th>\n",
       "      <td>48482.0</td>\n",
       "      <td>0.492715</td>\n",
       "      <td>0.172747</td>\n",
       "      <td>0.0</td>\n",
       "      <td>0.363636</td>\n",
       "      <td>0.545455</td>\n",
       "      <td>0.636364</td>\n",
       "      <td>1.0</td>\n",
       "    </tr>\n",
       "    <tr>\n",
       "      <th>glucose</th>\n",
       "      <td>48482.0</td>\n",
       "      <td>0.033975</td>\n",
       "      <td>0.152351</td>\n",
       "      <td>0.0</td>\n",
       "      <td>0.000000</td>\n",
       "      <td>0.000000</td>\n",
       "      <td>0.000000</td>\n",
       "      <td>1.0</td>\n",
       "    </tr>\n",
       "    <tr>\n",
       "      <th>a1c</th>\n",
       "      <td>48482.0</td>\n",
       "      <td>0.851254</td>\n",
       "      <td>0.335628</td>\n",
       "      <td>0.0</td>\n",
       "      <td>1.000000</td>\n",
       "      <td>1.000000</td>\n",
       "      <td>1.000000</td>\n",
       "      <td>1.0</td>\n",
       "    </tr>\n",
       "    <tr>\n",
       "      <th>meds_change</th>\n",
       "      <td>48482.0</td>\n",
       "      <td>0.460253</td>\n",
       "      <td>0.498423</td>\n",
       "      <td>0.0</td>\n",
       "      <td>0.000000</td>\n",
       "      <td>0.000000</td>\n",
       "      <td>1.000000</td>\n",
       "      <td>1.0</td>\n",
       "    </tr>\n",
       "    <tr>\n",
       "      <th>prescribed_diabetes_meds</th>\n",
       "      <td>48482.0</td>\n",
       "      <td>0.771276</td>\n",
       "      <td>0.420015</td>\n",
       "      <td>0.0</td>\n",
       "      <td>1.000000</td>\n",
       "      <td>1.000000</td>\n",
       "      <td>1.000000</td>\n",
       "      <td>1.0</td>\n",
       "    </tr>\n",
       "    <tr>\n",
       "      <th>medication</th>\n",
       "      <td>48482.0</td>\n",
       "      <td>0.471114</td>\n",
       "      <td>0.083402</td>\n",
       "      <td>0.0</td>\n",
       "      <td>0.415963</td>\n",
       "      <td>0.465183</td>\n",
       "      <td>0.549814</td>\n",
       "      <td>1.0</td>\n",
       "    </tr>\n",
       "    <tr>\n",
       "      <th>insurance</th>\n",
       "      <td>48482.0</td>\n",
       "      <td>0.603152</td>\n",
       "      <td>0.489249</td>\n",
       "      <td>0.0</td>\n",
       "      <td>0.000000</td>\n",
       "      <td>1.000000</td>\n",
       "      <td>1.000000</td>\n",
       "      <td>1.0</td>\n",
       "    </tr>\n",
       "    <tr>\n",
       "      <th>caucasian</th>\n",
       "      <td>48482.0</td>\n",
       "      <td>0.710738</td>\n",
       "      <td>0.453424</td>\n",
       "      <td>0.0</td>\n",
       "      <td>0.000000</td>\n",
       "      <td>1.000000</td>\n",
       "      <td>1.000000</td>\n",
       "      <td>1.0</td>\n",
       "    </tr>\n",
       "    <tr>\n",
       "      <th>diagnosis_count</th>\n",
       "      <td>48482.0</td>\n",
       "      <td>0.999794</td>\n",
       "      <td>0.014360</td>\n",
       "      <td>0.0</td>\n",
       "      <td>1.000000</td>\n",
       "      <td>1.000000</td>\n",
       "      <td>1.000000</td>\n",
       "      <td>1.0</td>\n",
       "    </tr>\n",
       "    <tr>\n",
       "      <th>diabetes_type</th>\n",
       "      <td>48482.0</td>\n",
       "      <td>0.409082</td>\n",
       "      <td>0.397116</td>\n",
       "      <td>0.0</td>\n",
       "      <td>0.232018</td>\n",
       "      <td>0.232018</td>\n",
       "      <td>1.000000</td>\n",
       "      <td>1.0</td>\n",
       "    </tr>\n",
       "    <tr>\n",
       "      <th>total_procedures</th>\n",
       "      <td>48482.0</td>\n",
       "      <td>0.342997</td>\n",
       "      <td>0.156650</td>\n",
       "      <td>0.0</td>\n",
       "      <td>0.253968</td>\n",
       "      <td>0.349206</td>\n",
       "      <td>0.452381</td>\n",
       "      <td>1.0</td>\n",
       "    </tr>\n",
       "    <tr>\n",
       "      <th>total_visits</th>\n",
       "      <td>48482.0</td>\n",
       "      <td>0.052240</td>\n",
       "      <td>0.090952</td>\n",
       "      <td>0.0</td>\n",
       "      <td>0.000000</td>\n",
       "      <td>0.000000</td>\n",
       "      <td>0.090909</td>\n",
       "      <td>1.0</td>\n",
       "    </tr>\n",
       "    <tr>\n",
       "      <th>age_group</th>\n",
       "      <td>46062.0</td>\n",
       "      <td>0.911212</td>\n",
       "      <td>0.139322</td>\n",
       "      <td>0.0</td>\n",
       "      <td>0.750000</td>\n",
       "      <td>1.000000</td>\n",
       "      <td>1.000000</td>\n",
       "      <td>1.0</td>\n",
       "    </tr>\n",
       "    <tr>\n",
       "      <th>encounter_count</th>\n",
       "      <td>48482.0</td>\n",
       "      <td>0.049259</td>\n",
       "      <td>0.096837</td>\n",
       "      <td>0.0</td>\n",
       "      <td>0.000000</td>\n",
       "      <td>0.000000</td>\n",
       "      <td>0.083333</td>\n",
       "      <td>1.0</td>\n",
       "    </tr>\n",
       "    <tr>\n",
       "      <th>avg_length_of_stay</th>\n",
       "      <td>48482.0</td>\n",
       "      <td>0.259895</td>\n",
       "      <td>0.209614</td>\n",
       "      <td>0.0</td>\n",
       "      <td>0.076923</td>\n",
       "      <td>0.230769</td>\n",
       "      <td>0.384615</td>\n",
       "      <td>1.0</td>\n",
       "    </tr>\n",
       "    <tr>\n",
       "      <th>total_visits_pp</th>\n",
       "      <td>48482.0</td>\n",
       "      <td>0.022154</td>\n",
       "      <td>0.058197</td>\n",
       "      <td>0.0</td>\n",
       "      <td>0.000000</td>\n",
       "      <td>0.007692</td>\n",
       "      <td>0.023077</td>\n",
       "      <td>1.0</td>\n",
       "    </tr>\n",
       "    <tr>\n",
       "      <th>diag1_type</th>\n",
       "      <td>48472.0</td>\n",
       "      <td>0.530905</td>\n",
       "      <td>0.137657</td>\n",
       "      <td>0.0</td>\n",
       "      <td>0.461766</td>\n",
       "      <td>0.569467</td>\n",
       "      <td>0.591989</td>\n",
       "      <td>1.0</td>\n",
       "    </tr>\n",
       "    <tr>\n",
       "      <th>diag2_type</th>\n",
       "      <td>48482.0</td>\n",
       "      <td>0.629798</td>\n",
       "      <td>0.100494</td>\n",
       "      <td>0.0</td>\n",
       "      <td>0.574890</td>\n",
       "      <td>0.633743</td>\n",
       "      <td>0.640763</td>\n",
       "      <td>1.0</td>\n",
       "    </tr>\n",
       "    <tr>\n",
       "      <th>diag_add_type</th>\n",
       "      <td>48482.0</td>\n",
       "      <td>0.635477</td>\n",
       "      <td>0.110062</td>\n",
       "      <td>0.0</td>\n",
       "      <td>0.579535</td>\n",
       "      <td>0.606310</td>\n",
       "      <td>0.667883</td>\n",
       "      <td>1.0</td>\n",
       "    </tr>\n",
       "  </tbody>\n",
       "</table>\n",
       "</div>"
      ],
      "text/plain": [
       "                            count      mean       std  min       25%  \\\n",
       "race                      45048.0  0.955736  0.132108  0.0  1.000000   \n",
       "gender                    48479.0  0.536294  0.498686  0.0  0.000000   \n",
       "age                       46062.0  0.245806  0.199104  0.0  0.111111   \n",
       "payer_code                48482.0  0.710243  0.112020  0.0  0.732072   \n",
       "outpatient                48482.0  0.018542  0.058752  0.0  0.000000   \n",
       "emergency                 48482.0  0.013053  0.049980  0.0  0.000000   \n",
       "inpatient                 48482.0  0.068248  0.129025  0.0  0.000000   \n",
       "admission_type            48482.0  0.681509  0.381736  0.0  0.520479   \n",
       "medical_specialty         48482.0  0.652800  0.069063  0.0  0.638485   \n",
       "avg_bpm                   48482.0  0.501076  0.291118  0.0  0.253165   \n",
       "discharge_disposition     46700.0  0.201677  0.085603  0.0  0.154892   \n",
       "admission_source          48482.0  0.276019  0.097328  0.0  0.196052   \n",
       "stay_length               48482.0  0.259895  0.228431  0.0  0.076923   \n",
       "number_lab_tests          48482.0  0.349113  0.163306  0.0  0.250000   \n",
       "non_lab_procedures        48482.0  0.220673  0.281828  0.0  0.000000   \n",
       "number_of_medications     48482.0  0.307897  0.158344  0.0  0.187500   \n",
       "number_diagnoses          48482.0  0.492715  0.172747  0.0  0.363636   \n",
       "glucose                   48482.0  0.033975  0.152351  0.0  0.000000   \n",
       "a1c                       48482.0  0.851254  0.335628  0.0  1.000000   \n",
       "meds_change               48482.0  0.460253  0.498423  0.0  0.000000   \n",
       "prescribed_diabetes_meds  48482.0  0.771276  0.420015  0.0  1.000000   \n",
       "medication                48482.0  0.471114  0.083402  0.0  0.415963   \n",
       "insurance                 48482.0  0.603152  0.489249  0.0  0.000000   \n",
       "caucasian                 48482.0  0.710738  0.453424  0.0  0.000000   \n",
       "diagnosis_count           48482.0  0.999794  0.014360  0.0  1.000000   \n",
       "diabetes_type             48482.0  0.409082  0.397116  0.0  0.232018   \n",
       "total_procedures          48482.0  0.342997  0.156650  0.0  0.253968   \n",
       "total_visits              48482.0  0.052240  0.090952  0.0  0.000000   \n",
       "age_group                 46062.0  0.911212  0.139322  0.0  0.750000   \n",
       "encounter_count           48482.0  0.049259  0.096837  0.0  0.000000   \n",
       "avg_length_of_stay        48482.0  0.259895  0.209614  0.0  0.076923   \n",
       "total_visits_pp           48482.0  0.022154  0.058197  0.0  0.000000   \n",
       "diag1_type                48472.0  0.530905  0.137657  0.0  0.461766   \n",
       "diag2_type                48482.0  0.629798  0.100494  0.0  0.574890   \n",
       "diag_add_type             48482.0  0.635477  0.110062  0.0  0.579535   \n",
       "\n",
       "                               50%       75%  max  \n",
       "race                      1.000000  1.000000  1.0  \n",
       "gender                    1.000000  1.000000  1.0  \n",
       "age                       0.222222  0.333333  1.0  \n",
       "payer_code                0.745790  0.793481  1.0  \n",
       "outpatient                0.000000  0.000000  1.0  \n",
       "emergency                 0.000000  0.000000  1.0  \n",
       "inpatient                 0.000000  0.111111  1.0  \n",
       "admission_type            1.000000  1.000000  1.0  \n",
       "medical_specialty         0.678178  0.678178  1.0  \n",
       "avg_bpm                   0.506329  0.746835  1.0  \n",
       "discharge_disposition     0.154892  0.238033  1.0  \n",
       "admission_source          0.341063  0.341063  1.0  \n",
       "stay_length               0.230769  0.384615  1.0  \n",
       "number_lab_tests          0.358333  0.466667  1.0  \n",
       "non_lab_procedures        0.166667  0.333333  1.0  \n",
       "number_of_medications     0.291667  0.395833  1.0  \n",
       "number_diagnoses          0.545455  0.636364  1.0  \n",
       "glucose                   0.000000  0.000000  1.0  \n",
       "a1c                       1.000000  1.000000  1.0  \n",
       "meds_change               0.000000  1.000000  1.0  \n",
       "prescribed_diabetes_meds  1.000000  1.000000  1.0  \n",
       "medication                0.465183  0.549814  1.0  \n",
       "insurance                 1.000000  1.000000  1.0  \n",
       "caucasian                 1.000000  1.000000  1.0  \n",
       "diagnosis_count           1.000000  1.000000  1.0  \n",
       "diabetes_type             0.232018  1.000000  1.0  \n",
       "total_procedures          0.349206  0.452381  1.0  \n",
       "total_visits              0.000000  0.090909  1.0  \n",
       "age_group                 1.000000  1.000000  1.0  \n",
       "encounter_count           0.000000  0.083333  1.0  \n",
       "avg_length_of_stay        0.230769  0.384615  1.0  \n",
       "total_visits_pp           0.007692  0.023077  1.0  \n",
       "diag1_type                0.569467  0.591989  1.0  \n",
       "diag2_type                0.633743  0.640763  1.0  \n",
       "diag_add_type             0.606310  0.667883  1.0  "
      ]
     },
     "execution_count": 106,
     "metadata": {},
     "output_type": "execute_result"
    }
   ],
   "source": [
    "X_train.describe().T"
   ]
  },
  {
   "cell_type": "markdown",
   "id": "b019d5ab",
   "metadata": {},
   "source": [
    "<a class=\"anchor\" id=\"std\"></a>\n",
    "\n",
    "## <span style=\"color:black\">9.2. Standard Scaler </span>"
   ]
  },
  {
   "cell_type": "code",
   "execution_count": 107,
   "id": "293648b6",
   "metadata": {},
   "outputs": [],
   "source": [
    "# #call function\n",
    "# scaler = StandardScaler()\n",
    "\n",
    "# #fit to training data\n",
    "# scaler.fit(X_train_scale)\n",
    "\n",
    "# #transform the data\n",
    "# X_train_standard = scaler.transform(X_train_scale) \n",
    "# X_train_standard = pd.DataFrame(X_train_standard, columns = X_train_scale.columns).set_index(X_train.index)\n",
    "\n",
    "# X_val_standard = scaler.transform(X_val_scale)\n",
    "# X_val_standard = pd.DataFrame(X_val_standard, columns = X_val_scale.columns).set_index(X_val.index)"
   ]
  },
  {
   "cell_type": "markdown",
   "id": "319058b1",
   "metadata": {},
   "source": [
    "<hr style=\"border: 1px solid black;\">\n",
    "<a class=\"anchor\" id=\"miss\"></a>\n",
    "\n",
    "# <span style=\"color:black\">10. Missing Values </span>"
   ]
  },
  {
   "cell_type": "markdown",
   "id": "e70eb21c",
   "metadata": {},
   "source": [
    "<a class=\"anchor\" id=\"knn\"></a>\n",
    "\n",
    "## <span style=\"color:black\">10.1. KNN imputation </span>"
   ]
  },
  {
   "cell_type": "code",
   "execution_count": 108,
   "id": "74e9e6ed",
   "metadata": {},
   "outputs": [
    {
     "data": {
      "text/plain": [
       "race                        7.08\n",
       "gender                      0.01\n",
       "age                         4.99\n",
       "payer_code                  0.00\n",
       "outpatient                  0.00\n",
       "emergency                   0.00\n",
       "inpatient                   0.00\n",
       "admission_type              0.00\n",
       "medical_specialty           0.00\n",
       "avg_bpm                     0.00\n",
       "discharge_disposition       3.68\n",
       "admission_source            0.00\n",
       "stay_length                 0.00\n",
       "number_lab_tests            0.00\n",
       "non_lab_procedures          0.00\n",
       "number_of_medications       0.00\n",
       "number_diagnoses            0.00\n",
       "glucose                     0.00\n",
       "a1c                         0.00\n",
       "meds_change                 0.00\n",
       "prescribed_diabetes_meds    0.00\n",
       "medication                  0.00\n",
       "insurance                   0.00\n",
       "caucasian                   0.00\n",
       "diagnosis_count             0.00\n",
       "diabetes_type               0.00\n",
       "total_procedures            0.00\n",
       "total_visits                0.00\n",
       "age_group                   4.99\n",
       "encounter_count             0.00\n",
       "avg_length_of_stay          0.00\n",
       "total_visits_pp             0.00\n",
       "diag1_type                  0.02\n",
       "diag2_type                  0.00\n",
       "diag_add_type               0.00\n",
       "dtype: float64"
      ]
     },
     "execution_count": 108,
     "metadata": {},
     "output_type": "execute_result"
    }
   ],
   "source": [
    "round(X_train.isna().sum()/len(X_train),4)*100"
   ]
  },
  {
   "cell_type": "code",
   "execution_count": 109,
   "id": "0a738298",
   "metadata": {},
   "outputs": [],
   "source": [
    "columns_with_missing = ['race', 'diag1_type', 'caucasian', 'gender', 'age_group', 'discharge_disposition', 'age' ]\n",
    "\n",
    "imputer = KNNImputer(n_neighbors=5)\n",
    "\n",
    "X_train[columns_with_missing] = imputer.fit_transform(X_train[columns_with_missing])\n",
    "X_val[columns_with_missing] = imputer.transform(X_val[columns_with_missing])\n",
    "X_test[columns_with_missing] = imputer.transform(X_test[columns_with_missing])"
   ]
  },
  {
   "cell_type": "markdown",
   "id": "cc38178e",
   "metadata": {},
   "source": [
    "<hr style=\"border: 1px solid black;\">\n",
    "<a class=\"anchor\" id=\"res\"></a>\n",
    "\n",
    "# <span style=\"color:black\">11. Re-sampling Techniques for Imbalanced Classification </span>"
   ]
  },
  {
   "cell_type": "code",
   "execution_count": 110,
   "id": "5e2149f6",
   "metadata": {},
   "outputs": [],
   "source": [
    "X_train_no_res = X_train.copy()\n",
    "y_train_no_res = y_train.copy()"
   ]
  },
  {
   "cell_type": "code",
   "execution_count": 111,
   "id": "bd68669c",
   "metadata": {},
   "outputs": [
    {
     "data": {
      "text/plain": [
       "0    88.703024\n",
       "1    11.296976\n",
       "Name: readmitted_binary, dtype: float64"
      ]
     },
     "execution_count": 111,
     "metadata": {},
     "output_type": "execute_result"
    }
   ],
   "source": [
    "(y_train_no_res.value_counts()/len(y_train))*100"
   ]
  },
  {
   "cell_type": "markdown",
   "id": "2cd9f920",
   "metadata": {},
   "source": [
    "<a class=\"anchor\" id=\"SNC\"></a>\n",
    "\n",
    "## <span style=\"color:black\">11.1. SmoteNC </span>"
   ]
  },
  {
   "cell_type": "code",
   "execution_count": 112,
   "id": "c3514161",
   "metadata": {},
   "outputs": [],
   "source": [
    "# # Initialize SMOTE-NC and apply it to the training data only\n",
    "# smote_nc = SMOTENC(categorical_features = non_metric_features, random_state=42)\n",
    "# X_train, y_train=smote_nc.fit_resample(X_train, y_train)\n",
    "# print(Counter(y_train))"
   ]
  },
  {
   "cell_type": "markdown",
   "id": "a6f1c336",
   "metadata": {},
   "source": [
    "<a class=\"anchor\" id=\"SNN\"></a>\n",
    "\n",
    "## <span style=\"color:black\">11.2. SmoteNN </span>"
   ]
  },
  {
   "cell_type": "code",
   "execution_count": 113,
   "id": "e1525c04",
   "metadata": {},
   "outputs": [],
   "source": [
    "# smoteenn = SMOTEENN(random_state=42)\n",
    "# X_train_resampled, y_train_resampled = smoteenn.fit_resample(X_train,y_train)"
   ]
  },
  {
   "cell_type": "markdown",
   "id": "5257d641",
   "metadata": {},
   "source": [
    "<a class=\"anchor\" id=\"STK\"></a>\n",
    "\n",
    "## <span style=\"color:black\">11.3. SmoteTomek </span>"
   ]
  },
  {
   "cell_type": "code",
   "execution_count": 114,
   "id": "891c14fb",
   "metadata": {},
   "outputs": [],
   "source": [
    "# from imblearn.combine import SMOTETomek\n",
    "# smote_tomek = SMOTETomek(random_state=42)\n",
    "# X_train, y_train = smote_tomek.fit_resample(X_train, y_train)\n",
    "# print(Counter(y_train))"
   ]
  },
  {
   "cell_type": "markdown",
   "id": "07d5a568",
   "metadata": {},
   "source": [
    "<a class=\"anchor\" id=\"under\"></a>\n",
    "\n",
    "## <span style=\"color:black\">11.4. Undersampling </span>"
   ]
  },
  {
   "cell_type": "code",
   "execution_count": 115,
   "id": "9b7742a7",
   "metadata": {},
   "outputs": [],
   "source": [
    "undersampler = RandomUnderSampler(sampling_strategy='auto', random_state=42)\n",
    "X_train, y_train = undersampler.fit_resample(X_train,y_train)"
   ]
  },
  {
   "cell_type": "code",
   "execution_count": 116,
   "id": "6f154437",
   "metadata": {},
   "outputs": [
    {
     "data": {
      "text/plain": [
       "0    50.0\n",
       "1    50.0\n",
       "Name: readmitted_binary, dtype: float64"
      ]
     },
     "execution_count": 116,
     "metadata": {},
     "output_type": "execute_result"
    }
   ],
   "source": [
    "(y_train.value_counts()/len(y_train))*100"
   ]
  },
  {
   "cell_type": "markdown",
   "id": "1e125c1e",
   "metadata": {},
   "source": [
    "<a class=\"anchor\" id=\"over\"></a>\n",
    "\n",
    "## <span style=\"color:black\">11.5. Oversampling </span>"
   ]
  },
  {
   "cell_type": "code",
   "execution_count": 117,
   "id": "5d4a14a2",
   "metadata": {},
   "outputs": [],
   "source": [
    "# # define undersample strategy\n",
    "# oversample = RandomOverSampler(sampling_strategy='minority')\n",
    "# # fit and apply the transform\n",
    "# X_train, y_train = oversample.fit_resample(X_train, y_train)\n",
    "# # summarize class distribution\n",
    "# print(Counter(y_train))"
   ]
  },
  {
   "cell_type": "markdown",
   "id": "53a100fa",
   "metadata": {},
   "source": [
    "<a class=\"anchor\" id=\"undov\"></a>\n",
    "\n",
    "## <span style=\"color:black\">11.6. Undersampling and Oversampling </span>"
   ]
  },
  {
   "cell_type": "code",
   "execution_count": 118,
   "id": "7fccc054",
   "metadata": {},
   "outputs": [],
   "source": [
    "# # define resampling\n",
    "# over = RandomOverSampler(sampling_strategy=0.1)\n",
    "# under = RandomUnderSampler(sampling_strategy=0.5)\n",
    "# pipeline = Pipeline(steps=[('o', over), ('u', under)])\n",
    "# X_train, y_train = pipeline.fit_resample(X_train, y_train)"
   ]
  },
  {
   "cell_type": "markdown",
   "id": "6db72851",
   "metadata": {},
   "source": [
    "<hr style=\"border: 1px solid black;\">\n",
    "<a class=\"anchor\" id=\"fs\"></a>\n",
    "\n",
    "# <span style=\"color:black\">12. Feature Selection </span>"
   ]
  },
  {
   "cell_type": "markdown",
   "id": "4cc77dec",
   "metadata": {},
   "source": [
    "<a class=\"anchor\" id=\"sp\"></a>\n",
    "\n",
    "## <span style=\"color:black\">12.1. Spearman Correlation </span>"
   ]
  },
  {
   "cell_type": "code",
   "execution_count": 119,
   "id": "12dcea20",
   "metadata": {},
   "outputs": [
    {
     "data": {
      "image/png": "[encoded data removed]",
      "text/plain": [
       "<Figure size 864x720 with 2 Axes>"
      ]
     },
     "metadata": {},
     "output_type": "display_data"
    }
   ],
   "source": [
    "cor_spearman = train_engineering[metric_features].corr(method ='spearman')\n",
    "cor_spearman\n",
    "\n",
    "def cor_heatmap(cor):\n",
    "    plt.figure(figsize=(12,10))\n",
    "    sns.heatmap(data = cor, annot = True, cmap = \"Blues\", fmt='.1')\n",
    "    plt.show()\n",
    "\n",
    "cor_heatmap(cor_spearman)"
   ]
  },
  {
   "cell_type": "markdown",
   "id": "6b1842b6",
   "metadata": {},
   "source": [
    "<a class=\"anchor\" id=\"cs\"></a>\n",
    "\n",
    "## <span style=\"color:black\">12.2. Chi-Square </span>"
   ]
  },
  {
   "cell_type": "markdown",
   "id": "efdcfa4e",
   "metadata": {},
   "source": [
    "Dividing train into categorical and numeric."
   ]
  },
  {
   "cell_type": "code",
   "execution_count": 120,
   "id": "b8b094b6",
   "metadata": {},
   "outputs": [],
   "source": [
    "train_num = X_train[metric_features].set_index(X_train.index)\n",
    "train_cat = X_train[non_metric_features].set_index(X_train.index)"
   ]
  },
  {
   "cell_type": "code",
   "execution_count": 121,
   "id": "01224a6b",
   "metadata": {},
   "outputs": [
    {
     "data": {
      "text/plain": [
       "Index(['race', 'gender', 'age', 'payer_code', 'admission_type',\n",
       "       'medical_specialty', 'discharge_disposition', 'admission_source',\n",
       "       'glucose', 'a1c', 'meds_change', 'prescribed_diabetes_meds',\n",
       "       'medication', 'insurance', 'caucasian', 'diabetes_type', 'age_group',\n",
       "       'diag1_type', 'diag2_type', 'diag_add_type'],\n",
       "      dtype='object')"
      ]
     },
     "execution_count": 121,
     "metadata": {},
     "output_type": "execute_result"
    }
   ],
   "source": [
    "train_cat.columns"
   ]
  },
  {
   "cell_type": "code",
   "execution_count": 122,
   "id": "28e27e4e",
   "metadata": {},
   "outputs": [
    {
     "name": "stdout",
     "output_type": "stream",
     "text": [
      "race is IMPORTANT for Prediction\n",
      "gender is NOT an important predictor. (Discard gender from model)\n",
      "age is IMPORTANT for Prediction\n",
      "payer_code is IMPORTANT for Prediction\n",
      "admission_type is NOT an important predictor. (Discard admission_type from model)\n",
      "medical_specialty is IMPORTANT for Prediction\n",
      "discharge_disposition is IMPORTANT for Prediction\n",
      "admission_source is NOT an important predictor. (Discard admission_source from model)\n",
      "glucose is NOT an important predictor. (Discard glucose from model)\n",
      "a1c is NOT an important predictor. (Discard a1c from model)\n",
      "meds_change is NOT an important predictor. (Discard meds_change from model)\n",
      "prescribed_diabetes_meds is IMPORTANT for Prediction\n",
      "medication is IMPORTANT for Prediction\n",
      "insurance is NOT an important predictor. (Discard insurance from model)\n",
      "caucasian is NOT an important predictor. (Discard caucasian from model)\n",
      "diabetes_type is IMPORTANT for Prediction\n",
      "age_group is IMPORTANT for Prediction\n",
      "diag1_type is IMPORTANT for Prediction\n",
      "diag2_type is IMPORTANT for Prediction\n",
      "diag_add_type is IMPORTANT for Prediction\n"
     ]
    }
   ],
   "source": [
    "def TestIndependence(X,y,var,alpha=0.05):        \n",
    "    dfObserved = pd.crosstab(y,X) \n",
    "    chi2, p, dof, expected = stats.chi2_contingency(dfObserved.values)\n",
    "    dfExpected = pd.DataFrame(expected, columns=dfObserved.columns, index = dfObserved.index)\n",
    "    if p<alpha:\n",
    "        result=\"{0} is IMPORTANT for Prediction\".format(var)\n",
    "    else:\n",
    "        result=\"{0} is NOT an important predictor. (Discard {0} from model)\".format(var)\n",
    "    print(result)\n",
    "\n",
    "for var in train_cat:\n",
    "    TestIndependence(train_cat[var],y_train,var)"
   ]
  },
  {
   "cell_type": "markdown",
   "id": "fb656367",
   "metadata": {},
   "source": [
    "<a class=\"anchor\" id=\"rfe\"></a>\n",
    "\n",
    "## <span style=\"color:black\">12.3. Recursive Feature Elimination - RFE </span>"
   ]
  },
  {
   "cell_type": "code",
   "execution_count": 123,
   "id": "bd54f52a",
   "metadata": {},
   "outputs": [
    {
     "name": "stdout",
     "output_type": "stream",
     "text": [
      "Optimum number of features: 7\n",
      "F1 score with 7 features: 0.292521\n"
     ]
    }
   ],
   "source": [
    "nof_list = np.arange(1, X_train.shape[1])\n",
    "high_score = 0\n",
    "# Variable to store the optimum features\n",
    "nof = 0\n",
    "train_score_list = []\n",
    "val_score_list = []\n",
    "\n",
    "for n in range(len(nof_list)):\n",
    "    model = LogisticRegression(random_state=42)\n",
    "\n",
    "    rfe = RFE(estimator=model, n_features_to_select=nof_list[n])\n",
    "    X_train_rfe = rfe.fit_transform(X_train, y_train)\n",
    "    X_val_rfe = rfe.transform(X_val)\n",
    "    model.fit(X_train_rfe, y_train)\n",
    "\n",
    "    # storing results on training data\n",
    "    train_pred = model.predict(X_train_rfe)\n",
    "    train_score = f1_score(y_train, train_pred)\n",
    "    train_score_list.append(train_score)\n",
    "\n",
    "    # storing results on validation data\n",
    "    val_pred = model.predict(X_val_rfe)\n",
    "    val_score = f1_score(y_val, val_pred)\n",
    "    val_score_list.append(val_score)\n",
    "\n",
    "    # check best score\n",
    "    if val_score >= high_score:\n",
    "        high_score = val_score\n",
    "        nof = nof_list[n]\n",
    "\n",
    "print(\"Optimum number of features: %d\" % nof)\n",
    "print(\"F1 score with %d features: %f\" % (nof, high_score))"
   ]
  },
  {
   "cell_type": "code",
   "execution_count": 124,
   "id": "7d92ecd4",
   "metadata": {},
   "outputs": [
    {
     "data": {
      "text/plain": [
       "['emergency',\n",
       " 'inpatient',\n",
       " 'medical_specialty',\n",
       " 'discharge_disposition',\n",
       " 'medication',\n",
       " 'encounter_count',\n",
       " 'diag2_type']"
      ]
     },
     "execution_count": 124,
     "metadata": {},
     "output_type": "execute_result"
    }
   ],
   "source": [
    "model = LogisticRegression()\n",
    "rfe = RFE(estimator=model, n_features_to_select=7)\n",
    "X_rfe = rfe.fit_transform(X_train, y_train)\n",
    "rfe.support_\n",
    "rfe.ranking_\n",
    "selected_features = np.where(rfe.support_)[0]\n",
    "selected_feature_names = [X_train.columns[i] for i in selected_features]\n",
    "selected_feature_names"
   ]
  },
  {
   "cell_type": "markdown",
   "id": "91121f18",
   "metadata": {},
   "source": [
    "<a class=\"anchor\" id=\"lasso\"></a>\n",
    "\n",
    "## <span style=\"color:black\">12.4. LASSO </span>"
   ]
  },
  {
   "cell_type": "code",
   "execution_count": 125,
   "id": "67c8dcbb",
   "metadata": {},
   "outputs": [
    {
     "name": "stdout",
     "output_type": "stream",
     "text": [
      "Lasso picked 34 variables and eliminated the other 1 variables\n"
     ]
    },
    {
     "data": {
      "image/png": "[encoded data removed]",
      "text/plain": [
       "<Figure size 576x720 with 1 Axes>"
      ]
     },
     "metadata": {},
     "output_type": "display_data"
    }
   ],
   "source": [
    "def plot_importance(coef,name):\n",
    "    imp_coef = coef.sort_values()\n",
    "    plt.figure(figsize=(8,10))\n",
    "    imp_coef.plot(kind = \"barh\")\n",
    "    plt.title(\"Feature importance using \" + name + \" Model\")\n",
    "    plt.show()\n",
    "    \n",
    "reg = LassoCV()\n",
    "reg.fit(X_train, y_train)\n",
    "\n",
    "coef = pd.Series(reg.coef_, index = X_train.columns)\n",
    "\n",
    "print(\"Lasso picked \" + str(sum(coef != 0)) + \" variables and eliminated the other \" +  str(sum(coef == 0)) + \" variables\")\n",
    "\n",
    "coef.sort_values()\n",
    "\n",
    "plot_importance(coef,'Lasso')"
   ]
  },
  {
   "cell_type": "code",
   "execution_count": 126,
   "id": "22da4a92",
   "metadata": {},
   "outputs": [
    {
     "name": "stdout",
     "output_type": "stream",
     "text": [
      "Best alpha using built-in LassoCV: 0.000016\n"
     ]
    }
   ],
   "source": [
    "print(\"Best alpha using built-in LassoCV: %f\" % reg.alpha_)"
   ]
  },
  {
   "cell_type": "code",
   "execution_count": 127,
   "id": "a5ed35db",
   "metadata": {},
   "outputs": [
    {
     "name": "stdout",
     "output_type": "stream",
     "text": [
      "Best score using built-in LassoCV: 0.123594\n"
     ]
    }
   ],
   "source": [
    "print(\"Best score using built-in LassoCV: %f\" %reg.score(X_train, y_train))"
   ]
  },
  {
   "cell_type": "code",
   "execution_count": 128,
   "id": "0e45e24a",
   "metadata": {},
   "outputs": [
    {
     "data": {
      "text/plain": [
       "race                        0.014632\n",
       "gender                      0.004908\n",
       "age                         0.001533\n",
       "payer_code                  0.085286\n",
       "outpatient                 -0.000000\n",
       "emergency                   0.308287\n",
       "inpatient                   0.115099\n",
       "admission_type             -0.016559\n",
       "medical_specialty           0.182772\n",
       "avg_bpm                     0.018364\n",
       "discharge_disposition       0.671006\n",
       "admission_source            0.011499\n",
       "stay_length                -0.142333\n",
       "number_lab_tests            0.090011\n",
       "non_lab_procedures          0.009372\n",
       "number_of_medications      -0.011343\n",
       "number_diagnoses            0.082176\n",
       "glucose                     0.020451\n",
       "a1c                         0.014317\n",
       "meds_change                -0.009761\n",
       "prescribed_diabetes_meds    0.033972\n",
       "medication                  0.370394\n",
       "insurance                  -0.055903\n",
       "caucasian                   0.010913\n",
       "diagnosis_count             0.021213\n",
       "diabetes_type              -0.023657\n",
       "total_procedures            0.000116\n",
       "total_visits                0.195067\n",
       "age_group                   0.119887\n",
       "encounter_count             1.180825\n",
       "avg_length_of_stay          0.171918\n",
       "total_visits_pp            -0.528434\n",
       "diag1_type                  0.106842\n",
       "diag2_type                  0.185183\n",
       "diag_add_type               0.153084\n",
       "dtype: float64"
      ]
     },
     "execution_count": 128,
     "metadata": {},
     "output_type": "execute_result"
    }
   ],
   "source": [
    "coef = pd.Series(reg.coef_, index = X_train.columns)\n",
    "coef"
   ]
  },
  {
   "cell_type": "markdown",
   "id": "5ba6d649",
   "metadata": {},
   "source": [
    "<a class=\"anchor\" id=\"kb\"></a>\n",
    "\n",
    "## <span style=\"color:black\">12.5. K-best </span>"
   ]
  },
  {
   "cell_type": "code",
   "execution_count": 129,
   "id": "168991ae",
   "metadata": {},
   "outputs": [
    {
     "data": {
      "text/plain": [
       "Index(['outpatient', 'emergency', 'inpatient', 'avg_bpm',\n",
       "       'discharge_disposition', 'diabetes_type', 'total_visits',\n",
       "       'encounter_count', 'avg_length_of_stay', 'total_visits_pp'],\n",
       "      dtype='object')"
      ]
     },
     "execution_count": 129,
     "metadata": {},
     "output_type": "execute_result"
    }
   ],
   "source": [
    "selector = SelectKBest(score_func=mutual_info_classif)\n",
    "selector.fit_transform(X_train, y_train)\n",
    "X_train.columns[selector.get_support()]"
   ]
  },
  {
   "cell_type": "markdown",
   "id": "a68b2d66",
   "metadata": {},
   "source": [
    "<a class=\"anchor\" id=\"rf\"></a>\n",
    "\n",
    "## <span style=\"color:black\">12.6. Random Forest </span>"
   ]
  },
  {
   "cell_type": "code",
   "execution_count": 130,
   "id": "7ab39d86",
   "metadata": {},
   "outputs": [
    {
     "data": {
      "text/html": [
       "<style>#sk-container-id-1 {color: black;}#sk-container-id-1 pre{padding: 0;}#sk-container-id-1 div.sk-toggleable {background-color: white;}#sk-container-id-1 label.sk-toggleable__label {cursor: pointer;display: block;width: 100%;margin-bottom: 0;padding: 0.3em;box-sizing: border-box;text-align: center;}#sk-container-id-1 label.sk-toggleable__label-arrow:before {content: \"▸\";float: left;margin-right: 0.25em;color: #696969;}#sk-container-id-1 label.sk-toggleable__label-arrow:hover:before {color: black;}#sk-container-id-1 div.sk-estimator:hover label.sk-toggleable__label-arrow:before {color: black;}#sk-container-id-1 div.sk-toggleable__content {max-height: 0;max-width: 0;overflow: hidden;text-align: left;background-color: #f0f8ff;}#sk-container-id-1 div.sk-toggleable__content pre {margin: 0.2em;color: black;border-radius: 0.25em;background-color: #f0f8ff;}#sk-container-id-1 input.sk-toggleable__control:checked~div.sk-toggleable__content {max-height: 200px;max-width: 100%;overflow: auto;}#sk-container-id-1 input.sk-toggleable__control:checked~label.sk-toggleable__label-arrow:before {content: \"▾\";}#sk-container-id-1 div.sk-estimator input.sk-toggleable__control:checked~label.sk-toggleable__label {background-color: #d4ebff;}#sk-container-id-1 div.sk-label input.sk-toggleable__control:checked~label.sk-toggleable__label {background-color: #d4ebff;}#sk-container-id-1 input.sk-hidden--visually {border: 0;clip: rect(1px 1px 1px 1px);clip: rect(1px, 1px, 1px, 1px);height: 1px;margin: -1px;overflow: hidden;padding: 0;position: absolute;width: 1px;}#sk-container-id-1 div.sk-estimator {font-family: monospace;background-color: #f0f8ff;border: 1px dotted black;border-radius: 0.25em;box-sizing: border-box;margin-bottom: 0.5em;}#sk-container-id-1 div.sk-estimator:hover {background-color: #d4ebff;}#sk-container-id-1 div.sk-parallel-item::after {content: \"\";width: 100%;border-bottom: 1px solid gray;flex-grow: 1;}#sk-container-id-1 div.sk-label:hover label.sk-toggleable__label {background-color: #d4ebff;}#sk-container-id-1 div.sk-serial::before {content: \"\";position: absolute;border-left: 1px solid gray;box-sizing: border-box;top: 0;bottom: 0;left: 50%;z-index: 0;}#sk-container-id-1 div.sk-serial {display: flex;flex-direction: column;align-items: center;background-color: white;padding-right: 0.2em;padding-left: 0.2em;position: relative;}#sk-container-id-1 div.sk-item {position: relative;z-index: 1;}#sk-container-id-1 div.sk-parallel {display: flex;align-items: stretch;justify-content: center;background-color: white;position: relative;}#sk-container-id-1 div.sk-item::before, #sk-container-id-1 div.sk-parallel-item::before {content: \"\";position: absolute;border-left: 1px solid gray;box-sizing: border-box;top: 0;bottom: 0;left: 50%;z-index: -1;}#sk-container-id-1 div.sk-parallel-item {display: flex;flex-direction: column;z-index: 1;position: relative;background-color: white;}#sk-container-id-1 div.sk-parallel-item:first-child::after {align-self: flex-end;width: 50%;}#sk-container-id-1 div.sk-parallel-item:last-child::after {align-self: flex-start;width: 50%;}#sk-container-id-1 div.sk-parallel-item:only-child::after {width: 0;}#sk-container-id-1 div.sk-dashed-wrapped {border: 1px dashed gray;margin: 0 0.4em 0.5em 0.4em;box-sizing: border-box;padding-bottom: 0.4em;background-color: white;}#sk-container-id-1 div.sk-label label {font-family: monospace;font-weight: bold;display: inline-block;line-height: 1.2em;}#sk-container-id-1 div.sk-label-container {text-align: center;}#sk-container-id-1 div.sk-container {/* jupyter's `normalize.less` sets `[hidden] { display: none; }` but bootstrap.min.css set `[hidden] { display: none !important; }` so we also need the `!important` here to be able to override the default hidden behavior on the sphinx rendered scikit-learn.org. See: https://github.com/scikit-learn/scikit-learn/issues/21755 */display: inline-block !important;position: relative;}#sk-container-id-1 div.sk-text-repr-fallback {display: none;}</style><div id=\"sk-container-id-1\" class=\"sk-top-container\"><div class=\"sk-text-repr-fallback\"><pre>SelectFromModel(estimator=RandomForestClassifier())</pre><b>In a Jupyter environment, please rerun this cell to show the HTML representation or trust the notebook. <br />On GitHub, the HTML representation is unable to render, please try loading this page with nbviewer.org.</b></div><div class=\"sk-container\" hidden><div class=\"sk-item sk-dashed-wrapped\"><div class=\"sk-label-container\"><div class=\"sk-label sk-toggleable\"><input class=\"sk-toggleable__control sk-hidden--visually\" id=\"sk-estimator-id-1\" type=\"checkbox\" ><label for=\"sk-estimator-id-1\" class=\"sk-toggleable__label sk-toggleable__label-arrow\">SelectFromModel</label><div class=\"sk-toggleable__content\"><pre>SelectFromModel(estimator=RandomForestClassifier())</pre></div></div></div><div class=\"sk-parallel\"><div class=\"sk-parallel-item\"><div class=\"sk-item\"><div class=\"sk-label-container\"><div class=\"sk-label sk-toggleable\"><input class=\"sk-toggleable__control sk-hidden--visually\" id=\"sk-estimator-id-2\" type=\"checkbox\" ><label for=\"sk-estimator-id-2\" class=\"sk-toggleable__label sk-toggleable__label-arrow\">estimator: RandomForestClassifier</label><div class=\"sk-toggleable__content\"><pre>RandomForestClassifier()</pre></div></div></div><div class=\"sk-serial\"><div class=\"sk-item\"><div class=\"sk-estimator sk-toggleable\"><input class=\"sk-toggleable__control sk-hidden--visually\" id=\"sk-estimator-id-3\" type=\"checkbox\" ><label for=\"sk-estimator-id-3\" class=\"sk-toggleable__label sk-toggleable__label-arrow\">RandomForestClassifier</label><div class=\"sk-toggleable__content\"><pre>RandomForestClassifier()</pre></div></div></div></div></div></div></div></div></div></div>"
      ],
      "text/plain": [
       "SelectFromModel(estimator=RandomForestClassifier())"
      ]
     },
     "execution_count": 130,
     "metadata": {},
     "output_type": "execute_result"
    }
   ],
   "source": [
    "sel = SelectFromModel(RandomForestClassifier(n_estimators=100))\n",
    "sel.fit(X_train, y_train)"
   ]
  },
  {
   "cell_type": "code",
   "execution_count": 131,
   "id": "093017df",
   "metadata": {},
   "outputs": [
    {
     "data": {
      "text/plain": [
       "Index(['age', 'avg_bpm', 'discharge_disposition', 'stay_length',\n",
       "       'number_lab_tests', 'number_of_medications', 'medication',\n",
       "       'total_procedures', 'encounter_count', 'avg_length_of_stay',\n",
       "       'total_visits_pp', 'diag1_type', 'diag2_type', 'diag_add_type'],\n",
       "      dtype='object')"
      ]
     },
     "execution_count": 131,
     "metadata": {},
     "output_type": "execute_result"
    }
   ],
   "source": [
    "sel.get_support()\n",
    "X_train.columns[(sel.get_support())]"
   ]
  },
  {
   "cell_type": "markdown",
   "id": "2e3dd475",
   "metadata": {},
   "source": [
    "<a class=\"anchor\" id=\"dec\"></a>\n",
    "\n",
    "## <span style=\"color:black\">12.7. Final Decision </span>"
   ]
  },
  {
   "cell_type": "code",
   "execution_count": 132,
   "id": "cc4769e8",
   "metadata": {},
   "outputs": [
    {
     "data": {
      "text/html": [
       "<style type=\"text/css\">\n",
       "#T_69bca_row2_col0, #T_69bca_row2_col1, #T_69bca_row2_col2, #T_69bca_row2_col3, #T_69bca_row2_col4, #T_69bca_row2_col5, #T_69bca_row2_col6, #T_69bca_row2_col7, #T_69bca_row5_col0, #T_69bca_row5_col1, #T_69bca_row5_col2, #T_69bca_row5_col3, #T_69bca_row5_col4, #T_69bca_row5_col5, #T_69bca_row5_col6, #T_69bca_row5_col7, #T_69bca_row6_col0, #T_69bca_row6_col1, #T_69bca_row6_col2, #T_69bca_row6_col3, #T_69bca_row6_col4, #T_69bca_row6_col5, #T_69bca_row6_col6, #T_69bca_row6_col7, #T_69bca_row8_col0, #T_69bca_row8_col1, #T_69bca_row8_col2, #T_69bca_row8_col3, #T_69bca_row8_col4, #T_69bca_row8_col5, #T_69bca_row8_col6, #T_69bca_row8_col7, #T_69bca_row10_col0, #T_69bca_row10_col1, #T_69bca_row10_col2, #T_69bca_row10_col3, #T_69bca_row10_col4, #T_69bca_row10_col5, #T_69bca_row10_col6, #T_69bca_row10_col7, #T_69bca_row12_col0, #T_69bca_row12_col1, #T_69bca_row12_col2, #T_69bca_row12_col3, #T_69bca_row12_col4, #T_69bca_row12_col5, #T_69bca_row12_col6, #T_69bca_row12_col7, #T_69bca_row13_col0, #T_69bca_row13_col1, #T_69bca_row13_col2, #T_69bca_row13_col3, #T_69bca_row13_col4, #T_69bca_row13_col5, #T_69bca_row13_col6, #T_69bca_row13_col7, #T_69bca_row15_col0, #T_69bca_row15_col1, #T_69bca_row15_col2, #T_69bca_row15_col3, #T_69bca_row15_col4, #T_69bca_row15_col5, #T_69bca_row15_col6, #T_69bca_row15_col7, #T_69bca_row21_col0, #T_69bca_row21_col1, #T_69bca_row21_col2, #T_69bca_row21_col3, #T_69bca_row21_col4, #T_69bca_row21_col5, #T_69bca_row21_col6, #T_69bca_row21_col7, #T_69bca_row26_col0, #T_69bca_row26_col1, #T_69bca_row26_col2, #T_69bca_row26_col3, #T_69bca_row26_col4, #T_69bca_row26_col5, #T_69bca_row26_col6, #T_69bca_row26_col7, #T_69bca_row28_col0, #T_69bca_row28_col1, #T_69bca_row28_col2, #T_69bca_row28_col3, #T_69bca_row28_col4, #T_69bca_row28_col5, #T_69bca_row28_col6, #T_69bca_row28_col7, #T_69bca_row29_col0, #T_69bca_row29_col1, #T_69bca_row29_col2, #T_69bca_row29_col3, #T_69bca_row29_col4, #T_69bca_row29_col5, #T_69bca_row29_col6, #T_69bca_row29_col7, #T_69bca_row30_col0, #T_69bca_row30_col1, #T_69bca_row30_col2, #T_69bca_row30_col3, #T_69bca_row30_col4, #T_69bca_row30_col5, #T_69bca_row30_col6, #T_69bca_row30_col7, #T_69bca_row31_col0, #T_69bca_row31_col1, #T_69bca_row31_col2, #T_69bca_row31_col3, #T_69bca_row31_col4, #T_69bca_row31_col5, #T_69bca_row31_col6, #T_69bca_row31_col7, #T_69bca_row32_col0, #T_69bca_row32_col1, #T_69bca_row32_col2, #T_69bca_row32_col3, #T_69bca_row32_col4, #T_69bca_row32_col5, #T_69bca_row32_col6, #T_69bca_row32_col7, #T_69bca_row33_col0, #T_69bca_row33_col1, #T_69bca_row33_col2, #T_69bca_row33_col3, #T_69bca_row33_col4, #T_69bca_row33_col5, #T_69bca_row33_col6, #T_69bca_row33_col7 {\n",
       "  background-color: #d4edda;\n",
       "}\n",
       "</style>\n",
       "<table id=\"T_69bca_\">\n",
       "  <thead>\n",
       "    <tr>\n",
       "      <th class=\"blank level0\" >&nbsp;</th>\n",
       "      <th class=\"col_heading level0 col0\" >Spearman</th>\n",
       "      <th class=\"col_heading level0 col1\" >Chi-Square</th>\n",
       "      <th class=\"col_heading level0 col2\" >RFE Logistic</th>\n",
       "      <th class=\"col_heading level0 col3\" >Lasso</th>\n",
       "      <th class=\"col_heading level0 col4\" >Kbest</th>\n",
       "      <th class=\"col_heading level0 col5\" >Random Forest</th>\n",
       "      <th class=\"col_heading level0 col6\" >% Keep</th>\n",
       "      <th class=\"col_heading level0 col7\" >Decision</th>\n",
       "    </tr>\n",
       "    <tr>\n",
       "      <th class=\"index_name level0\" >Variables</th>\n",
       "      <th class=\"blank col0\" >&nbsp;</th>\n",
       "      <th class=\"blank col1\" >&nbsp;</th>\n",
       "      <th class=\"blank col2\" >&nbsp;</th>\n",
       "      <th class=\"blank col3\" >&nbsp;</th>\n",
       "      <th class=\"blank col4\" >&nbsp;</th>\n",
       "      <th class=\"blank col5\" >&nbsp;</th>\n",
       "      <th class=\"blank col6\" >&nbsp;</th>\n",
       "      <th class=\"blank col7\" >&nbsp;</th>\n",
       "    </tr>\n",
       "  </thead>\n",
       "  <tbody>\n",
       "    <tr>\n",
       "      <th id=\"T_69bca_level0_row0\" class=\"row_heading level0 row0\" >race</th>\n",
       "      <td id=\"T_69bca_row0_col0\" class=\"data row0 col0\" >-</td>\n",
       "      <td id=\"T_69bca_row0_col1\" class=\"data row0 col1\" >Keep</td>\n",
       "      <td id=\"T_69bca_row0_col2\" class=\"data row0 col2\" >Discard</td>\n",
       "      <td id=\"T_69bca_row0_col3\" class=\"data row0 col3\" >Keep</td>\n",
       "      <td id=\"T_69bca_row0_col4\" class=\"data row0 col4\" >Discard</td>\n",
       "      <td id=\"T_69bca_row0_col5\" class=\"data row0 col5\" >Discard</td>\n",
       "      <td id=\"T_69bca_row0_col6\" class=\"data row0 col6\" >40</td>\n",
       "      <td id=\"T_69bca_row0_col7\" class=\"data row0 col7\" >Discard</td>\n",
       "    </tr>\n",
       "    <tr>\n",
       "      <th id=\"T_69bca_level0_row1\" class=\"row_heading level0 row1\" >gender</th>\n",
       "      <td id=\"T_69bca_row1_col0\" class=\"data row1 col0\" >-</td>\n",
       "      <td id=\"T_69bca_row1_col1\" class=\"data row1 col1\" >Discard</td>\n",
       "      <td id=\"T_69bca_row1_col2\" class=\"data row1 col2\" >Discard</td>\n",
       "      <td id=\"T_69bca_row1_col3\" class=\"data row1 col3\" >Keep</td>\n",
       "      <td id=\"T_69bca_row1_col4\" class=\"data row1 col4\" >Discard</td>\n",
       "      <td id=\"T_69bca_row1_col5\" class=\"data row1 col5\" >Discard</td>\n",
       "      <td id=\"T_69bca_row1_col6\" class=\"data row1 col6\" >20</td>\n",
       "      <td id=\"T_69bca_row1_col7\" class=\"data row1 col7\" >Discard</td>\n",
       "    </tr>\n",
       "    <tr>\n",
       "      <th id=\"T_69bca_level0_row2\" class=\"row_heading level0 row2\" >age</th>\n",
       "      <td id=\"T_69bca_row2_col0\" class=\"data row2 col0\" >-</td>\n",
       "      <td id=\"T_69bca_row2_col1\" class=\"data row2 col1\" >Keep</td>\n",
       "      <td id=\"T_69bca_row2_col2\" class=\"data row2 col2\" >Discard</td>\n",
       "      <td id=\"T_69bca_row2_col3\" class=\"data row2 col3\" >Keep</td>\n",
       "      <td id=\"T_69bca_row2_col4\" class=\"data row2 col4\" >Discard</td>\n",
       "      <td id=\"T_69bca_row2_col5\" class=\"data row2 col5\" >Keep</td>\n",
       "      <td id=\"T_69bca_row2_col6\" class=\"data row2 col6\" >60</td>\n",
       "      <td id=\"T_69bca_row2_col7\" class=\"data row2 col7\" >Keep</td>\n",
       "    </tr>\n",
       "    <tr>\n",
       "      <th id=\"T_69bca_level0_row3\" class=\"row_heading level0 row3\" >payer_code</th>\n",
       "      <td id=\"T_69bca_row3_col0\" class=\"data row3 col0\" >-</td>\n",
       "      <td id=\"T_69bca_row3_col1\" class=\"data row3 col1\" >Keep</td>\n",
       "      <td id=\"T_69bca_row3_col2\" class=\"data row3 col2\" >Discard</td>\n",
       "      <td id=\"T_69bca_row3_col3\" class=\"data row3 col3\" >Keep</td>\n",
       "      <td id=\"T_69bca_row3_col4\" class=\"data row3 col4\" >Discard</td>\n",
       "      <td id=\"T_69bca_row3_col5\" class=\"data row3 col5\" >Discard</td>\n",
       "      <td id=\"T_69bca_row3_col6\" class=\"data row3 col6\" >40</td>\n",
       "      <td id=\"T_69bca_row3_col7\" class=\"data row3 col7\" >Discard</td>\n",
       "    </tr>\n",
       "    <tr>\n",
       "      <th id=\"T_69bca_level0_row4\" class=\"row_heading level0 row4\" >outpatient</th>\n",
       "      <td id=\"T_69bca_row4_col0\" class=\"data row4 col0\" >Keep</td>\n",
       "      <td id=\"T_69bca_row4_col1\" class=\"data row4 col1\" >-</td>\n",
       "      <td id=\"T_69bca_row4_col2\" class=\"data row4 col2\" >Discard</td>\n",
       "      <td id=\"T_69bca_row4_col3\" class=\"data row4 col3\" >Discard</td>\n",
       "      <td id=\"T_69bca_row4_col4\" class=\"data row4 col4\" >Discard</td>\n",
       "      <td id=\"T_69bca_row4_col5\" class=\"data row4 col5\" >Discard</td>\n",
       "      <td id=\"T_69bca_row4_col6\" class=\"data row4 col6\" >20</td>\n",
       "      <td id=\"T_69bca_row4_col7\" class=\"data row4 col7\" >Discard</td>\n",
       "    </tr>\n",
       "    <tr>\n",
       "      <th id=\"T_69bca_level0_row5\" class=\"row_heading level0 row5\" >emergency</th>\n",
       "      <td id=\"T_69bca_row5_col0\" class=\"data row5 col0\" >Keep</td>\n",
       "      <td id=\"T_69bca_row5_col1\" class=\"data row5 col1\" >-</td>\n",
       "      <td id=\"T_69bca_row5_col2\" class=\"data row5 col2\" >Keep</td>\n",
       "      <td id=\"T_69bca_row5_col3\" class=\"data row5 col3\" >Keep</td>\n",
       "      <td id=\"T_69bca_row5_col4\" class=\"data row5 col4\" >Keep</td>\n",
       "      <td id=\"T_69bca_row5_col5\" class=\"data row5 col5\" >Discard</td>\n",
       "      <td id=\"T_69bca_row5_col6\" class=\"data row5 col6\" >80</td>\n",
       "      <td id=\"T_69bca_row5_col7\" class=\"data row5 col7\" >Keep</td>\n",
       "    </tr>\n",
       "    <tr>\n",
       "      <th id=\"T_69bca_level0_row6\" class=\"row_heading level0 row6\" >inpatient</th>\n",
       "      <td id=\"T_69bca_row6_col0\" class=\"data row6 col0\" >Keep</td>\n",
       "      <td id=\"T_69bca_row6_col1\" class=\"data row6 col1\" >-</td>\n",
       "      <td id=\"T_69bca_row6_col2\" class=\"data row6 col2\" >Keep</td>\n",
       "      <td id=\"T_69bca_row6_col3\" class=\"data row6 col3\" >Keep</td>\n",
       "      <td id=\"T_69bca_row6_col4\" class=\"data row6 col4\" >Keep</td>\n",
       "      <td id=\"T_69bca_row6_col5\" class=\"data row6 col5\" >Discard</td>\n",
       "      <td id=\"T_69bca_row6_col6\" class=\"data row6 col6\" >80</td>\n",
       "      <td id=\"T_69bca_row6_col7\" class=\"data row6 col7\" >Keep</td>\n",
       "    </tr>\n",
       "    <tr>\n",
       "      <th id=\"T_69bca_level0_row7\" class=\"row_heading level0 row7\" >admission_type</th>\n",
       "      <td id=\"T_69bca_row7_col0\" class=\"data row7 col0\" >-</td>\n",
       "      <td id=\"T_69bca_row7_col1\" class=\"data row7 col1\" >Discard</td>\n",
       "      <td id=\"T_69bca_row7_col2\" class=\"data row7 col2\" >Discard</td>\n",
       "      <td id=\"T_69bca_row7_col3\" class=\"data row7 col3\" >Keep</td>\n",
       "      <td id=\"T_69bca_row7_col4\" class=\"data row7 col4\" >Keep</td>\n",
       "      <td id=\"T_69bca_row7_col5\" class=\"data row7 col5\" >Discard</td>\n",
       "      <td id=\"T_69bca_row7_col6\" class=\"data row7 col6\" >40</td>\n",
       "      <td id=\"T_69bca_row7_col7\" class=\"data row7 col7\" >Discard</td>\n",
       "    </tr>\n",
       "    <tr>\n",
       "      <th id=\"T_69bca_level0_row8\" class=\"row_heading level0 row8\" >medical_specialty</th>\n",
       "      <td id=\"T_69bca_row8_col0\" class=\"data row8 col0\" >-</td>\n",
       "      <td id=\"T_69bca_row8_col1\" class=\"data row8 col1\" >Keep</td>\n",
       "      <td id=\"T_69bca_row8_col2\" class=\"data row8 col2\" >Keep</td>\n",
       "      <td id=\"T_69bca_row8_col3\" class=\"data row8 col3\" >Keep</td>\n",
       "      <td id=\"T_69bca_row8_col4\" class=\"data row8 col4\" >Discard</td>\n",
       "      <td id=\"T_69bca_row8_col5\" class=\"data row8 col5\" >Discard</td>\n",
       "      <td id=\"T_69bca_row8_col6\" class=\"data row8 col6\" >60</td>\n",
       "      <td id=\"T_69bca_row8_col7\" class=\"data row8 col7\" >Keep</td>\n",
       "    </tr>\n",
       "    <tr>\n",
       "      <th id=\"T_69bca_level0_row9\" class=\"row_heading level0 row9\" >avg_bpm</th>\n",
       "      <td id=\"T_69bca_row9_col0\" class=\"data row9 col0\" >Discard</td>\n",
       "      <td id=\"T_69bca_row9_col1\" class=\"data row9 col1\" >-</td>\n",
       "      <td id=\"T_69bca_row9_col2\" class=\"data row9 col2\" >Discard</td>\n",
       "      <td id=\"T_69bca_row9_col3\" class=\"data row9 col3\" >Keep</td>\n",
       "      <td id=\"T_69bca_row9_col4\" class=\"data row9 col4\" >Discard</td>\n",
       "      <td id=\"T_69bca_row9_col5\" class=\"data row9 col5\" >Keep</td>\n",
       "      <td id=\"T_69bca_row9_col6\" class=\"data row9 col6\" >40</td>\n",
       "      <td id=\"T_69bca_row9_col7\" class=\"data row9 col7\" >Discard</td>\n",
       "    </tr>\n",
       "    <tr>\n",
       "      <th id=\"T_69bca_level0_row10\" class=\"row_heading level0 row10\" >discharge_disposition</th>\n",
       "      <td id=\"T_69bca_row10_col0\" class=\"data row10 col0\" >-</td>\n",
       "      <td id=\"T_69bca_row10_col1\" class=\"data row10 col1\" >Keep</td>\n",
       "      <td id=\"T_69bca_row10_col2\" class=\"data row10 col2\" >Keep</td>\n",
       "      <td id=\"T_69bca_row10_col3\" class=\"data row10 col3\" >Keep</td>\n",
       "      <td id=\"T_69bca_row10_col4\" class=\"data row10 col4\" >Keep</td>\n",
       "      <td id=\"T_69bca_row10_col5\" class=\"data row10 col5\" >Keep</td>\n",
       "      <td id=\"T_69bca_row10_col6\" class=\"data row10 col6\" >100</td>\n",
       "      <td id=\"T_69bca_row10_col7\" class=\"data row10 col7\" >Keep</td>\n",
       "    </tr>\n",
       "    <tr>\n",
       "      <th id=\"T_69bca_level0_row11\" class=\"row_heading level0 row11\" >admission_source</th>\n",
       "      <td id=\"T_69bca_row11_col0\" class=\"data row11 col0\" >-</td>\n",
       "      <td id=\"T_69bca_row11_col1\" class=\"data row11 col1\" >Discard</td>\n",
       "      <td id=\"T_69bca_row11_col2\" class=\"data row11 col2\" >Discard</td>\n",
       "      <td id=\"T_69bca_row11_col3\" class=\"data row11 col3\" >Keep</td>\n",
       "      <td id=\"T_69bca_row11_col4\" class=\"data row11 col4\" >Discard</td>\n",
       "      <td id=\"T_69bca_row11_col5\" class=\"data row11 col5\" >Discard</td>\n",
       "      <td id=\"T_69bca_row11_col6\" class=\"data row11 col6\" >20</td>\n",
       "      <td id=\"T_69bca_row11_col7\" class=\"data row11 col7\" >Discard</td>\n",
       "    </tr>\n",
       "    <tr>\n",
       "      <th id=\"T_69bca_level0_row12\" class=\"row_heading level0 row12\" >stay_length</th>\n",
       "      <td id=\"T_69bca_row12_col0\" class=\"data row12 col0\" >Keep</td>\n",
       "      <td id=\"T_69bca_row12_col1\" class=\"data row12 col1\" >-</td>\n",
       "      <td id=\"T_69bca_row12_col2\" class=\"data row12 col2\" >Discard</td>\n",
       "      <td id=\"T_69bca_row12_col3\" class=\"data row12 col3\" >Keep</td>\n",
       "      <td id=\"T_69bca_row12_col4\" class=\"data row12 col4\" >Keep</td>\n",
       "      <td id=\"T_69bca_row12_col5\" class=\"data row12 col5\" >Keep</td>\n",
       "      <td id=\"T_69bca_row12_col6\" class=\"data row12 col6\" >80</td>\n",
       "      <td id=\"T_69bca_row12_col7\" class=\"data row12 col7\" >Keep</td>\n",
       "    </tr>\n",
       "    <tr>\n",
       "      <th id=\"T_69bca_level0_row13\" class=\"row_heading level0 row13\" >number_lab_tests</th>\n",
       "      <td id=\"T_69bca_row13_col0\" class=\"data row13 col0\" >Keep</td>\n",
       "      <td id=\"T_69bca_row13_col1\" class=\"data row13 col1\" >-</td>\n",
       "      <td id=\"T_69bca_row13_col2\" class=\"data row13 col2\" >Discard</td>\n",
       "      <td id=\"T_69bca_row13_col3\" class=\"data row13 col3\" >Keep</td>\n",
       "      <td id=\"T_69bca_row13_col4\" class=\"data row13 col4\" >Discard</td>\n",
       "      <td id=\"T_69bca_row13_col5\" class=\"data row13 col5\" >Keep</td>\n",
       "      <td id=\"T_69bca_row13_col6\" class=\"data row13 col6\" >60</td>\n",
       "      <td id=\"T_69bca_row13_col7\" class=\"data row13 col7\" >Keep</td>\n",
       "    </tr>\n",
       "    <tr>\n",
       "      <th id=\"T_69bca_level0_row14\" class=\"row_heading level0 row14\" >non_lab_procedures</th>\n",
       "      <td id=\"T_69bca_row14_col0\" class=\"data row14 col0\" >Keep</td>\n",
       "      <td id=\"T_69bca_row14_col1\" class=\"data row14 col1\" >-</td>\n",
       "      <td id=\"T_69bca_row14_col2\" class=\"data row14 col2\" >Discard</td>\n",
       "      <td id=\"T_69bca_row14_col3\" class=\"data row14 col3\" >Keep</td>\n",
       "      <td id=\"T_69bca_row14_col4\" class=\"data row14 col4\" >Discard</td>\n",
       "      <td id=\"T_69bca_row14_col5\" class=\"data row14 col5\" >Discard</td>\n",
       "      <td id=\"T_69bca_row14_col6\" class=\"data row14 col6\" >40</td>\n",
       "      <td id=\"T_69bca_row14_col7\" class=\"data row14 col7\" >Discard</td>\n",
       "    </tr>\n",
       "    <tr>\n",
       "      <th id=\"T_69bca_level0_row15\" class=\"row_heading level0 row15\" >number_of_medications</th>\n",
       "      <td id=\"T_69bca_row15_col0\" class=\"data row15 col0\" >Keep</td>\n",
       "      <td id=\"T_69bca_row15_col1\" class=\"data row15 col1\" >-</td>\n",
       "      <td id=\"T_69bca_row15_col2\" class=\"data row15 col2\" >Discard</td>\n",
       "      <td id=\"T_69bca_row15_col3\" class=\"data row15 col3\" >Keep</td>\n",
       "      <td id=\"T_69bca_row15_col4\" class=\"data row15 col4\" >Discard</td>\n",
       "      <td id=\"T_69bca_row15_col5\" class=\"data row15 col5\" >Keep</td>\n",
       "      <td id=\"T_69bca_row15_col6\" class=\"data row15 col6\" >60</td>\n",
       "      <td id=\"T_69bca_row15_col7\" class=\"data row15 col7\" >Keep</td>\n",
       "    </tr>\n",
       "    <tr>\n",
       "      <th id=\"T_69bca_level0_row16\" class=\"row_heading level0 row16\" >number_diagnoses</th>\n",
       "      <td id=\"T_69bca_row16_col0\" class=\"data row16 col0\" >Keep</td>\n",
       "      <td id=\"T_69bca_row16_col1\" class=\"data row16 col1\" >-</td>\n",
       "      <td id=\"T_69bca_row16_col2\" class=\"data row16 col2\" >Discard</td>\n",
       "      <td id=\"T_69bca_row16_col3\" class=\"data row16 col3\" >Keep</td>\n",
       "      <td id=\"T_69bca_row16_col4\" class=\"data row16 col4\" >Discard</td>\n",
       "      <td id=\"T_69bca_row16_col5\" class=\"data row16 col5\" >Discard</td>\n",
       "      <td id=\"T_69bca_row16_col6\" class=\"data row16 col6\" >40</td>\n",
       "      <td id=\"T_69bca_row16_col7\" class=\"data row16 col7\" >Discard</td>\n",
       "    </tr>\n",
       "    <tr>\n",
       "      <th id=\"T_69bca_level0_row17\" class=\"row_heading level0 row17\" >glucose</th>\n",
       "      <td id=\"T_69bca_row17_col0\" class=\"data row17 col0\" >-</td>\n",
       "      <td id=\"T_69bca_row17_col1\" class=\"data row17 col1\" >Discard</td>\n",
       "      <td id=\"T_69bca_row17_col2\" class=\"data row17 col2\" >Discard</td>\n",
       "      <td id=\"T_69bca_row17_col3\" class=\"data row17 col3\" >Keep</td>\n",
       "      <td id=\"T_69bca_row17_col4\" class=\"data row17 col4\" >Discard</td>\n",
       "      <td id=\"T_69bca_row17_col5\" class=\"data row17 col5\" >Discard</td>\n",
       "      <td id=\"T_69bca_row17_col6\" class=\"data row17 col6\" >20</td>\n",
       "      <td id=\"T_69bca_row17_col7\" class=\"data row17 col7\" >Discard</td>\n",
       "    </tr>\n",
       "    <tr>\n",
       "      <th id=\"T_69bca_level0_row18\" class=\"row_heading level0 row18\" >a1c</th>\n",
       "      <td id=\"T_69bca_row18_col0\" class=\"data row18 col0\" >-</td>\n",
       "      <td id=\"T_69bca_row18_col1\" class=\"data row18 col1\" >Discard</td>\n",
       "      <td id=\"T_69bca_row18_col2\" class=\"data row18 col2\" >Discard</td>\n",
       "      <td id=\"T_69bca_row18_col3\" class=\"data row18 col3\" >Keep</td>\n",
       "      <td id=\"T_69bca_row18_col4\" class=\"data row18 col4\" >Discard</td>\n",
       "      <td id=\"T_69bca_row18_col5\" class=\"data row18 col5\" >Discard</td>\n",
       "      <td id=\"T_69bca_row18_col6\" class=\"data row18 col6\" >20</td>\n",
       "      <td id=\"T_69bca_row18_col7\" class=\"data row18 col7\" >Discard</td>\n",
       "    </tr>\n",
       "    <tr>\n",
       "      <th id=\"T_69bca_level0_row19\" class=\"row_heading level0 row19\" >meds_change</th>\n",
       "      <td id=\"T_69bca_row19_col0\" class=\"data row19 col0\" >-</td>\n",
       "      <td id=\"T_69bca_row19_col1\" class=\"data row19 col1\" >Discard</td>\n",
       "      <td id=\"T_69bca_row19_col2\" class=\"data row19 col2\" >Discard</td>\n",
       "      <td id=\"T_69bca_row19_col3\" class=\"data row19 col3\" >Keep</td>\n",
       "      <td id=\"T_69bca_row19_col4\" class=\"data row19 col4\" >Discard</td>\n",
       "      <td id=\"T_69bca_row19_col5\" class=\"data row19 col5\" >Discard</td>\n",
       "      <td id=\"T_69bca_row19_col6\" class=\"data row19 col6\" >20</td>\n",
       "      <td id=\"T_69bca_row19_col7\" class=\"data row19 col7\" >Discard</td>\n",
       "    </tr>\n",
       "    <tr>\n",
       "      <th id=\"T_69bca_level0_row20\" class=\"row_heading level0 row20\" >prescribed_diabetes_med</th>\n",
       "      <td id=\"T_69bca_row20_col0\" class=\"data row20 col0\" >-</td>\n",
       "      <td id=\"T_69bca_row20_col1\" class=\"data row20 col1\" >Keep</td>\n",
       "      <td id=\"T_69bca_row20_col2\" class=\"data row20 col2\" >Discard</td>\n",
       "      <td id=\"T_69bca_row20_col3\" class=\"data row20 col3\" >Keep</td>\n",
       "      <td id=\"T_69bca_row20_col4\" class=\"data row20 col4\" >Discard</td>\n",
       "      <td id=\"T_69bca_row20_col5\" class=\"data row20 col5\" >Discard</td>\n",
       "      <td id=\"T_69bca_row20_col6\" class=\"data row20 col6\" >40</td>\n",
       "      <td id=\"T_69bca_row20_col7\" class=\"data row20 col7\" >Discard</td>\n",
       "    </tr>\n",
       "    <tr>\n",
       "      <th id=\"T_69bca_level0_row21\" class=\"row_heading level0 row21\" >medication</th>\n",
       "      <td id=\"T_69bca_row21_col0\" class=\"data row21 col0\" >-</td>\n",
       "      <td id=\"T_69bca_row21_col1\" class=\"data row21 col1\" >Keep</td>\n",
       "      <td id=\"T_69bca_row21_col2\" class=\"data row21 col2\" >Keep</td>\n",
       "      <td id=\"T_69bca_row21_col3\" class=\"data row21 col3\" >Keep</td>\n",
       "      <td id=\"T_69bca_row21_col4\" class=\"data row21 col4\" >Discard</td>\n",
       "      <td id=\"T_69bca_row21_col5\" class=\"data row21 col5\" >Keep</td>\n",
       "      <td id=\"T_69bca_row21_col6\" class=\"data row21 col6\" >80</td>\n",
       "      <td id=\"T_69bca_row21_col7\" class=\"data row21 col7\" >Keep</td>\n",
       "    </tr>\n",
       "    <tr>\n",
       "      <th id=\"T_69bca_level0_row22\" class=\"row_heading level0 row22\" >caucasian</th>\n",
       "      <td id=\"T_69bca_row22_col0\" class=\"data row22 col0\" >-</td>\n",
       "      <td id=\"T_69bca_row22_col1\" class=\"data row22 col1\" >Discard</td>\n",
       "      <td id=\"T_69bca_row22_col2\" class=\"data row22 col2\" >Discard</td>\n",
       "      <td id=\"T_69bca_row22_col3\" class=\"data row22 col3\" >Keep</td>\n",
       "      <td id=\"T_69bca_row22_col4\" class=\"data row22 col4\" >Discard</td>\n",
       "      <td id=\"T_69bca_row22_col5\" class=\"data row22 col5\" >Discard</td>\n",
       "      <td id=\"T_69bca_row22_col6\" class=\"data row22 col6\" >20</td>\n",
       "      <td id=\"T_69bca_row22_col7\" class=\"data row22 col7\" >Discard</td>\n",
       "    </tr>\n",
       "    <tr>\n",
       "      <th id=\"T_69bca_level0_row23\" class=\"row_heading level0 row23\" >insurance</th>\n",
       "      <td id=\"T_69bca_row23_col0\" class=\"data row23 col0\" >-</td>\n",
       "      <td id=\"T_69bca_row23_col1\" class=\"data row23 col1\" >Discard</td>\n",
       "      <td id=\"T_69bca_row23_col2\" class=\"data row23 col2\" >Discard</td>\n",
       "      <td id=\"T_69bca_row23_col3\" class=\"data row23 col3\" >Keep</td>\n",
       "      <td id=\"T_69bca_row23_col4\" class=\"data row23 col4\" >Keep</td>\n",
       "      <td id=\"T_69bca_row23_col5\" class=\"data row23 col5\" >Discard</td>\n",
       "      <td id=\"T_69bca_row23_col6\" class=\"data row23 col6\" >40</td>\n",
       "      <td id=\"T_69bca_row23_col7\" class=\"data row23 col7\" >Discard</td>\n",
       "    </tr>\n",
       "    <tr>\n",
       "      <th id=\"T_69bca_level0_row24\" class=\"row_heading level0 row24\" >diagnosis_count</th>\n",
       "      <td id=\"T_69bca_row24_col0\" class=\"data row24 col0\" >Discard</td>\n",
       "      <td id=\"T_69bca_row24_col1\" class=\"data row24 col1\" >-</td>\n",
       "      <td id=\"T_69bca_row24_col2\" class=\"data row24 col2\" >Discard</td>\n",
       "      <td id=\"T_69bca_row24_col3\" class=\"data row24 col3\" >Keep</td>\n",
       "      <td id=\"T_69bca_row24_col4\" class=\"data row24 col4\" >Discard</td>\n",
       "      <td id=\"T_69bca_row24_col5\" class=\"data row24 col5\" >Discard</td>\n",
       "      <td id=\"T_69bca_row24_col6\" class=\"data row24 col6\" >20</td>\n",
       "      <td id=\"T_69bca_row24_col7\" class=\"data row24 col7\" >Discard</td>\n",
       "    </tr>\n",
       "    <tr>\n",
       "      <th id=\"T_69bca_level0_row25\" class=\"row_heading level0 row25\" >total_procedures</th>\n",
       "      <td id=\"T_69bca_row25_col0\" class=\"data row25 col0\" >Discard</td>\n",
       "      <td id=\"T_69bca_row25_col1\" class=\"data row25 col1\" >-</td>\n",
       "      <td id=\"T_69bca_row25_col2\" class=\"data row25 col2\" >Discard</td>\n",
       "      <td id=\"T_69bca_row25_col3\" class=\"data row25 col3\" >Keep</td>\n",
       "      <td id=\"T_69bca_row25_col4\" class=\"data row25 col4\" >Discard</td>\n",
       "      <td id=\"T_69bca_row25_col5\" class=\"data row25 col5\" >Keep</td>\n",
       "      <td id=\"T_69bca_row25_col6\" class=\"data row25 col6\" >40</td>\n",
       "      <td id=\"T_69bca_row25_col7\" class=\"data row25 col7\" >Discard</td>\n",
       "    </tr>\n",
       "    <tr>\n",
       "      <th id=\"T_69bca_level0_row26\" class=\"row_heading level0 row26\" >total_visits</th>\n",
       "      <td id=\"T_69bca_row26_col0\" class=\"data row26 col0\" >Keep</td>\n",
       "      <td id=\"T_69bca_row26_col1\" class=\"data row26 col1\" >-</td>\n",
       "      <td id=\"T_69bca_row26_col2\" class=\"data row26 col2\" >Discard</td>\n",
       "      <td id=\"T_69bca_row26_col3\" class=\"data row26 col3\" >Keep</td>\n",
       "      <td id=\"T_69bca_row26_col4\" class=\"data row26 col4\" >Keep</td>\n",
       "      <td id=\"T_69bca_row26_col5\" class=\"data row26 col5\" >Discard</td>\n",
       "      <td id=\"T_69bca_row26_col6\" class=\"data row26 col6\" >60</td>\n",
       "      <td id=\"T_69bca_row26_col7\" class=\"data row26 col7\" >Keep</td>\n",
       "    </tr>\n",
       "    <tr>\n",
       "      <th id=\"T_69bca_level0_row27\" class=\"row_heading level0 row27\" >age_group</th>\n",
       "      <td id=\"T_69bca_row27_col0\" class=\"data row27 col0\" >-</td>\n",
       "      <td id=\"T_69bca_row27_col1\" class=\"data row27 col1\" >Keep</td>\n",
       "      <td id=\"T_69bca_row27_col2\" class=\"data row27 col2\" >Discard</td>\n",
       "      <td id=\"T_69bca_row27_col3\" class=\"data row27 col3\" >Keep</td>\n",
       "      <td id=\"T_69bca_row27_col4\" class=\"data row27 col4\" >Discard</td>\n",
       "      <td id=\"T_69bca_row27_col5\" class=\"data row27 col5\" >Discard</td>\n",
       "      <td id=\"T_69bca_row27_col6\" class=\"data row27 col6\" >40</td>\n",
       "      <td id=\"T_69bca_row27_col7\" class=\"data row27 col7\" >Discard</td>\n",
       "    </tr>\n",
       "    <tr>\n",
       "      <th id=\"T_69bca_level0_row28\" class=\"row_heading level0 row28\" >encounter_count</th>\n",
       "      <td id=\"T_69bca_row28_col0\" class=\"data row28 col0\" >Keep</td>\n",
       "      <td id=\"T_69bca_row28_col1\" class=\"data row28 col1\" >-</td>\n",
       "      <td id=\"T_69bca_row28_col2\" class=\"data row28 col2\" >Keep</td>\n",
       "      <td id=\"T_69bca_row28_col3\" class=\"data row28 col3\" >Keep</td>\n",
       "      <td id=\"T_69bca_row28_col4\" class=\"data row28 col4\" >Keep</td>\n",
       "      <td id=\"T_69bca_row28_col5\" class=\"data row28 col5\" >Keep</td>\n",
       "      <td id=\"T_69bca_row28_col6\" class=\"data row28 col6\" >100</td>\n",
       "      <td id=\"T_69bca_row28_col7\" class=\"data row28 col7\" >Keep</td>\n",
       "    </tr>\n",
       "    <tr>\n",
       "      <th id=\"T_69bca_level0_row29\" class=\"row_heading level0 row29\" >avg_length_of_stay</th>\n",
       "      <td id=\"T_69bca_row29_col0\" class=\"data row29 col0\" >Discard</td>\n",
       "      <td id=\"T_69bca_row29_col1\" class=\"data row29 col1\" >-</td>\n",
       "      <td id=\"T_69bca_row29_col2\" class=\"data row29 col2\" >Discard</td>\n",
       "      <td id=\"T_69bca_row29_col3\" class=\"data row29 col3\" >Keep</td>\n",
       "      <td id=\"T_69bca_row29_col4\" class=\"data row29 col4\" >Keep</td>\n",
       "      <td id=\"T_69bca_row29_col5\" class=\"data row29 col5\" >Keep</td>\n",
       "      <td id=\"T_69bca_row29_col6\" class=\"data row29 col6\" >60</td>\n",
       "      <td id=\"T_69bca_row29_col7\" class=\"data row29 col7\" >Keep</td>\n",
       "    </tr>\n",
       "    <tr>\n",
       "      <th id=\"T_69bca_level0_row30\" class=\"row_heading level0 row30\" >total_visists_pp</th>\n",
       "      <td id=\"T_69bca_row30_col0\" class=\"data row30 col0\" >Discard</td>\n",
       "      <td id=\"T_69bca_row30_col1\" class=\"data row30 col1\" >-</td>\n",
       "      <td id=\"T_69bca_row30_col2\" class=\"data row30 col2\" >Discard</td>\n",
       "      <td id=\"T_69bca_row30_col3\" class=\"data row30 col3\" >Keep</td>\n",
       "      <td id=\"T_69bca_row30_col4\" class=\"data row30 col4\" >Keep</td>\n",
       "      <td id=\"T_69bca_row30_col5\" class=\"data row30 col5\" >Keep</td>\n",
       "      <td id=\"T_69bca_row30_col6\" class=\"data row30 col6\" >60</td>\n",
       "      <td id=\"T_69bca_row30_col7\" class=\"data row30 col7\" >Keep</td>\n",
       "    </tr>\n",
       "    <tr>\n",
       "      <th id=\"T_69bca_level0_row31\" class=\"row_heading level0 row31\" >diag1_type</th>\n",
       "      <td id=\"T_69bca_row31_col0\" class=\"data row31 col0\" >-</td>\n",
       "      <td id=\"T_69bca_row31_col1\" class=\"data row31 col1\" >Keep</td>\n",
       "      <td id=\"T_69bca_row31_col2\" class=\"data row31 col2\" >Discard</td>\n",
       "      <td id=\"T_69bca_row31_col3\" class=\"data row31 col3\" >Keep</td>\n",
       "      <td id=\"T_69bca_row31_col4\" class=\"data row31 col4\" >Discard</td>\n",
       "      <td id=\"T_69bca_row31_col5\" class=\"data row31 col5\" >Keep</td>\n",
       "      <td id=\"T_69bca_row31_col6\" class=\"data row31 col6\" >60</td>\n",
       "      <td id=\"T_69bca_row31_col7\" class=\"data row31 col7\" >Keep</td>\n",
       "    </tr>\n",
       "    <tr>\n",
       "      <th id=\"T_69bca_level0_row32\" class=\"row_heading level0 row32\" >diag2_type</th>\n",
       "      <td id=\"T_69bca_row32_col0\" class=\"data row32 col0\" >-</td>\n",
       "      <td id=\"T_69bca_row32_col1\" class=\"data row32 col1\" >Keep</td>\n",
       "      <td id=\"T_69bca_row32_col2\" class=\"data row32 col2\" >Keep</td>\n",
       "      <td id=\"T_69bca_row32_col3\" class=\"data row32 col3\" >Keep</td>\n",
       "      <td id=\"T_69bca_row32_col4\" class=\"data row32 col4\" >Discard</td>\n",
       "      <td id=\"T_69bca_row32_col5\" class=\"data row32 col5\" >Keep</td>\n",
       "      <td id=\"T_69bca_row32_col6\" class=\"data row32 col6\" >80</td>\n",
       "      <td id=\"T_69bca_row32_col7\" class=\"data row32 col7\" >Keep</td>\n",
       "    </tr>\n",
       "    <tr>\n",
       "      <th id=\"T_69bca_level0_row33\" class=\"row_heading level0 row33\" >diag_add_type</th>\n",
       "      <td id=\"T_69bca_row33_col0\" class=\"data row33 col0\" >-</td>\n",
       "      <td id=\"T_69bca_row33_col1\" class=\"data row33 col1\" >Keep</td>\n",
       "      <td id=\"T_69bca_row33_col2\" class=\"data row33 col2\" >Discard</td>\n",
       "      <td id=\"T_69bca_row33_col3\" class=\"data row33 col3\" >Keep</td>\n",
       "      <td id=\"T_69bca_row33_col4\" class=\"data row33 col4\" >Discard</td>\n",
       "      <td id=\"T_69bca_row33_col5\" class=\"data row33 col5\" >Keep</td>\n",
       "      <td id=\"T_69bca_row33_col6\" class=\"data row33 col6\" >60</td>\n",
       "      <td id=\"T_69bca_row33_col7\" class=\"data row33 col7\" >Keep</td>\n",
       "    </tr>\n",
       "    <tr>\n",
       "      <th id=\"T_69bca_level0_row34\" class=\"row_heading level0 row34\" >diabetes_type</th>\n",
       "      <td id=\"T_69bca_row34_col0\" class=\"data row34 col0\" >-</td>\n",
       "      <td id=\"T_69bca_row34_col1\" class=\"data row34 col1\" >Keep</td>\n",
       "      <td id=\"T_69bca_row34_col2\" class=\"data row34 col2\" >Discard</td>\n",
       "      <td id=\"T_69bca_row34_col3\" class=\"data row34 col3\" >Keep</td>\n",
       "      <td id=\"T_69bca_row34_col4\" class=\"data row34 col4\" >Discard</td>\n",
       "      <td id=\"T_69bca_row34_col5\" class=\"data row34 col5\" >Discard</td>\n",
       "      <td id=\"T_69bca_row34_col6\" class=\"data row34 col6\" >40</td>\n",
       "      <td id=\"T_69bca_row34_col7\" class=\"data row34 col7\" >Discard</td>\n",
       "    </tr>\n",
       "  </tbody>\n",
       "</table>\n"
      ],
      "text/plain": [
       "<pandas.io.formats.style.Styler at 0x2574a4e8130>"
      ]
     },
     "execution_count": 132,
     "metadata": {},
     "output_type": "execute_result"
    }
   ],
   "source": [
    "data = pd.read_excel('FeatureSelection.xlsx', index_col='Variables')\n",
    "data['% Keep'] = (data['% Keep'] * 100).astype(int)\n",
    "def highlight_keep_rows(row):\n",
    "    if row['Decision'] == 'Keep':\n",
    "        return ['background-color: #d4edda'] * len(row)\n",
    "    else:\n",
    "        return [''] * len(row)\n",
    "styled_data = data.style.apply(highlight_keep_rows, axis=1)\n",
    "styled_data"
   ]
  },
  {
   "cell_type": "code",
   "execution_count": 133,
   "id": "808052bc",
   "metadata": {},
   "outputs": [],
   "source": [
    "X_train.drop(['race', 'gender', 'payer_code', 'outpatient', 'admission_type','avg_bpm',\n",
    "              'admission_source', 'non_lab_procedures', 'number_diagnoses', 'glucose', 'a1c', \n",
    "              'meds_change','prescribed_diabetes_meds', 'caucasian', 'insurance', 'diagnosis_count',\n",
    "              'total_procedures', 'age_group', 'diabetes_type'], axis=1, inplace=True)"
   ]
  },
  {
   "cell_type": "code",
   "execution_count": 134,
   "id": "4af95d6d",
   "metadata": {},
   "outputs": [],
   "source": [
    "X_val.drop(['race', 'gender', 'payer_code', 'outpatient', 'admission_type','avg_bpm',\n",
    "              'admission_source', 'non_lab_procedures', 'number_diagnoses', 'glucose', 'a1c', \n",
    "              'meds_change','prescribed_diabetes_meds', 'caucasian', 'insurance', 'diagnosis_count',\n",
    "              'total_procedures', 'age_group', 'diabetes_type'], axis=1, inplace=True)"
   ]
  },
  {
   "cell_type": "code",
   "execution_count": 135,
   "id": "e862667a",
   "metadata": {},
   "outputs": [],
   "source": [
    "X_test.drop(['race', 'gender', 'payer_code', 'outpatient', 'admission_type','avg_bpm',\n",
    "              'admission_source', 'non_lab_procedures', 'number_diagnoses', 'glucose', 'a1c', \n",
    "              'meds_change','prescribed_diabetes_meds', 'caucasian', 'insurance', 'diagnosis_count',\n",
    "              'total_procedures', 'age_group', 'diabetes_type'], axis=1, inplace=True)"
   ]
  },
  {
   "cell_type": "code",
   "execution_count": 136,
   "id": "4167bebc",
   "metadata": {},
   "outputs": [],
   "source": [
    "X_train_no_res.drop(['race', 'gender', 'payer_code', 'outpatient', 'admission_type','avg_bpm',\n",
    "              'admission_source', 'non_lab_procedures', 'number_diagnoses', 'glucose', 'a1c', \n",
    "              'meds_change','prescribed_diabetes_meds', 'caucasian', 'insurance', 'diagnosis_count',\n",
    "              'total_procedures', 'age_group', 'diabetes_type'], axis=1, inplace=True)"
   ]
  },
  {
   "cell_type": "markdown",
   "id": "e3230314",
   "metadata": {},
   "source": [
    "<hr style=\"border: 1px solid black;\">\n",
    "<a class=\"anchor\" id=\"models\"></a>\n",
    "\n",
    "# <span style=\"color:black\">13. Models </span>"
   ]
  },
  {
   "cell_type": "code",
   "execution_count": 137,
   "id": "458ef0df",
   "metadata": {},
   "outputs": [],
   "source": [
    "def metrics(y_train, pred_train , y_val, pred_val):\n",
    "    print('___________________________________________________________________________________________________________')\n",
    "    print('                                                     TRAIN                                                 ')\n",
    "    print('-----------------------------------------------------------------------------------------------------------')\n",
    "    print(classification_report(y_train, labels_train))\n",
    "    print(confusion_matrix(y_train, labels_train))\n",
    "\n",
    "\n",
    "    print('___________________________________________________________________________________________________________')\n",
    "    print('                                                VALIDATION                                                 ')\n",
    "    print('-----------------------------------------------------------------------------------------------------------')\n",
    "    print(classification_report(y_val, labels_val))\n",
    "    print(confusion_matrix(y_val, labels_val))"
   ]
  },
  {
   "cell_type": "markdown",
   "id": "61ca6ef5",
   "metadata": {},
   "source": [
    "<a class=\"anchor\" id=\"bayes\"></a>\n",
    "\n",
    "## <span style=\"color:black\">13.1. Bayes Classifier </span>"
   ]
  },
  {
   "cell_type": "markdown",
   "id": "a91c6675",
   "metadata": {},
   "source": [
    "* Default Parameteres"
   ]
  },
  {
   "cell_type": "code",
   "execution_count": 138,
   "id": "847bc00a",
   "metadata": {},
   "outputs": [],
   "source": [
    "model_bayes = GaussianNB().fit(X_train, y_train)"
   ]
  },
  {
   "cell_type": "code",
   "execution_count": 139,
   "id": "e6d8d979",
   "metadata": {
    "scrolled": true
   },
   "outputs": [
    {
     "data": {
      "text/html": [
       "<div>\n",
       "<style scoped>\n",
       "    .dataframe tbody tr th:only-of-type {\n",
       "        vertical-align: middle;\n",
       "    }\n",
       "\n",
       "    .dataframe tbody tr th {\n",
       "        vertical-align: top;\n",
       "    }\n",
       "\n",
       "    .dataframe thead th {\n",
       "        text-align: right;\n",
       "    }\n",
       "</style>\n",
       "<table border=\"1\" class=\"dataframe\">\n",
       "  <thead>\n",
       "    <tr style=\"text-align: right;\">\n",
       "      <th></th>\n",
       "      <th>age</th>\n",
       "      <th>emergency</th>\n",
       "      <th>inpatient</th>\n",
       "      <th>medical_specialty</th>\n",
       "      <th>discharge_disposition</th>\n",
       "      <th>stay_length</th>\n",
       "      <th>number_lab_tests</th>\n",
       "      <th>number_of_medications</th>\n",
       "      <th>medication</th>\n",
       "      <th>total_visits</th>\n",
       "      <th>encounter_count</th>\n",
       "      <th>avg_length_of_stay</th>\n",
       "      <th>total_visits_pp</th>\n",
       "      <th>diag1_type</th>\n",
       "      <th>diag2_type</th>\n",
       "      <th>diag_add_type</th>\n",
       "    </tr>\n",
       "    <tr>\n",
       "      <th>encounter_id</th>\n",
       "      <th></th>\n",
       "      <th></th>\n",
       "      <th></th>\n",
       "      <th></th>\n",
       "      <th></th>\n",
       "      <th></th>\n",
       "      <th></th>\n",
       "      <th></th>\n",
       "      <th></th>\n",
       "      <th></th>\n",
       "      <th></th>\n",
       "      <th></th>\n",
       "      <th></th>\n",
       "      <th></th>\n",
       "      <th></th>\n",
       "      <th></th>\n",
       "    </tr>\n",
       "  </thead>\n",
       "  <tbody>\n",
       "    <tr>\n",
       "      <th>477398</th>\n",
       "      <td>0.333333</td>\n",
       "      <td>0.000000</td>\n",
       "      <td>0.000000</td>\n",
       "      <td>0.678178</td>\n",
       "      <td>0.277633</td>\n",
       "      <td>0.153846</td>\n",
       "      <td>0.275000</td>\n",
       "      <td>0.291667</td>\n",
       "      <td>0.431617</td>\n",
       "      <td>0.000000</td>\n",
       "      <td>0.000000</td>\n",
       "      <td>0.153846</td>\n",
       "      <td>0.000000</td>\n",
       "      <td>0.273719</td>\n",
       "      <td>0.574890</td>\n",
       "      <td>0.632980</td>\n",
       "    </tr>\n",
       "    <tr>\n",
       "      <th>755102</th>\n",
       "      <td>0.266667</td>\n",
       "      <td>0.000000</td>\n",
       "      <td>0.000000</td>\n",
       "      <td>0.678178</td>\n",
       "      <td>0.154892</td>\n",
       "      <td>0.230769</td>\n",
       "      <td>0.166667</td>\n",
       "      <td>0.541667</td>\n",
       "      <td>0.549814</td>\n",
       "      <td>0.000000</td>\n",
       "      <td>0.000000</td>\n",
       "      <td>0.230769</td>\n",
       "      <td>0.000000</td>\n",
       "      <td>0.547572</td>\n",
       "      <td>0.643867</td>\n",
       "      <td>0.480852</td>\n",
       "    </tr>\n",
       "    <tr>\n",
       "      <th>620778</th>\n",
       "      <td>0.222222</td>\n",
       "      <td>0.000000</td>\n",
       "      <td>0.000000</td>\n",
       "      <td>0.678178</td>\n",
       "      <td>0.238033</td>\n",
       "      <td>0.153846</td>\n",
       "      <td>0.141667</td>\n",
       "      <td>0.250000</td>\n",
       "      <td>0.415963</td>\n",
       "      <td>0.000000</td>\n",
       "      <td>0.000000</td>\n",
       "      <td>0.153846</td>\n",
       "      <td>0.000000</td>\n",
       "      <td>0.547572</td>\n",
       "      <td>0.596337</td>\n",
       "      <td>0.858870</td>\n",
       "    </tr>\n",
       "    <tr>\n",
       "      <th>181365</th>\n",
       "      <td>0.222222</td>\n",
       "      <td>0.071429</td>\n",
       "      <td>0.333333</td>\n",
       "      <td>0.638485</td>\n",
       "      <td>0.277633</td>\n",
       "      <td>0.230769</td>\n",
       "      <td>0.250000</td>\n",
       "      <td>0.437500</td>\n",
       "      <td>0.549814</td>\n",
       "      <td>0.227273</td>\n",
       "      <td>0.166667</td>\n",
       "      <td>0.153846</td>\n",
       "      <td>0.100000</td>\n",
       "      <td>0.569467</td>\n",
       "      <td>0.633743</td>\n",
       "      <td>0.480852</td>\n",
       "    </tr>\n",
       "    <tr>\n",
       "      <th>393395</th>\n",
       "      <td>0.000000</td>\n",
       "      <td>0.000000</td>\n",
       "      <td>0.222222</td>\n",
       "      <td>0.678178</td>\n",
       "      <td>0.154892</td>\n",
       "      <td>0.153846</td>\n",
       "      <td>0.308333</td>\n",
       "      <td>0.250000</td>\n",
       "      <td>0.415963</td>\n",
       "      <td>0.227273</td>\n",
       "      <td>0.000000</td>\n",
       "      <td>0.153846</td>\n",
       "      <td>0.038462</td>\n",
       "      <td>0.444391</td>\n",
       "      <td>0.633743</td>\n",
       "      <td>0.480852</td>\n",
       "    </tr>\n",
       "    <tr>\n",
       "      <th>...</th>\n",
       "      <td>...</td>\n",
       "      <td>...</td>\n",
       "      <td>...</td>\n",
       "      <td>...</td>\n",
       "      <td>...</td>\n",
       "      <td>...</td>\n",
       "      <td>...</td>\n",
       "      <td>...</td>\n",
       "      <td>...</td>\n",
       "      <td>...</td>\n",
       "      <td>...</td>\n",
       "      <td>...</td>\n",
       "      <td>...</td>\n",
       "      <td>...</td>\n",
       "      <td>...</td>\n",
       "      <td>...</td>\n",
       "    </tr>\n",
       "    <tr>\n",
       "      <th>353214</th>\n",
       "      <td>0.111111</td>\n",
       "      <td>0.000000</td>\n",
       "      <td>0.000000</td>\n",
       "      <td>0.689522</td>\n",
       "      <td>0.154892</td>\n",
       "      <td>0.307692</td>\n",
       "      <td>0.575000</td>\n",
       "      <td>0.312500</td>\n",
       "      <td>0.483966</td>\n",
       "      <td>0.000000</td>\n",
       "      <td>0.000000</td>\n",
       "      <td>0.307692</td>\n",
       "      <td>0.000000</td>\n",
       "      <td>0.686131</td>\n",
       "      <td>0.574890</td>\n",
       "      <td>0.606310</td>\n",
       "    </tr>\n",
       "    <tr>\n",
       "      <th>630650</th>\n",
       "      <td>0.666667</td>\n",
       "      <td>0.000000</td>\n",
       "      <td>0.000000</td>\n",
       "      <td>0.638485</td>\n",
       "      <td>0.277633</td>\n",
       "      <td>0.923077</td>\n",
       "      <td>0.608333</td>\n",
       "      <td>0.354167</td>\n",
       "      <td>0.415963</td>\n",
       "      <td>0.000000</td>\n",
       "      <td>0.000000</td>\n",
       "      <td>0.923077</td>\n",
       "      <td>0.000000</td>\n",
       "      <td>0.444391</td>\n",
       "      <td>0.635293</td>\n",
       "      <td>0.480852</td>\n",
       "    </tr>\n",
       "    <tr>\n",
       "      <th>600806</th>\n",
       "      <td>0.222222</td>\n",
       "      <td>0.000000</td>\n",
       "      <td>0.000000</td>\n",
       "      <td>0.678178</td>\n",
       "      <td>0.154892</td>\n",
       "      <td>0.384615</td>\n",
       "      <td>0.508333</td>\n",
       "      <td>0.333333</td>\n",
       "      <td>0.461569</td>\n",
       "      <td>0.000000</td>\n",
       "      <td>0.000000</td>\n",
       "      <td>0.384615</td>\n",
       "      <td>0.000000</td>\n",
       "      <td>0.569467</td>\n",
       "      <td>0.633743</td>\n",
       "      <td>0.606310</td>\n",
       "    </tr>\n",
       "    <tr>\n",
       "      <th>399859</th>\n",
       "      <td>0.555556</td>\n",
       "      <td>0.000000</td>\n",
       "      <td>0.000000</td>\n",
       "      <td>0.638485</td>\n",
       "      <td>0.154892</td>\n",
       "      <td>0.076923</td>\n",
       "      <td>0.325000</td>\n",
       "      <td>0.250000</td>\n",
       "      <td>0.549814</td>\n",
       "      <td>0.000000</td>\n",
       "      <td>0.083333</td>\n",
       "      <td>0.192308</td>\n",
       "      <td>0.007692</td>\n",
       "      <td>0.273719</td>\n",
       "      <td>0.574890</td>\n",
       "      <td>0.606310</td>\n",
       "    </tr>\n",
       "    <tr>\n",
       "      <th>717626</th>\n",
       "      <td>0.222222</td>\n",
       "      <td>0.000000</td>\n",
       "      <td>0.222222</td>\n",
       "      <td>0.678178</td>\n",
       "      <td>0.154892</td>\n",
       "      <td>0.307692</td>\n",
       "      <td>0.166667</td>\n",
       "      <td>0.458333</td>\n",
       "      <td>0.468542</td>\n",
       "      <td>0.136364</td>\n",
       "      <td>0.000000</td>\n",
       "      <td>0.307692</td>\n",
       "      <td>0.023077</td>\n",
       "      <td>0.547572</td>\n",
       "      <td>0.640763</td>\n",
       "      <td>0.729597</td>\n",
       "    </tr>\n",
       "  </tbody>\n",
       "</table>\n",
       "<p>10954 rows × 16 columns</p>\n",
       "</div>"
      ],
      "text/plain": [
       "                   age  emergency  inpatient  medical_specialty  \\\n",
       "encounter_id                                                      \n",
       "477398        0.333333   0.000000   0.000000           0.678178   \n",
       "755102        0.266667   0.000000   0.000000           0.678178   \n",
       "620778        0.222222   0.000000   0.000000           0.678178   \n",
       "181365        0.222222   0.071429   0.333333           0.638485   \n",
       "393395        0.000000   0.000000   0.222222           0.678178   \n",
       "...                ...        ...        ...                ...   \n",
       "353214        0.111111   0.000000   0.000000           0.689522   \n",
       "630650        0.666667   0.000000   0.000000           0.638485   \n",
       "600806        0.222222   0.000000   0.000000           0.678178   \n",
       "399859        0.555556   0.000000   0.000000           0.638485   \n",
       "717626        0.222222   0.000000   0.222222           0.678178   \n",
       "\n",
       "              discharge_disposition  stay_length  number_lab_tests  \\\n",
       "encounter_id                                                         \n",
       "477398                     0.277633     0.153846          0.275000   \n",
       "755102                     0.154892     0.230769          0.166667   \n",
       "620778                     0.238033     0.153846          0.141667   \n",
       "181365                     0.277633     0.230769          0.250000   \n",
       "393395                     0.154892     0.153846          0.308333   \n",
       "...                             ...          ...               ...   \n",
       "353214                     0.154892     0.307692          0.575000   \n",
       "630650                     0.277633     0.923077          0.608333   \n",
       "600806                     0.154892     0.384615          0.508333   \n",
       "399859                     0.154892     0.076923          0.325000   \n",
       "717626                     0.154892     0.307692          0.166667   \n",
       "\n",
       "              number_of_medications  medication  total_visits  \\\n",
       "encounter_id                                                    \n",
       "477398                     0.291667    0.431617      0.000000   \n",
       "755102                     0.541667    0.549814      0.000000   \n",
       "620778                     0.250000    0.415963      0.000000   \n",
       "181365                     0.437500    0.549814      0.227273   \n",
       "393395                     0.250000    0.415963      0.227273   \n",
       "...                             ...         ...           ...   \n",
       "353214                     0.312500    0.483966      0.000000   \n",
       "630650                     0.354167    0.415963      0.000000   \n",
       "600806                     0.333333    0.461569      0.000000   \n",
       "399859                     0.250000    0.549814      0.000000   \n",
       "717626                     0.458333    0.468542      0.136364   \n",
       "\n",
       "              encounter_count  avg_length_of_stay  total_visits_pp  \\\n",
       "encounter_id                                                         \n",
       "477398               0.000000            0.153846         0.000000   \n",
       "755102               0.000000            0.230769         0.000000   \n",
       "620778               0.000000            0.153846         0.000000   \n",
       "181365               0.166667            0.153846         0.100000   \n",
       "393395               0.000000            0.153846         0.038462   \n",
       "...                       ...                 ...              ...   \n",
       "353214               0.000000            0.307692         0.000000   \n",
       "630650               0.000000            0.923077         0.000000   \n",
       "600806               0.000000            0.384615         0.000000   \n",
       "399859               0.083333            0.192308         0.007692   \n",
       "717626               0.000000            0.307692         0.023077   \n",
       "\n",
       "              diag1_type  diag2_type  diag_add_type  \n",
       "encounter_id                                         \n",
       "477398          0.273719    0.574890       0.632980  \n",
       "755102          0.547572    0.643867       0.480852  \n",
       "620778          0.547572    0.596337       0.858870  \n",
       "181365          0.569467    0.633743       0.480852  \n",
       "393395          0.444391    0.633743       0.480852  \n",
       "...                  ...         ...            ...  \n",
       "353214          0.686131    0.574890       0.606310  \n",
       "630650          0.444391    0.635293       0.480852  \n",
       "600806          0.569467    0.633743       0.606310  \n",
       "399859          0.273719    0.574890       0.606310  \n",
       "717626          0.547572    0.640763       0.729597  \n",
       "\n",
       "[10954 rows x 16 columns]"
      ]
     },
     "execution_count": 139,
     "metadata": {},
     "output_type": "execute_result"
    }
   ],
   "source": [
    "X_train"
   ]
  },
  {
   "cell_type": "code",
   "execution_count": 140,
   "id": "83561456",
   "metadata": {
    "scrolled": true
   },
   "outputs": [],
   "source": [
    "labels_train = model_bayes.predict(X_train)\n",
    "labels_val = model_bayes.predict(X_val)"
   ]
  },
  {
   "cell_type": "code",
   "execution_count": 141,
   "id": "387c2ad4",
   "metadata": {
    "scrolled": true
   },
   "outputs": [
    {
     "data": {
      "text/plain": [
       "array([[0.17896839, 0.82103161],\n",
       "       [0.97313202, 0.02686798],\n",
       "       [0.909621  , 0.090379  ],\n",
       "       ...,\n",
       "       [0.97690019, 0.02309981],\n",
       "       [0.99297746, 0.00702254],\n",
       "       [0.97841342, 0.02158658]])"
      ]
     },
     "execution_count": 141,
     "metadata": {},
     "output_type": "execute_result"
    }
   ],
   "source": [
    "model_bayes.predict_proba(X_val)"
   ]
  },
  {
   "cell_type": "code",
   "execution_count": 142,
   "id": "54417ea1",
   "metadata": {},
   "outputs": [
    {
     "name": "stdout",
     "output_type": "stream",
     "text": [
      "Train: 0.45922800049646273\n",
      "Validation: 0.2634939059779454\n"
     ]
    }
   ],
   "source": [
    "print('Train:', f1_score(y_train, labels_train))\n",
    "print('Validation:', f1_score(y_val, labels_val))"
   ]
  },
  {
   "cell_type": "code",
   "execution_count": 143,
   "id": "62da3e00",
   "metadata": {
    "scrolled": false
   },
   "outputs": [
    {
     "name": "stdout",
     "output_type": "stream",
     "text": [
      "___________________________________________________________________________________________________________\n",
      "                                                     TRAIN                                                 \n",
      "-----------------------------------------------------------------------------------------------------------\n",
      "              precision    recall  f1-score   support\n",
      "\n",
      "           0       0.57      0.87      0.69      5477\n",
      "           1       0.72      0.34      0.46      5477\n",
      "\n",
      "    accuracy                           0.60     10954\n",
      "   macro avg       0.64      0.60      0.57     10954\n",
      "weighted avg       0.64      0.60      0.57     10954\n",
      "\n",
      "[[4747  730]\n",
      " [3627 1850]]\n",
      "___________________________________________________________________________________________________________\n",
      "                                                VALIDATION                                                 \n",
      "-----------------------------------------------------------------------------------------------------------\n",
      "              precision    recall  f1-score   support\n",
      "\n",
      "           0       0.91      0.89      0.90     18649\n",
      "           1       0.24      0.29      0.26      2385\n",
      "\n",
      "    accuracy                           0.82     21034\n",
      "   macro avg       0.58      0.59      0.58     21034\n",
      "weighted avg       0.83      0.82      0.83     21034\n",
      "\n",
      "[[16546  2103]\n",
      " [ 1704   681]]\n"
     ]
    }
   ],
   "source": [
    "metrics(y_train, labels_train, y_val, labels_val)"
   ]
  },
  {
   "cell_type": "markdown",
   "id": "d6ac9d31",
   "metadata": {},
   "source": [
    "<a class=\"anchor\" id=\"knnmodel\"></a>\n",
    "\n",
    "## <span style=\"color:black\">13.2. KNN </span>"
   ]
  },
  {
   "cell_type": "markdown",
   "id": "bf4f3ad7",
   "metadata": {},
   "source": [
    "Default Parameters"
   ]
  },
  {
   "cell_type": "code",
   "execution_count": 144,
   "id": "395de457",
   "metadata": {},
   "outputs": [],
   "source": [
    "modelKNNT = KNeighborsClassifier().fit(X_train, y_train)"
   ]
  },
  {
   "cell_type": "code",
   "execution_count": 145,
   "id": "a3cf64f5",
   "metadata": {},
   "outputs": [],
   "source": [
    "labels_train = modelKNNT.predict(X_train)\n",
    "labels_val = modelKNNT.predict(X_val)"
   ]
  },
  {
   "cell_type": "code",
   "execution_count": 146,
   "id": "6c8b8970",
   "metadata": {},
   "outputs": [
    {
     "name": "stdout",
     "output_type": "stream",
     "text": [
      "Train: 0.7174591171188204\n",
      "Validation: 0.24283163533242308\n"
     ]
    }
   ],
   "source": [
    "print('Train:',f1_score(y_train, labels_train))\n",
    "print('Validation:', f1_score(y_val, labels_val))"
   ]
  },
  {
   "cell_type": "code",
   "execution_count": 147,
   "id": "f36f725a",
   "metadata": {},
   "outputs": [
    {
     "name": "stdout",
     "output_type": "stream",
     "text": [
      "___________________________________________________________________________________________________________\n",
      "                                                     TRAIN                                                 \n",
      "-----------------------------------------------------------------------------------------------------------\n",
      "              precision    recall  f1-score   support\n",
      "\n",
      "           0       0.71      0.76      0.74      5477\n",
      "           1       0.74      0.69      0.72      5477\n",
      "\n",
      "    accuracy                           0.73     10954\n",
      "   macro avg       0.73      0.73      0.73     10954\n",
      "weighted avg       0.73      0.73      0.73     10954\n",
      "\n",
      "[[4170 1307]\n",
      " [1682 3795]]\n",
      "___________________________________________________________________________________________________________\n",
      "                                                VALIDATION                                                 \n",
      "-----------------------------------------------------------------------------------------------------------\n",
      "              precision    recall  f1-score   support\n",
      "\n",
      "           0       0.91      0.68      0.78     18649\n",
      "           1       0.16      0.48      0.24      2385\n",
      "\n",
      "    accuracy                           0.66     21034\n",
      "   macro avg       0.54      0.58      0.51     21034\n",
      "weighted avg       0.83      0.66      0.72     21034\n",
      "\n",
      "[[12669  5980]\n",
      " [ 1229  1156]]\n"
     ]
    }
   ],
   "source": [
    "metrics(y_train, labels_train, y_val, labels_val)"
   ]
  },
  {
   "cell_type": "code",
   "execution_count": 148,
   "id": "6cccb68c",
   "metadata": {},
   "outputs": [],
   "source": [
    "# clf = GridSearchCV(estimator=KNeighborsClassifier(),\n",
    "#                    param_grid={\n",
    "#                        'algorithm': ['ball_tree', 'kd_tree', 'brute'],\n",
    "#                        'weights': ['uniform', 'distance'],\n",
    "#                        'leaf_size':\n",
    "#                        (5, 50, 100),\n",
    "#                        'n_jobs': (1, -1, -2),\n",
    "#                        'n_neighbors':[1,5,10]\n",
    "#                    })\n",
    "# clf.fit(X_train, y_train)\n",
    "# clf.best_params_"
   ]
  },
  {
   "cell_type": "code",
   "execution_count": 149,
   "id": "b286211b",
   "metadata": {},
   "outputs": [
    {
     "name": "stdout",
     "output_type": "stream",
     "text": [
      "Best number of neighbors: 19\n",
      "Mean F1 score in train with 19 neighbors: 0.644610\n",
      "Mean F1 score in validation with 19 neighbors: 0.273782\n"
     ]
    }
   ],
   "source": [
    "# numberK_list = np.arange(1, 20)\n",
    "# high_score = 0\n",
    "# best_f1_score = 0\n",
    "# best_nof = 0\n",
    "# score_list_train = []\n",
    "# score_list_val = []\n",
    "# f1_list_train = []\n",
    "# f1_list_val = []\n",
    "# for n in numberK_list:\n",
    "#     model = KNeighborsClassifier(n_neighbors=n).fit(X_train, y_train)\n",
    "#     score_train = model.score(X_train, y_train)\n",
    "#     score_val = model.score(X_val, y_val)\n",
    "#     score_list_train.append(score_train)\n",
    "#     score_list_val.append(score_val)\n",
    "\n",
    "#     y_pred_train = model.predict(X_train)\n",
    "#     y_pred_val = model.predict(X_val)\n",
    "\n",
    "#     f1_train = f1_score(y_train, y_pred_train)\n",
    "#     f1_val = f1_score(y_val, y_pred_val)\n",
    "\n",
    "#     f1_list_train.append(f1_train)\n",
    "#     f1_list_val.append(f1_val)\n",
    "\n",
    "#     if f1_val > high_score:\n",
    "#         high_score = f1_val\n",
    "#         best_f1_score = f1_list_val[n - 1]\n",
    "#         best_nof = numberK_list[n - 1]\n",
    "\n",
    "# print(\"Best number of neighbors: %d\" % best_nof)\n",
    "# print(\"Mean F1 score in train with %d neighbors: %f\" % (best_nof, f1_list_train[best_nof - 1]))\n",
    "# print(\"Mean F1 score in validation with %d neighbors: %f\" % (best_nof, best_f1_score))"
   ]
  },
  {
   "cell_type": "code",
   "execution_count": 150,
   "id": "913148c1",
   "metadata": {},
   "outputs": [
    {
     "name": "stdout",
     "output_type": "stream",
     "text": [
      "Best Hyperparameters: {'algorithm': 'brute', 'leaf_size': 66, 'n_jobs': -1, 'n_neighbors': 47, 'weights': 'distance'}\n",
      "Train: 1.0\n",
      "Validation: 0.28332044341325086\n"
     ]
    }
   ],
   "source": [
    "# param_dist = {\n",
    "#     'algorithm': ['ball_tree', 'kd_tree', 'brute'],\n",
    "#     'weights': ['uniform', 'distance'],\n",
    "#     'leaf_size':randint(5, 100),\n",
    "#     'n_jobs': (1, -1, -2),\n",
    "#     'n_neighbors':randint(1, 50)\n",
    "# }\n",
    "\n",
    "# base_model = KNeighborsClassifier()\n",
    "\n",
    "# random_search = RandomizedSearchCV(\n",
    "#     base_model,\n",
    "#     param_distributions=param_dist,\n",
    "#     n_iter=10, \n",
    "#     cv=5,      \n",
    "#     scoring='f1',  \n",
    "#     random_state=42,\n",
    "#     n_jobs=-1,\n",
    "# )\n",
    "\n",
    "# random_search.fit(X_train, y_train)\n",
    "\n",
    "# print(\"Best Hyperparameters:\", random_search.best_params_)\n",
    "\n",
    "# best_model = random_search.best_estimator_\n",
    "\n",
    "# train_pred = best_model.predict(X_train)\n",
    "# train_f1 = f1_score(y_train, train_pred)\n",
    "# print(\"Train:\", train_f1)\n",
    "\n",
    "# val_pred = best_model.predict(X_val)\n",
    "# val_f1 = f1_score(y_val, val_pred)\n",
    "# print(\"Validation:\", val_f1)"
   ]
  },
  {
   "cell_type": "code",
   "execution_count": 151,
   "id": "b8dae2b6",
   "metadata": {},
   "outputs": [],
   "source": [
    "modelKNNT = KNeighborsClassifier(algorithm='brute', leaf_size=56, n_jobs=1, n_neighbors=19, weights='uniform').fit(X_train, y_train)"
   ]
  },
  {
   "cell_type": "code",
   "execution_count": 152,
   "id": "38f89898",
   "metadata": {},
   "outputs": [],
   "source": [
    "labels_train = modelKNNT.predict(X_train)\n",
    "labels_val = modelKNNT.predict(X_val)"
   ]
  },
  {
   "cell_type": "code",
   "execution_count": 153,
   "id": "a1cfa484",
   "metadata": {},
   "outputs": [
    {
     "name": "stdout",
     "output_type": "stream",
     "text": [
      "Train: 0.6446102493618693\n",
      "Validation: 0.2737824578197918\n"
     ]
    }
   ],
   "source": [
    "print('Train:',f1_score(y_train, labels_train))\n",
    "print('Validation:', f1_score(y_val, labels_val))"
   ]
  },
  {
   "cell_type": "markdown",
   "id": "695cdcf9",
   "metadata": {},
   "source": [
    "<a class=\"anchor\" id=\"dt\"></a>\n",
    "\n",
    "## <span style=\"color:black\">13.3. Decision Trees </span>"
   ]
  },
  {
   "cell_type": "code",
   "execution_count": 154,
   "id": "c5bd3b4f",
   "metadata": {},
   "outputs": [],
   "source": [
    "modelDT = DecisionTreeClassifier(random_state=42, class_weight = 'balanced').fit(X_train_no_res, y_train_no_res)"
   ]
  },
  {
   "cell_type": "code",
   "execution_count": 155,
   "id": "c4c9706d",
   "metadata": {},
   "outputs": [],
   "source": [
    "labels_train =modelDT.predict(X_train_no_res)\n",
    "labels_val = modelDT.predict(X_val)"
   ]
  },
  {
   "cell_type": "code",
   "execution_count": 156,
   "id": "1d4ee879",
   "metadata": {},
   "outputs": [
    {
     "name": "stdout",
     "output_type": "stream",
     "text": [
      "Train: 1.0\n",
      "Validation: 0.18363360104189277\n"
     ]
    }
   ],
   "source": [
    "print('Train:', f1_score(y_train_no_res, labels_train))\n",
    "print('Validation:', f1_score(y_val, labels_val))"
   ]
  },
  {
   "cell_type": "code",
   "execution_count": 157,
   "id": "ad577456",
   "metadata": {
    "scrolled": true
   },
   "outputs": [
    {
     "name": "stdout",
     "output_type": "stream",
     "text": [
      "___________________________________________________________________________________________________________\n",
      "                                                     TRAIN                                                 \n",
      "-----------------------------------------------------------------------------------------------------------\n",
      "              precision    recall  f1-score   support\n",
      "\n",
      "           0       1.00      1.00      1.00     43005\n",
      "           1       1.00      1.00      1.00      5477\n",
      "\n",
      "    accuracy                           1.00     48482\n",
      "   macro avg       1.00      1.00      1.00     48482\n",
      "weighted avg       1.00      1.00      1.00     48482\n",
      "\n",
      "[[43005     0]\n",
      " [    0  5477]]\n",
      "___________________________________________________________________________________________________________\n",
      "                                                VALIDATION                                                 \n",
      "-----------------------------------------------------------------------------------------------------------\n",
      "              precision    recall  f1-score   support\n",
      "\n",
      "           0       0.90      0.90      0.90     18649\n",
      "           1       0.19      0.18      0.18      2385\n",
      "\n",
      "    accuracy                           0.82     21034\n",
      "   macro avg       0.54      0.54      0.54     21034\n",
      "weighted avg       0.82      0.82      0.82     21034\n",
      "\n",
      "[[16850  1799]\n",
      " [ 1962   423]]\n"
     ]
    }
   ],
   "source": [
    "metrics(y_train_no_res, labels_train, y_val, labels_val)"
   ]
  },
  {
   "cell_type": "code",
   "execution_count": null,
   "id": "d336c14a",
   "metadata": {},
   "outputs": [],
   "source": [
    "# dt_grid_search = GridSearchCV(estimator=DecisionTreeClassifier(),\n",
    "#                    param_grid={\n",
    "#                        'criterion': ['gini', 'entropy', 'log_loss'],\n",
    "#                        'splitter': ['best', 'random'],\n",
    "#                        'max_depth': [2,3,4,5,6],\n",
    "#                        'max_features': [2,4,6,8, None],\n",
    "#                        'max_leaf_nodes': [4,8,12, None]\n",
    "#                    })\n",
    "# dt_grid_search.fit(X_train, y_train)\n",
    "# dt_grid_search.best_params_"
   ]
  },
  {
   "cell_type": "code",
   "execution_count": 158,
   "id": "3cb05ac7",
   "metadata": {},
   "outputs": [
    {
     "name": "stdout",
     "output_type": "stream",
     "text": [
      "Best Hyperparameters: {'splitter': 'random', 'max_leaf_nodes': None, 'max_features': 6, 'max_depth': 20, 'criterion': 'entropy'}\n",
      "Train F1-score: 0.518821992637454\n",
      "Validation F1-score: 0.23712132861756113\n"
     ]
    }
   ],
   "source": [
    "# param_dist = {\n",
    "#    'criterion': ['gini', 'entropy', 'log_loss'],\n",
    "#                        'splitter': ['best', 'random'],\n",
    "#                        'max_depth': (1,20),\n",
    "#                        'max_features': [2,4,6,8, None],\n",
    "#                        'max_leaf_nodes': [4,8,12, None]\n",
    "# }\n",
    "\n",
    "# base_model = DecisionTreeClassifier(random_state=42, class_weight = 'balanced')\n",
    "\n",
    "# random_search = RandomizedSearchCV(\n",
    "#     base_model,\n",
    "#     param_distributions=param_dist,\n",
    "#     n_iter=10, \n",
    "#     cv=5,      \n",
    "#     scoring='f1',  \n",
    "#     random_state=42,\n",
    "#     n_jobs=-1,\n",
    "# )\n",
    "\n",
    "# random_search.fit(X_train_no_res, y_train_no_res)\n",
    "\n",
    "# print(\"Best Hyperparameters:\", random_search.best_params_)\n",
    "\n",
    "# best_model = random_search.best_estimator_\n",
    "\n",
    "# train_pred = best_model.predict(X_train_no_res)\n",
    "# train_f1 = f1_score(y_train_no_res, train_pred)\n",
    "# print(\"Train F1-score:\", train_f1)\n",
    "\n",
    "# val_pred = best_model.predict(X_val)\n",
    "# val_f1 = f1_score(y_val, val_pred)\n",
    "# print(\"Validation F1-score:\", val_f1)"
   ]
  },
  {
   "cell_type": "code",
   "execution_count": 159,
   "id": "07662bc4",
   "metadata": {},
   "outputs": [
    {
     "name": "stdout",
     "output_type": "stream",
     "text": [
      "Train: 0.3320661565045668\n",
      "Validation: 0.30251625671473\n"
     ]
    }
   ],
   "source": [
    "modelDT = DecisionTreeClassifier(splitter= 'best', max_leaf_nodes = 6, max_features=10, max_depth=2, \n",
    "                                 criterion='gini', random_state=42, class_weight = 'balanced')\n",
    "modelDT.fit(X_train_no_res, y_train_no_res)\n",
    "labels_train =modelDT.predict(X_train_no_res)\n",
    "labels_val = modelDT.predict(X_val)\n",
    "print('Train:', f1_score(y_train_no_res,labels_train))\n",
    "print('Validation:', f1_score(y_val,labels_val))"
   ]
  },
  {
   "cell_type": "markdown",
   "id": "e532a75c",
   "metadata": {},
   "source": [
    "<a class=\"anchor\" id=\"lr\"></a>\n",
    "## <span style=\"color:black\">13.4. Logistic Regression </span>"
   ]
  },
  {
   "cell_type": "code",
   "execution_count": 160,
   "id": "69862e94",
   "metadata": {},
   "outputs": [],
   "source": [
    "log_reg = LogisticRegression(class_weight='balanced', random_state=42).fit(X_train_no_res, y_train_no_res)"
   ]
  },
  {
   "cell_type": "code",
   "execution_count": 161,
   "id": "68f7c29a",
   "metadata": {},
   "outputs": [],
   "source": [
    "labels_train = log_reg.predict(X_train_no_res)\n",
    "labels_val = log_reg.predict(X_val)"
   ]
  },
  {
   "cell_type": "code",
   "execution_count": 162,
   "id": "84c0e925",
   "metadata": {},
   "outputs": [
    {
     "data": {
      "text/plain": [
       "array([[0.52661558, 0.47338442],\n",
       "       [0.63222562, 0.36777438],\n",
       "       [0.53977805, 0.46022195],\n",
       "       ...,\n",
       "       [0.68373432, 0.31626568],\n",
       "       [0.75836783, 0.24163217],\n",
       "       [0.71856601, 0.28143399]])"
      ]
     },
     "execution_count": 162,
     "metadata": {},
     "output_type": "execute_result"
    }
   ],
   "source": [
    "log_reg.predict_proba(X_val)"
   ]
  },
  {
   "cell_type": "code",
   "execution_count": 163,
   "id": "bdc76925",
   "metadata": {},
   "outputs": [
    {
     "name": "stdout",
     "output_type": "stream",
     "text": [
      "Train: 0.31323760818253343\n",
      "Validation: 0.2887686062246279\n"
     ]
    }
   ],
   "source": [
    "print('Train:', f1_score(y_train_no_res, labels_train))\n",
    "print('Validation:', f1_score(y_val, labels_val))"
   ]
  },
  {
   "cell_type": "code",
   "execution_count": 164,
   "id": "ab507a07",
   "metadata": {
    "scrolled": true
   },
   "outputs": [
    {
     "name": "stdout",
     "output_type": "stream",
     "text": [
      "___________________________________________________________________________________________________________\n",
      "                                                     TRAIN                                                 \n",
      "-----------------------------------------------------------------------------------------------------------\n",
      "              precision    recall  f1-score   support\n",
      "\n",
      "           0       0.93      0.73      0.82     43005\n",
      "           1       0.21      0.58      0.31      5477\n",
      "\n",
      "    accuracy                           0.71     48482\n",
      "   macro avg       0.57      0.66      0.57     48482\n",
      "weighted avg       0.85      0.71      0.76     48482\n",
      "\n",
      "[[31331 11674]\n",
      " [ 2292  3185]]\n",
      "___________________________________________________________________________________________________________\n",
      "                                                VALIDATION                                                 \n",
      "-----------------------------------------------------------------------------------------------------------\n",
      "              precision    recall  f1-score   support\n",
      "\n",
      "           0       0.92      0.79      0.85     18649\n",
      "           1       0.21      0.45      0.29      2385\n",
      "\n",
      "    accuracy                           0.75     21034\n",
      "   macro avg       0.57      0.62      0.57     21034\n",
      "weighted avg       0.84      0.75      0.78     21034\n",
      "\n",
      "[[14711  3938]\n",
      " [ 1318  1067]]\n"
     ]
    }
   ],
   "source": [
    "metrics(y_train_no_res, labels_train, y_val, labels_val)"
   ]
  },
  {
   "cell_type": "code",
   "execution_count": 165,
   "id": "51740dd2",
   "metadata": {},
   "outputs": [],
   "source": [
    "log_reg = LogisticRegression(class_weight='balanced', max_iter=500, random_state=42).fit(X_train_no_res, y_train_no_res)"
   ]
  },
  {
   "cell_type": "code",
   "execution_count": 166,
   "id": "10434a78",
   "metadata": {},
   "outputs": [],
   "source": [
    "labels_train = log_reg.predict(X_train_no_res)\n",
    "labels_val = log_reg.predict(X_val)"
   ]
  },
  {
   "cell_type": "code",
   "execution_count": 167,
   "id": "69296c40",
   "metadata": {},
   "outputs": [
    {
     "name": "stdout",
     "output_type": "stream",
     "text": [
      "Train: 0.31323760818253343\n",
      "Validation: 0.2887686062246279\n"
     ]
    }
   ],
   "source": [
    "print('Train:', f1_score(y_train_no_res, labels_train))\n",
    "print('Validation:', f1_score(y_val, labels_val))"
   ]
  },
  {
   "cell_type": "markdown",
   "id": "95fdf3b6",
   "metadata": {},
   "source": [
    "<a class=\"anchor\" id=\"nn\"></a>\n",
    "\n",
    "## <span style=\"color:black\">13.5. Neural Network </span>"
   ]
  },
  {
   "cell_type": "code",
   "execution_count": 168,
   "id": "2ca53218",
   "metadata": {},
   "outputs": [],
   "source": [
    "modelNN = MLPClassifier(random_state=42).fit(X_train, y_train)"
   ]
  },
  {
   "cell_type": "code",
   "execution_count": 169,
   "id": "b78c1a21",
   "metadata": {},
   "outputs": [],
   "source": [
    "labels_train = modelNN.predict(X_train)\n",
    "labels_val = modelNN.predict(X_val)"
   ]
  },
  {
   "cell_type": "code",
   "execution_count": 170,
   "id": "ba56dd82",
   "metadata": {},
   "outputs": [
    {
     "name": "stdout",
     "output_type": "stream",
     "text": [
      "Train: 0.686195601310248\n",
      "Validation: 0.31497051072907517\n"
     ]
    }
   ],
   "source": [
    "print('Train:', f1_score(labels_train, y_train))\n",
    "print('Validation:', f1_score(labels_val, y_val)) "
   ]
  },
  {
   "cell_type": "code",
   "execution_count": 171,
   "id": "b5b19ab4",
   "metadata": {},
   "outputs": [],
   "source": [
    "# NN = GridSearchCV(estimator=MLPClassifier(max_iter=1000000, warm_start=True),\n",
    "#                    param_grid={\n",
    "#                        'solver': ['adam', 'sgd', 'lbfgs'],\n",
    "#                        'learning_rate' = ['adaptive', 'invscaling', 'constant'],\n",
    "#                        'batch_size': (10, 20, 40, 60, 80, 100),\n",
    "#                        'activation': ['identity', 'relu', 'logistic', 'tanh'],\n",
    "#                        'hidden_layer_sizes':\n",
    "#                        (8, 100, 500, [100, 100], [100, 100, 100],\n",
    "#                         [100, 100, 100, 100, 100])\n",
    "#                    })\n",
    "# NN.fit(X_train, y_train)\n",
    "# NN.best_params_"
   ]
  },
  {
   "cell_type": "code",
   "execution_count": 172,
   "id": "91d41842",
   "metadata": {},
   "outputs": [
    {
     "name": "stdout",
     "output_type": "stream",
     "text": [
      "Best Hyperparameters: {'activation': 'tanh', 'batch_size': 67, 'hidden_layer_sizes': 100, 'learning_rate': 'adaptive', 'solver': 'adam'}\n",
      "Train F1-score: 0.6763320712900545\n",
      "Validation F1-score: 0.318517591085514\n"
     ]
    }
   ],
   "source": [
    "# param_dist = {\n",
    "#    'solver': ['adam', 'sgd', 'lbfgs'],\n",
    "#                        'learning_rate' : ['adaptive', 'invscaling', 'constant'],\n",
    "#                        'batch_size': randint(10, 100),\n",
    "#                        'activation': ['identity', 'relu', 'logistic', 'tanh'],\n",
    "#                        'hidden_layer_sizes':\n",
    "#                        (8, 100, 500, [100, 100]\n",
    "#                         )\n",
    "# }\n",
    "\n",
    "# base_model = MLPClassifier(random_state=42)\n",
    "\n",
    "# random_search = RandomizedSearchCV(\n",
    "#     base_model,\n",
    "#     param_distributions=param_dist,\n",
    "#     n_iter=10, \n",
    "#     cv=5,      \n",
    "#     scoring='f1',  \n",
    "#     random_state=42,\n",
    "#     n_jobs=-1,\n",
    "# )\n",
    "\n",
    "# random_search.fit(X_train, y_train)\n",
    "\n",
    "# print(\"Best Hyperparameters:\", random_search.best_params_)\n",
    "\n",
    "# best_model = random_search.best_estimator_\n",
    "\n",
    "# train_pred = best_model.predict(X_train)\n",
    "# train_f1 = f1_score(y_train, train_pred)\n",
    "# print(\"Train F1-score:\", train_f1)\n",
    "\n",
    "# val_pred = best_model.predict(X_val)\n",
    "# val_f1 = f1_score(y_val, val_pred)\n",
    "# print(\"Validation F1-score:\", val_f1)"
   ]
  },
  {
   "cell_type": "code",
   "execution_count": 173,
   "id": "dfe5e420",
   "metadata": {},
   "outputs": [],
   "source": [
    "modelNN = MLPClassifier(activation = 'tanh', \n",
    "                        batch_size = 50, hidden_layer_sizes = 100, \n",
    "                        learning_rate = 'adaptive', solver = 'adam',\n",
    "                       random_state=42).fit(X_train, y_train)"
   ]
  },
  {
   "cell_type": "code",
   "execution_count": 174,
   "id": "171a389c",
   "metadata": {},
   "outputs": [],
   "source": [
    "labels_train = modelNN.predict(X_train)\n",
    "labels_val kn= modelNN.predict(X_val)"
   ]
  },
  {
   "cell_type": "code",
   "execution_count": 175,
   "id": "b1578cba",
   "metadata": {},
   "outputs": [
    {
     "name": "stdout",
     "output_type": "stream",
     "text": [
      "Train: 0.6682491454614509\n",
      "Validation: 0.31962365591397845\n"
     ]
    }
   ],
   "source": [
    "print('Train:', f1_score(y_train, labels_train))\n",
    "print('Validation:', f1_score(y_val, labels_val))"
   ]
  },
  {
   "cell_type": "code",
   "execution_count": 176,
   "id": "8456ba50",
   "metadata": {},
   "outputs": [
    {
     "name": "stdout",
     "output_type": "stream",
     "text": [
      "___________________________________________________________________________________________________________\n",
      "                                                     TRAIN                                                 \n",
      "-----------------------------------------------------------------------------------------------------------\n",
      "              precision    recall  f1-score   support\n",
      "\n",
      "           0       0.67      0.72      0.69      5477\n",
      "           1       0.70      0.64      0.67      5477\n",
      "\n",
      "    accuracy                           0.68     10954\n",
      "   macro avg       0.68      0.68      0.68     10954\n",
      "weighted avg       0.68      0.68      0.68     10954\n",
      "\n",
      "[[3941 1536]\n",
      " [1958 3519]]\n",
      "___________________________________________________________________________________________________________\n",
      "                                                VALIDATION                                                 \n",
      "-----------------------------------------------------------------------------------------------------------\n",
      "              precision    recall  f1-score   support\n",
      "\n",
      "           0       0.93      0.79      0.85     18649\n",
      "           1       0.24      0.50      0.32      2385\n",
      "\n",
      "    accuracy                           0.76     21034\n",
      "   macro avg       0.58      0.65      0.59     21034\n",
      "weighted avg       0.85      0.76      0.79     21034\n",
      "\n",
      "[[14783  3866]\n",
      " [ 1196  1189]]\n"
     ]
    }
   ],
   "source": [
    "metrics(y_train, labels_train, y_val, labels_val)"
   ]
  },
  {
   "cell_type": "markdown",
   "id": "4186d902",
   "metadata": {},
   "source": [
    "<a class=\"anchor\" id=\"svm\"></a>\n",
    "\n",
    "## <span style=\"color:black\">13.6. Suport Vector Machines </span>"
   ]
  },
  {
   "cell_type": "code",
   "execution_count": 177,
   "id": "143be1ab",
   "metadata": {},
   "outputs": [],
   "source": [
    "modelSVM = SVC(kernel='linear', class_weight = 'balanced').fit(X_train_no_res, y_train_no_res)"
   ]
  },
  {
   "cell_type": "code",
   "execution_count": 178,
   "id": "0f24056e",
   "metadata": {},
   "outputs": [],
   "source": [
    "labels_train = modelSVM.predict(X_train_no_res)\n",
    "labels_val = modelSVM.predict(X_val)"
   ]
  },
  {
   "cell_type": "code",
   "execution_count": 179,
   "id": "49949cd4",
   "metadata": {},
   "outputs": [
    {
     "name": "stdout",
     "output_type": "stream",
     "text": [
      "Train: 0.31755369332371386\n",
      "Validation 0.29698149951314506\n"
     ]
    }
   ],
   "source": [
    "print('Train:', f1_score(labels_train, y_train_no_res))\n",
    "print('Validation', f1_score(labels_val, y_val))"
   ]
  },
  {
   "cell_type": "code",
   "execution_count": 180,
   "id": "cb8937c5",
   "metadata": {},
   "outputs": [],
   "source": [
    "# clf = GridSearchCV(estimator=svm.SVC(),\n",
    "#                    param_grid={\n",
    "#                        'C': [10, 100, 1000, 1500, 2000],\n",
    "#                        'gamma': [1, 0.1, 0.01, 0.001, 0.0001, 1.5, 2],\n",
    "#                        'kernel': ['rbf', 'linear']\n",
    "#                    })\n",
    "# clf.fit(final_dataset, target)\n",
    "# clf.best_params_"
   ]
  },
  {
   "cell_type": "code",
   "execution_count": 182,
   "id": "88983f2c",
   "metadata": {
    "scrolled": true
   },
   "outputs": [
    {
     "name": "stdout",
     "output_type": "stream",
     "text": [
      "Best Hyperparameters: {'kernel': 'rbf', 'gamma': 0.1, 'C': 10}\n",
      "Train F1-score: 0.32430723843641346\n",
      "Validation F1-score: 0.3063007818488426\n"
     ]
    }
   ],
   "source": [
    "# param_dist = {\n",
    "#   'C': [10, 15],\n",
    "#                        'gamma': [0.1, 2],\n",
    "#                        'kernel': ['rbf', 'linear']\n",
    "# }\n",
    "\n",
    "# base_model = SVC(random_state=42, class_weight='balanced')\n",
    "\n",
    "# random_search = RandomizedSearchCV(\n",
    "#     base_model,\n",
    "#     param_distributions=param_dist,\n",
    "#     n_iter=10, \n",
    "#     cv=5,      \n",
    "#     scoring='f1',  \n",
    "#     random_state=42,\n",
    "#     n_jobs=-1,\n",
    "# )\n",
    "\n",
    "# random_search.fit(X_train_no_res, y_train_no_res)\n",
    "\n",
    "# print(\"Best Hyperparameters:\", random_search.best_params_)\n",
    "\n",
    "# best_model = random_search.best_estimator_\n",
    "\n",
    "# train_pred = best_model.predict(X_train_no_res)\n",
    "# train_f1 = f1_score(y_train_no_res, train_pred)\n",
    "# print(\"Train F1-score:\", train_f1)\n",
    "\n",
    "# val_pred = best_model.predict(X_val)\n",
    "# val_f1 = f1_score(y_val, val_pred)\n",
    "# print(\"Validation F1-score:\", val_f1)"
   ]
  },
  {
   "cell_type": "code",
   "execution_count": 183,
   "id": "a86d4474",
   "metadata": {},
   "outputs": [],
   "source": [
    "modelSVM = SVC(C=110, gamma=0.01, kernel='rbf', class_weight = 'balanced', random_state=42).fit(X_train_no_res, y_train_no_res)"
   ]
  },
  {
   "cell_type": "code",
   "execution_count": 184,
   "id": "cb7d545e",
   "metadata": {},
   "outputs": [],
   "source": [
    "labels_train = modelSVM.predict(X_train_no_res)\n",
    "labels_val = modelSVM.predict(X_val)"
   ]
  },
  {
   "cell_type": "code",
   "execution_count": 185,
   "id": "6c800a1a",
   "metadata": {},
   "outputs": [
    {
     "name": "stdout",
     "output_type": "stream",
     "text": [
      "Train: 0.32139190576538607\n",
      "Validation 0.29965484781926577\n"
     ]
    }
   ],
   "source": [
    "print('Train:', f1_score(labels_train, y_train_no_res))\n",
    "print('Validation', f1_score(labels_val, y_val))"
   ]
  },
  {
   "cell_type": "markdown",
   "id": "aa3388b6",
   "metadata": {},
   "source": [
    "<a class=\"anchor\" id=\"rfmodel\"></a>\n",
    "\n",
    "## <span style=\"color:black\">13.7. Random Forest </span>"
   ]
  },
  {
   "cell_type": "code",
   "execution_count": 186,
   "id": "c94110d9",
   "metadata": {},
   "outputs": [],
   "source": [
    "rf = RandomForestClassifier(random_state=42, class_weight= 'balanced')"
   ]
  },
  {
   "cell_type": "code",
   "execution_count": 187,
   "id": "0edad4bf",
   "metadata": {},
   "outputs": [
    {
     "data": {
      "text/html": [
       "<style>#sk-container-id-2 {color: black;}#sk-container-id-2 pre{padding: 0;}#sk-container-id-2 div.sk-toggleable {background-color: white;}#sk-container-id-2 label.sk-toggleable__label {cursor: pointer;display: block;width: 100%;margin-bottom: 0;padding: 0.3em;box-sizing: border-box;text-align: center;}#sk-container-id-2 label.sk-toggleable__label-arrow:before {content: \"▸\";float: left;margin-right: 0.25em;color: #696969;}#sk-container-id-2 label.sk-toggleable__label-arrow:hover:before {color: black;}#sk-container-id-2 div.sk-estimator:hover label.sk-toggleable__label-arrow:before {color: black;}#sk-container-id-2 div.sk-toggleable__content {max-height: 0;max-width: 0;overflow: hidden;text-align: left;background-color: #f0f8ff;}#sk-container-id-2 div.sk-toggleable__content pre {margin: 0.2em;color: black;border-radius: 0.25em;background-color: #f0f8ff;}#sk-container-id-2 input.sk-toggleable__control:checked~div.sk-toggleable__content {max-height: 200px;max-width: 100%;overflow: auto;}#sk-container-id-2 input.sk-toggleable__control:checked~label.sk-toggleable__label-arrow:before {content: \"▾\";}#sk-container-id-2 div.sk-estimator input.sk-toggleable__control:checked~label.sk-toggleable__label {background-color: #d4ebff;}#sk-container-id-2 div.sk-label input.sk-toggleable__control:checked~label.sk-toggleable__label {background-color: #d4ebff;}#sk-container-id-2 input.sk-hidden--visually {border: 0;clip: rect(1px 1px 1px 1px);clip: rect(1px, 1px, 1px, 1px);height: 1px;margin: -1px;overflow: hidden;padding: 0;position: absolute;width: 1px;}#sk-container-id-2 div.sk-estimator {font-family: monospace;background-color: #f0f8ff;border: 1px dotted black;border-radius: 0.25em;box-sizing: border-box;margin-bottom: 0.5em;}#sk-container-id-2 div.sk-estimator:hover {background-color: #d4ebff;}#sk-container-id-2 div.sk-parallel-item::after {content: \"\";width: 100%;border-bottom: 1px solid gray;flex-grow: 1;}#sk-container-id-2 div.sk-label:hover label.sk-toggleable__label {background-color: #d4ebff;}#sk-container-id-2 div.sk-serial::before {content: \"\";position: absolute;border-left: 1px solid gray;box-sizing: border-box;top: 0;bottom: 0;left: 50%;z-index: 0;}#sk-container-id-2 div.sk-serial {display: flex;flex-direction: column;align-items: center;background-color: white;padding-right: 0.2em;padding-left: 0.2em;position: relative;}#sk-container-id-2 div.sk-item {position: relative;z-index: 1;}#sk-container-id-2 div.sk-parallel {display: flex;align-items: stretch;justify-content: center;background-color: white;position: relative;}#sk-container-id-2 div.sk-item::before, #sk-container-id-2 div.sk-parallel-item::before {content: \"\";position: absolute;border-left: 1px solid gray;box-sizing: border-box;top: 0;bottom: 0;left: 50%;z-index: -1;}#sk-container-id-2 div.sk-parallel-item {display: flex;flex-direction: column;z-index: 1;position: relative;background-color: white;}#sk-container-id-2 div.sk-parallel-item:first-child::after {align-self: flex-end;width: 50%;}#sk-container-id-2 div.sk-parallel-item:last-child::after {align-self: flex-start;width: 50%;}#sk-container-id-2 div.sk-parallel-item:only-child::after {width: 0;}#sk-container-id-2 div.sk-dashed-wrapped {border: 1px dashed gray;margin: 0 0.4em 0.5em 0.4em;box-sizing: border-box;padding-bottom: 0.4em;background-color: white;}#sk-container-id-2 div.sk-label label {font-family: monospace;font-weight: bold;display: inline-block;line-height: 1.2em;}#sk-container-id-2 div.sk-label-container {text-align: center;}#sk-container-id-2 div.sk-container {/* jupyter's `normalize.less` sets `[hidden] { display: none; }` but bootstrap.min.css set `[hidden] { display: none !important; }` so we also need the `!important` here to be able to override the default hidden behavior on the sphinx rendered scikit-learn.org. See: https://github.com/scikit-learn/scikit-learn/issues/21755 */display: inline-block !important;position: relative;}#sk-container-id-2 div.sk-text-repr-fallback {display: none;}</style><div id=\"sk-container-id-2\" class=\"sk-top-container\"><div class=\"sk-text-repr-fallback\"><pre>RandomForestClassifier(class_weight=&#x27;balanced&#x27;, random_state=42)</pre><b>In a Jupyter environment, please rerun this cell to show the HTML representation or trust the notebook. <br />On GitHub, the HTML representation is unable to render, please try loading this page with nbviewer.org.</b></div><div class=\"sk-container\" hidden><div class=\"sk-item\"><div class=\"sk-estimator sk-toggleable\"><input class=\"sk-toggleable__control sk-hidden--visually\" id=\"sk-estimator-id-4\" type=\"checkbox\" checked><label for=\"sk-estimator-id-4\" class=\"sk-toggleable__label sk-toggleable__label-arrow\">RandomForestClassifier</label><div class=\"sk-toggleable__content\"><pre>RandomForestClassifier(class_weight=&#x27;balanced&#x27;, random_state=42)</pre></div></div></div></div></div>"
      ],
      "text/plain": [
       "RandomForestClassifier(class_weight='balanced', random_state=42)"
      ]
     },
     "execution_count": 187,
     "metadata": {},
     "output_type": "execute_result"
    }
   ],
   "source": [
    "rf.fit(X_train_no_res, y_train_no_res) "
   ]
  },
  {
   "cell_type": "code",
   "execution_count": 188,
   "id": "5a77d3d3",
   "metadata": {},
   "outputs": [],
   "source": [
    "labels_train = rf.predict(X_train_no_res)\n",
    "labels_val = rf.predict(X_val)"
   ]
  },
  {
   "cell_type": "code",
   "execution_count": 189,
   "id": "05e499c8",
   "metadata": {},
   "outputs": [
    {
     "name": "stdout",
     "output_type": "stream",
     "text": [
      "Train: 0.9992691394116572\n",
      "Validation: 0.020550760378133994\n"
     ]
    }
   ],
   "source": [
    "print('Train:', f1_score(y_train_no_res, labels_train))\n",
    "print('Validation:', f1_score(y_val, labels_val))"
   ]
  },
  {
   "cell_type": "code",
   "execution_count": 190,
   "id": "b21658a6",
   "metadata": {
    "scrolled": true
   },
   "outputs": [
    {
     "name": "stdout",
     "output_type": "stream",
     "text": [
      "___________________________________________________________________________________________________________\n",
      "                                                     TRAIN                                                 \n",
      "-----------------------------------------------------------------------------------------------------------\n",
      "              precision    recall  f1-score   support\n",
      "\n",
      "           0       1.00      1.00      1.00     43005\n",
      "           1       1.00      1.00      1.00      5477\n",
      "\n",
      "    accuracy                           1.00     48482\n",
      "   macro avg       1.00      1.00      1.00     48482\n",
      "weighted avg       1.00      1.00      1.00     48482\n",
      "\n",
      "[[43005     0]\n",
      " [    8  5469]]\n",
      "___________________________________________________________________________________________________________\n",
      "                                                VALIDATION                                                 \n",
      "-----------------------------------------------------------------------------------------------------------\n",
      "              precision    recall  f1-score   support\n",
      "\n",
      "           0       0.89      1.00      0.94     18649\n",
      "           1       0.52      0.01      0.02      2385\n",
      "\n",
      "    accuracy                           0.89     21034\n",
      "   macro avg       0.70      0.50      0.48     21034\n",
      "weighted avg       0.85      0.89      0.84     21034\n",
      "\n",
      "[[18626    23]\n",
      " [ 2360    25]]\n"
     ]
    }
   ],
   "source": [
    "metrics(y_train_no_res, labels_train, y_val, labels_val)"
   ]
  },
  {
   "cell_type": "code",
   "execution_count": null,
   "id": "e7c11e34",
   "metadata": {},
   "outputs": [],
   "source": [
    "# rf_grid_search  = GridSearchCV(estimator=RandomForestClassifier(random_state=42),\n",
    "#                    param_grid={\n",
    "#     'n_estimators': [100, 200, 300],\n",
    "#     'max_depth': [None, 10, 20],\n",
    "#     'max_samples':[0.2,0.4,0.6,0.8,None],\n",
    "#     'max_features':['sqrt', 'log2', None],\n",
    "\n",
    "# })\n",
    "# rf_grid_search.fit(X_train_no_res, y_train_no_res)\n",
    "# rf_grid_search.best_params_"
   ]
  },
  {
   "cell_type": "code",
   "execution_count": 192,
   "id": "918dad41",
   "metadata": {},
   "outputs": [
    {
     "name": "stdout",
     "output_type": "stream",
     "text": [
      "Best Hyperparameters: {'max_depth': 10, 'max_features': 'log2', 'max_samples': 0.4, 'n_estimators': 291}\n",
      "Train F1-score: 0.4018745660726684\n",
      "Validation F1-score: 0.30485470680354965\n"
     ]
    }
   ],
   "source": [
    "# param_dist = {\n",
    "#    'n_estimators': randint(100, 300),\n",
    "#     'max_depth': [None, 10, 20],\n",
    "#     'max_samples':[0.2,0.4,0.6,0.8,None],\n",
    "#     'max_features':['sqrt', 'log2', None]\n",
    "# }\n",
    "\n",
    "# base_model = RandomForestClassifier(random_state=42, class_weight = 'balanced')\n",
    "\n",
    "# random_search = RandomizedSearchCV(\n",
    "#     base_model,\n",
    "#     param_distributions=param_dist,\n",
    "#     n_iter=10, \n",
    "#     cv=5,      \n",
    "#     scoring='f1',  \n",
    "#     random_state=42,\n",
    "#     n_jobs=-1,\n",
    "# )\n",
    "\n",
    "# random_search.fit(X_train_no_res, y_train_no_res)\n",
    "\n",
    "# print(\"Best Hyperparameters:\", random_search.best_params_)\n",
    "\n",
    "# best_model = random_search.best_estimator_\n",
    "\n",
    "# train_pred = best_model.predict(X_train_no_res)\n",
    "# train_f1 = f1_score(y_train_no_res, train_pred)\n",
    "# print(\"Train F1-score:\", train_f1)\n",
    "\n",
    "# val_pred = best_model.predict(X_val)\n",
    "# val_f1 = f1_score(y_val, val_pred)\n",
    "# print(\"Validation F1-score:\", val_f1)"
   ]
  },
  {
   "cell_type": "raw",
   "id": "826113b1",
   "metadata": {},
   "source": [
    "Best Hyperparameters: {'max_depth': 10, 'max_features': 'log2', 'max_samples': 0.4, 'n_estimators': 291}\n",
    "Train F1-score: 0.4018745660726684\n",
    "Validation F1-score: 0.30485470680354965"
   ]
  },
  {
   "cell_type": "code",
   "execution_count": 193,
   "id": "d56b5097",
   "metadata": {},
   "outputs": [],
   "source": [
    "model_rf=RandomForestClassifier(n_estimators= 300, max_samples = 0.4, random_state = 42,\n",
    "                                max_depth = 1, max_features='log2', class_weight = 'balanced'\n",
    "                               ).fit(X_train_no_res, y_train_no_res) "
   ]
  },
  {
   "cell_type": "code",
   "execution_count": 194,
   "id": "224d5065",
   "metadata": {},
   "outputs": [],
   "source": [
    "labels_train = model_rf.predict(X_train_no_res)\n",
    "labels_val = model_rf.predict(X_val)"
   ]
  },
  {
   "cell_type": "code",
   "execution_count": 195,
   "id": "762b9398",
   "metadata": {},
   "outputs": [],
   "source": [
    "f1_score_train = f1_score(y_train_no_res, labels_train)\n",
    "f1_score_val = f1_score(y_val, labels_val)\n",
    "difference = f1_score_train - f1_score_val"
   ]
  },
  {
   "cell_type": "code",
   "execution_count": 196,
   "id": "47867823",
   "metadata": {},
   "outputs": [
    {
     "name": "stdout",
     "output_type": "stream",
     "text": [
      "Train: 0.3152885706801711\n",
      "Validation: 0.30125625076228807\n",
      "Difference between Training and Validation F1 scores: 0.014\n"
     ]
    }
   ],
   "source": [
    "print('Train:', f1_score_train)\n",
    "print('Validation:', f1_score_val)\n",
    "print('Difference between Training and Validation F1 scores:', round(difference, 4))"
   ]
  },
  {
   "cell_type": "code",
   "execution_count": 197,
   "id": "993fdb58",
   "metadata": {
    "scrolled": true
   },
   "outputs": [
    {
     "name": "stdout",
     "output_type": "stream",
     "text": [
      "___________________________________________________________________________________________________________\n",
      "                                                     TRAIN                                                 \n",
      "-----------------------------------------------------------------------------------------------------------\n",
      "              precision    recall  f1-score   support\n",
      "\n",
      "           0       0.94      0.68      0.79     43005\n",
      "           1       0.21      0.66      0.32      5477\n",
      "\n",
      "    accuracy                           0.68     48482\n",
      "   macro avg       0.57      0.67      0.55     48482\n",
      "weighted avg       0.86      0.68      0.73     48482\n",
      "\n",
      "[[29187 13818]\n",
      " [ 1866  3611]]\n",
      "___________________________________________________________________________________________________________\n",
      "                                                VALIDATION                                                 \n",
      "-----------------------------------------------------------------------------------------------------------\n",
      "              precision    recall  f1-score   support\n",
      "\n",
      "           0       0.92      0.75      0.83     18649\n",
      "           1       0.21      0.52      0.30      2385\n",
      "\n",
      "    accuracy                           0.73     21034\n",
      "   macro avg       0.57      0.64      0.57     21034\n",
      "weighted avg       0.84      0.73      0.77     21034\n",
      "\n",
      "[[14070  4579]\n",
      " [ 1150  1235]]\n"
     ]
    }
   ],
   "source": [
    "metrics(y_train_no_res, labels_train, y_val, labels_val)"
   ]
  },
  {
   "cell_type": "code",
   "execution_count": 198,
   "id": "216a3c3f",
   "metadata": {},
   "outputs": [],
   "source": [
    "results.reset_index(inplace=True)"
   ]
  },
  {
   "cell_type": "code",
   "execution_count": 199,
   "id": "a2c820fe",
   "metadata": {},
   "outputs": [],
   "source": [
    "results['readmitted_binary'].replace(0,'No',inplace=True)"
   ]
  },
  {
   "cell_type": "code",
   "execution_count": 200,
   "id": "5f31e273",
   "metadata": {},
   "outputs": [],
   "source": [
    "labels_test = model_rf.predict(X_test)"
   ]
  },
  {
   "cell_type": "code",
   "execution_count": 201,
   "id": "02566eff",
   "metadata": {},
   "outputs": [],
   "source": [
    "index = X_test.index.T\n",
    "results_final = pd.DataFrame([index, labels_test]).T\n",
    "results_final.columns = ['encounter_id','readmitted_binary']\n",
    "results_final['readmitted_binary'].replace(1,'Yes',inplace=True)\n",
    "results_final['readmitted_binary'].replace(0,'No',inplace=True)"
   ]
  },
  {
   "cell_type": "code",
   "execution_count": 202,
   "id": "9c8d76be",
   "metadata": {},
   "outputs": [],
   "source": [
    "results_final = results_final.append(results, ignore_index=True)"
   ]
  },
  {
   "cell_type": "code",
   "execution_count": 203,
   "id": "5ac74087",
   "metadata": {},
   "outputs": [],
   "source": [
    "results_final.to_csv('Group27_Version20.csv', index=None)"
   ]
  },
  {
   "cell_type": "code",
   "execution_count": 204,
   "id": "7d1cf0cf",
   "metadata": {},
   "outputs": [
    {
     "data": {
      "text/plain": [
       "array(['No', 'Yes'], dtype=object)"
      ]
     },
     "execution_count": 204,
     "metadata": {},
     "output_type": "execute_result"
    }
   ],
   "source": [
    "results_final['readmitted_binary'].unique()"
   ]
  },
  {
   "cell_type": "markdown",
   "id": "d5584ab6",
   "metadata": {},
   "source": [
    "## Global Evaluation"
   ]
  },
  {
   "cell_type": "code",
   "execution_count": 205,
   "id": "f7c75aaf",
   "metadata": {},
   "outputs": [
    {
     "data": {
      "image/png": "[encoded data removed]",
      "text/plain": [
       "<Figure size 576x432 with 1 Axes>"
      ]
     },
     "metadata": {},
     "output_type": "display_data"
    }
   ],
   "source": [
    "models = [\n",
    "    ('Naive Bayes', model_bayes),\n",
    "    ('KNN', modelKNNT),\n",
    "    ('Decision Tree', modelDT),\n",
    "    ('Logistic Regression', log_reg),\n",
    "    ('Neural Network', modelNN),\n",
    "    ('SVM', modelSVM),\n",
    "    ('Random Forest', model_rf)\n",
    "]\n",
    "\n",
    "\n",
    "plt.figure(figsize=(8, 6))\n",
    "\n",
    "for name, model in models:\n",
    "    if hasattr(model, \"predict_proba\"):  # Checking if the model supports predict_proba\n",
    "        probs = model.predict_proba(X_val)[:, 1]\n",
    "    else:\n",
    "        probs = model.decision_function(X_val)  # For models like SVM that don't have predict_proba\n",
    "    \n",
    "    fpr, tpr, _ = roc_curve(y_val, probs)\n",
    "    auc_value = auc(fpr, tpr)\n",
    "    \n",
    "    plt.plot(fpr, tpr, label=f'{name} (AUC = {auc_value:.2f})')\n",
    "plt.plot([0, 1], [0, 1], linestyle='--', color='gray', label='Random')\n",
    "plt.xlabel('False Positive Rate')\n",
    "plt.ylabel('True Positive Rate')\n",
    "plt.title('ROC Curve for Different Models on Validation Data')\n",
    "plt.legend()\n",
    "plt.show()"
   ]
  }
 ],
 "metadata": {
  "kernelspec": {
   "display_name": "Python 3 (ipykernel)",
   "language": "python",
   "name": "python3"
  },
  "language_info": {
   "codemirror_mode": {
    "name": "ipython",
    "version": 3
   },
   "file_extension": ".py",
   "mimetype": "text/x-python",
   "name": "python",
   "nbconvert_exporter": "python",
   "pygments_lexer": "ipython3",
   "version": "3.9.7"
  }
 },
 "nbformat": 4,
 "nbformat_minor": 5
}
